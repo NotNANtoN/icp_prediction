{
 "cells": [
  {
   "cell_type": "code",
   "execution_count": 1,
   "id": "471e8e28-a868-4406-981b-c89975e08bc4",
   "metadata": {},
   "outputs": [],
   "source": [
    "import pandas as pd\n",
    "import numpy as np\n",
    "from tqdm.auto import tqdm  # for notebooks\n",
    "# Create new `pandas` methods which use `tqdm` progress\n",
    "# (can use tqdm_gui, optional kwargs, etc.)\n",
    "tqdm.pandas()"
   ]
  },
  {
   "cell_type": "code",
   "execution_count": 2,
   "id": "5895c3ce-620c-4336-8d42-9c8cadd17b73",
   "metadata": {},
   "outputs": [
    {
     "name": "stderr",
     "output_type": "stream",
     "text": [
      "/home/anton/.local/lib/python3.8/site-packages/IPython/core/interactiveshell.py:3441: DtypeWarning: Columns (1) have mixed types.Specify dtype option on import or set low_memory=False.\n",
      "  exec(code_obj, self.user_global_ns, self.user_ns)\n"
     ]
    },
    {
     "name": "stdout",
     "output_type": "stream",
     "text": [
      "Data loaded!\n"
     ]
    }
   ],
   "source": [
    "load_icp = True\n",
    "\n",
    "if load_icp:\n",
    "    df_long = pd.read_csv(\"data/Datenbank_icp.csv\")\n",
    "else:\n",
    "    df_long = pd.read_csv(\"data/Datenbank_Werte.csv\")\n",
    "    \n",
    "    # add type to Maßnahme\n",
    "    df_long[\"Maßnahme\"] += \"_\" + df_long[\"ID\"]\n",
    "    df_long = df_long.drop(columns=\"ID\")\n",
    "    \n",
    "    # remove patients without ICP measurement\n",
    "    # drop from 220M measuremnts to 130M\n",
    "    df_long = df_long.groupby(\"Pat_ID\").filter(lambda group: any(group[\"Maßnahme\"] == \"ICP_Vital\"))\n",
    "    \n",
    "    # drop measurements where we have a \"NAN\"\n",
    "    df_long = df_long.dropna(subset=[\"Wert\"])\n",
    "\n",
    "    df_long.to_csv(\"data/Datenbank_icp.csv\", index=False)\n",
    "print(\"Data loaded!\")"
   ]
  },
  {
   "cell_type": "code",
   "execution_count": 3,
   "id": "d7ba1ae5-4b3b-45c3-b513-5bc45f6fbf63",
   "metadata": {},
   "outputs": [
    {
     "name": "stdout",
     "output_type": "stream",
     "text": [
      "Columns:  ['Unnamed: 0', 'Pat_ID', 'Maßnahme', 'Maßnahme_norm', 'rel_time', 'Wert', 'DB']\n",
      "   Unnamed: 0     Pat_ID Maßnahme Maßnahme_norm  rel_time  Wert   DB\n",
      "0           1  474097135   Ca_BGA            Ca     419.0  1.23  UKE\n",
      "1           2  474097135   Ca_BGA            Ca     492.0  1.28  UKE\n",
      "2           3  474097135   Ca_BGA            Ca     558.0  1.29  UKE\n",
      "3           4  474097135   Ca_BGA            Ca     675.0  1.31  UKE\n",
      "4           5  474097135   Ca_BGA            Ca     764.0  1.31  UKE\n",
      "(153247310, 7)\n"
     ]
    }
   ],
   "source": [
    "print(\"Columns: \", list(df_long.columns))\n",
    "print(df_long.head())\n",
    "print(df_long.shape)\n",
    "#print(df_long[\"Maßnahme\"].unique())\n",
    "#print(df_long[\"Maßnahme_norm\"].unique())"
   ]
  },
  {
   "cell_type": "code",
   "execution_count": 4,
   "id": "b00d7808-da31-4e52-9371-d1eb53c0d278",
   "metadata": {},
   "outputs": [
    {
     "name": "stderr",
     "output_type": "stream",
     "text": [
      "/home/anton/.local/lib/python3.8/site-packages/IPython/core/interactiveshell.py:3441: DtypeWarning: Columns (1) have mixed types.Specify dtype option on import or set low_memory=False.\n",
      "  exec(code_obj, self.user_global_ns, self.user_ns)\n"
     ]
    }
   ],
   "source": [
    "load_reduced = True\n",
    "\n",
    "if load_reduced:\n",
    "    df_long = pd.read_csv(\"data/Datenbank_icp_reduced.csv\")\n",
    "else:\n",
    "    # remove measurement past the last icp measurement per patient\n",
    "    # cuts from 130M to 100M\n",
    "    def drop_after_last_icp(pat):\n",
    "        icp_rel_times = pat[pat[\"Maßnahme\"] == \"ICP_Vital\"][\"rel_time\"]\n",
    "        if len(icp_rel_times) == 0:\n",
    "            return pd.DataFrame({})\n",
    "        max_icp_time = max(icp_rel_times)\n",
    "        pat = pat[pat[\"rel_time\"] <= max_icp_time]\n",
    "        return pat\n",
    "    df_long = df_long.groupby(\"Pat_ID\").apply(drop_after_last_icp).reset_index(drop=True)\n",
    "    print(df_long.shape)\n",
    "    \n",
    "    # remove too negative rel_times and shorten too long stays\n",
    "    # remove too negative rel_times\n",
    "    # 1. find smallest icp time\n",
    "    below_zero = df_long[\"rel_time\"] < 0\n",
    "    below_zero_df = df_long[below_zero]\n",
    "    min_icp_time = below_zero_df[below_zero_df[\"Maßnahme\"] == \"ICP_Vital\"][\"rel_time\"].min()\n",
    "    print(\"smallest icp rel time:\", min_icp_time)\n",
    "    # 2. drop all rel_times below it\n",
    "    df_long_no_too_small_icp = df_long[df_long[\"rel_time\"] >= min_icp_time]\n",
    "    # 3. shift rel_time per patient such that it is positive\n",
    "    def shift_rel_time_to_pos(pat):\n",
    "        min_time = pat[\"rel_time\"].min()\n",
    "        pat[\"rel_time\"] = pat[\"rel_time\"] + abs(min_time)\n",
    "        return pat\n",
    "    df_long_no_neg_rel_time = df_long_no_too_small_icp.groupby(\"Pat_ID\").apply(shift_rel_time_to_pos)\n",
    "    print(df_long_no_neg_rel_time.shape)\n",
    "    \n",
    "    # shorten long stays\n",
    "    # reduces from 103M to 99M\n",
    "    # 1. find max rel_times\n",
    "    max_rel_times = df_long_no_neg_rel_time.groupby(\"Pat_ID\").apply(lambda group: group[\"rel_time\"].max())\n",
    "    print(max_rel_times.min(), max_rel_times.max(), max_rel_times.mean())\n",
    "    # 2. get quantile\n",
    "    quant = np.quantile(max_rel_times, 0.95)\n",
    "    print(\"Rel_time quantile: \", quant)\n",
    "    # 3. filter too long rel_times per patient by cutting off START (end contains ICP measurements for sure)\n",
    "    def cut_off_start_rel_times(pat):\n",
    "        max_rel_time = max(pat[\"rel_time\"])\n",
    "        if max_rel_time > quant:\n",
    "            cutoff_len = max_rel_time - quant\n",
    "            pat = pat[pat[\"rel_time\"] > cutoff_len]\n",
    "        return pat\n",
    "    df_cutoff_long_seqs = df_long_no_neg_rel_time.groupby(\"Pat_ID\").apply(cut_off_start_rel_times)\n",
    "    print(df_cutoff_long_seqs.shape)\n",
    "    \n",
    "    # clamp extreme measures\n",
    "    def clamp_extrema(measure, thresh=0.996):\n",
    "        min_quant = np.quantile(measure[\"Wert\"], 1 - thresh)\n",
    "        max_quant = np.quantile(measure[\"Wert\"], thresh)\n",
    "        measure[\"Wert\"] = measure[\"Wert\"].clip(min_quant, max_quant)\n",
    "        return measure\n",
    "    df_long = df_cutoff_long_seqs.groupby(\"DB\").apply(lambda db: db.groupby(\"Maßnahme\").apply(clamp_extrema)).reset_index(drop=True)\n",
    "    \n",
    "    # remove CPP as it is dependent on ICP and we want to predict ICP\n",
    "    df_long = df_long[df_long[\"Maßnahme\"] != \"CPP_Vital\"]\n",
    "    \n",
    "    # save\n",
    "    df_long.to_csv(\"data/Datenbank_icp_reduced.csv\", index=False)"
   ]
  },
  {
   "cell_type": "code",
   "execution_count": 5,
   "id": "1c77a6f1-bcd3-45c5-9006-b6050f450e44",
   "metadata": {},
   "outputs": [
    {
     "data": {
      "text/plain": [
       "Maßnahme\n",
       "AF_Vital              1.137706e+06\n",
       "ALT_Labor             3.079000e+03\n",
       "AST_Labor             3.033667e+03\n",
       "Albumin_Labor         2.783667e+03\n",
       "Alk_Labor             2.079667e+03\n",
       "                          ...     \n",
       "pH_BGA                4.718033e+04\n",
       "pankreasspez_Labor    8.023333e+02\n",
       "sO2_BGA               4.168167e+04\n",
       "syst_NBD_Vital        1.695480e+05\n",
       "syst_Vital            5.834560e+05\n",
       "Name: 0, Length: 83, dtype: float64"
      ]
     },
     "execution_count": 5,
     "metadata": {},
     "output_type": "execute_result"
    }
   ],
   "source": [
    "# determine columns that have few missings - add min, max, std for those\n",
    "val_counts = df_long.groupby(\"DB\").apply(lambda db: db.groupby(\"Maßnahme\").apply(lambda m: len(m))).reset_index(drop=False)\n",
    "val_counts = val_counts.groupby(\"Maßnahme\").mean()[0]\n",
    "val_counts"
   ]
  },
  {
   "cell_type": "code",
   "execution_count": 6,
   "id": "1c5a5da2-0e95-4a3a-a781-f14f8463782a",
   "metadata": {},
   "outputs": [
    {
     "name": "stdout",
     "output_type": "stream",
     "text": [
      "131334.54666666666\n",
      "Maßnahme\n",
      "FiO2_Vital         1.313877e+05\n",
      "diast_NBD_Vital    1.694910e+05\n",
      "syst_NBD_Vital     1.695480e+05\n",
      "mittl_NBD_Vital    1.698680e+05\n",
      "Temp_Vital         3.148330e+05\n",
      "diast_Vital        5.826100e+05\n",
      "syst_Vital         5.834560e+05\n",
      "mittl_Vital        5.857483e+05\n",
      "SpO2_Vital         1.131266e+06\n",
      "AF_Vital           1.137706e+06\n",
      "HF_Vital           1.185037e+06\n",
      "Name: 0, dtype: float64\n"
     ]
    },
    {
     "name": "stderr",
     "output_type": "stream",
     "text": [
      "/tmp/ipykernel_11034/1641972239.py:6: FutureWarning: In a future version of pandas all arguments of Series.sort_values will be keyword-only\n",
      "  high_counts = val_counts[mask].sort_values(0)\n"
     ]
    }
   ],
   "source": [
    "# select high count vitals \n",
    "quant = np.quantile(val_counts, 0.78)\n",
    "print(quant)\n",
    "mask = (val_counts > quant).astype(int) + val_counts.index.str.contains(\"_Vital\").astype(int) +  (~val_counts.index.str.contains(\"ICP\")).astype(int)\n",
    "mask = mask == 3\n",
    "high_counts = val_counts[mask].sort_values(0)\n",
    "print(high_counts)\n",
    "high_counts = tuple(high_counts.index)"
   ]
  },
  {
   "cell_type": "code",
   "execution_count": 7,
   "id": "2f93f696-1eef-4715-9dc8-c180fe48a9e8",
   "metadata": {},
   "outputs": [],
   "source": [
    "minutes = 15"
   ]
  },
  {
   "cell_type": "code",
   "execution_count": 8,
   "id": "05d1ced2-4aac-4ce3-b00e-18ef44b440b0",
   "metadata": {},
   "outputs": [
    {
     "data": {
      "application/vnd.jupyter.widget-view+json": {
       "model_id": "92dc8fb0e76548a6819916588a0ff084",
       "version_major": 2,
       "version_minor": 0
      },
      "text/plain": [
       "  0%|          | 0/3775 [00:00<?, ?it/s]"
      ]
     },
     "metadata": {},
     "output_type": "display_data"
    }
   ],
   "source": [
    "from typing import Tuple, List\n",
    "\n",
    "import numba\n",
    "\n",
    "\n",
    "@numba.jit()\n",
    "def create_dict(values: np.ndarray, rel_time: np.ndarray, measure_name: str, high_counts: Tuple[str]):\n",
    "    means = []\n",
    "    stds = []\n",
    "    mins = []\n",
    "    maxs = []\n",
    "    rel_times = []\n",
    "    i = 0\n",
    "    while i < len(values): \n",
    "        # add consequent measurements as long as they fit in time window\n",
    "        # subtract remainder to make sure rel_times are fitted in the right time window\n",
    "        current_rel_time = rel_time[i] - (rel_time[i] % minutes)  \n",
    "        vals = []\n",
    "        while i < len(values) and rel_time[i] < current_rel_time + minutes:\n",
    "            vals.append(values[i])\n",
    "            i += 1\n",
    "        # summarize values\n",
    "        vals = np.array(vals)\n",
    "        means.append(np.mean(vals))\n",
    "        rel_times.append(current_rel_time)\n",
    "        # add detailed summary if it is a high count feature\n",
    "        if measure_name in high_counts:\n",
    "            stds.append(np.std(vals))\n",
    "            mins.append(np.min(vals))\n",
    "            maxs.append(np.max(vals))\n",
    "    return means, stds, mins, maxs, rel_times\n",
    "\n",
    "\n",
    "def summarize_measure(measure, high_counts, minutes):\n",
    "    # get name and relevant columns\n",
    "    measure_name = measure[\"Maßnahme\"].iloc[0]\n",
    "    rel_time = measure[\"rel_time\"].to_numpy().astype(float)\n",
    "    values = measure[\"Wert\"].to_numpy().astype(float)\n",
    "    # get lists\n",
    "    means, stds, mins, maxs, rel_time = create_dict(values, rel_time, measure_name, high_counts)\n",
    "    # create new, shorter df with same base stats (Pat_ID etc.)\n",
    "    new_df = pd.DataFrame({\"rel_time\": rel_time, \"Wert\": means})\n",
    "    new_df[\"Pat_ID\"] = measure[\"Pat_ID\"].iloc[0]\n",
    "    new_df[\"Maßnahme\"] = measure[\"Maßnahme\"].iloc[0]\n",
    "    new_df[\"Maßnahme_norm\"] = measure[\"Maßnahme_norm\"].iloc[0]\n",
    "    new_df[\"DB\"] = measure[\"DB\"].iloc[0]\n",
    "    if len(stds) > 0:\n",
    "        # if we have additional stats for this feature, copy the df above, fill in other value and append it\n",
    "        new_measures = {measure_name: means,\n",
    "                        measure_name + \"_std\": stds,\n",
    "                        measure_name + \"_min\": mins,\n",
    "                        measure_name + \"_max\": maxs} \n",
    "        dfs = [new_df.copy() for key in new_measures]\n",
    "        for df, key in zip(dfs, new_measures):\n",
    "            df[\"Maßnahme\"] = key\n",
    "            df[\"Wert\"] = new_measures[key]\n",
    "        new_df = pd.concat(dfs, axis=0)\n",
    "    return new_df\n",
    "            \n",
    "\n",
    "def summarize_patient(pat, minutes):\n",
    "    # assumes a patient, sorted by rel_time, with 1 minute steps\n",
    "    return pat.groupby(\"Maßnahme\").apply(lambda measure: summarize_measure(measure, high_counts, minutes)).reset_index(drop=True)\n",
    "\n",
    "df_long_summarized = df_long.groupby(\"Pat_ID\").progress_apply(lambda pat: summarize_patient(pat.sort_values(\"rel_time\", ascending=True), minutes)).reset_index(drop=True)\n",
    "# summarize per N minutes (5 min, 60 min) \n",
    "# take mean, min, max, std per Vital measure"
   ]
  },
  {
   "cell_type": "code",
   "execution_count": 9,
   "id": "73a77250-b347-45db-ae55-5acb330cb8e8",
   "metadata": {},
   "outputs": [
    {
     "data": {
      "text/html": [
       "<div>\n",
       "<style scoped>\n",
       "    .dataframe tbody tr th:only-of-type {\n",
       "        vertical-align: middle;\n",
       "    }\n",
       "\n",
       "    .dataframe tbody tr th {\n",
       "        vertical-align: top;\n",
       "    }\n",
       "\n",
       "    .dataframe thead th {\n",
       "        text-align: right;\n",
       "    }\n",
       "</style>\n",
       "<table border=\"1\" class=\"dataframe\">\n",
       "  <thead>\n",
       "    <tr style=\"text-align: right;\">\n",
       "      <th></th>\n",
       "      <th>Unnamed: 0</th>\n",
       "      <th>Pat_ID</th>\n",
       "      <th>Maßnahme</th>\n",
       "      <th>Maßnahme_norm</th>\n",
       "      <th>rel_time</th>\n",
       "      <th>Wert</th>\n",
       "      <th>DB</th>\n",
       "    </tr>\n",
       "  </thead>\n",
       "  <tbody>\n",
       "    <tr>\n",
       "      <th>0</th>\n",
       "      <td>0</td>\n",
       "      <td>141800</td>\n",
       "      <td>Ca_BGA</td>\n",
       "      <td>Ca</td>\n",
       "      <td>540.0</td>\n",
       "      <td>8.500000</td>\n",
       "      <td>eICU</td>\n",
       "    </tr>\n",
       "    <tr>\n",
       "      <th>1</th>\n",
       "      <td>1</td>\n",
       "      <td>141800</td>\n",
       "      <td>Ca_BGA</td>\n",
       "      <td>Ca</td>\n",
       "      <td>1060.0</td>\n",
       "      <td>8.000000</td>\n",
       "      <td>eICU</td>\n",
       "    </tr>\n",
       "    <tr>\n",
       "      <th>2</th>\n",
       "      <td>2</td>\n",
       "      <td>141800</td>\n",
       "      <td>Cl_BGA</td>\n",
       "      <td>Cl</td>\n",
       "      <td>540.0</td>\n",
       "      <td>107.000000</td>\n",
       "      <td>eICU</td>\n",
       "    </tr>\n",
       "    <tr>\n",
       "      <th>3</th>\n",
       "      <td>3</td>\n",
       "      <td>141800</td>\n",
       "      <td>Cl_BGA</td>\n",
       "      <td>Cl</td>\n",
       "      <td>1060.0</td>\n",
       "      <td>115.000000</td>\n",
       "      <td>eICU</td>\n",
       "    </tr>\n",
       "    <tr>\n",
       "      <th>4</th>\n",
       "      <td>4</td>\n",
       "      <td>141800</td>\n",
       "      <td>FiO2_BGA</td>\n",
       "      <td>FO2</td>\n",
       "      <td>74.0</td>\n",
       "      <td>100.000000</td>\n",
       "      <td>eICU</td>\n",
       "    </tr>\n",
       "    <tr>\n",
       "      <th>...</th>\n",
       "      <td>...</td>\n",
       "      <td>...</td>\n",
       "      <td>...</td>\n",
       "      <td>...</td>\n",
       "      <td>...</td>\n",
       "      <td>...</td>\n",
       "      <td>...</td>\n",
       "    </tr>\n",
       "    <tr>\n",
       "      <th>108134489</th>\n",
       "      <td>109703518</td>\n",
       "      <td>99863_100749</td>\n",
       "      <td>Narkotikum_Med</td>\n",
       "      <td>Propofol</td>\n",
       "      <td>19961.0</td>\n",
       "      <td>20.224083</td>\n",
       "      <td>MIMIC</td>\n",
       "    </tr>\n",
       "    <tr>\n",
       "      <th>108134490</th>\n",
       "      <td>109703519</td>\n",
       "      <td>99863_100749</td>\n",
       "      <td>Narkotikum_Med</td>\n",
       "      <td>Propofol</td>\n",
       "      <td>19962.0</td>\n",
       "      <td>20.224083</td>\n",
       "      <td>MIMIC</td>\n",
       "    </tr>\n",
       "    <tr>\n",
       "      <th>108134491</th>\n",
       "      <td>109703520</td>\n",
       "      <td>99863_100749</td>\n",
       "      <td>Narkotikum_Med</td>\n",
       "      <td>Propofol</td>\n",
       "      <td>19963.0</td>\n",
       "      <td>20.224083</td>\n",
       "      <td>MIMIC</td>\n",
       "    </tr>\n",
       "    <tr>\n",
       "      <th>108134492</th>\n",
       "      <td>109703521</td>\n",
       "      <td>99863_100749</td>\n",
       "      <td>Narkotikum_Med</td>\n",
       "      <td>Propofol</td>\n",
       "      <td>19964.0</td>\n",
       "      <td>20.224083</td>\n",
       "      <td>MIMIC</td>\n",
       "    </tr>\n",
       "    <tr>\n",
       "      <th>108134493</th>\n",
       "      <td>109703522</td>\n",
       "      <td>99863_100749</td>\n",
       "      <td>Narkotikum_Med</td>\n",
       "      <td>Propofol</td>\n",
       "      <td>19965.0</td>\n",
       "      <td>20.224083</td>\n",
       "      <td>MIMIC</td>\n",
       "    </tr>\n",
       "  </tbody>\n",
       "</table>\n",
       "<p>108134494 rows × 7 columns</p>\n",
       "</div>"
      ],
      "text/plain": [
       "           Unnamed: 0        Pat_ID        Maßnahme Maßnahme_norm  rel_time  \\\n",
       "0                   0        141800          Ca_BGA            Ca     540.0   \n",
       "1                   1        141800          Ca_BGA            Ca    1060.0   \n",
       "2                   2        141800          Cl_BGA            Cl     540.0   \n",
       "3                   3        141800          Cl_BGA            Cl    1060.0   \n",
       "4                   4        141800        FiO2_BGA           FO2      74.0   \n",
       "...               ...           ...             ...           ...       ...   \n",
       "108134489   109703518  99863_100749  Narkotikum_Med      Propofol   19961.0   \n",
       "108134490   109703519  99863_100749  Narkotikum_Med      Propofol   19962.0   \n",
       "108134491   109703520  99863_100749  Narkotikum_Med      Propofol   19963.0   \n",
       "108134492   109703521  99863_100749  Narkotikum_Med      Propofol   19964.0   \n",
       "108134493   109703522  99863_100749  Narkotikum_Med      Propofol   19965.0   \n",
       "\n",
       "                 Wert     DB  \n",
       "0            8.500000   eICU  \n",
       "1            8.000000   eICU  \n",
       "2          107.000000   eICU  \n",
       "3          115.000000   eICU  \n",
       "4          100.000000   eICU  \n",
       "...               ...    ...  \n",
       "108134489   20.224083  MIMIC  \n",
       "108134490   20.224083  MIMIC  \n",
       "108134491   20.224083  MIMIC  \n",
       "108134492   20.224083  MIMIC  \n",
       "108134493   20.224083  MIMIC  \n",
       "\n",
       "[108134494 rows x 7 columns]"
      ]
     },
     "execution_count": 9,
     "metadata": {},
     "output_type": "execute_result"
    }
   ],
   "source": [
    "df_long.groupby(\"Pat_ID\").apply(lambda x: x)"
   ]
  },
  {
   "cell_type": "code",
   "execution_count": 10,
   "id": "f00b2fd9-fea4-4bfc-beac-a24d31c90c84",
   "metadata": {},
   "outputs": [],
   "source": [
    "# norm med by maßnahme norm per db\n",
    "meds = [feat for feat in df_long_summarized[\"Maßnahme\"].unique() if \"_Med\" in feat]\n",
    "def norm_group(group):\n",
    "    if group[\"Maßnahme\"].iloc[0] in meds:\n",
    "        group[\"Wert\"] = (group[\"Wert\"] - group[\"Wert\"].mean()) / group[\"Wert\"].std()\n",
    "    return group\n",
    "df_long_normed_med = df_long_summarized.groupby(\"DB\").apply(lambda db: db.groupby(\"Maßnahme_norm\").apply(norm_group)).reset_index(drop=True)\n",
    "#df_long = df_long.drop(columns=[\"Maßnahme_norm\"])"
   ]
  },
  {
   "cell_type": "code",
   "execution_count": 11,
   "id": "abe46c54-eff1-4ad1-9e6c-3dc9374f04f2",
   "metadata": {},
   "outputs": [],
   "source": [
    "# from long to wide\n",
    "df = df_long_normed_med.pivot_table(index=[\"rel_time\", \"Pat_ID\", \"DB\"], columns=\"Maßnahme\", values=\"Wert\").reset_index()"
   ]
  },
  {
   "cell_type": "code",
   "execution_count": 12,
   "id": "476f533a-ea19-4634-8011-043a61a9a196",
   "metadata": {},
   "outputs": [],
   "source": [
    "df.to_csv(f\"data/df_wide_{minutes}.csv\", index=False)"
   ]
  },
  {
   "cell_type": "code",
   "execution_count": 13,
   "id": "841a04ca-02dd-42b5-b8ec-3a0eae4d5198",
   "metadata": {},
   "outputs": [
    {
     "data": {
      "application/vnd.jupyter.widget-view+json": {
       "model_id": "e0bdc52df8f24a8db66114c6a75b0536",
       "version_major": 2,
       "version_minor": 0
      },
      "text/plain": [
       "  0%|          | 0/3775 [00:00<?, ?it/s]"
      ]
     },
     "metadata": {},
     "output_type": "display_data"
    }
   ],
   "source": [
    "# fill in rows with NAN where we have no measurement at all\n",
    "\n",
    "num_rows_added = []\n",
    "\n",
    "def add_nan_rows(arr: np.ndarray, rel_time: np.ndarray, minutes: int):\n",
    "    # check dist between all consecutive rel_times and create NaN array, which is added to list. Merge this list in the end\n",
    "    num_feats = arr.shape[1]\n",
    "    rows = []\n",
    "    old_time = rel_time[0]\n",
    "    for row, t in zip(arr, rel_time):\n",
    "        #print(t)\n",
    "        # check how many rows between old_time and current time have to be added\n",
    "        num_rows = int(np.ceil((t - old_time) / minutes)) - 1\n",
    "        if num_rows > 0:\n",
    "            #print(num_rows)\n",
    "            num_rows_added.append(num_rows)\n",
    "            new_rows = np.ones((num_rows, num_feats)) * np.nan\n",
    "            rows.append(new_rows)\n",
    "        rows.append(np.expand_dims(row, 0))\n",
    "        old_time = t\n",
    "    return np.concatenate(rows, axis=0)\n",
    "\n",
    "\n",
    "def unroll_patient(pat, minutes):\n",
    "    # assumes a patient, sorted by rel_time\n",
    "    # transform to numpy array and move to helper function\n",
    "    rel_time = pat[\"rel_time\"].to_numpy()\n",
    "    db = pat[\"DB\"].iloc[0]\n",
    "    pat_id = pat[\"Pat_ID\"].iloc[0]\n",
    "    # drop DB and pat_id temporarily, as their type is str\n",
    "    pat = pat.drop(columns=[\"DB\", \"Pat_ID\"]).astype(np.float32)\n",
    "    arr = pat.to_numpy()\n",
    "\n",
    "    # get new_array that contains nan_rows where necessary\n",
    "    #print(\"old array shape: \", pat.shape)\n",
    "    new_array = add_nan_rows(arr, rel_time, minutes)\n",
    "    #print(\"new array shape: \", new_array.shape)\n",
    "    # set Pat_ID, rel_time and col names correctly at end\n",
    "    new_pat = pd.DataFrame(data=new_array, columns=pat.columns, index=np.arange(len(new_array)))\n",
    "    new_pat[\"DB\"] = db \n",
    "    new_pat[\"Pat_ID\"] = pat_id\n",
    "    # fill in rel_times\n",
    "    start_time = pat[\"rel_time\"].iloc[0]\n",
    "    new_pat[\"rel_time\"] = np.arange(start_time, start_time + len(new_pat) * minutes, minutes)\n",
    "    return new_pat\n",
    "    \n",
    "\n",
    "df_filled = df.groupby(\"Pat_ID\").progress_apply(lambda pat: unroll_patient(pat.sort_values(\"rel_time\", ascending=True), minutes)).reset_index(drop=True)"
   ]
  },
  {
   "cell_type": "code",
   "execution_count": 14,
   "id": "12617bb5-1a4d-4bda-8ef2-c559cbd3d30e",
   "metadata": {},
   "outputs": [],
   "source": [
    "import matplotlib.pyplot as plt"
   ]
  },
  {
   "cell_type": "code",
   "execution_count": 15,
   "id": "31d77e8d-1ed8-497d-b9de-8e24d73636d2",
   "metadata": {},
   "outputs": [
    {
     "data": {
      "text/plain": [
       "3.323457702253417"
      ]
     },
     "execution_count": 15,
     "metadata": {},
     "output_type": "execute_result"
    }
   ],
   "source": [
    "np.mean(num_rows_added)"
   ]
  },
  {
   "cell_type": "code",
   "execution_count": 16,
   "id": "f0281a0e-29ff-4ff7-92a6-c3d8f1de8729",
   "metadata": {},
   "outputs": [
    {
     "data": {
      "text/plain": [
       "Text(0.5, 0, 'Num consecutive missing steps')"
      ]
     },
     "execution_count": 16,
     "metadata": {},
     "output_type": "execute_result"
    },
    {
     "data": {
      "image/png": "[encoded data removed]",
      "text/plain": [
       "<Figure size 432x288 with 1 Axes>"
      ]
     },
     "metadata": {
      "needs_background": "light"
     },
     "output_type": "display_data"
    }
   ],
   "source": [
    "p = plt.hist(num_rows_added, bins=100)\n",
    "plt.xlabel(\"Num consecutive missing steps\")"
   ]
  },
  {
   "cell_type": "code",
   "execution_count": 17,
   "id": "31eff92a-6fd4-4c75-890f-08a2c1efea1b",
   "metadata": {},
   "outputs": [
    {
     "data": {
      "text/plain": [
       "81210"
      ]
     },
     "execution_count": 17,
     "metadata": {},
     "output_type": "execute_result"
    }
   ],
   "source": [
    "len(num_rows_added)"
   ]
  },
  {
   "cell_type": "code",
   "execution_count": 18,
   "id": "b5be2138-1c71-44e1-a4e7-1de1e3342a19",
   "metadata": {},
   "outputs": [
    {
     "data": {
      "text/html": [
       "<div>\n",
       "<style scoped>\n",
       "    .dataframe tbody tr th:only-of-type {\n",
       "        vertical-align: middle;\n",
       "    }\n",
       "\n",
       "    .dataframe tbody tr th {\n",
       "        vertical-align: top;\n",
       "    }\n",
       "\n",
       "    .dataframe thead th {\n",
       "        text-align: right;\n",
       "    }\n",
       "</style>\n",
       "<table border=\"1\" class=\"dataframe\">\n",
       "  <thead>\n",
       "    <tr style=\"text-align: right;\">\n",
       "      <th>Maßnahme</th>\n",
       "      <th>rel_time</th>\n",
       "      <th>AF_Vital</th>\n",
       "      <th>AF_Vital_max</th>\n",
       "      <th>AF_Vital_min</th>\n",
       "      <th>AF_Vital_std</th>\n",
       "      <th>ALT_Labor</th>\n",
       "      <th>AST_Labor</th>\n",
       "      <th>Albumin_Labor</th>\n",
       "      <th>Alk_Labor</th>\n",
       "      <th>Alpha Blocker_Med</th>\n",
       "      <th>...</th>\n",
       "      <th>syst_NBD_Vital</th>\n",
       "      <th>syst_NBD_Vital_max</th>\n",
       "      <th>syst_NBD_Vital_min</th>\n",
       "      <th>syst_NBD_Vital_std</th>\n",
       "      <th>syst_Vital</th>\n",
       "      <th>syst_Vital_max</th>\n",
       "      <th>syst_Vital_min</th>\n",
       "      <th>syst_Vital_std</th>\n",
       "      <th>DB</th>\n",
       "      <th>Pat_ID</th>\n",
       "    </tr>\n",
       "  </thead>\n",
       "  <tbody>\n",
       "    <tr>\n",
       "      <th>0</th>\n",
       "      <td>0.0</td>\n",
       "      <td>NaN</td>\n",
       "      <td>NaN</td>\n",
       "      <td>NaN</td>\n",
       "      <td>NaN</td>\n",
       "      <td>NaN</td>\n",
       "      <td>NaN</td>\n",
       "      <td>NaN</td>\n",
       "      <td>NaN</td>\n",
       "      <td>NaN</td>\n",
       "      <td>...</td>\n",
       "      <td>NaN</td>\n",
       "      <td>NaN</td>\n",
       "      <td>NaN</td>\n",
       "      <td>NaN</td>\n",
       "      <td>NaN</td>\n",
       "      <td>NaN</td>\n",
       "      <td>NaN</td>\n",
       "      <td>NaN</td>\n",
       "      <td>eICU</td>\n",
       "      <td>141800</td>\n",
       "    </tr>\n",
       "    <tr>\n",
       "      <th>1</th>\n",
       "      <td>15.0</td>\n",
       "      <td>NaN</td>\n",
       "      <td>NaN</td>\n",
       "      <td>NaN</td>\n",
       "      <td>NaN</td>\n",
       "      <td>NaN</td>\n",
       "      <td>NaN</td>\n",
       "      <td>NaN</td>\n",
       "      <td>NaN</td>\n",
       "      <td>NaN</td>\n",
       "      <td>...</td>\n",
       "      <td>NaN</td>\n",
       "      <td>NaN</td>\n",
       "      <td>NaN</td>\n",
       "      <td>NaN</td>\n",
       "      <td>NaN</td>\n",
       "      <td>NaN</td>\n",
       "      <td>NaN</td>\n",
       "      <td>NaN</td>\n",
       "      <td>eICU</td>\n",
       "      <td>141800</td>\n",
       "    </tr>\n",
       "    <tr>\n",
       "      <th>2</th>\n",
       "      <td>30.0</td>\n",
       "      <td>NaN</td>\n",
       "      <td>NaN</td>\n",
       "      <td>NaN</td>\n",
       "      <td>NaN</td>\n",
       "      <td>NaN</td>\n",
       "      <td>NaN</td>\n",
       "      <td>NaN</td>\n",
       "      <td>NaN</td>\n",
       "      <td>NaN</td>\n",
       "      <td>...</td>\n",
       "      <td>NaN</td>\n",
       "      <td>NaN</td>\n",
       "      <td>NaN</td>\n",
       "      <td>NaN</td>\n",
       "      <td>NaN</td>\n",
       "      <td>NaN</td>\n",
       "      <td>NaN</td>\n",
       "      <td>NaN</td>\n",
       "      <td>eICU</td>\n",
       "      <td>141800</td>\n",
       "    </tr>\n",
       "    <tr>\n",
       "      <th>3</th>\n",
       "      <td>45.0</td>\n",
       "      <td>NaN</td>\n",
       "      <td>NaN</td>\n",
       "      <td>NaN</td>\n",
       "      <td>NaN</td>\n",
       "      <td>NaN</td>\n",
       "      <td>NaN</td>\n",
       "      <td>NaN</td>\n",
       "      <td>NaN</td>\n",
       "      <td>NaN</td>\n",
       "      <td>...</td>\n",
       "      <td>NaN</td>\n",
       "      <td>NaN</td>\n",
       "      <td>NaN</td>\n",
       "      <td>NaN</td>\n",
       "      <td>NaN</td>\n",
       "      <td>NaN</td>\n",
       "      <td>NaN</td>\n",
       "      <td>NaN</td>\n",
       "      <td>eICU</td>\n",
       "      <td>141800</td>\n",
       "    </tr>\n",
       "    <tr>\n",
       "      <th>4</th>\n",
       "      <td>60.0</td>\n",
       "      <td>NaN</td>\n",
       "      <td>NaN</td>\n",
       "      <td>NaN</td>\n",
       "      <td>NaN</td>\n",
       "      <td>NaN</td>\n",
       "      <td>NaN</td>\n",
       "      <td>NaN</td>\n",
       "      <td>NaN</td>\n",
       "      <td>NaN</td>\n",
       "      <td>...</td>\n",
       "      <td>NaN</td>\n",
       "      <td>NaN</td>\n",
       "      <td>NaN</td>\n",
       "      <td>NaN</td>\n",
       "      <td>NaN</td>\n",
       "      <td>NaN</td>\n",
       "      <td>NaN</td>\n",
       "      <td>NaN</td>\n",
       "      <td>eICU</td>\n",
       "      <td>141800</td>\n",
       "    </tr>\n",
       "    <tr>\n",
       "      <th>...</th>\n",
       "      <td>...</td>\n",
       "      <td>...</td>\n",
       "      <td>...</td>\n",
       "      <td>...</td>\n",
       "      <td>...</td>\n",
       "      <td>...</td>\n",
       "      <td>...</td>\n",
       "      <td>...</td>\n",
       "      <td>...</td>\n",
       "      <td>...</td>\n",
       "      <td>...</td>\n",
       "      <td>...</td>\n",
       "      <td>...</td>\n",
       "      <td>...</td>\n",
       "      <td>...</td>\n",
       "      <td>...</td>\n",
       "      <td>...</td>\n",
       "      <td>...</td>\n",
       "      <td>...</td>\n",
       "      <td>...</td>\n",
       "      <td>...</td>\n",
       "    </tr>\n",
       "    <tr>\n",
       "      <th>2936546</th>\n",
       "      <td>19905.0</td>\n",
       "      <td>23.0</td>\n",
       "      <td>23.0</td>\n",
       "      <td>23.0</td>\n",
       "      <td>0.0</td>\n",
       "      <td>NaN</td>\n",
       "      <td>NaN</td>\n",
       "      <td>NaN</td>\n",
       "      <td>NaN</td>\n",
       "      <td>NaN</td>\n",
       "      <td>...</td>\n",
       "      <td>NaN</td>\n",
       "      <td>NaN</td>\n",
       "      <td>NaN</td>\n",
       "      <td>NaN</td>\n",
       "      <td>166.0</td>\n",
       "      <td>166.0</td>\n",
       "      <td>166.0</td>\n",
       "      <td>0.0</td>\n",
       "      <td>MIMIC</td>\n",
       "      <td>99863_100749</td>\n",
       "    </tr>\n",
       "    <tr>\n",
       "      <th>2936547</th>\n",
       "      <td>19920.0</td>\n",
       "      <td>NaN</td>\n",
       "      <td>NaN</td>\n",
       "      <td>NaN</td>\n",
       "      <td>NaN</td>\n",
       "      <td>NaN</td>\n",
       "      <td>NaN</td>\n",
       "      <td>NaN</td>\n",
       "      <td>NaN</td>\n",
       "      <td>NaN</td>\n",
       "      <td>...</td>\n",
       "      <td>NaN</td>\n",
       "      <td>NaN</td>\n",
       "      <td>NaN</td>\n",
       "      <td>NaN</td>\n",
       "      <td>NaN</td>\n",
       "      <td>NaN</td>\n",
       "      <td>NaN</td>\n",
       "      <td>NaN</td>\n",
       "      <td>MIMIC</td>\n",
       "      <td>99863_100749</td>\n",
       "    </tr>\n",
       "    <tr>\n",
       "      <th>2936548</th>\n",
       "      <td>19935.0</td>\n",
       "      <td>NaN</td>\n",
       "      <td>NaN</td>\n",
       "      <td>NaN</td>\n",
       "      <td>NaN</td>\n",
       "      <td>NaN</td>\n",
       "      <td>NaN</td>\n",
       "      <td>NaN</td>\n",
       "      <td>NaN</td>\n",
       "      <td>NaN</td>\n",
       "      <td>...</td>\n",
       "      <td>NaN</td>\n",
       "      <td>NaN</td>\n",
       "      <td>NaN</td>\n",
       "      <td>NaN</td>\n",
       "      <td>NaN</td>\n",
       "      <td>NaN</td>\n",
       "      <td>NaN</td>\n",
       "      <td>NaN</td>\n",
       "      <td>MIMIC</td>\n",
       "      <td>99863_100749</td>\n",
       "    </tr>\n",
       "    <tr>\n",
       "      <th>2936549</th>\n",
       "      <td>19950.0</td>\n",
       "      <td>NaN</td>\n",
       "      <td>NaN</td>\n",
       "      <td>NaN</td>\n",
       "      <td>NaN</td>\n",
       "      <td>NaN</td>\n",
       "      <td>NaN</td>\n",
       "      <td>NaN</td>\n",
       "      <td>NaN</td>\n",
       "      <td>NaN</td>\n",
       "      <td>...</td>\n",
       "      <td>NaN</td>\n",
       "      <td>NaN</td>\n",
       "      <td>NaN</td>\n",
       "      <td>NaN</td>\n",
       "      <td>NaN</td>\n",
       "      <td>NaN</td>\n",
       "      <td>NaN</td>\n",
       "      <td>NaN</td>\n",
       "      <td>MIMIC</td>\n",
       "      <td>99863_100749</td>\n",
       "    </tr>\n",
       "    <tr>\n",
       "      <th>2936550</th>\n",
       "      <td>19965.0</td>\n",
       "      <td>27.0</td>\n",
       "      <td>27.0</td>\n",
       "      <td>27.0</td>\n",
       "      <td>0.0</td>\n",
       "      <td>NaN</td>\n",
       "      <td>NaN</td>\n",
       "      <td>NaN</td>\n",
       "      <td>NaN</td>\n",
       "      <td>NaN</td>\n",
       "      <td>...</td>\n",
       "      <td>NaN</td>\n",
       "      <td>NaN</td>\n",
       "      <td>NaN</td>\n",
       "      <td>NaN</td>\n",
       "      <td>141.0</td>\n",
       "      <td>141.0</td>\n",
       "      <td>141.0</td>\n",
       "      <td>0.0</td>\n",
       "      <td>MIMIC</td>\n",
       "      <td>99863_100749</td>\n",
       "    </tr>\n",
       "  </tbody>\n",
       "</table>\n",
       "<p>2936551 rows × 119 columns</p>\n",
       "</div>"
      ],
      "text/plain": [
       "Maßnahme  rel_time  AF_Vital  AF_Vital_max  AF_Vital_min  AF_Vital_std  \\\n",
       "0              0.0       NaN           NaN           NaN           NaN   \n",
       "1             15.0       NaN           NaN           NaN           NaN   \n",
       "2             30.0       NaN           NaN           NaN           NaN   \n",
       "3             45.0       NaN           NaN           NaN           NaN   \n",
       "4             60.0       NaN           NaN           NaN           NaN   \n",
       "...            ...       ...           ...           ...           ...   \n",
       "2936546    19905.0      23.0          23.0          23.0           0.0   \n",
       "2936547    19920.0       NaN           NaN           NaN           NaN   \n",
       "2936548    19935.0       NaN           NaN           NaN           NaN   \n",
       "2936549    19950.0       NaN           NaN           NaN           NaN   \n",
       "2936550    19965.0      27.0          27.0          27.0           0.0   \n",
       "\n",
       "Maßnahme  ALT_Labor  AST_Labor  Albumin_Labor  Alk_Labor  Alpha Blocker_Med  \\\n",
       "0               NaN        NaN            NaN        NaN                NaN   \n",
       "1               NaN        NaN            NaN        NaN                NaN   \n",
       "2               NaN        NaN            NaN        NaN                NaN   \n",
       "3               NaN        NaN            NaN        NaN                NaN   \n",
       "4               NaN        NaN            NaN        NaN                NaN   \n",
       "...             ...        ...            ...        ...                ...   \n",
       "2936546         NaN        NaN            NaN        NaN                NaN   \n",
       "2936547         NaN        NaN            NaN        NaN                NaN   \n",
       "2936548         NaN        NaN            NaN        NaN                NaN   \n",
       "2936549         NaN        NaN            NaN        NaN                NaN   \n",
       "2936550         NaN        NaN            NaN        NaN                NaN   \n",
       "\n",
       "Maßnahme  ...  syst_NBD_Vital  syst_NBD_Vital_max  syst_NBD_Vital_min  \\\n",
       "0         ...             NaN                 NaN                 NaN   \n",
       "1         ...             NaN                 NaN                 NaN   \n",
       "2         ...             NaN                 NaN                 NaN   \n",
       "3         ...             NaN                 NaN                 NaN   \n",
       "4         ...             NaN                 NaN                 NaN   \n",
       "...       ...             ...                 ...                 ...   \n",
       "2936546   ...             NaN                 NaN                 NaN   \n",
       "2936547   ...             NaN                 NaN                 NaN   \n",
       "2936548   ...             NaN                 NaN                 NaN   \n",
       "2936549   ...             NaN                 NaN                 NaN   \n",
       "2936550   ...             NaN                 NaN                 NaN   \n",
       "\n",
       "Maßnahme  syst_NBD_Vital_std  syst_Vital  syst_Vital_max  syst_Vital_min  \\\n",
       "0                        NaN         NaN             NaN             NaN   \n",
       "1                        NaN         NaN             NaN             NaN   \n",
       "2                        NaN         NaN             NaN             NaN   \n",
       "3                        NaN         NaN             NaN             NaN   \n",
       "4                        NaN         NaN             NaN             NaN   \n",
       "...                      ...         ...             ...             ...   \n",
       "2936546                  NaN       166.0           166.0           166.0   \n",
       "2936547                  NaN         NaN             NaN             NaN   \n",
       "2936548                  NaN         NaN             NaN             NaN   \n",
       "2936549                  NaN         NaN             NaN             NaN   \n",
       "2936550                  NaN       141.0           141.0           141.0   \n",
       "\n",
       "Maßnahme  syst_Vital_std     DB        Pat_ID  \n",
       "0                    NaN   eICU        141800  \n",
       "1                    NaN   eICU        141800  \n",
       "2                    NaN   eICU        141800  \n",
       "3                    NaN   eICU        141800  \n",
       "4                    NaN   eICU        141800  \n",
       "...                  ...    ...           ...  \n",
       "2936546              0.0  MIMIC  99863_100749  \n",
       "2936547              NaN  MIMIC  99863_100749  \n",
       "2936548              NaN  MIMIC  99863_100749  \n",
       "2936549              NaN  MIMIC  99863_100749  \n",
       "2936550              0.0  MIMIC  99863_100749  \n",
       "\n",
       "[2936551 rows x 119 columns]"
      ]
     },
     "execution_count": 18,
     "metadata": {},
     "output_type": "execute_result"
    }
   ],
   "source": [
    "df_filled"
   ]
  },
  {
   "cell_type": "code",
   "execution_count": 19,
   "id": "d204120b-00ca-4871-bbc0-62f9b41f5e16",
   "metadata": {},
   "outputs": [],
   "source": [
    "df_filled.to_csv(f\"data/df_filled_{minutes}.csv\", index=False)"
   ]
  },
  {
   "cell_type": "code",
   "execution_count": 20,
   "id": "e0d3895d-f6f6-45da-8a26-228693e456cb",
   "metadata": {},
   "outputs": [],
   "source": [
    "#minutes = 60\n",
    "#df_filled = pd.read_csv(f\"data/df_filled_{minutes}.csv\", index_col=0)"
   ]
  },
  {
   "cell_type": "code",
   "execution_count": 21,
   "id": "97a875d8-5fda-43fb-8688-68ddaebb4443",
   "metadata": {},
   "outputs": [
    {
     "name": "stdout",
     "output_type": "stream",
     "text": [
      "Dropped:  ['Albumin_Labor', 'Barbiturat_Med', 'Alk_Labor', 'CK_Labor', 'Leukocyten_Labor', 'Erythrocyten_Labor', 'Troponin_Labor', 'CK-MB_Labor', 'Lymphocyten_Labor', 'Basophile_Labor', 'Monocyten_Labor', 'Eosinophile_Labor', 'Lipase_Labor', 'Neutrophile_Labor', 'Triglyceride_Labor', 'pankreasspez_Labor', 'TSH_Labor', 'LDH_Labor', 'FCOHb_BGA', 'Cholesterin_Labor', 'CRP_Labor', 'RASS_Vital', 'fT4_Labor', 'fT3_Labor', 'FiO2_BGA', 'Bili_BGA']  -  26\n"
     ]
    }
   ],
   "source": [
    "# remove feature that have N% missing spots in at least one database\n",
    "threshold = 1 - (1 - 0.99) / (60 / minutes)  # make it such that it is 0.99 for 60 minutes and 0.999 for 5 minutes\n",
    "max_nan_frac_over_dbs = df_filled.groupby(\"DB\").apply(lambda db: db.isna().mean()).max().sort_values()\n",
    "drop_cols = list(max_nan_frac_over_dbs[max_nan_frac_over_dbs > threshold].index)\n",
    "df_drop_too_missing = df_filled.drop(columns=drop_cols)\n",
    "print(\"Dropped: \", drop_cols, \" - \", len(drop_cols))"
   ]
  },
  {
   "cell_type": "code",
   "execution_count": 22,
   "id": "f9fd1ad6-36ce-43a9-85ca-9c1224ee4c9c",
   "metadata": {},
   "outputs": [],
   "source": [
    "# fill med missing with 0\n",
    "df_med_filled = df_drop_too_missing.copy()\n",
    "med_col_names = [col for col in df_med_filled.columns if \"_Med\" in col]\n",
    "df_med_filled[med_col_names] = df_med_filled[med_col_names].fillna(df_med_filled[med_col_names].min())"
   ]
  },
  {
   "cell_type": "code",
   "execution_count": 23,
   "id": "eafa3430-9174-496d-94eb-5b63087e3308",
   "metadata": {},
   "outputs": [],
   "source": [
    "# get patient data such as gender etc\n",
    "df_static = pd.read_csv(\"data/Datenbank_Pat_ID.csv\")\n",
    "df_static = df_static[[\"Pat_ID\", \"Alter\", \"Diagnose_txt\", \"Geschlecht\", \"Größe\", \"Gewicht\"]]\n",
    "df_static = df_static.rename(columns={\"Diagnose_txt\": \"Diagnose\"})\n",
    "# one-hot encode\n",
    "df_static = pd.get_dummies(df_static, columns=[\"Diagnose\", \"Geschlecht\"])\n",
    "df_static = df_static.drop(columns=[\"Geschlecht_Weiblich\"])\n",
    "df_static = df_static.rename(columns={\"Geschlecht_Männlich\": \"Geschlecht\"})\n",
    "# drop nan Pat_ID\n",
    "df_static = df_static.dropna(subset=[\"Pat_ID\"])"
   ]
  },
  {
   "cell_type": "code",
   "execution_count": 24,
   "id": "31334472-d824-4098-b41c-a3dedbcca906",
   "metadata": {},
   "outputs": [],
   "source": [
    "# merge\n",
    "df_med_filled[\"Pat_ID\"] = df_med_filled[\"Pat_ID\"].astype(int)\n",
    "df_static[\"Pat_ID\"] = df_static[\"Pat_ID\"].astype(int)\n",
    "df_large = pd.merge(df_med_filled, df_static, on=\"Pat_ID\", how=\"left\")"
   ]
  },
  {
   "cell_type": "code",
   "execution_count": 25,
   "id": "87b6f2e4-4558-4f14-bc07-52c92735e422",
   "metadata": {},
   "outputs": [],
   "source": [
    "# one-hot-encode DB\n",
    "df_large = pd.get_dummies(df_large, columns=[\"DB\"])"
   ]
  },
  {
   "cell_type": "code",
   "execution_count": 26,
   "id": "9863dd37-dddb-411e-aee1-41df96b2e429",
   "metadata": {},
   "outputs": [
    {
     "name": "stdout",
     "output_type": "stream",
     "text": [
      "Saved to:  data/df_final_15.csv\n"
     ]
    }
   ],
   "source": [
    "path = f\"data/df_final_{minutes}.csv\"\n",
    "df_large.to_csv(path, index=False)\n",
    "print(\"Saved to: \", path)"
   ]
  },
  {
   "cell_type": "code",
   "execution_count": 28,
   "id": "58bfa2c8-c122-4dba-a3e8-f09fa7b1f8f4",
   "metadata": {},
   "outputs": [
    {
     "name": "stdout",
     "output_type": "stream",
     "text": [
      "Cols before corr: 104\n",
      "Deleting column with name,  FiO2_Vital_max  as it is too highly correlated ( 0.9982634558084503 ) with  FiO2_Vital\n",
      "Deleting column with name,  FiO2_Vital_min  as it is too highly correlated ( 0.9984194314097605 ) with  FiO2_Vital\n",
      "Deleting column with name,  HF_Vital_max  as it is too highly correlated ( 0.9923326402013464 ) with  HF_Vital\n",
      "Deleting column with name,  HF_Vital_min  as it is too highly correlated ( 0.9934849845846903 ) with  HF_Vital\n",
      "Deleting column with name,  Temp_Vital_max  as it is too highly correlated ( 0.9998982094375675 ) with  Temp_Vital\n",
      "Deleting column with name,  Temp_Vital_min  as it is too highly correlated ( 0.9998487017560123 ) with  Temp_Vital\n",
      "Deleting column with name,  diast_NBD_Vital_max  as it is too highly correlated ( 0.9924058311975353 ) with  diast_NBD_Vital\n",
      "Deleting column with name,  diast_NBD_Vital_min  as it is too highly correlated ( 0.9931525737019447 ) with  diast_NBD_Vital\n",
      "Deleting column with name,  mittl_NBD_Vital_max  as it is too highly correlated ( 0.9934270285054092 ) with  mittl_NBD_Vital\n",
      "Deleting column with name,  mittl_NBD_Vital_min  as it is too highly correlated ( 0.9939786765095132 ) with  mittl_NBD_Vital\n",
      "Deleting column with name,  syst_NBD_Vital_max  as it is too highly correlated ( 0.9948031756393668 ) with  syst_NBD_Vital\n",
      "Deleting column with name,  syst_NBD_Vital_min  as it is too highly correlated ( 0.9949451137763322 ) with  syst_NBD_Vital\n",
      "Cols after corr: 92\n",
      "Dropping because of too small correlation with target:  ['ICP']\n"
     ]
    }
   ],
   "source": [
    "# remove correlated feats\n",
    "threshold = 0.99\n",
    "dataset = df_large.drop(columns=[\"ICP_Vital\"])\n",
    "targets = df_large[\"ICP_Vital\"]\n",
    "\n",
    "# remove target from this correlation table as we want to keep features that are highly correlated with the target\n",
    "print(\"Cols before corr:\", len(dataset.columns))\n",
    "col_corr = set() # Set of all the names of deleted columns\n",
    "corr_matrix = dataset.corr()\n",
    "for i in range(len(corr_matrix.columns)):\n",
    "    for j in range(i):\n",
    "        if (abs(corr_matrix.iloc[i, j]) >= threshold) and (corr_matrix.columns[j] not in col_corr):\n",
    "            colname = corr_matrix.columns[i] # getting the name of column\n",
    "            col_corr.add(colname)\n",
    "            if colname in dataset.columns:\n",
    "                print(\"Deleting column with name, \", colname, \" as it is too highly correlated (\", corr_matrix.iloc[i, j], \") with \", corr_matrix.columns[j])\n",
    "                del dataset[colname] # deleting the column from the dataset                \n",
    "print(\"Cols after corr:\", len(dataset.columns))\n",
    "# check correlations with Vital_ICP value\n",
    "dataset[\"ICP\"] = list(targets)\n",
    "corr_matrix = dataset.corr()\n",
    "icp_cor = corr_matrix[\"ICP\"].to_numpy()\n",
    "thresh = 0.0001\n",
    "too_small_corr_mask = np.abs(icp_cor) < thresh\n",
    "drop_cols = [\"ICP\"] + list(np.array(corr_matrix.columns)[too_small_corr_mask])\n",
    "drop_cols = [c for c in drop_cols if \"DB_\" not in c]\n",
    "print(\"Dropping because of too small correlation with target: \", drop_cols)\n",
    "dataset = dataset.drop(columns=drop_cols)   \n",
    "\n",
    "df_decorrelated = pd.concat([dataset, targets], axis=0)"
   ]
  },
  {
   "cell_type": "code",
   "execution_count": 29,
   "id": "931bcd07-0a9c-4a8d-8c32-222034da679d",
   "metadata": {},
   "outputs": [],
   "source": [
    "save_path = f\"data/{minutes}_/yeo_N/normalization_None/median/uni_clip_0.9999/multi_clip_N/df.pkl\""
   ]
  },
  {
   "cell_type": "code",
   "execution_count": 39,
   "id": "bbd3af45-5465-4152-a845-6434725d83f2",
   "metadata": {},
   "outputs": [],
   "source": [
    "import os\n",
    "os.makedirs(\"/\".join(save_path.split(\"/\")[:-1]), exist_ok=True)\n",
    "df_decorrelated.to_csv(save_path, index=False)"
   ]
  },
  {
   "cell_type": "code",
   "execution_count": null,
   "id": "db807a0f-d626-47a3-9e3b-5bc34a2feedf",
   "metadata": {},
   "outputs": [],
   "source": []
  },
  {
   "cell_type": "code",
   "execution_count": null,
   "id": "a4b020b1-baa5-47cc-92b3-44d864152b3d",
   "metadata": {},
   "outputs": [],
   "source": [
    "import matplotlib.pyplot as plt"
   ]
  },
  {
   "cell_type": "code",
   "execution_count": null,
   "id": "b5609c7d-3010-4d3a-b02f-f77b764d99f8",
   "metadata": {},
   "outputs": [],
   "source": [
    "# check distributions\n",
    "p = uke_df.hist(bins=100, figsize=(15, 15))\n",
    "plt.tight_layout()"
   ]
  },
  {
   "cell_type": "code",
   "execution_count": null,
   "id": "50fcce67-d469-4df7-a4b1-51f1b2ffe75f",
   "metadata": {},
   "outputs": [],
   "source": [
    "from sklearn.preprocessing import PowerTransformer\n",
    "\n",
    "transform = PowerTransformer(method='yeo-johnson', standardize=True)"
   ]
  },
  {
   "cell_type": "code",
   "execution_count": null,
   "id": "561dc1de-3817-4d29-9e53-1764e34234f3",
   "metadata": {},
   "outputs": [],
   "source": [
    "uke_df = df_large[df_large[\"DB_UKE\"] == 1]"
   ]
  },
  {
   "cell_type": "code",
   "execution_count": null,
   "id": "3a8e279f-0d3a-4d7c-957c-efdf375c462f",
   "metadata": {},
   "outputs": [],
   "source": [
    "uke_arr = uke_df.to_numpy()"
   ]
  },
  {
   "cell_type": "code",
   "execution_count": null,
   "id": "003e4340-748b-4708-b0f8-2f3b175f139b",
   "metadata": {},
   "outputs": [],
   "source": [
    "transform.fit(uke_arr)"
   ]
  },
  {
   "cell_type": "code",
   "execution_count": null,
   "id": "40f46cb8-adaf-41e8-b7d4-41aeef0239ae",
   "metadata": {},
   "outputs": [],
   "source": [
    "np.round(transform.lambdas_, 1)"
   ]
  },
  {
   "cell_type": "code",
   "execution_count": null,
   "id": "e8e0e61b-4ddf-454f-a642-e2bd75818d75",
   "metadata": {},
   "outputs": [],
   "source": [
    "transformed_arr = transform.transform(uke_arr)"
   ]
  },
  {
   "cell_type": "code",
   "execution_count": null,
   "id": "212b638d-a1e5-479e-a9ad-3ddc926ba035",
   "metadata": {},
   "outputs": [],
   "source": [
    "lambdas_ = transform.lambdas_\n",
    "mask = np.abs(lambdas_) > 5\n",
    "print(lambdas_[mask])"
   ]
  },
  {
   "cell_type": "code",
   "execution_count": null,
   "id": "fa24078b-1084-4acb-a944-4332b21f36bb",
   "metadata": {},
   "outputs": [],
   "source": [
    "transformed_df = pd.DataFrame(transformed_arr, columns=df_large.columns)#, index=df_large.index)"
   ]
  },
  {
   "cell_type": "code",
   "execution_count": null,
   "id": "7be29b31-6a66-472a-9f24-bde2f915a1c1",
   "metadata": {},
   "outputs": [],
   "source": [
    "feat = \"sO2_BGA\""
   ]
  },
  {
   "cell_type": "code",
   "execution_count": null,
   "id": "e81c92b5-a8c1-458f-a987-b99e35a7e433",
   "metadata": {},
   "outputs": [],
   "source": [
    "idx = list(transformed_df.columns).index(feat)\n",
    "lambdas_[idx]"
   ]
  },
  {
   "cell_type": "code",
   "execution_count": null,
   "id": "57aa9686-c217-4b21-8328-c501a445bc13",
   "metadata": {},
   "outputs": [],
   "source": [
    "uke_df[feat].describe()"
   ]
  },
  {
   "cell_type": "code",
   "execution_count": null,
   "id": "2a45cb8a-939e-4133-82ab-1422e65833bb",
   "metadata": {},
   "outputs": [],
   "source": [
    "transformed_df[feat].describe()"
   ]
  },
  {
   "cell_type": "code",
   "execution_count": null,
   "id": "04588faf-a676-42b9-b8a3-dfd91892b6c4",
   "metadata": {},
   "outputs": [],
   "source": [
    "uke_df[feat].unique()"
   ]
  },
  {
   "cell_type": "code",
   "execution_count": null,
   "id": "47c712ff-6b02-4175-aef7-5afc10b20409",
   "metadata": {},
   "outputs": [],
   "source": [
    "transformed_df[feat].unique()"
   ]
  },
  {
   "cell_type": "code",
   "execution_count": null,
   "id": "9ae8c162-f9d5-4ae8-bded-79a629c21e17",
   "metadata": {},
   "outputs": [],
   "source": [
    "uke_df[feat].hist(bins=100)"
   ]
  },
  {
   "cell_type": "code",
   "execution_count": null,
   "id": "716000f6-ca88-4758-8487-b2b5e2fb431b",
   "metadata": {},
   "outputs": [],
   "source": [
    "transformed_df[feat].hist(bins=100)"
   ]
  },
  {
   "cell_type": "code",
   "execution_count": null,
   "id": "d11e2459-ca93-4297-908e-55dcbbfe98a9",
   "metadata": {},
   "outputs": [],
   "source": [
    "import numba\n",
    "import numpy as np\n",
    "\n",
    "@numba.jit()\n",
    "def ema_fill(pat: np.ndarray, ema_val: float, mean: np.ndarray):\n",
    "    # init ema\n",
    "    ema = np.ones_like(pat[0]) * pat[0]\n",
    "    ema[np.isnan(ema)] = mean[np.isnan(ema)]\n",
    "    # run ema\n",
    "    ema_steps = np.ones_like(pat)\n",
    "    for i, pat_step in enumerate(pat):\n",
    "        pat_step[np.isnan(pat_step)] = 0\n",
    "        ema = ema_val * ema + (1 - ema_val) * pat_step\n",
    "        ema_steps[i] = ema.copy()\n",
    "    return ema_steps"
   ]
  },
  {
   "cell_type": "code",
   "execution_count": null,
   "id": "82554915-3254-4360-bc8d-efee1b8725c8",
   "metadata": {},
   "outputs": [],
   "source": [
    "mean = uke_df.mean().to_numpy()"
   ]
  },
  {
   "cell_type": "code",
   "execution_count": null,
   "id": "f7943b06-ca6a-40f6-b4a5-ef88731fede5",
   "metadata": {},
   "outputs": [],
   "source": [
    "uke_filled = uke_df.groupby(\"Pat_ID\").apply(lambda pat: pd.DataFrame(ema_fill(pat.sort_values(\"rel_time\").to_numpy(), 0.9, mean), columns=pat.columns))"
   ]
  },
  {
   "cell_type": "code",
   "execution_count": null,
   "id": "0f84702d-3c9d-4ce9-a5d0-4395760f1173",
   "metadata": {},
   "outputs": [],
   "source": []
  },
  {
   "cell_type": "code",
   "execution_count": null,
   "id": "40b4e13e-f07a-46f4-92f6-f75fd4e594e0",
   "metadata": {},
   "outputs": [],
   "source": [
    "def four_parts(df):\n",
    "    leng = len(df)\n",
    "    first = df.iloc[0: leng // 4].mean()\n",
    "    second = df.iloc[leng // 4: leng // 2].mean()\n",
    "    third = df.iloc[leng // 2: leng * 3 // 4].mean()\n",
    "    fourth = df.iloc[leng * 3 // 4:].mean()\n",
    "    all_parts = [first, second, third, fourth]\n",
    "    return pd.DataFrame(all_parts, columns=df.columns)"
   ]
  },
  {
   "cell_type": "code",
   "execution_count": null,
   "id": "c677ad01-b730-4046-aec4-c1c8c06acb8b",
   "metadata": {},
   "outputs": [],
   "source": []
  },
  {
   "cell_type": "code",
   "execution_count": null,
   "id": "379f3718-0275-494b-a3e9-122c9fe99b6c",
   "metadata": {},
   "outputs": [],
   "source": [
    "umap_arr_red = umap_norm.reset_index(drop=True).groupby(\"Pat_ID\").apply(four_parts).reset_index(drop=True).dropna()"
   ]
  },
  {
   "cell_type": "code",
   "execution_count": null,
   "id": "a73360c6-78cc-4ad2-8d25-81f64e8dfb73",
   "metadata": {},
   "outputs": [],
   "source": [
    "umap_arr_dropped = umap_arr_red.drop(columns=[\"DB_MIMIC\", \"DB_UKE\", \"DB_eICU\", \"Pat_ID\", \"ICP_Vital\"]).to_numpy()"
   ]
  },
  {
   "cell_type": "code",
   "execution_count": null,
   "id": "f963c610-9e88-42d0-9c54-aac3bdba701e",
   "metadata": {},
   "outputs": [],
   "source": [
    "from sklearn.preprocessing import PowerTransformer\n",
    "\n",
    "def apply_yeo(df, thresh=50, lambs=None):\n",
    "    transform = PowerTransformer(method='yeo-johnson', standardize=False)\n",
    "    drop_cols = [\"DB_MIMIC\", \"DB_UKE\", \"DB_eICU\", \"Pat_ID\", \"ICP_Vital\", \"rel_time\"]\n",
    "    dropped = df.drop(columns=drop_cols)\n",
    "    arr = dropped.to_numpy()\n",
    "    if lambs is None:\n",
    "        # apply yeo\n",
    "        transform.fit(arr)\n",
    "        lambs = transform.lambdas_ \n",
    "        mask = np.abs(lambs) > thresh\n",
    "        print(df[\"DB_MIMIC\"].sum(), df[\"DB_UKE\"].sum(), df[\"DB_eICU\"].sum())\n",
    "        print(mask.sum())\n",
    "        #print(pd.Series(np.round(lambs, 1), index=dropped.columns).sort_values(np.abs(lambs)))\n",
    "        print(np.round(lambs, 1))\n",
    "        print()\n",
    "        lambs[mask] = 1\n",
    "    transform.lambdas_ = lambs\n",
    "    trans_arr = transform.transform(arr)\n",
    "    # merge back\n",
    "    df = pd.concat([pd.DataFrame(trans_arr, columns=dropped.columns), df[drop_cols]], axis=1)\n",
    "    return df, lambs"
   ]
  },
  {
   "cell_type": "code",
   "execution_count": null,
   "id": "28a0a753-ef45-4756-af17-9369489156b8",
   "metadata": {},
   "outputs": [],
   "source": [
    "def create_umap_df(df, yeo=False, lambs=None, mean=None, std=None, thresh=10):\n",
    "    # apply yeo\n",
    "    if yeo:\n",
    "        df, _ = apply_yeo(df, lambs=lambs, thresh=thresh)\n",
    "    # calc median\n",
    "    median = df.median().to_numpy()\n",
    "    # fill using ema\n",
    "    df_filled = df.groupby(\"Pat_ID\").apply(lambda pat: pd.DataFrame(ema_fill(pat.sort_values(\"rel_time\").to_numpy(), 0.9, median), columns=pat.columns)).reset_index(drop=True)\n",
    "    # calc mean\n",
    "    if mean is None:\n",
    "        mean = df_filled.mean()\n",
    "        std = df_filled.std()\n",
    "        mean[std == 0] = 0\n",
    "        std[std == 0] = 1\n",
    "    #norm\n",
    "    df_norm = (df_filled - mean) / std\n",
    "    # average over four regions per Pat\n",
    "    df_red = df_norm.groupby(\"Pat_ID\").apply(four_parts).reset_index(drop=True).dropna()\n",
    "    return df_red"
   ]
  },
  {
   "cell_type": "code",
   "execution_count": null,
   "id": "e236e9d8-cd16-45b0-b13a-01ba050285e5",
   "metadata": {},
   "outputs": [],
   "source": [
    "yeo = False\n",
    "use_train_stats = False\n",
    "thresh = 10\n",
    "\n",
    "lambs = None\n",
    "mean = None\n",
    "std = None\n",
    "    \n",
    "if use_train_stats:\n",
    "    train_df = df_large[df_large[\"DB_UKE\"] == 1]\n",
    "    if yeo:\n",
    "        # calc lambdas for train dataset\n",
    "        #train_df_filled = train_df.groupby(\"Pat_ID\").apply(lambda pat: pd.DataFrame(ema_fill(pat.astype(float).sort_values(\"rel_time\").to_numpy(), 0.9, train_df.median()), columns=pat.columns)).reset_index(drop=True)\n",
    "        train_df, lambs = apply_yeo(train_df, thresh=thresh)\n",
    "         # calc median\n",
    "        median = train_df.median().to_numpy()\n",
    "        # fill using ema\n",
    "        train_df = train_df.groupby(\"Pat_ID\").apply(lambda pat: pd.DataFrame(ema_fill(pat.sort_values(\"rel_time\").to_numpy(), 0.9, median), columns=pat.columns)).reset_index(drop=True)\n",
    "    \n",
    "    # calc mean\n",
    "    mean = train_df.mean().to_numpy()\n",
    "    std = train_df.std()\n",
    "    mean[std == 0] = 0\n",
    "    std[std == 0] = 1\n",
    "\n",
    "\n",
    "grouper = df_large[\"DB_UKE\"] * 1 + df_large[\"DB_MIMIC\"] * 2 + df_large[\"DB_eICU\"] * 3\n",
    "df_red = df_large.groupby(grouper).apply(lambda db: create_umap_df(db, yeo=yeo, lambs=lambs, mean=mean, std=std, thresh=thresh))\n",
    "#df_red = transformed_df.groupby(grouper).apply(create_umap_df)"
   ]
  },
  {
   "cell_type": "code",
   "execution_count": null,
   "id": "67301a13-9f43-4a81-bd6b-ddf8de363e03",
   "metadata": {},
   "outputs": [],
   "source": [
    "if std is not None:\n",
    "    std.sort_values()"
   ]
  },
  {
   "cell_type": "code",
   "execution_count": null,
   "id": "629279d1-9c35-452c-a01c-c7f0ac7f1674",
   "metadata": {},
   "outputs": [],
   "source": [
    "db_values = df_red[\"DB_UKE\"] * 1 + df_red[\"DB_MIMIC\"] * 2 + df_red[\"DB_eICU\"] * 3\n",
    "db_values[db_values == 1] = \"UKE\"\n",
    "db_values[db_values == 2] = \"MIMIC\"\n",
    "db_values[db_values == 3] = \"eICU\""
   ]
  },
  {
   "cell_type": "code",
   "execution_count": null,
   "id": "fe67c32d-86e1-4efe-962f-483897ce36b4",
   "metadata": {},
   "outputs": [],
   "source": [
    "# drop some cols and to numpy\n",
    "drop_cols = [\"DB_MIMIC\", \"DB_UKE\", \"DB_eICU\", \"Pat_ID\", \"ICP_Vital\"]\n",
    "#drop_cols.extend([col for col in df_red.columns if \"_Med\" in col])\n",
    "#drop_cols.extend([col for col in df_red.columns if \"Diagnose\" in col])\n",
    "#drop_cols.extend([col for col in df_red.columns if \"BGA\" in col])\n",
    "#drop_cols.extend([col for col in df_red.columns if \"Labor\" in col])\n",
    "#drop_cols.extend([col for col in df_red.columns if \"Vital\" in col])\n",
    "\n",
    "#print(drop_cols)\n",
    "dropped = df_red.drop(columns=drop_cols)\n",
    "#print(dropped.columns)\n",
    "arr = dropped.to_numpy()"
   ]
  },
  {
   "cell_type": "code",
   "execution_count": null,
   "id": "a20f7f85-8a60-438e-9b35-f163c2af9fa7",
   "metadata": {},
   "outputs": [],
   "source": [
    "df_used.groupby(grouper).apply(lambda db: db[\"Cl_BGA\"].mean())"
   ]
  },
  {
   "cell_type": "code",
   "execution_count": null,
   "id": "337004a7-eaf2-49b9-885d-c42fdb4f0c8a",
   "metadata": {},
   "outputs": [],
   "source": [
    "df_used.groupby(grouper).apply(lambda db: db[\"Cl_BGA\"].std())"
   ]
  },
  {
   "cell_type": "code",
   "execution_count": null,
   "id": "13ae2a74-6a28-46a5-a0c6-6dcc79b4a1de",
   "metadata": {},
   "outputs": [],
   "source": [
    "dropped.groupby(db_values).apply(lambda db: db[\"Cl_BGA\"].std())"
   ]
  },
  {
   "cell_type": "code",
   "execution_count": null,
   "id": "ba659f14-ad1d-46ad-8528-8aa867e53eca",
   "metadata": {},
   "outputs": [],
   "source": [
    "dropped.groupby(db_values).apply(lambda db: db[\"Cl_BGA\"].mean())"
   ]
  },
  {
   "cell_type": "code",
   "execution_count": null,
   "id": "7fe21edb-37a0-41ba-8146-5fda49e90a65",
   "metadata": {},
   "outputs": [],
   "source": [
    "dropped[\"Cl_BGA\"].std()"
   ]
  },
  {
   "cell_type": "code",
   "execution_count": null,
   "id": "03dc995e-407c-43f1-af2d-f62fb904972f",
   "metadata": {},
   "outputs": [],
   "source": [
    "from umap import UMAP\n",
    "import umap.plot\n",
    "\n",
    "umapper = UMAP(n_components=2, n_neighbors=15)\n",
    "umapped_arr = umapper.fit_transform(arr)"
   ]
  },
  {
   "cell_type": "code",
   "execution_count": null,
   "id": "0f12ea5d-ae8d-4296-827b-755a99d1824a",
   "metadata": {},
   "outputs": [],
   "source": [
    "from sklearn.decomposition import PCA\n",
    "mapper = PCA()\n",
    "\n",
    "pca_arr = mapper.fit_transform(arr)\n",
    "pca_arr.shape"
   ]
  },
  {
   "cell_type": "code",
   "execution_count": null,
   "id": "8d4f7d28-f79e-43ae-9a5b-d348e9112dcc",
   "metadata": {},
   "outputs": [],
   "source": [
    "colors = db_values.copy()\n",
    "colors[colors==\"UKE\"] = \"red\"\n",
    "colors[colors==\"MIMIC\"] = \"blue\"\n",
    "colors[colors==\"eICU\"] = \"green\"\n",
    "\n",
    "colors = df_red[\"DB_UKE\"]\n",
    "plt.figure(figsize=(15, 7))\n",
    "plt.scatter(pca_arr[:, 0], pca_arr[:, 1], c=colors, s=1.5)"
   ]
  },
  {
   "cell_type": "code",
   "execution_count": null,
   "id": "1e692e24-48ae-4a62-b223-996e4fe5d028",
   "metadata": {},
   "outputs": [],
   "source": [
    "plt.plot(mapper.explained_variance_)"
   ]
  },
  {
   "cell_type": "code",
   "execution_count": null,
   "id": "f0391618-f1a9-47e1-865b-cb53f40d78a6",
   "metadata": {},
   "outputs": [],
   "source": [
    "comp_idx = 0\n",
    "plt.bar(range(len(mapper.components_[comp_idx])), mapper.components_[comp_idx])\n",
    "print(mapper.components_[comp_idx].sum())"
   ]
  },
  {
   "cell_type": "code",
   "execution_count": null,
   "id": "7e238682-e5be-4510-aa4d-7e85f245dad2",
   "metadata": {},
   "outputs": [],
   "source": [
    "max_comp_idx = np.argmax(mapper.components_[comp_idx])\n",
    "print(max_comp_idx)\n",
    "print(dropped.columns[max_comp_idx])"
   ]
  },
  {
   "cell_type": "code",
   "execution_count": null,
   "id": "56d5c0ef-7ddc-45ed-9cd9-0b662cae9d92",
   "metadata": {},
   "outputs": [],
   "source": [
    "dropped.groupby(db_values).apply(lambda x: x[\"Temp_Vital\"].std())"
   ]
  },
  {
   "cell_type": "code",
   "execution_count": null,
   "id": "22a14afb-1f66-4d75-9148-1936f59b1c6f",
   "metadata": {},
   "outputs": [],
   "source": [
    "#help(UMAP)"
   ]
  },
  {
   "cell_type": "code",
   "execution_count": null,
   "id": "bb77bfb5-5b3c-45eb-8bfc-200cfd000b26",
   "metadata": {},
   "outputs": [],
   "source": [
    "#umap.plot.points(umapper, theme=\"fire\", values=df_red[\"Pupille re_Vital\"])"
   ]
  },
  {
   "cell_type": "code",
   "execution_count": null,
   "id": "03efba52-7c43-4554-833a-f08dc066aaab",
   "metadata": {},
   "outputs": [],
   "source": [
    "umap.plot.points(umapper, theme=\"fire\", values=df_red[\"Phosphat_Labor\"])"
   ]
  },
  {
   "cell_type": "code",
   "execution_count": null,
   "id": "9ec84a0e-7894-430e-a7fb-a0db45b29386",
   "metadata": {},
   "outputs": [],
   "source": [
    "# yeo all\n",
    "umap.plot.points(umapper, theme=\"fire\", labels=db_values)"
   ]
  },
  {
   "cell_type": "code",
   "execution_count": null,
   "id": "72b43694-4c29-4c30-af55-8c41823592aa",
   "metadata": {},
   "outputs": [],
   "source": [
    "umap.plot.points(umapper, theme=\"fire\", labels=db_values)"
   ]
  },
  {
   "cell_type": "code",
   "execution_count": null,
   "id": "5ff11b3a-626e-44fe-b952-86eff7138e0a",
   "metadata": {},
   "outputs": [],
   "source": [
    "# yeo all\n",
    "umap.plot.points(umapper, theme=\"fire\", labels=db_values)"
   ]
  },
  {
   "cell_type": "code",
   "execution_count": null,
   "id": "67037bf5-94e2-4ad3-abcd-49451ad9772d",
   "metadata": {},
   "outputs": [],
   "source": [
    "# all\n",
    "umap.plot.points(umapper, theme=\"fire\", labels=db_values)"
   ]
  },
  {
   "cell_type": "code",
   "execution_count": null,
   "id": "b290316f-571f-4691-8501-9ce391281918",
   "metadata": {},
   "outputs": [],
   "source": [
    "# all yeo\n",
    "umap.plot.points(umapper, theme=\"fire\", labels=db_values)"
   ]
  },
  {
   "cell_type": "code",
   "execution_count": null,
   "id": "2301fd2c-b402-4bc4-b913-8e1f155ba688",
   "metadata": {},
   "outputs": [],
   "source": []
  },
  {
   "cell_type": "code",
   "execution_count": null,
   "id": "7f028ac0-e5e0-4377-bfb2-1cef2f7577d5",
   "metadata": {},
   "outputs": [],
   "source": []
  },
  {
   "cell_type": "code",
   "execution_count": null,
   "id": "d3da3077-2c97-4134-9a45-bd82a226d0c2",
   "metadata": {},
   "outputs": [],
   "source": [
    "# only static\n",
    "umap.plot.points(umapper, theme=\"fire\", labels=db_values)"
   ]
  },
  {
   "cell_type": "code",
   "execution_count": null,
   "id": "fc7df012-3cf9-4e36-aa84-dadea29987b1",
   "metadata": {},
   "outputs": [],
   "source": [
    "# only vital\n",
    "umap.plot.points(umapper, theme=\"fire\", labels=db_values)"
   ]
  },
  {
   "cell_type": "code",
   "execution_count": null,
   "id": "4c8331b4-d980-4651-928b-a81d6eba5fed",
   "metadata": {},
   "outputs": [],
   "source": [
    "# no med + no diag\n",
    "umap.plot.points(umapper, theme=\"fire\", labels=db_values)"
   ]
  },
  {
   "cell_type": "code",
   "execution_count": null,
   "id": "8230e262-0020-461d-a931-02816726e127",
   "metadata": {},
   "outputs": [],
   "source": [
    "# no med\n",
    "umap.plot.points(umapper, theme=\"fire\", labels=db_values)"
   ]
  },
  {
   "cell_type": "code",
   "execution_count": null,
   "id": "de8904c5-56ad-4f95-a77b-4ea19abd85d6",
   "metadata": {},
   "outputs": [],
   "source": [
    "umap.plot.points(umapper, theme=\"fire\", labels=db_values)"
   ]
  },
  {
   "cell_type": "code",
   "execution_count": null,
   "id": "5cbba894-fb96-4a60-8c41-e57c601f9e3a",
   "metadata": {},
   "outputs": [],
   "source": []
  },
  {
   "cell_type": "code",
   "execution_count": null,
   "id": "5e5d3a9c-85cb-46bd-9b20-de0c29066c74",
   "metadata": {},
   "outputs": [],
   "source": []
  },
  {
   "cell_type": "code",
   "execution_count": null,
   "id": "b818d79c-98b5-4f83-8d95-504ffe362cf7",
   "metadata": {},
   "outputs": [],
   "source": [
    "list(transformed_df.columns).index(\"Na_BGA\")"
   ]
  },
  {
   "cell_type": "code",
   "execution_count": null,
   "id": "c127f7aa-582b-40f8-8d39-ec9337e68d0f",
   "metadata": {},
   "outputs": [],
   "source": [
    "p = transformed_df.loc[:, mask].hist(figsize=(13, 13), bins=100)"
   ]
  },
  {
   "cell_type": "code",
   "execution_count": null,
   "id": "07d43b3a-0e11-437f-9c7d-29575676eda0",
   "metadata": {},
   "outputs": [],
   "source": [
    "# find stds of 0\n",
    "transformed_df.loc[:, transformed_df.std() == 0]"
   ]
  },
  {
   "cell_type": "code",
   "execution_count": null,
   "id": "7d414724-dcb2-4aeb-ab30-b4812598110f",
   "metadata": {},
   "outputs": [],
   "source": [
    "transformed_df[\"sO2_BGA\"].describe()"
   ]
  },
  {
   "cell_type": "code",
   "execution_count": null,
   "id": "b005af29-b411-4ebb-9185-48afdd00aad7",
   "metadata": {},
   "outputs": [],
   "source": []
  },
  {
   "cell_type": "code",
   "execution_count": null,
   "id": "2846b786-6e18-45ad-b21e-5121ccb6b2d1",
   "metadata": {},
   "outputs": [],
   "source": [
    "np.quantile(transformed_df[\"sO2_BGA\"].dropna(), 0.9999)"
   ]
  },
  {
   "cell_type": "code",
   "execution_count": null,
   "id": "a5f76a68-9428-4192-8157-7c87e1c93f7c",
   "metadata": {},
   "outputs": [],
   "source": [
    "np.quantile(df_large[\"sO2_BGA\"].dropna(), 0.99)"
   ]
  },
  {
   "cell_type": "code",
   "execution_count": null,
   "id": "1a96f0aa-701e-45aa-a058-d0eb2a00c874",
   "metadata": {},
   "outputs": [],
   "source": [
    "df_large[\"sO2_BGA\"].describe()"
   ]
  },
  {
   "cell_type": "code",
   "execution_count": null,
   "id": "3931be10-fc7d-4868-a20c-81b5b663e5e6",
   "metadata": {},
   "outputs": [],
   "source": [
    "transformed_df.max()[transformed_df.max() > 5]"
   ]
  },
  {
   "cell_type": "code",
   "execution_count": null,
   "id": "0516ef16-78d4-495d-8d17-ce9430c32562",
   "metadata": {},
   "outputs": [],
   "source": [
    "transformed_df.loc[:, mask]"
   ]
  },
  {
   "cell_type": "code",
   "execution_count": null,
   "id": "2ea9de4a-b4b4-48ef-b25e-4d6b8048d514",
   "metadata": {},
   "outputs": [],
   "source": [
    "transformed_df[\"Na_BGA\"].hist(bins=100)\n",
    "transformed_df[\"Na_BGA\"].describe()"
   ]
  },
  {
   "cell_type": "code",
   "execution_count": null,
   "id": "c7613d42-fcb7-4b5d-a02c-23091a9d8e8c",
   "metadata": {},
   "outputs": [],
   "source": [
    "p = transformed_df.hist(bins=100, figsize=(15, 15))\n",
    "plt.tight_layout()"
   ]
  },
  {
   "cell_type": "code",
   "execution_count": null,
   "id": "6c3eb13a-8ea9-404c-93e9-d5f6a1a9c2ad",
   "metadata": {},
   "outputs": [],
   "source": []
  },
  {
   "cell_type": "code",
   "execution_count": null,
   "id": "1faa4675-e9a1-40c8-b802-ced3797c2380",
   "metadata": {},
   "outputs": [],
   "source": [
    "(~df_large[\"ICP_Vital\"].isna()).sum()"
   ]
  },
  {
   "cell_type": "code",
   "execution_count": null,
   "id": "8765c6c0-0531-4ac2-bfe9-89c0d43e66a1",
   "metadata": {},
   "outputs": [],
   "source": [
    "(~df_large[\"ICP_Vital\"].isna()).sum()"
   ]
  },
  {
   "cell_type": "code",
   "execution_count": null,
   "id": "8be7564c-4a2f-46f0-a152-eec961397cf8",
   "metadata": {},
   "outputs": [],
   "source": [
    "len(df_large)"
   ]
  },
  {
   "cell_type": "code",
   "execution_count": null,
   "id": "866f1392-7445-4688-b8c5-58c10316a565",
   "metadata": {},
   "outputs": [],
   "source": [
    "(~df_large[df_large[\"DB_MIMIC\"] == 1][\"ICP_Vital\"].isna()).sum()"
   ]
  },
  {
   "cell_type": "code",
   "execution_count": null,
   "id": "ef042c97-7762-4678-a216-51b460fdb218",
   "metadata": {},
   "outputs": [],
   "source": [
    "len(df_large[df_large[\"DB_MIMIC\"] == 1][\"ICP_Vital\"])"
   ]
  },
  {
   "cell_type": "code",
   "execution_count": null,
   "id": "a99caa34-7f5d-4ccb-94b8-aaf1451626b8",
   "metadata": {},
   "outputs": [],
   "source": [
    "# 5 min: 3093093 ICP_Vital non_nans. 154014 in MIMIC\n",
    "# len total: xxx. MIMIC: 2118712"
   ]
  },
  {
   "cell_type": "code",
   "execution_count": null,
   "id": "bcf7bcf7-9924-43d4-9ba6-fcc36f9ba3d9",
   "metadata": {},
   "outputs": [],
   "source": [
    "# 60 min: 585353 ICP VItal non_nans in total. 128303 in MIMIC\n",
    "# total steps: 735951. MIMIC: 177102"
   ]
  },
  {
   "cell_type": "code",
   "execution_count": null,
   "id": "66087bee-c7f5-4e93-9999-73a86270d3c8",
   "metadata": {},
   "outputs": [],
   "source": [
    "test_df[\"Diagnose_Tumor\"].isna().mean()"
   ]
  },
  {
   "cell_type": "code",
   "execution_count": null,
   "id": "0515139c-6a2d-4da5-a131-b650d71a739a",
   "metadata": {},
   "outputs": [],
   "source": [
    "test_df[\"Alter\"].isna().mean()"
   ]
  },
  {
   "cell_type": "code",
   "execution_count": null,
   "id": "f8c08787-1737-4245-9e6a-48246776f666",
   "metadata": {},
   "outputs": [],
   "source": [
    "test_df = pd.read_csv(\"data/df_final_5.csv\")"
   ]
  },
  {
   "cell_type": "code",
   "execution_count": null,
   "id": "9213b91e-0763-4201-bb17-33954cbaff1b",
   "metadata": {},
   "outputs": [],
   "source": [
    "len(test_df[test_df[\"DB_MIMIC\"] == 1][\"ICP_Vital\"])"
   ]
  },
  {
   "cell_type": "code",
   "execution_count": null,
   "id": "39a0d936-c1e7-4314-9e09-d0cec306e6b1",
   "metadata": {},
   "outputs": [],
   "source": [
    "(~test_df[test_df[\"DB_MIMIC\"] == 1][\"ICP_Vital\"].isna()).sum()"
   ]
  },
  {
   "cell_type": "code",
   "execution_count": null,
   "id": "1be47f08-ca9c-46e7-b84c-1556a686b41f",
   "metadata": {},
   "outputs": [],
   "source": []
  },
  {
   "cell_type": "code",
   "execution_count": null,
   "id": "9295ca79-763a-4465-9e17-9c32b42dd15d",
   "metadata": {},
   "outputs": [],
   "source": [
    "(~df_large[df_large[\"DB_MIMIC\"] == 1][\"ICP_Vital\"].isna()).sum()"
   ]
  },
  {
   "cell_type": "code",
   "execution_count": null,
   "id": "a7d67285-8341-46f9-9fac-220f447562fa",
   "metadata": {},
   "outputs": [],
   "source": [
    "df_large[df_large[\"DB_MIMIC\"] == 1][\"ICP_Vital\"].hist(bins=100)"
   ]
  },
  {
   "cell_type": "code",
   "execution_count": null,
   "id": "4a5493a2-b132-4590-9a68-a3530950fecd",
   "metadata": {},
   "outputs": [],
   "source": [
    "pat_ids = []\n",
    "for db in df_long[\"DB\"].unique():\n",
    "    subset = df_long[df_long[\"DB\"] == db]\n",
    "    ids = subset[\"Pat_ID\"].unique()\n",
    "    pat_ids.append(ids)"
   ]
  },
  {
   "cell_type": "code",
   "execution_count": null,
   "id": "bb4111b9-43bd-4ec8-92ba-eb7363fb6c79",
   "metadata": {},
   "outputs": [],
   "source": [
    "id_dict = {}\n",
    "for id_ in pat_ids[0]:\n",
    "    id_dict[id_] = 1\n",
    "    "
   ]
  },
  {
   "cell_type": "code",
   "execution_count": null,
   "id": "cb37dec2-74be-426f-bd11-99f66d6ec799",
   "metadata": {},
   "outputs": [],
   "source": [
    "for id_ in pat_ids[1]:\n",
    "    if id_ in id_dict:\n",
    "        print(id_, \"is duplicate!\")\n",
    "        id_dict[id_] = 1"
   ]
  },
  {
   "cell_type": "code",
   "execution_count": null,
   "id": "3980dcb9-a7cd-4c36-83b8-0b3d144501f0",
   "metadata": {},
   "outputs": [],
   "source": [
    "for id_ in pat_ids[2]:\n",
    "    if id_ in id_dict:\n",
    "        print(id_, \"is duplicate!\")\n",
    "        id_dict[id_] = 1"
   ]
  },
  {
   "cell_type": "code",
   "execution_count": null,
   "id": "96f8522d-e8ae-4f6e-9b5e-64577de40940",
   "metadata": {},
   "outputs": [],
   "source": [
    "np.isinf(df_large.to_numpy()).sum()"
   ]
  },
  {
   "cell_type": "code",
   "execution_count": null,
   "id": "140b3f0c-85fd-4d0b-9774-06845712a7aa",
   "metadata": {},
   "outputs": [],
   "source": [
    "# check specific data\n",
    "clinic = df_large[df_large[\"DB_UKE\"] == 1]\n",
    "pat_ids = clinic[\"Pat_ID\"].unique()"
   ]
  },
  {
   "cell_type": "code",
   "execution_count": null,
   "id": "ce696bfe-cfab-42eb-953a-f66d7dbfe0ad",
   "metadata": {},
   "outputs": [],
   "source": [
    "len(pat_ids)"
   ]
  },
  {
   "cell_type": "code",
   "execution_count": null,
   "id": "7dd17aa5-5f9e-4a13-8d46-1f256fa49f5c",
   "metadata": {},
   "outputs": [],
   "source": [
    "clinic[\"ICP_Vital\"].isna().mean()"
   ]
  },
  {
   "cell_type": "code",
   "execution_count": null,
   "id": "22c85941-acaf-4071-97ac-352d7dc6cc29",
   "metadata": {},
   "outputs": [],
   "source": [
    "pat_idx = -500\n",
    "\n",
    "pat_id = pat_ids[pat_idx]\n",
    "pat = clinic[clinic[\"Pat_ID\"] == pat_id]"
   ]
  },
  {
   "cell_type": "code",
   "execution_count": null,
   "id": "e2355077-e228-4359-8447-4b40cbc2e16f",
   "metadata": {},
   "outputs": [],
   "source": [
    "pat.plot.scatter(x=\"rel_time\", y=\"ICP_Vital\")\n",
    "pat.plot(x=\"rel_time\", y=\"ICP_Vital\")"
   ]
  },
  {
   "cell_type": "code",
   "execution_count": null,
   "id": "3c7e2ffe-8f36-4848-af58-d42392186b10",
   "metadata": {},
   "outputs": [],
   "source": [
    "#pat[\"HF_Vital\"].plot()"
   ]
  },
  {
   "cell_type": "code",
   "execution_count": null,
   "id": "42f335fe-d686-45dd-bb8c-43d4d51bd257",
   "metadata": {},
   "outputs": [],
   "source": [
    "uke = df_long[df_long[\"DB\"] == \"UKE\"]"
   ]
  },
  {
   "cell_type": "code",
   "execution_count": null,
   "id": "798a036c-2019-4f8f-98b9-2f789451dd5f",
   "metadata": {},
   "outputs": [],
   "source": [
    "uke[uke[\"Maßnahme_norm\"] == \"FiO2\"]"
   ]
  },
  {
   "cell_type": "code",
   "execution_count": null,
   "id": "073ec849-64fc-4338-8c70-7adcdb1ee3d9",
   "metadata": {},
   "outputs": [],
   "source": [
    "nan_frac_per_db = df_filled.groupby(\"DB\").apply(lambda: db.isna().mean())"
   ]
  },
  {
   "cell_type": "code",
   "execution_count": null,
   "id": "66413853-1f03-428c-8ca9-a7483a0c3712",
   "metadata": {},
   "outputs": [],
   "source": [
    "nan_frac_per_db"
   ]
  },
  {
   "cell_type": "code",
   "execution_count": null,
   "id": "02de2a20-46b9-41f9-b7e7-20090b71cc8b",
   "metadata": {},
   "outputs": [],
   "source": [
    "for col in df_filled.columns:\n",
    "    nan_means = df_filled.groupby(\"DB\").apply(lambda db: db[col].isna().mean())\n",
    "    print(col)\n",
    "    print(nan_means)\n",
    "    print()\n",
    "    if max(nan_means) > 0.99:\n",
    "        print(\"Drop: \", col)"
   ]
  },
  {
   "cell_type": "code",
   "execution_count": null,
   "id": "c6d61a38-e94b-4c82-b38d-f8f0c8858f02",
   "metadata": {},
   "outputs": [],
   "source": [
    "df_filled.groupby(\"DB\").apply(lambda db: db[\"FiO2_BGA\"].mean())"
   ]
  },
  {
   "cell_type": "code",
   "execution_count": null,
   "id": "37a26ccd-0ffe-42c7-aec7-de6a56dc9f0b",
   "metadata": {},
   "outputs": [],
   "source": [
    "df_filled.groupby(\"DB\").apply(lambda db: db[\"FiO2_Vital\"].mean())"
   ]
  },
  {
   "cell_type": "code",
   "execution_count": null,
   "id": "78ff3dad-69de-45df-95c5-437243e28013",
   "metadata": {},
   "outputs": [],
   "source": [
    "df_filled.groupby(\"DB\").apply(lambda db: db[\"FiO2_Vital\"].std())"
   ]
  },
  {
   "cell_type": "code",
   "execution_count": null,
   "id": "aee739b8-ab6d-4f68-bb4c-20e38cd0e244",
   "metadata": {},
   "outputs": [],
   "source": [
    "df_large[\"FiO2_BGA\"]"
   ]
  },
  {
   "cell_type": "code",
   "execution_count": null,
   "id": "37c6ef8a-45fd-4de3-9e8e-adfa20db2e03",
   "metadata": {},
   "outputs": [],
   "source": [
    "# FiO2 does not exist in UKE"
   ]
  }
 ],
 "metadata": {
  "kernelspec": {
   "display_name": "raw",
   "language": "python",
   "name": "raw"
  },
  "language_info": {
   "codemirror_mode": {
    "name": "ipython",
    "version": 3
   },
   "file_extension": ".py",
   "mimetype": "text/x-python",
   "name": "python",
   "nbconvert_exporter": "python",
   "pygments_lexer": "ipython3",
   "version": "3.8.11"
  }
 },
 "nbformat": 4,
 "nbformat_minor": 5
}
