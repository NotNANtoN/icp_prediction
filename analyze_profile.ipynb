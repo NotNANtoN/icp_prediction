{
 "cells": [
  {
   "cell_type": "code",
   "execution_count": 24,
   "id": "0ea55edf-b30b-4b62-b598-c804d0370214",
   "metadata": {},
   "outputs": [],
   "source": [
    "import pstats"
   ]
  },
  {
   "cell_type": "code",
   "execution_count": 25,
   "id": "2914b1c0-bb36-493f-849d-da86623455a5",
   "metadata": {},
   "outputs": [],
   "source": [
    "stats = pstats.Stats(\"profiling.txt\")"
   ]
  },
  {
   "cell_type": "code",
   "execution_count": null,
   "id": "23f629c3-8fc0-4640-a883-05a600f6e4a5",
   "metadata": {},
   "outputs": [],
   "source": []
  },
  {
   "cell_type": "code",
   "execution_count": 26,
   "id": "dfd6847a-33e7-4d77-9b30-3a6c58922fad",
   "metadata": {},
   "outputs": [
    {
     "name": "stdout",
     "output_type": "stream",
     "text": [
      "Fri Dec 16 16:39:47 2022    profiling.txt\n",
      "\n",
      "         559367710 function calls (546424106 primitive calls) in 668.407 seconds\n",
      "\n",
      "   Ordered by: cumulative time\n",
      "   List reduced from 28161 to 108 due to restriction <'home/anton/icp_prediction'>\n",
      "   List reduced from 108 to 20 due to restriction <20>\n",
      "\n",
      "   ncalls  tottime  percall  cumtime  percall filename:lineno(function)\n",
      "        8    0.001    0.000  331.851   41.481 /home/anton/icp_prediction/icp_pred/train_utils.py:395(train_model)\n",
      "       53    0.001    0.000  331.849    6.261 /home/anton/icp_prediction/icp_pred/train_utils.py:256(train_nn)\n",
      "        5    0.000    0.000  270.687   54.137 /home/anton/icp_prediction/icp_pred/tune_utils.py:281(objective_optuna)\n",
      "        5    0.000    0.000  270.682   54.136 /home/anton/icp_prediction/icp_pred/tune_utils.py:17(obj)\n",
      "        5    0.000    0.000  270.680   54.136 /home/anton/icp_prediction/icp_pred/tune_utils.py:59(train_and_eval_model)\n",
      "        1    0.000    0.000  264.342  264.342 /home/anton/icp_prediction/icp_pred/tune_utils.py:157(train_and_test)\n",
      "        3    0.000    0.000  263.970   87.990 /home/anton/icp_prediction/icp_pred/tune_utils.py:94(setup_dm_and_train)\n",
      "    30910    0.200    0.000  208.265    0.007 /home/anton/icp_prediction/icp_pred/model.py:216(optimizer_step)\n",
      "        3    0.003    0.001  200.084   66.695 /home/anton/icp_prediction/icp_pred/train_utils.py:48(create_dm)\n",
      "       56    0.001    0.000  192.258    3.433 /home/anton/icp_prediction/icp_pred/data_utils.py:501(setup)\n",
      "        6    0.016    0.003  188.764   31.461 /home/anton/icp_prediction/icp_pred/data_utils.py:509(<listcomp>)\n",
      "     3015    0.201    0.000  188.748    0.063 /home/anton/icp_prediction/icp_pred/data_utils.py:256(transform)\n",
      "   214660    0.341    0.000  117.515    0.001 /home/anton/icp_prediction/icp_pred/model.py:86(forward)\n",
      "   214660    2.144    0.000  117.174    0.001 /home/anton/icp_prediction/icp_pred/model.py:554(make_preds)\n",
      "     3018    0.215    0.000   76.019    0.025 /home/anton/icp_prediction/icp_pred/data_utils.py:302(apply_quants)\n",
      "     3015    0.079    0.000   74.264    0.025 /home/anton/icp_prediction/icp_pred/data_utils.py:314(fill_pat)\n",
      "    38776    0.224    0.000   71.150    0.002 /home/anton/icp_prediction/icp_pred/model.py:203(calc_loss)\n",
      "        6    1.178    0.196   57.464    9.577 /home/anton/icp_prediction/icp_pred/eval_utils.py:181(make_eval_preds)\n",
      "    30910    0.319    0.000   55.284    0.002 /home/anton/icp_prediction/icp_pred/model.py:103(training_step)\n",
      "     7866    0.102    0.000   35.290    0.004 /home/anton/icp_prediction/icp_pred/model.py:113(validation_step)\n",
      "\n",
      "\n"
     ]
    },
    {
     "data": {
      "text/plain": [
       "<pstats.Stats at 0x7f6e1c18bfd0>"
      ]
     },
     "execution_count": 26,
     "metadata": {},
     "output_type": "execute_result"
    }
   ],
   "source": [
    "stats.sort_stats(\"cumtime\").print_stats('home/anton/icp_prediction', 20)"
   ]
  },
  {
   "cell_type": "code",
   "execution_count": 27,
   "id": "b4a5e184-eb37-49ad-a581-10f14cf4ad69",
   "metadata": {},
   "outputs": [
    {
     "name": "stdout",
     "output_type": "stream",
     "text": [
      "   Ordered by: cumulative time\n",
      "   List reduced from 28161 to 1 due to restriction <'/home/anton/icp_prediction/icp_pred/tune_utils.py:59'>\n",
      "\n",
      "Function                                                                    was called by...\n",
      "                                                                                ncalls  tottime  cumtime\n",
      "/home/anton/icp_prediction/icp_pred/tune_utils.py:59(train_and_eval_model)  <-       5    0.000  270.680  /home/anton/icp_prediction/icp_pred/tune_utils.py:17(obj)\n",
      "\n",
      "\n"
     ]
    },
    {
     "data": {
      "text/plain": [
       "<pstats.Stats at 0x7f6e1c18bfd0>"
      ]
     },
     "execution_count": 27,
     "metadata": {},
     "output_type": "execute_result"
    }
   ],
   "source": [
    "stats.print_callers(\"/home/anton/icp_prediction/icp_pred/tune_utils.py:59\") "
   ]
  },
  {
   "cell_type": "code",
   "execution_count": 28,
   "id": "35ef9d10-d35d-4fc9-b5db-56e6a0bddd0d",
   "metadata": {},
   "outputs": [
    {
     "name": "stdout",
     "output_type": "stream",
     "text": [
      "   Ordered by: cumulative time\n",
      "   List reduced from 28161 to 1 due to restriction <'/home/anton/icp_prediction/icp_pred/tune_utils.py:59'>\n",
      "\n",
      "Function                                                                    called...\n",
      "                                                                                ncalls  tottime  cumtime\n",
      "/home/anton/icp_prediction/icp_pred/tune_utils.py:59(train_and_eval_model)  ->       5    0.001  267.965  /home/anton/icp_prediction/icp_pred/train_utils.py:395(train_model)\n",
      "                                                                                     5    0.001    2.715  /home/anton/icp_prediction/icp_pred/tune_utils.py:123(eval_model)\n",
      "\n",
      "\n"
     ]
    },
    {
     "data": {
      "text/plain": [
       "<pstats.Stats at 0x7f6e1c18bfd0>"
      ]
     },
     "execution_count": 28,
     "metadata": {},
     "output_type": "execute_result"
    }
   ],
   "source": [
    "stats.print_callees(\"/home/anton/icp_prediction/icp_pred/tune_utils.py:59\") "
   ]
  },
  {
   "cell_type": "code",
   "execution_count": null,
   "id": "30bfd1c1-2205-4ee8-a178-8d5bd4229a64",
   "metadata": {},
   "outputs": [],
   "source": []
  },
  {
   "cell_type": "code",
   "execution_count": null,
   "id": "470b10c2-5b9c-431d-b791-803394002e2a",
   "metadata": {},
   "outputs": [],
   "source": []
  }
 ],
 "metadata": {
  "kernelspec": {
   "display_name": "Python 3 (ipykernel)",
   "language": "python",
   "name": "python3"
  },
  "language_info": {
   "codemirror_mode": {
    "name": "ipython",
    "version": 3
   },
   "file_extension": ".py",
   "mimetype": "text/x-python",
   "name": "python",
   "nbconvert_exporter": "python",
   "pygments_lexer": "ipython3",
   "version": "3.8.10"
  }
 },
 "nbformat": 4,
 "nbformat_minor": 5
}
