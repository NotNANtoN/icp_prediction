{
 "cells": [
  {
   "cell_type": "code",
   "execution_count": 1,
   "id": "169c4255-7bc4-4ff2-b2fd-0587eabe2b86",
   "metadata": {},
   "outputs": [
    {
     "name": "stderr",
     "output_type": "stream",
     "text": [
      "/home/anton/.local/lib/python3.8/site-packages/scipy/__init__.py:138: UserWarning: A NumPy version >=1.16.5 and <1.23.0 is required for this version of SciPy (detected version 1.23.5)\n",
      "  warnings.warn(f\"A NumPy version >={np_minversion} and <{np_maxversion} is required for this version of \"\n",
      "/home/anton/.local/lib/python3.8/site-packages/pkg_resources/__init__.py:116: PkgResourcesDeprecationWarning: 0.23ubuntu1 is an invalid version and will not be supported in a future release\n",
      "  warnings.warn(\n",
      "/home/anton/.local/lib/python3.8/site-packages/pkg_resources/__init__.py:116: PkgResourcesDeprecationWarning: 0.1.36ubuntu1 is an invalid version and will not be supported in a future release\n",
      "  warnings.warn(\n",
      "/home/anton/.local/lib/python3.8/site-packages/pkg_resources/__init__.py:116: PkgResourcesDeprecationWarning: 0.23ubuntu1 is an invalid version and will not be supported in a future release\n",
      "  warnings.warn(\n",
      "/home/anton/.local/lib/python3.8/site-packages/pkg_resources/__init__.py:116: PkgResourcesDeprecationWarning: 0.1.36ubuntu1 is an invalid version and will not be supported in a future release\n",
      "  warnings.warn(\n",
      "/home/anton/.local/lib/python3.8/site-packages/pytorch_lightning/utilities/seed.py:48: LightningDeprecationWarning: `pytorch_lightning.utilities.seed.seed_everything` has been deprecated in v1.8.0 and will be removed in v1.10.0. Please use `lightning_lite.utilities.seed.seed_everything` instead.\n",
      "  rank_zero_deprecation(\n",
      "Global seed set to 0\n"
     ]
    }
   ],
   "source": [
    "%load_ext autoreload\n",
    "%autoreload 2\n",
    "\n",
    "from icp_pred.arg_utils import is_notebook, get_cfg\n",
    "cfg = get_cfg()\n",
    "# choices\n",
    "classical_models = [\"linear\", \"xgb\", \"rf\"]\n",
    "nn_models = [\"mlp\", \"rnn\", \"clip\", \"gpt\"]\n",
    "# override variables to experiment in notebook\n",
    "if is_notebook():    \n",
    "    cfg[\"auto_lr_find\"] = False\n",
    "    cfg[\"inner_folds\"] = 0\n",
    "    cfg[\"target_name\"] = \"ICP_Vital\"   # ICP_Vital\" , long_icp_hypertension_2\n",
    "    cfg[\"db_name\"] = \"UKE\"  # \"UKE\", \"MIMIC\", \"eICU\"\n",
    "    cfg[\"minutes\"] = 60\n",
    "    \n",
    "    cfg[\"model_type\"] = \"xgb\"\n",
    "    #cfg[\"gpt_name\"] = \"distilgpt2\"  # distilgpt2, gpt2, gpt2-medium, gpt2-large(too large)\n",
    "    #cfg[\"reduction_factor\"] = 16\n",
    "    \n",
    "    cfg[\"use_lens\"] = True\n",
    "    \n",
    "    cfg[\"randomly_mask_aug\"] = 0.0\n",
    "    cfg[\"target_nan_quantile\"] = 0.9999\n",
    "    cfg[\"target_clip_quantile\"] = 0.999\n",
    "\n",
    "    # do experiments on:  fill_type, target_nan_quantile, train_noise_std, \n",
    "    #  min_len(increase from 20 to higher), grad_clip_val (at 1 so far), weight_decay (at 0.2 so far)\n",
    "    \n",
    "    #cfg[\"norm_method\"] = None # z, or none\n",
    "    \n",
    "    cfg[\"bs\"] = 32 # 8 best for rnn, 32 for GPT\n",
    "    \n",
    "    cfg[\"use_in_mapping\"] =  False\n",
    "    cfg[\"use_out_mapping\"] =  False\n",
    "\n",
    "    # classical model args\n",
    "    cfg[\"flat_block_size\"] = 0\n",
    "    # general args\n",
    "    cfg[\"max_epochs\"] = 10\n",
    "    cfg[\"block_size\"] = 28\n",
    "    \n",
    "    \n",
    "    cfg[\"fill_type\"] = \"ffill\" # \"none\", \"pat_mean\", \"median\", \"pat_ema\" \"pat_ema_mask\"\n",
    "    cfg[\"use_nan_embed\"] = False\n",
    "    cfg[\"norm_nan_embed\"] = True\n",
    "    cfg[\"nan_embed_size\"] =  128\n",
    "    cfg[\"use_nan_embed_transformer\"] = 0\n",
    "    cfg[\"nan_embed_transformer_n_layers\"] = 3\n",
    "    cfg[\"nan_embed_transformer_n_heads\"] = 8\n",
    "    \n",
    "    cfg[\"weight_decay\"] = 0.02\n",
    "    cfg[\"grad_clip_val\"] = 1.0\n",
    "    cfg[\"use_huber\"] = 0\n",
    "    \n",
    "    cfg[\"lr\"] = 3e-4\n",
    "    cfg[\"agg_meds\"] = True\n",
    "    \n",
    "    # rnn params\n",
    "    cfg[\"rnn_type\"] = \"gru\"\n",
    "    cfg[\"rnn_layers\"] = 1\n",
    "    \n",
    "    \n",
    "    # transformer stats for gpt2\n",
    "    # 4.338-4.8GB with adapters and batch size 16 and 117 secs\n",
    "    # 6.620GB with adapters and batch size 32 and only 100 secs\n",
    "    # 11.074 GB with adapters and batch size 64 and 92 secs\n",
    "    # also 4.864GB with train_mlp_norm and 127 secss\n",
    "    # all get to r2 of around 0.48\n",
    "\n",
    "    # transformer stats for gptneo1.3\n",
    "    # bs8 2.1GB, \n",
    "\n",
    "    # rnn stats for hidden layers size 2048\n",
    "    # bs 64, 5084MB, 40 secs.\n",
    "    # bs 128, 8632MB, 38 secs.\n",
    "\n",
    "    # transformer params\n",
    "    cfg[\"mode\"] = \"adapters\"  # \"adapters\", \"train_mlp_norm\",  \"train_norm\", \"freeze\" (does not train)\n",
    "    cfg[\"gpu\"] = 1\n",
    "    \n",
    "    cfg[\"num_transformer_blocks\"] = 3\n",
    "    cfg[\"hidden_size\"] = 256\n",
    "    cfg[\"n_heads\"] = 8\n",
    "    cfg[\"dropout\"] = 0.2\n",
    "    \n",
    "    cfg[\"seed\"] = 0\n",
    "    cfg[\"subsample\"] = 0.9\n",
    "    cfg[\"colsample_bytree\"] = 0.9\n",
    "    \n",
    "#best_params = {'lr': 0.00023369063418158352, 'weight_decay': 0.18, 'grad_clip_val': 0.1, 'reduction_factor': 4.0, 'randomly_mask_aug': 0.12}\n",
    "#for k,v in best_params.items():\n",
    "#    cfg[k] = v\n",
    "    \n",
    "    \n",
    "# overrides and calculated default vals\n",
    "if cfg[\"lr\"] is None:\n",
    "    model_type = cfg[\"model_type\"]\n",
    "    if model_type == \"clip\":\n",
    "        cfg[\"lr\"] = 0.001\n",
    "    elif model_type == \"gpt\":\n",
    "        # bs 8 and gpt2 take 9.8GB with max seq len of 512\n",
    "        # bs 16 with max seq len of 256\n",
    "        # bs 32 with max seq len 128 only 7.4GB, good performance and fast - 6.9 if mlp_norm\n",
    "        # bs 64 with len 128 and mlp_norm = 10.9GB. 9.4GB for freeze\n",
    "        cfg[\"lr\"] = 0.00005\n",
    "    else:\n",
    "        cfg[\"lr\"] = 0.0001  # 0.01 works kind of for nan_embed\n",
    "\n",
    "if cfg[\"fill_type\"] == \"none\":\n",
    "    cfg[\"use_nan_embed\"] = 1\n",
    "        \n",
    "#cfg[\"val_check_interval\"] = int(cfg[\"val_check_interval\"] * (32 / cfg[\"batch_size\"]))\n",
    "    \n",
    "import pytorch_lightning as pl\n",
    "pl.utilities.seed.seed_everything(seed=cfg[\"seed\"], workers=False)\n",
    "locals().update(cfg)"
   ]
  },
  {
   "cell_type": "code",
   "execution_count": 2,
   "id": "22d29b15-159f-44e6-b07b-63a379ee5142",
   "metadata": {},
   "outputs": [],
   "source": [
    "cfg[\"model_type\"] = \"rnn\"\n",
    "cfg[\"max_epochs\"] = 5\n",
    "cfg[\"agg_meds\"] = 1\n",
    "cfg[\"block_size\"] = 128\n",
    "\n",
    "best = {'model_type': 'rnn',\n",
    " 'db_name': 'UKE',\n",
    " 'inner_folds': 4,\n",
    " 'agg_meds': 1,\n",
    " 'norm_targets': 1,\n",
    " 'fill_type': 'ffill',\n",
    " 'bs': 8, #2,\n",
    " 'max_epochs': 20,#10,\n",
    " 'lr': 0.0034775665304268,\n",
    " 'weight_decay': 0.26,\n",
    " 'grad_clip_val': 0.5,\n",
    " 'dropout': 0.1,\n",
    " 'hidden_size': 512,\n",
    " 'rnn_layers': 1,\n",
    " 'rnn_type': 'gru',\n",
    "\n",
    " 'gpt_name': 'gpt2',\n",
    " 'n_estimators': 50.0,\n",
    " 'max_depth': 6,\n",
    " 'gamma': 0.0,\n",
    " 'subsample': 1.0,\n",
    " 'colsample_bytree': 1.0,\n",
    " 'gpu': 1,\n",
    " 'opt_steps': 100,\n",
    " 'flat_block_size_range': 0}\n",
    "\n",
    "#for key in best:\n",
    "#    cfg[key] = best[key]"
   ]
  },
  {
   "cell_type": "code",
   "execution_count": 3,
   "id": "f7f4c780-09b5-4421-a595-a1e1d47cb861",
   "metadata": {},
   "outputs": [],
   "source": [
    "import os\n",
    "os.environ[\"CUDA_VISIBLE_DEVICES\"] = str(cfg[\"gpu\"])\n",
    "\n",
    "import torch\n",
    "import pytorch_lightning as pl\n",
    "import pandas as pd\n",
    "import numpy as np\n",
    "from tqdm import tqdm\n",
    "import seaborn as sns\n",
    "import sklearn\n",
    "import matplotlib.pyplot as plt\n",
    "\n",
    "import logging\n",
    "import pytorch_lightning\n",
    "logging.getLogger(\"pytorch_lightning\").setLevel(logging.ERROR)\n",
    "#pytorch_lightning.utilities.distributed.log.setLevel(logging.ERROR)"
   ]
  },
  {
   "cell_type": "code",
   "execution_count": 4,
   "id": "b10ef0e1-e32d-46c5-b1ba-64c282c82091",
   "metadata": {},
   "outputs": [
    {
     "name": "stdout",
     "output_type": "stream",
     "text": [
      "(288331, 90)\n"
     ]
    }
   ],
   "source": [
    "# load df\n",
    "path = f'data/DB_{cfg[\"db_name\"]}_{cfg[\"minutes\"]}_final_df.parquet'\n",
    "df = pd.read_parquet(path)\n",
    "print(df.shape)\n",
    "# drop columns that are completely NaN\n",
    "#df = df.dropna(axis=1, how=\"all\")\n",
    "#print(df.shape)\n",
    "# drop columns that are completely zero\n",
    "#mean_zeros = (df == 0).mean()\n",
    "#df = df[list(mean_zeros[mean_zeros < 1.0].index)]\n",
    "#df = df[((df == 0).mean() < 0.9999).index]\n",
    "#print(df.shape)"
   ]
  },
  {
   "cell_type": "code",
   "execution_count": 5,
   "id": "4c5d7fb9",
   "metadata": {},
   "outputs": [],
   "source": [
    "# drop rel time\n",
    "#df = df.drop(columns=[\"rel_time\"])"
   ]
  },
  {
   "cell_type": "code",
   "execution_count": 6,
   "id": "027d55bc",
   "metadata": {},
   "outputs": [
    {
     "name": "stdout",
     "output_type": "stream",
     "text": [
      "288331\n",
      "count    243143.000000\n",
      "mean         13.142286\n",
      "std          10.524949\n",
      "min         -23.000000\n",
      "25%           8.000000\n",
      "50%          12.000000\n",
      "75%          16.000000\n",
      "max         298.000000\n",
      "Name: ICP_Vital, dtype: float64\n",
      "0.41958358815235114\n",
      "0.15672265555906234\n"
     ]
    }
   ],
   "source": [
    "print(len(df))\n",
    "print(df[\"ICP_Vital\"].describe())\n",
    "print(df.isna().mean().mean())\n",
    "print(df[\"ICP_Vital\"].isna().mean())"
   ]
  },
  {
   "cell_type": "code",
   "execution_count": 7,
   "id": "345da54e-d076-42b8-96c7-138f54734790",
   "metadata": {},
   "outputs": [
    {
     "data": {
      "text/plain": [
       "['ICP_Vital', 'ICP_Vital_std']"
      ]
     },
     "execution_count": 7,
     "metadata": {},
     "output_type": "execute_result"
    }
   ],
   "source": [
    "[f for f in df.columns if \"ICP\" in f]"
   ]
  },
  {
   "cell_type": "code",
   "execution_count": 8,
   "id": "95db715a-8709-4a85-bbe1-6a2a6de3287b",
   "metadata": {},
   "outputs": [],
   "source": [
    "# create datamodule with dataloaders\n",
    "from icp_pred.train_utils import make_train_val_fold\n",
    "\n",
    "dms = make_train_val_fold(df, cfg, cfg[\"inner_folds\"])\n",
    "dm = dms[0]"
   ]
  },
  {
   "cell_type": "code",
   "execution_count": 9,
   "id": "8f3f9dc5",
   "metadata": {},
   "outputs": [
    {
     "name": "stdout",
     "output_type": "stream",
     "text": [
      "(181860, 73)\n",
      "(181860,)\n"
     ]
    }
   ],
   "source": [
    "# print input shapes \n",
    "for dm in dms:\n",
    "    print(dm.train_ds.flat_inputs.shape)\n",
    "    print(dm.train_ds.flat_targets.shape)"
   ]
  },
  {
   "cell_type": "code",
   "execution_count": 10,
   "id": "b5e89898",
   "metadata": {},
   "outputs": [
    {
     "name": "stdout",
     "output_type": "stream",
     "text": [
      "NaN quantiles: -14.26835000000085 134.53669999999693\n",
      "Clip quantiles: -7.133000063419295 102.0\n"
     ]
    }
   ],
   "source": [
    "# print quantiles\n",
    "train_ds = dm.train_ds\n",
    "if hasattr(train_ds, \"lower_target_nan_quantile\"):\n",
    "    print(\"NaN quantiles:\", train_ds.lower_target_nan_quantile, train_ds.upper_target_nan_quantile)\n",
    "    print(\"Clip quantiles:\", train_ds.lower_target_clip_quantile, train_ds.upper_target_clip_quantile)"
   ]
  },
  {
   "cell_type": "code",
   "execution_count": 11,
   "id": "04c97ee6",
   "metadata": {},
   "outputs": [
    {
     "name": "stdout",
     "output_type": "stream",
     "text": [
      "73\n"
     ]
    },
    {
     "data": {
      "text/plain": [
       "Index(['rel_time', 'AF_Vital', 'AF_Vital_std', 'ALT_Labor', 'AST_Labor',\n",
       "       'Albumin_Labor', 'Bili_BGA', 'CK_Labor', 'CRP_Labor', 'Ca_BGA',\n",
       "       'Cl_BGA', 'EVB_Labor', 'Erythrocyten_Labor', 'FCOHb_BGA', 'FiO2_Vital',\n",
       "       'Freq spontan_Vital', 'GCS_auge_Vital', 'GCS_motor_Vital',\n",
       "       'GCS_verbal_Vital', 'Glu_BGA', 'HCO3_BGA', 'HF_Vital', 'HF_Vital_std',\n",
       "       'Harnstoff-N_Labor', 'Hb_BGA_BGA', 'INR_Labor', 'K_BGA',\n",
       "       'Kreatinin_Labor', 'LDH_Labor', 'Lac_BGA', 'Leukocyten_Labor',\n",
       "       'Lipase_Labor', 'MCHC_Labor', 'MCH_Labor', 'MCV_Labor',\n",
       "       'Magnesium_Labor', 'Na_BGA', 'PCO2_BGA', 'PEEP_Vital', 'PO2_BGA',\n",
       "       'Phosphat_Labor', 'Pmean_Vital', 'Ppeak_Vital', 'Pupille li_Vital',\n",
       "       'Pupille re_Vital', 'RASS_Vital', 'SpO2_Vital', 'SpO2_Vital_std',\n",
       "       'TZ_Labor', 'Temp_Vital', 'Temp_Vital_min', 'Temp_Vital_std',\n",
       "       'Thrombocyten_Labor', 'Triglyceride_Labor', 'aPTT_Labor', 'diast_Vital',\n",
       "       'diast_Vital_std', 'mittl_Vital', 'pH_BGA', 'sO2_BGA', 'syst_Vital',\n",
       "       'syst_Vital_std', 'Alter', 'Größe', 'Gewicht', 'Geschlecht',\n",
       "       'Alpha Blocker_Med', 'Barbiturat_Med', 'Benzodiazepin_Med',\n",
       "       'Direkter Vasodilatator_Med', 'Katecholamin_Med', 'Narkotikum_Med',\n",
       "       'Opioid_Med'],\n",
       "      dtype='object')"
      ]
     },
     "execution_count": 11,
     "metadata": {},
     "output_type": "execute_result"
    }
   ],
   "source": [
    "print(len(train_ds.feature_names))\n",
    "train_ds.feature_names"
   ]
  },
  {
   "cell_type": "code",
   "execution_count": 12,
   "id": "32f73d97",
   "metadata": {},
   "outputs": [
    {
     "name": "stdout",
     "output_type": "stream",
     "text": [
      "{'model_type': 'rnn', 'target_name': 'ICP_Vital', 'db_name': 'UKE', 'minutes': 60, 'model_size': 'base', 'outer_folds': 3, 'inner_folds': 0, 'auto_lr_find': False, 'agg_meds': 1, 'norm_targets': True, 'seed': 0, 'features': None, 'fill_type': 'ffill', 'target_nan_quantile': 0.9999, 'input_nan_quantile': 0.9999, 'target_clip_quantile': 0.999, 'input_clip_quantile': 0.999, 'random_starts': True, 'randomly_mask_aug': 0.0, 'tune_masking': False, 'freeze_nan_embed': 0, 'norm_nan_embed': True, 'nan_embed_size': 128, 'use_nan_embed_transformer': 0, 'nan_embed_transformer_n_layers': 3, 'nan_embed_transformer_n_heads': 8, 'subsample_frac': 1.0, 'train_noise_std': 0.01, 'bs': 32, 'max_len': 1024, 'min_len': 0, 'block_size': 128, 'max_epochs': 5, 'lr': 0.0003, 'use_nan_embed': False, 'weight_decay': 0.02, 'grad_clip_val': 1.0, 'val_check_interval': None, 'max_steps': -1, 'use_macro_loss': False, 'use_pos_weight': True, 'use_huber': 0, 'dropout': 0.2, 'hidden_size': 256, 'use_static': False, 'use_in_mapping': False, 'use_out_mapping': False, 'rnn_layers': 1, 'rnn_type': 'gru', 'use_lens': True, 'num_transformer_blocks': 3, 'n_heads': 8, 'mode': 'adapters', 'clip_name': 'ViT-B/16', 'gpt_name': 'gpt2', 'pretrained': 1, 'reduction_factor': 16, 'flat_block_size': 0, 'alpha': 1, 'l1_ratio': 0.5, 'n_estimators': 50, 'max_depth': 6, 'min_child_weight': None, 'gamma': 0.0, 'subsample': 0.9, 'colsample_bytree': 0.9, 'tree_method': 'gpu_hist', 'gpu': 1, 'opt_steps': 50, 'tune_hebo': False, 'flat_block_size_range': 0, 'num_seeds': 1}\n"
     ]
    }
   ],
   "source": [
    "print(cfg)"
   ]
  },
  {
   "cell_type": "code",
   "execution_count": 13,
   "id": "2668907c",
   "metadata": {},
   "outputs": [],
   "source": [
    "train_iter = iter(dm.train_dataloader())"
   ]
  },
  {
   "cell_type": "code",
   "execution_count": 14,
   "id": "bbc46f5e-6dc0-47e3-898f-b3a20dbd425f",
   "metadata": {},
   "outputs": [
    {
     "name": "stdout",
     "output_type": "stream",
     "text": [
      "torch.Size([32, 128, 73]) tensor(-10.3462) tensor(30.8994)\n",
      "torch.Size([32, 128, 1])\n",
      "tensor(0.1307)\n",
      "tensor([128, 114, 128, 122, 128, 128,  91,  55,  22, 128,   7,  16, 128, 128,\n",
      "        128, 102, 128, 128, 128, 128, 128, 128, 128,  85, 128, 128,  93, 128,\n",
      "        128,  66,  78, 128])\n",
      "tensor(106.5938) tensor(128)\n",
      "Nans total and percentage:  tensor(0) tensor(0.)\n"
     ]
    }
   ],
   "source": [
    "# test dataloader\n",
    "inputs, targets, lens = next(train_iter)\n",
    "#print(dm.feature_names)\n",
    "print(inputs.shape, inputs.min(), inputs.max())\n",
    "print(targets.shape)\n",
    "print(targets[~torch.isnan(targets)].mean())\n",
    "print(lens)\n",
    "print(lens.float().mean(), lens.max())\n",
    "# NaNs in inputs\n",
    "nan_inputs = torch.isnan(inputs).any(dim=1)\n",
    "print(\"Nans total and percentage: \", nan_inputs.sum(), nan_inputs.sum().float() / nan_inputs.numel())"
   ]
  },
  {
   "cell_type": "code",
   "execution_count": 15,
   "id": "9927e101",
   "metadata": {},
   "outputs": [
    {
     "data": {
      "text/plain": [
       "<module 'icp_pred.model' from '/home/anton/icp_prediction/icp_pred/model.py'>"
      ]
     },
     "execution_count": 15,
     "metadata": {},
     "output_type": "execute_result"
    }
   ],
   "source": [
    "import importlib\n",
    "import icp_pred.train_utils\n",
    "import icp_pred.model\n",
    "import icp_pred.nan_emb\n",
    "importlib.reload(icp_pred.nan_emb)\n",
    "importlib.reload(icp_pred.train_utils)\n",
    "importlib.reload(icp_pred.model)"
   ]
  },
  {
   "cell_type": "code",
   "execution_count": null,
   "id": "fba0d8cd-1e5c-430d-b40f-5877cfe22b54",
   "metadata": {},
   "outputs": [],
   "source": []
  },
  {
   "cell_type": "code",
   "execution_count": 16,
   "id": "79ffd979-dcb6-4462-8fdf-02625b91543d",
   "metadata": {},
   "outputs": [],
   "source": [
    "cfg[\"use_nan_embed_transformer\"] = 0\n",
    "cfg[\"nan_embed_size\"] =  128"
   ]
  },
  {
   "cell_type": "code",
   "execution_count": null,
   "id": "d9fcfa68-964a-4069-85e5-7e877a6e845c",
   "metadata": {},
   "outputs": [],
   "source": []
  },
  {
   "cell_type": "markdown",
   "id": "143d3275-df3e-409a-91a0-1ab80dd7a0f7",
   "metadata": {},
   "source": [
    "Sizes:\n",
    "- Tiny - 120 K\n",
    "- Small - 250 K\n",
    "- Base - 1 M\n",
    "- Large - 4 M\n",
    "- XL - 16 M\n",
    "\n",
    "## LSTM:\n",
    "First is hidden size, second num layers\n",
    "- 38   K = 64 , 1\n",
    "- 140  K = 128, 1\n",
    "- 240  K = 128, 2\n",
    "- 940  K = 256, 2\n",
    "- 3.7  M = 512, 2\n",
    "- 14.8 M = 1024, 2 - 2.5 GB VRAM with block size 128 and bs 256\n",
    "\n",
    "\n",
    "## Transformer:\n",
    "First hidden size, second num blocks\n",
    "- 40.5 K = 32, 3\n",
    "- 155 K = 64, 3\n",
    "- 255 K = 64, 5\n",
    "- 1   M = 128, 5\n",
    "- 4   M = 256, 5\n",
    "- 15.8 M = 512, 5 - 6.8 GB VRAM with block size 128, bs 256\n",
    "\n",
    "- 15.8 M = 256, 20  - OOM with block size 128, bs 256. 2.6 GB with bs 64"
   ]
  },
  {
   "cell_type": "code",
   "execution_count": null,
   "id": "16b7d734-6e01-46ae-b1f9-d53572c13f50",
   "metadata": {},
   "outputs": [],
   "source": []
  },
  {
   "cell_type": "code",
   "execution_count": 17,
   "id": "b1c08734-cee9-417b-942c-b147eb4e0e04",
   "metadata": {},
   "outputs": [],
   "source": [
    "cfg[\"model_type\"] = \"transformer\"\n",
    "cfg[\"hidden_size\"] = 32\n",
    "cfg[\"num_transformer_blocks\"] = 3\n",
    "cfg[\"n_heads\"] = 8\n",
    "cfg[\"bs\"] = 32"
   ]
  },
  {
   "cell_type": "code",
   "execution_count": 18,
   "id": "f83d640c-60a7-4095-869f-858691ab5651",
   "metadata": {},
   "outputs": [],
   "source": [
    "cfg[\"model_type\"] = \"rnn\"\n",
    "\n",
    "cfg[\"use_in_mapping\"] = 1\n",
    "cfg[\"use_out_mapping\"] = 1\n",
    "cfg[\"rnn_layers\"] = 1\n",
    "cfg[\"hidden_size\"] = 64\n",
    "cfg[\"bs\"] = 256"
   ]
  },
  {
   "cell_type": "code",
   "execution_count": 19,
   "id": "3e0e4f46-98cc-41db-bd23-dfec6ad4c6b6",
   "metadata": {},
   "outputs": [],
   "source": [
    "cfg[\"model_size\"] = None"
   ]
  },
  {
   "cell_type": "code",
   "execution_count": 20,
   "id": "a04764f6",
   "metadata": {},
   "outputs": [
    {
     "name": "stdout",
     "output_type": "stream",
     "text": [
      "38.1, K\n",
      "torch.Size([32, 128, 1]) False\n",
      "tensor(-0.1140) tensor(0.0252)\n",
      "torch.Size([32, 128, 1]) False\n",
      "tensor(-0.1157) tensor(0.0210)\n",
      "torch.Size([32, 128, 1]) False\n",
      "tensor(-0.1134) tensor(0.0222)\n",
      "torch.Size([32, 128, 1]) False\n",
      "tensor(-0.1145) tensor(0.0210)\n",
      "torch.Size([32, 128, 1]) False\n",
      "tensor(-0.1138) tensor(0.0248)\n"
     ]
    }
   ],
   "source": [
    "from icp_pred.train_utils import create_model\n",
    "\n",
    "# disable transformers logger warnings\n",
    "import logging\n",
    "import transformers\n",
    "logging.getLogger(\"transformers\").setLevel(logging.ERROR)\n",
    "import warnings\n",
    "warnings.filterwarnings(\"ignore\", category=FutureWarning)\n",
    "\n",
    "if cfg[\"model_type\"] in [\"mlp\", \"gpt\", \"rnn\", \"transformer\"]:\n",
    "    model = create_model(cfg[\"model_type\"], dms[0], cfg)\n",
    "    \n",
    "    # print param count\n",
    "    count = 0\n",
    "    trainable_param_count = 0\n",
    "    for n, p in model.named_parameters():\n",
    "        #print(n, p.shape, p.numel())\n",
    "        count += p.numel()\n",
    "        if p.requires_grad:\n",
    "            trainable_param_count += p.numel()\n",
    "    print(f\"{count / 1000:.1f}, K\" if count < 1000000 else f\"{count / 1000000:.1f}, M\")\n",
    "    #print(trainable_param_count / 1000, \"K\")\n",
    "    \n",
    "    # set out_mapping weights to 1 to check output scale of pretrained\n",
    "    #model.out_mapping.weight = torch.nn.Parameter(torch.ones_like(model.out_mapping.weight))\n",
    "    \n",
    "    # test model prediction shape on test sample from above\n",
    "    outs = []\n",
    "    # get some test preds\n",
    "    for _ in range(5):\n",
    "        inputs, targets, lens = next(train_iter)\n",
    "        with torch.no_grad():\n",
    "            out = model(inputs, lens)\n",
    "        outs.append(out)\n",
    "        print(out.shape, out.requires_grad)\n",
    "        print(out.mean(), out.std())\n",
    "else:\n",
    "    model = None"
   ]
  },
  {
   "cell_type": "code",
   "execution_count": 21,
   "id": "6bc4ad90-3ab6-4601-8758-558dd408b871",
   "metadata": {},
   "outputs": [],
   "source": [
    "#list(model.embed[0].transformer_encoder.named_parameters())"
   ]
  },
  {
   "cell_type": "code",
   "execution_count": 22,
   "id": "913462b6-52bf-4ca0-a3bf-5950383851b5",
   "metadata": {},
   "outputs": [],
   "source": [
    "#model.embed[0].transformer_encoder.layers[0].self_attn.out_proj.weight.dtype"
   ]
  },
  {
   "cell_type": "code",
   "execution_count": 23,
   "id": "ccc347d6-ef12-428c-8909-41af8081ff8b",
   "metadata": {},
   "outputs": [
    {
     "data": {
      "text/plain": [
       "<module 'icp_pred.nan_emb' from '/home/anton/icp_prediction/icp_pred/nan_emb.py'>"
      ]
     },
     "execution_count": 23,
     "metadata": {},
     "output_type": "execute_result"
    }
   ],
   "source": [
    "import icp_pred.model\n",
    "import icp_pred.train_utils\n",
    "import icp_pred.nan_emb\n",
    "import importlib\n",
    "importlib.reload(icp_pred.model)\n",
    "importlib.reload(icp_pred.train_utils)\n",
    "importlib.reload(icp_pred.nan_emb)"
   ]
  },
  {
   "cell_type": "code",
   "execution_count": 24,
   "id": "8523695d-2ac6-47e5-ac9a-e9fc0c0d8748",
   "metadata": {},
   "outputs": [],
   "source": [
    "cfg[\"lr\"] = 3e-4"
   ]
  },
  {
   "cell_type": "code",
   "execution_count": 25,
   "id": "e178b39d-fa0e-4c09-840c-3f26026db076",
   "metadata": {},
   "outputs": [],
   "source": [
    "cfg[\"max_epochs\"] = 10"
   ]
  },
  {
   "cell_type": "code",
   "execution_count": 26,
   "id": "e97fbdce-3811-40b3-a2f5-9d77f0e63396",
   "metadata": {},
   "outputs": [],
   "source": [
    "#cfg[\"lr\"] = 0.0003"
   ]
  },
  {
   "cell_type": "code",
   "execution_count": 27,
   "id": "3f5b4ee0-f3cb-4547-86bd-5c16750fb475",
   "metadata": {},
   "outputs": [
    {
     "name": "stdout",
     "output_type": "stream",
     "text": [
      "Number of trainable parameters:  38081\n"
     ]
    },
    {
     "name": "stderr",
     "output_type": "stream",
     "text": [
      "/home/anton/.local/lib/python3.8/site-packages/pkg_resources/__init__.py:116: PkgResourcesDeprecationWarning: 0.23ubuntu1 is an invalid version and will not be supported in a future release\n",
      "  warnings.warn(\n",
      "/home/anton/.local/lib/python3.8/site-packages/pkg_resources/__init__.py:116: PkgResourcesDeprecationWarning: 0.1.36ubuntu1 is an invalid version and will not be supported in a future release\n",
      "  warnings.warn(\n"
     ]
    },
    {
     "data": {
      "application/vnd.jupyter.widget-view+json": {
       "model_id": "",
       "version_major": 2,
       "version_minor": 0
      },
      "text/plain": [
       "Sanity Checking: 0it [00:00, ?it/s]"
      ]
     },
     "metadata": {},
     "output_type": "display_data"
    },
    {
     "name": "stderr",
     "output_type": "stream",
     "text": [
      "/home/anton/.local/lib/python3.8/site-packages/pytorch_lightning/trainer/connectors/data_connector.py:224: PossibleUserWarning: The dataloader, val_dataloader 0, does not have many workers which may be a bottleneck. Consider increasing the value of the `num_workers` argument` (try 32 which is the number of cpus on this machine) in the `DataLoader` init to improve performance.\n",
      "  rank_zero_warn(\n",
      "/home/anton/.local/lib/python3.8/site-packages/pytorch_lightning/trainer/connectors/data_connector.py:224: PossibleUserWarning: The dataloader, train_dataloader, does not have many workers which may be a bottleneck. Consider increasing the value of the `num_workers` argument` (try 32 which is the number of cpus on this machine) in the `DataLoader` init to improve performance.\n",
      "  rank_zero_warn(\n"
     ]
    },
    {
     "data": {
      "application/vnd.jupyter.widget-view+json": {
       "model_id": "a6043e3d0aa3496aab4ba9b81578b8e5",
       "version_major": 2,
       "version_minor": 0
      },
      "text/plain": [
       "Training: 0it [00:00, ?it/s]"
      ]
     },
     "metadata": {},
     "output_type": "display_data"
    },
    {
     "data": {
      "application/vnd.jupyter.widget-view+json": {
       "model_id": "",
       "version_major": 2,
       "version_minor": 0
      },
      "text/plain": [
       "Validation: 0it [00:00, ?it/s]"
      ]
     },
     "metadata": {},
     "output_type": "display_data"
    },
    {
     "data": {
      "application/vnd.jupyter.widget-view+json": {
       "model_id": "",
       "version_major": 2,
       "version_minor": 0
      },
      "text/plain": [
       "Validation: 0it [00:00, ?it/s]"
      ]
     },
     "metadata": {},
     "output_type": "display_data"
    },
    {
     "data": {
      "application/vnd.jupyter.widget-view+json": {
       "model_id": "",
       "version_major": 2,
       "version_minor": 0
      },
      "text/plain": [
       "Validation: 0it [00:00, ?it/s]"
      ]
     },
     "metadata": {},
     "output_type": "display_data"
    },
    {
     "data": {
      "application/vnd.jupyter.widget-view+json": {
       "model_id": "",
       "version_major": 2,
       "version_minor": 0
      },
      "text/plain": [
       "Validation: 0it [00:00, ?it/s]"
      ]
     },
     "metadata": {},
     "output_type": "display_data"
    },
    {
     "data": {
      "application/vnd.jupyter.widget-view+json": {
       "model_id": "",
       "version_major": 2,
       "version_minor": 0
      },
      "text/plain": [
       "Validation: 0it [00:00, ?it/s]"
      ]
     },
     "metadata": {},
     "output_type": "display_data"
    },
    {
     "data": {
      "application/vnd.jupyter.widget-view+json": {
       "model_id": "",
       "version_major": 2,
       "version_minor": 0
      },
      "text/plain": [
       "Validation: 0it [00:00, ?it/s]"
      ]
     },
     "metadata": {},
     "output_type": "display_data"
    },
    {
     "data": {
      "application/vnd.jupyter.widget-view+json": {
       "model_id": "",
       "version_major": 2,
       "version_minor": 0
      },
      "text/plain": [
       "Validation: 0it [00:00, ?it/s]"
      ]
     },
     "metadata": {},
     "output_type": "display_data"
    },
    {
     "data": {
      "application/vnd.jupyter.widget-view+json": {
       "model_id": "",
       "version_major": 2,
       "version_minor": 0
      },
      "text/plain": [
       "Validation: 0it [00:00, ?it/s]"
      ]
     },
     "metadata": {},
     "output_type": "display_data"
    },
    {
     "data": {
      "application/vnd.jupyter.widget-view+json": {
       "model_id": "",
       "version_major": 2,
       "version_minor": 0
      },
      "text/plain": [
       "Validation: 0it [00:00, ?it/s]"
      ]
     },
     "metadata": {},
     "output_type": "display_data"
    },
    {
     "data": {
      "application/vnd.jupyter.widget-view+json": {
       "model_id": "",
       "version_major": 2,
       "version_minor": 0
      },
      "text/plain": [
       "Validation: 0it [00:00, ?it/s]"
      ]
     },
     "metadata": {},
     "output_type": "display_data"
    }
   ],
   "source": [
    "# train model on datamodule\n",
    "from icp_pred.train_utils import train_model\n",
    "\n",
    "models, trainers = train_model(cfg[\"model_type\"], dms, cfg, verbose=True, log=False)"
   ]
  },
  {
   "cell_type": "code",
   "execution_count": 28,
   "id": "5ff8cd7d-4d53-464e-a8c8-33093791304f",
   "metadata": {},
   "outputs": [
    {
     "data": {
      "text/plain": [
       "211"
      ]
     },
     "execution_count": 28,
     "metadata": {},
     "output_type": "execute_result"
    }
   ],
   "source": [
    "torch.cuda.empty_cache()\n",
    "import gc\n",
    "gc.collect()"
   ]
  },
  {
   "cell_type": "code",
   "execution_count": null,
   "id": "b49a9167-85e4-407e-a10d-5be59a58ef66",
   "metadata": {},
   "outputs": [],
   "source": []
  },
  {
   "cell_type": "code",
   "execution_count": 29,
   "id": "61581bf3-7516-4515-8e13-5cada07fac3b",
   "metadata": {},
   "outputs": [],
   "source": [
    "import icp_pred.eval_utils\n",
    "from icp_pred.eval_utils import get_all_dfs, print_all_metrics\n",
    "import importlib\n",
    "importlib.reload(icp_pred.eval_utils)\n",
    "# eval\n",
    "dl_type = \"val\"\n",
    "#dl = external_dls[\"MIMIC\"] # external_dls - MIMIC, eICU, UKE\n",
    "dl = None\n",
    "\n",
    "pred_df = get_all_dfs(models, dms, cfg[\"model_type\"], dm.regression, \n",
    "                      dl_type=dl_type, dl=dl, norm_targets=cfg[\"norm_targets\"])"
   ]
  },
  {
   "cell_type": "code",
   "execution_count": 30,
   "id": "4fd448af",
   "metadata": {},
   "outputs": [
    {
     "data": {
      "text/plain": [
       "<AxesSubplot:>"
      ]
     },
     "execution_count": 30,
     "metadata": {},
     "output_type": "execute_result"
    },
    {
     "data": {
      "image/png": "[encoded data removed]",
      "text/plain": [
       "<Figure size 432x288 with 1 Axes>"
      ]
     },
     "metadata": {
      "needs_background": "light"
     },
     "output_type": "display_data"
    }
   ],
   "source": [
    "pred_df.targets.clip(0, 100).hist(bins=100)"
   ]
  },
  {
   "cell_type": "code",
   "execution_count": 31,
   "id": "4d9b00c2",
   "metadata": {},
   "outputs": [
    {
     "data": {
      "text/plain": [
       "<AxesSubplot:>"
      ]
     },
     "execution_count": 31,
     "metadata": {},
     "output_type": "execute_result"
    },
    {
     "data": {
      "image/png": "[encoded data removed]",
      "text/plain": [
       "<Figure size 432x288 with 1 Axes>"
      ]
     },
     "metadata": {
      "needs_background": "light"
     },
     "output_type": "display_data"
    }
   ],
   "source": [
    "pred_df.preds.hist(bins=100)"
   ]
  },
  {
   "cell_type": "code",
   "execution_count": 32,
   "id": "41ac99d1",
   "metadata": {},
   "outputs": [
    {
     "data": {
      "text/plain": [
       "(126.68453295635172, 11.255422380184216)"
      ]
     },
     "execution_count": 32,
     "metadata": {},
     "output_type": "execute_result"
    }
   ],
   "source": [
    "# create new df with randomly shuffled targets to debug\n",
    "shuffled_pred_df = pred_df.copy()\n",
    "shuffled_pred_df[\"targets\"] = np.random.permutation(shuffled_pred_df[\"targets\"])\n",
    "mse = (shuffled_pred_df[\"preds\"] - shuffled_pred_df[\"targets\"]) ** 2\n",
    "mse.mean(), np.sqrt(mse.mean())"
   ]
  },
  {
   "cell_type": "code",
   "execution_count": 33,
   "id": "a77d049f",
   "metadata": {},
   "outputs": [
    {
     "data": {
      "text/plain": [
       "(126.56728114489873, 11.250212493322014)"
      ]
     },
     "execution_count": 33,
     "metadata": {},
     "output_type": "execute_result"
    }
   ],
   "source": [
    "# mse of mean train target\n",
    "mse = (pred_df[\"targets\"] - pred_df[\"mean_train_target\"]) ** 2\n",
    "mse.mean(), np.sqrt(mse.mean())"
   ]
  },
  {
   "cell_type": "code",
   "execution_count": 34,
   "id": "637ce6df",
   "metadata": {},
   "outputs": [
    {
     "data": {
      "text/plain": [
       "(126.49757328298497, 11.247113997954541)"
      ]
     },
     "execution_count": 34,
     "metadata": {},
     "output_type": "execute_result"
    }
   ],
   "source": [
    "# our mse\n",
    "mse = (pred_df[\"preds\"] - pred_df[\"targets\"]) ** 2\n",
    "mse.mean(), np.sqrt(mse.mean())"
   ]
  },
  {
   "cell_type": "code",
   "execution_count": 35,
   "id": "36ce2596",
   "metadata": {},
   "outputs": [
    {
     "data": {
      "text/plain": [
       "model_id\n",
       "0    1.176845\n",
       "Name: error, dtype: float32"
      ]
     },
     "execution_count": 35,
     "metadata": {},
     "output_type": "execute_result"
    }
   ],
   "source": [
    "pred_df.groupby(\"model_id\").error.mean()#.hist(bins=10)"
   ]
  },
  {
   "cell_type": "code",
   "execution_count": 36,
   "id": "965b5654-3ce1-45e7-ace0-a5d9d09a3fc5",
   "metadata": {},
   "outputs": [
    {
     "data": {
      "text/html": [
       "<div>\n",
       "<style scoped>\n",
       "    .dataframe tbody tr th:only-of-type {\n",
       "        vertical-align: middle;\n",
       "    }\n",
       "\n",
       "    .dataframe tbody tr th {\n",
       "        vertical-align: top;\n",
       "    }\n",
       "\n",
       "    .dataframe thead th {\n",
       "        text-align: right;\n",
       "    }\n",
       "</style>\n",
       "<table border=\"1\" class=\"dataframe\">\n",
       "  <thead>\n",
       "    <tr style=\"text-align: right;\">\n",
       "      <th></th>\n",
       "      <th>targets</th>\n",
       "      <th>preds</th>\n",
       "      <th>ids</th>\n",
       "      <th>step</th>\n",
       "      <th>error</th>\n",
       "      <th>model_id</th>\n",
       "      <th>mean_train_target</th>\n",
       "      <th>std_train_target</th>\n",
       "    </tr>\n",
       "  </thead>\n",
       "  <tbody>\n",
       "    <tr>\n",
       "      <th>0</th>\n",
       "      <td>-5.999999</td>\n",
       "      <td>12.525763</td>\n",
       "      <td>0.0</td>\n",
       "      <td>0</td>\n",
       "      <td>3.192929</td>\n",
       "      <td>0</td>\n",
       "      <td>13.21842</td>\n",
       "      <td>10.367677</td>\n",
       "    </tr>\n",
       "    <tr>\n",
       "      <th>1</th>\n",
       "      <td>-8.499998</td>\n",
       "      <td>12.481745</td>\n",
       "      <td>0.0</td>\n",
       "      <td>1</td>\n",
       "      <td>4.095625</td>\n",
       "      <td>0</td>\n",
       "      <td>13.21842</td>\n",
       "      <td>10.367677</td>\n",
       "    </tr>\n",
       "    <tr>\n",
       "      <th>2</th>\n",
       "      <td>-8.000000</td>\n",
       "      <td>12.497239</td>\n",
       "      <td>0.0</td>\n",
       "      <td>2</td>\n",
       "      <td>3.908659</td>\n",
       "      <td>0</td>\n",
       "      <td>13.21842</td>\n",
       "      <td>10.367677</td>\n",
       "    </tr>\n",
       "    <tr>\n",
       "      <th>3</th>\n",
       "      <td>-8.000000</td>\n",
       "      <td>12.498789</td>\n",
       "      <td>0.0</td>\n",
       "      <td>3</td>\n",
       "      <td>3.909250</td>\n",
       "      <td>0</td>\n",
       "      <td>13.21842</td>\n",
       "      <td>10.367677</td>\n",
       "    </tr>\n",
       "    <tr>\n",
       "      <th>4</th>\n",
       "      <td>-8.999998</td>\n",
       "      <td>12.488508</td>\n",
       "      <td>0.0</td>\n",
       "      <td>4</td>\n",
       "      <td>4.295854</td>\n",
       "      <td>0</td>\n",
       "      <td>13.21842</td>\n",
       "      <td>10.367677</td>\n",
       "    </tr>\n",
       "    <tr>\n",
       "      <th>...</th>\n",
       "      <td>...</td>\n",
       "      <td>...</td>\n",
       "      <td>...</td>\n",
       "      <td>...</td>\n",
       "      <td>...</td>\n",
       "      <td>...</td>\n",
       "      <td>...</td>\n",
       "      <td>...</td>\n",
       "    </tr>\n",
       "    <tr>\n",
       "      <th>46188</th>\n",
       "      <td>-0.666667</td>\n",
       "      <td>12.627929</td>\n",
       "      <td>194.0</td>\n",
       "      <td>307</td>\n",
       "      <td>1.644324</td>\n",
       "      <td>0</td>\n",
       "      <td>13.21842</td>\n",
       "      <td>10.367677</td>\n",
       "    </tr>\n",
       "    <tr>\n",
       "      <th>46189</th>\n",
       "      <td>0.666667</td>\n",
       "      <td>12.640356</td>\n",
       "      <td>194.0</td>\n",
       "      <td>308</td>\n",
       "      <td>1.333807</td>\n",
       "      <td>0</td>\n",
       "      <td>13.21842</td>\n",
       "      <td>10.367677</td>\n",
       "    </tr>\n",
       "    <tr>\n",
       "      <th>46190</th>\n",
       "      <td>-0.499999</td>\n",
       "      <td>12.572883</td>\n",
       "      <td>194.0</td>\n",
       "      <td>309</td>\n",
       "      <td>1.589936</td>\n",
       "      <td>0</td>\n",
       "      <td>13.21842</td>\n",
       "      <td>10.367677</td>\n",
       "    </tr>\n",
       "    <tr>\n",
       "      <th>46191</th>\n",
       "      <td>-0.999999</td>\n",
       "      <td>12.593616</td>\n",
       "      <td>194.0</td>\n",
       "      <td>310</td>\n",
       "      <td>1.719123</td>\n",
       "      <td>0</td>\n",
       "      <td>13.21842</td>\n",
       "      <td>10.367677</td>\n",
       "    </tr>\n",
       "    <tr>\n",
       "      <th>46192</th>\n",
       "      <td>1.000001</td>\n",
       "      <td>12.588935</td>\n",
       "      <td>194.0</td>\n",
       "      <td>311</td>\n",
       "      <td>1.249465</td>\n",
       "      <td>0</td>\n",
       "      <td>13.21842</td>\n",
       "      <td>10.367677</td>\n",
       "    </tr>\n",
       "  </tbody>\n",
       "</table>\n",
       "<p>46193 rows × 8 columns</p>\n",
       "</div>"
      ],
      "text/plain": [
       "        targets      preds    ids  step     error  model_id  \\\n",
       "0     -5.999999  12.525763    0.0     0  3.192929         0   \n",
       "1     -8.499998  12.481745    0.0     1  4.095625         0   \n",
       "2     -8.000000  12.497239    0.0     2  3.908659         0   \n",
       "3     -8.000000  12.498789    0.0     3  3.909250         0   \n",
       "4     -8.999998  12.488508    0.0     4  4.295854         0   \n",
       "...         ...        ...    ...   ...       ...       ...   \n",
       "46188 -0.666667  12.627929  194.0   307  1.644324         0   \n",
       "46189  0.666667  12.640356  194.0   308  1.333807         0   \n",
       "46190 -0.499999  12.572883  194.0   309  1.589936         0   \n",
       "46191 -0.999999  12.593616  194.0   310  1.719123         0   \n",
       "46192  1.000001  12.588935  194.0   311  1.249465         0   \n",
       "\n",
       "       mean_train_target  std_train_target  \n",
       "0               13.21842         10.367677  \n",
       "1               13.21842         10.367677  \n",
       "2               13.21842         10.367677  \n",
       "3               13.21842         10.367677  \n",
       "4               13.21842         10.367677  \n",
       "...                  ...               ...  \n",
       "46188           13.21842         10.367677  \n",
       "46189           13.21842         10.367677  \n",
       "46190           13.21842         10.367677  \n",
       "46191           13.21842         10.367677  \n",
       "46192           13.21842         10.367677  \n",
       "\n",
       "[46193 rows x 8 columns]"
      ]
     },
     "execution_count": 36,
     "metadata": {},
     "output_type": "execute_result"
    }
   ],
   "source": [
    "pred_df"
   ]
  },
  {
   "cell_type": "code",
   "execution_count": 37,
   "id": "25455a66-a68b-45d4-af3b-aeeef8295957",
   "metadata": {},
   "outputs": [
    {
     "name": "stdout",
     "output_type": "stream",
     "text": [
      "Baseline acc for hypertension:  0.9433200476215124\n",
      "Accuracy for hypertension:  0.9433200476215124\n",
      "AUC for hypertension:  0.4730563978556051\n",
      "{'mse': 126.497573282985, 'mae': 5.977913201750471, 'rmse': 11.247113997954543, 'min_abs_error': 0.00013919587908084452, 'max_abs_error': 137.98467131337753, 'hyp_acc': 0.9433200476215124, 'hyp_auc': 0.4730563978556051, 'r2': -0.00012092399450103208, 'baseline_mse': 126.56728114489873, 'baseline_rmse': 11.250212493322014, 'baseline_hyp_acc': 0.9433200476215124, 'baseline_hyp_auc': 0.5, 'baseline_r2': -0.0006720514940845579}\n",
      "Performance over splits: \n",
      "            targets      preds     error\n",
      "model_id                                \n",
      "0         12.926868  12.577894  1.176845\n",
      "Mean train target:  13.218420179278507\n",
      "Mean/Std preds:  12.57541445591676 0.24517250372482705\n",
      "Mean/Std targets:  12.926868118286855 11.246579575394737\n",
      "Max error:  177.1327\n",
      "Accuracy for hypertension baseline:  0.9433200476215124\n",
      "\n",
      "Model metrics:\n",
      "RMSE:  1.0848248\n",
      "MSE:  1.176845\n",
      "MAE:  5.977913201750471\n",
      "MAPE:  0.4624409522128473\n",
      "R2 custom:  0.9906955743676564\n",
      "R2 macro:  0.021356385643461286\n",
      "R2:  -0.00012092399450103208\n",
      "R2 old:  -0.00012092399450103208\n",
      "Accuracy for hypertension:  0.9433200476215124\n",
      "Precision for hypertension:  nan\n",
      "Recall for hypertension:  0.0\n",
      "\n",
      "Mean train baseline metrics:\n",
      "Mean train target: 13.218420179278507\n",
      "RMSE:  11.250212493322014\n",
      "MSE:  126.56728114489873\n",
      "MAE:  6.099702344749851\n",
      "MAPE:  0.47186234816776484\n",
      "R2 custom:  -8.791024398698065\n",
      "R2 score:  -0.0006720514940845579\n",
      "\n",
      "\n",
      "Scores for test target mean\n",
      "Mean test target:  12.926868118286855\n",
      "MSE:  126.48227854063028\n",
      "MAE:  6.030137374862295\n",
      "R2 score:  0\n"
     ]
    }
   ],
   "source": [
    "import importlib\n",
    "\n",
    "import sklearn\n",
    "import seaborn as sns\n",
    "import matplotlib.pyplot as plt\n",
    "import numpy as np\n",
    "\n",
    "import icp_pred.eval_utils\n",
    "importlib.reload(icp_pred.eval_utils)\n",
    "from icp_pred.eval_utils import get_all_dfs, hypertension_acc, hypertension_auc\n",
    "\n",
    "def calculate_metrics(df):\n",
    "    from sklearn.metrics import mean_squared_error, mean_absolute_error, r2_score\n",
    "    pred_targets = df[\"targets\"].dropna()\n",
    "    preds = df[\"preds\"][~df[\"targets\"].isna()]\n",
    "    metrics = {\"mse\": mean_squared_error(pred_targets, preds),\n",
    "                \"mae\": mean_absolute_error(pred_targets, preds),\n",
    "                \"rmse\": np.sqrt(mean_squared_error(pred_targets, preds)),\n",
    "                \"min_abs_error\": (preds - pred_targets).abs().min(),\n",
    "                \"max_abs_error\": (preds - pred_targets).abs().max(),\n",
    "                \"hyp_acc\": hypertension_acc(pred_targets, preds),\n",
    "                \"hyp_auc\": hypertension_auc(pred_targets, preds),\n",
    "                \"r2\": r2_score(pred_targets, preds),\n",
    "                \"baseline_mse\": mean_squared_error(pred_targets, df[\"mean_train_target\"][~df[\"targets\"].isna()]),\n",
    "                \"baseline_rmse\": np.sqrt(mean_squared_error(pred_targets, df[\"mean_train_target\"][~df[\"targets\"].isna()])),\n",
    "                \"baseline_hyp_acc\": hypertension_acc(pred_targets, df[\"mean_train_target\"][~df[\"targets\"].isna()]),\n",
    "                \"baseline_hyp_auc\": hypertension_auc(pred_targets, df[\"mean_train_target\"][~df[\"targets\"].isna()]),\n",
    "                \"baseline_r2\": r2_score(pred_targets, df[\"mean_train_target\"][~df[\"targets\"].isna()]),\n",
    "                }\n",
    "    return metrics\n",
    "\n",
    "if dm.regression:\n",
    "    #from eval_utils import hypertension_acc\n",
    "    pred_targets = pred_df[\"targets\"].dropna()\n",
    "    preds = pred_df[\"preds\"][~pred_df[\"targets\"].isna()]\n",
    "    print(\"Baseline acc for hypertension: \", hypertension_acc(pred_targets, np.zeros((len(pred_targets,)))))\n",
    "    print(\"Accuracy for hypertension: \", hypertension_acc(pred_targets, preds))\n",
    "    print(\"AUC for hypertension: \", hypertension_auc(pred_targets, preds))\n",
    "\n",
    "    metrics = calculate_metrics(pred_df)\n",
    "    \n",
    "    print(metrics)\n",
    "    print_all_metrics(pred_df)\n",
    "else:\n",
    "    \n",
    "    # general metrics\n",
    "    non_na_pred_df = pred_df.dropna(subset=[\"targets\"])\n",
    "    binary_preds = non_na_pred_df[\"preds\"] > 0.5\n",
    "    targets = non_na_pred_df[\"targets\"]\n",
    "    preds = torch.sigmoid(torch.tensor(non_na_pred_df[\"preds\"].to_numpy())).numpy()\n",
    "    \n",
    "    auc = sklearn.metrics.roc_auc_score(targets, preds)\n",
    "    tpr, fpr, threshs = sklearn.metrics.roc_curve(targets, preds)\n",
    "    plt.plot(tpr, fpr)\n",
    "    plt.plot([0, 1], [0, 1], linestyle=\"--\", color=\"black\")\n",
    "    plt.title(f\"ROC Curve - AUC {auc:.3f}\")\n",
    "    plt.show()\n",
    "    \n",
    "    precision, recall, thresholds = sklearn.metrics.precision_recall_curve(targets, preds)\n",
    "    plt.plot(precision, recall)\n",
    "    plt.xlabel(\"precision\")\n",
    "    plt.ylabel(\"recall\")\n",
    "    plt.show()\n",
    "    \n",
    "    matrix = sklearn.metrics.confusion_matrix(targets, binary_preds)\n",
    "    cm_display = sklearn.metrics.ConfusionMatrixDisplay(matrix).plot()\n",
    "    print(matrix)\n",
    "    print(\"AUC: \", auc)\n",
    "    print(\"Mean pred: \", preds.mean())\n",
    "    \n",
    "    print(\"Accuracy: \", sklearn.metrics.accuracy_score(targets, binary_preds))\n",
    "    \n",
    "    #train_pred_df = get_all_dfs(models, trainers, cfg[\"model_type\"], dm.regression, dl_type=\"train\", dl=None, calc_new_norm_stats=False)\n",
    "    #non_na_df = train_pred_df.dropna(subset=[\"targets\"])\n",
    "    #tpr, fpr, threshs = sklearn.metrics.roc_curve(non_na_df[\"targets\"], non_na_df[\"preds\"])"
   ]
  },
  {
   "cell_type": "code",
   "execution_count": 38,
   "id": "ea3e19a4-bb4f-4927-b04e-b1af4ede8bb9",
   "metadata": {},
   "outputs": [],
   "source": [
    "# eval model new\n",
    "#pred_df = get_all_dfs(models, dms, cfg[\"model_type\"], dm.regression, dl_type=dl_type, dl=dl, norm_targets=cfg[\"norm_targets\"])\n",
    "\n"
   ]
  },
  {
   "cell_type": "code",
   "execution_count": 39,
   "id": "264f7276-bf54-4dc3-95c9-7cb90fcad2e0",
   "metadata": {},
   "outputs": [],
   "source": [
    "#python3 tune.py inner_folds=5  agg_meds=1 norm_targets=1 fill_type=\"ffill\"\n",
    "#   opt_steps=50 flat_block_size=8 gpu=1 model_type=\"rnn\" hidden_size=256,512,1024 rnn_layers=1,2,3 num_transformer_blocks=3 max_epochs=5 db_name=\"UKE\",\"MIMIC\" rnn_type=\"gru\" -m\n",
    "\n",
    "\n",
    "\n",
    "#python3 tune.py inner_folds=3  agg_meds=1 norm_targets=1 fill_type=\"ffill\" opt_steps=10 \n",
    "# flat_block_size=8 gpu=1 model_type=\"rnn\" hidden_size=256 rnn_layers=1 max_epochs=5 db_name=\"UKE\" rnn_type=\"gru\" \n",
    "\n",
    "\n"
   ]
  },
  {
   "cell_type": "code",
   "execution_count": 40,
   "id": "1601269c-656d-4626-a1b2-0829d4e8fd9d",
   "metadata": {},
   "outputs": [
    {
     "data": {
      "text/plain": [
       "128"
      ]
     },
     "execution_count": 40,
     "metadata": {},
     "output_type": "execute_result"
    }
   ],
   "source": [
    "cfg[\"block_size\"]"
   ]
  },
  {
   "cell_type": "code",
   "execution_count": 41,
   "id": "39c22f29-5b7b-4fee-8f3a-be98c32ccf73",
   "metadata": {},
   "outputs": [
    {
     "name": "stderr",
     "output_type": "stream",
     "text": [
      "100%|████████████████████████████████████████| 195/195 [00:00<00:00, 771.27it/s]\n"
     ]
    }
   ],
   "source": [
    "from icp_pred.eval_utils import make_eval_preds\n",
    "\n",
    "all_targets, all_preds, all_raw_inputs = make_eval_preds(models, dms, cfg[\"block_size\"],\n",
    "                                                         restrict_to_block_size=cfg[\"block_size\"] <= 16,\n",
    "                                                        clip_targets=1, normalize_targets = cfg[\"norm_targets\"],\n",
    "                                                        split = \"val\",)"
   ]
  },
  {
   "cell_type": "code",
   "execution_count": 42,
   "id": "cdc027ad-6e55-46c7-8264-4aa4f871272c",
   "metadata": {},
   "outputs": [],
   "source": [
    "no_na = pred_df.dropna(subset=[\"targets\"])\n",
    "pred_targets = [t.unsqueeze(0) for t in torch.tensor(no_na[\"targets\"].to_numpy())]\n",
    "preds = torch.tensor(no_na[\"preds\"].to_numpy())"
   ]
  },
  {
   "cell_type": "code",
   "execution_count": 43,
   "id": "9f341944-ce59-497a-b7eb-73a6c65c0d4a",
   "metadata": {},
   "outputs": [
    {
     "data": {
      "text/plain": [
       "{'mse': 126.49757,\n",
       " 'mae': 5.9779134,\n",
       " 'rmse': 11.247113,\n",
       " 'min_abs_error': 0.00013923645,\n",
       " 'max_abs_error': 137.98468,\n",
       " 'hyp_acc': 0.9433200476215124,\n",
       " 'hyp_auc': 0.47305631015951666,\n",
       " 'r2': -0.00012092838777055803,\n",
       " 'rmse_clin': 4.3580484,\n",
       " 'mae_clin': 3.1928992,\n",
       " 'hyp_acc_clin': 0.9568220320576865,\n",
       " 'hyp_auc_clin': 0.48651650220019893}"
      ]
     },
     "execution_count": 43,
     "metadata": {},
     "output_type": "execute_result"
    }
   ],
   "source": [
    "from icp_pred.eval_utils import calc_metrics\n",
    "\n",
    "metrics, flat_targets, flat_preds = calc_metrics(pred_targets, preds)\n",
    "\n",
    "metrics"
   ]
  },
  {
   "cell_type": "code",
   "execution_count": 44,
   "id": "7bc4cd6d-f0c9-4ffc-9fb8-e341e730db9b",
   "metadata": {},
   "outputs": [
    {
     "data": {
      "text/plain": [
       "{'mse': 121.69235,\n",
       " 'mae': 5.9426928,\n",
       " 'rmse': 11.031425,\n",
       " 'min_abs_error': 0.0002002716,\n",
       " 'max_abs_error': 89.75228,\n",
       " 'hyp_acc': 0.9434879272012823,\n",
       " 'hyp_auc': 0.4723623160597529,\n",
       " 'r2': -0.00016620458154803508,\n",
       " 'rmse_clin': 4.3578086,\n",
       " 'mae_clin': 3.1935873,\n",
       " 'hyp_acc_clin': 0.9569044006069802,\n",
       " 'hyp_auc_clin': 0.48660400625856537}"
      ]
     },
     "execution_count": 44,
     "metadata": {},
     "output_type": "execute_result"
    }
   ],
   "source": [
    "from icp_pred.eval_utils import calc_metrics\n",
    "\n",
    "metrics, flat_targets, flat_preds = calc_metrics(all_targets, all_preds)\n",
    "\n",
    "metrics"
   ]
  },
  {
   "cell_type": "code",
   "execution_count": null,
   "id": "ae4501dc-7439-4652-939c-007a712add46",
   "metadata": {},
   "outputs": [],
   "source": []
  },
  {
   "cell_type": "code",
   "execution_count": 46,
   "id": "c408a546",
   "metadata": {},
   "outputs": [
    {
     "data": {
      "text/plain": [
       "13.218420179278507"
      ]
     },
     "execution_count": 46,
     "metadata": {},
     "output_type": "execute_result"
    }
   ],
   "source": [
    "dm.train_ds.preprocessor.mean_train_target"
   ]
  },
  {
   "cell_type": "code",
   "execution_count": 47,
   "id": "16e8559b",
   "metadata": {},
   "outputs": [
    {
     "data": {
      "text/plain": [
       "13.218420179278507"
      ]
     },
     "execution_count": 47,
     "metadata": {},
     "output_type": "execute_result"
    }
   ],
   "source": [
    "dm.preprocessor.mean_train_target"
   ]
  },
  {
   "cell_type": "code",
   "execution_count": 48,
   "id": "3349de8a-73b0-4e95-8257-c9de3cbb298f",
   "metadata": {},
   "outputs": [
    {
     "data": {
      "text/plain": [
       "195"
      ]
     },
     "execution_count": 48,
     "metadata": {},
     "output_type": "execute_result"
    }
   ],
   "source": [
    "len(dm.val_ds)"
   ]
  },
  {
   "cell_type": "code",
   "execution_count": 49,
   "id": "4c8beb2a-a26e-4d8d-a38e-e96006694972",
   "metadata": {},
   "outputs": [
    {
     "data": {
      "text/html": [
       "<div>\n",
       "<style scoped>\n",
       "    .dataframe tbody tr th:only-of-type {\n",
       "        vertical-align: middle;\n",
       "    }\n",
       "\n",
       "    .dataframe tbody tr th {\n",
       "        vertical-align: top;\n",
       "    }\n",
       "\n",
       "    .dataframe thead th {\n",
       "        text-align: right;\n",
       "    }\n",
       "</style>\n",
       "<table border=\"1\" class=\"dataframe\">\n",
       "  <thead>\n",
       "    <tr style=\"text-align: right;\">\n",
       "      <th></th>\n",
       "      <th>targets</th>\n",
       "      <th>preds</th>\n",
       "      <th>ids</th>\n",
       "      <th>step</th>\n",
       "      <th>error</th>\n",
       "      <th>model_id</th>\n",
       "      <th>mean_train_target</th>\n",
       "      <th>std_train_target</th>\n",
       "    </tr>\n",
       "  </thead>\n",
       "  <tbody>\n",
       "    <tr>\n",
       "      <th>0</th>\n",
       "      <td>-5.999999</td>\n",
       "      <td>12.525763</td>\n",
       "      <td>0.0</td>\n",
       "      <td>0</td>\n",
       "      <td>3.192929</td>\n",
       "      <td>0</td>\n",
       "      <td>13.21842</td>\n",
       "      <td>10.367677</td>\n",
       "    </tr>\n",
       "    <tr>\n",
       "      <th>1</th>\n",
       "      <td>-8.499998</td>\n",
       "      <td>12.481745</td>\n",
       "      <td>0.0</td>\n",
       "      <td>1</td>\n",
       "      <td>4.095625</td>\n",
       "      <td>0</td>\n",
       "      <td>13.21842</td>\n",
       "      <td>10.367677</td>\n",
       "    </tr>\n",
       "    <tr>\n",
       "      <th>2</th>\n",
       "      <td>-8.000000</td>\n",
       "      <td>12.497239</td>\n",
       "      <td>0.0</td>\n",
       "      <td>2</td>\n",
       "      <td>3.908659</td>\n",
       "      <td>0</td>\n",
       "      <td>13.21842</td>\n",
       "      <td>10.367677</td>\n",
       "    </tr>\n",
       "    <tr>\n",
       "      <th>3</th>\n",
       "      <td>-8.000000</td>\n",
       "      <td>12.498789</td>\n",
       "      <td>0.0</td>\n",
       "      <td>3</td>\n",
       "      <td>3.909250</td>\n",
       "      <td>0</td>\n",
       "      <td>13.21842</td>\n",
       "      <td>10.367677</td>\n",
       "    </tr>\n",
       "    <tr>\n",
       "      <th>4</th>\n",
       "      <td>-8.999998</td>\n",
       "      <td>12.488508</td>\n",
       "      <td>0.0</td>\n",
       "      <td>4</td>\n",
       "      <td>4.295854</td>\n",
       "      <td>0</td>\n",
       "      <td>13.21842</td>\n",
       "      <td>10.367677</td>\n",
       "    </tr>\n",
       "    <tr>\n",
       "      <th>...</th>\n",
       "      <td>...</td>\n",
       "      <td>...</td>\n",
       "      <td>...</td>\n",
       "      <td>...</td>\n",
       "      <td>...</td>\n",
       "      <td>...</td>\n",
       "      <td>...</td>\n",
       "      <td>...</td>\n",
       "    </tr>\n",
       "    <tr>\n",
       "      <th>46188</th>\n",
       "      <td>-0.666667</td>\n",
       "      <td>12.627929</td>\n",
       "      <td>194.0</td>\n",
       "      <td>307</td>\n",
       "      <td>1.644324</td>\n",
       "      <td>0</td>\n",
       "      <td>13.21842</td>\n",
       "      <td>10.367677</td>\n",
       "    </tr>\n",
       "    <tr>\n",
       "      <th>46189</th>\n",
       "      <td>0.666667</td>\n",
       "      <td>12.640356</td>\n",
       "      <td>194.0</td>\n",
       "      <td>308</td>\n",
       "      <td>1.333807</td>\n",
       "      <td>0</td>\n",
       "      <td>13.21842</td>\n",
       "      <td>10.367677</td>\n",
       "    </tr>\n",
       "    <tr>\n",
       "      <th>46190</th>\n",
       "      <td>-0.499999</td>\n",
       "      <td>12.572883</td>\n",
       "      <td>194.0</td>\n",
       "      <td>309</td>\n",
       "      <td>1.589936</td>\n",
       "      <td>0</td>\n",
       "      <td>13.21842</td>\n",
       "      <td>10.367677</td>\n",
       "    </tr>\n",
       "    <tr>\n",
       "      <th>46191</th>\n",
       "      <td>-0.999999</td>\n",
       "      <td>12.593616</td>\n",
       "      <td>194.0</td>\n",
       "      <td>310</td>\n",
       "      <td>1.719123</td>\n",
       "      <td>0</td>\n",
       "      <td>13.21842</td>\n",
       "      <td>10.367677</td>\n",
       "    </tr>\n",
       "    <tr>\n",
       "      <th>46192</th>\n",
       "      <td>1.000001</td>\n",
       "      <td>12.588935</td>\n",
       "      <td>194.0</td>\n",
       "      <td>311</td>\n",
       "      <td>1.249465</td>\n",
       "      <td>0</td>\n",
       "      <td>13.21842</td>\n",
       "      <td>10.367677</td>\n",
       "    </tr>\n",
       "  </tbody>\n",
       "</table>\n",
       "<p>46193 rows × 8 columns</p>\n",
       "</div>"
      ],
      "text/plain": [
       "        targets      preds    ids  step     error  model_id  \\\n",
       "0     -5.999999  12.525763    0.0     0  3.192929         0   \n",
       "1     -8.499998  12.481745    0.0     1  4.095625         0   \n",
       "2     -8.000000  12.497239    0.0     2  3.908659         0   \n",
       "3     -8.000000  12.498789    0.0     3  3.909250         0   \n",
       "4     -8.999998  12.488508    0.0     4  4.295854         0   \n",
       "...         ...        ...    ...   ...       ...       ...   \n",
       "46188 -0.666667  12.627929  194.0   307  1.644324         0   \n",
       "46189  0.666667  12.640356  194.0   308  1.333807         0   \n",
       "46190 -0.499999  12.572883  194.0   309  1.589936         0   \n",
       "46191 -0.999999  12.593616  194.0   310  1.719123         0   \n",
       "46192  1.000001  12.588935  194.0   311  1.249465         0   \n",
       "\n",
       "       mean_train_target  std_train_target  \n",
       "0               13.21842         10.367677  \n",
       "1               13.21842         10.367677  \n",
       "2               13.21842         10.367677  \n",
       "3               13.21842         10.367677  \n",
       "4               13.21842         10.367677  \n",
       "...                  ...               ...  \n",
       "46188           13.21842         10.367677  \n",
       "46189           13.21842         10.367677  \n",
       "46190           13.21842         10.367677  \n",
       "46191           13.21842         10.367677  \n",
       "46192           13.21842         10.367677  \n",
       "\n",
       "[46193 rows x 8 columns]"
      ]
     },
     "execution_count": 49,
     "metadata": {},
     "output_type": "execute_result"
    }
   ],
   "source": [
    "pred_df"
   ]
  },
  {
   "cell_type": "code",
   "execution_count": 50,
   "id": "f67621cc-d191-4566-bd7c-99272804fd3b",
   "metadata": {},
   "outputs": [
    {
     "data": {
      "image/png": "[encoded data removed]",
      "text/plain": [
       "<Figure size 432x432 with 3 Axes>"
      ]
     },
     "metadata": {
      "needs_background": "light"
     },
     "output_type": "display_data"
    }
   ],
   "source": [
    "if dm.regression:\n",
    "    #df_nona = pred_df.dropna(subset=[\"targets\"]).reset_index()\n",
    "    #mean_pred_error = (df_nona[\"targets\"] - dm.preprocessor.mean_train_target).dropna() ** 2\n",
    "    #error = (df_nona[\"targets\"] - df_nona[\"preds\"]) ** 2\n",
    "    #df_nona[\"error\"] = error\n",
    "    plot_df = pd.DataFrame({\"Targets\": flat_targets, \"Preds\": flat_preds})\n",
    "    plot_df[\"Error\"] = (plot_df[\"Targets\"] - plot_df[\"Preds\"]).abs().tolist()\n",
    "    ax = sns.jointplot(x=\"Targets\", y=\"Error\", data=plot_df, kind=\"hist\", bins=100) # data=by_pat\n",
    "    ax.ax_joint.scatter(plot_df[\"Targets\"], (np.ones(len(plot_df[\"Targets\"])) * dm.preprocessor.mean_train_target - plot_df[\"Targets\"]).abs(), s=2, color=\"orange\")\n",
    "    plt.xlim(-20, 100)\n",
    "    plt.ylim(0, 100)"
   ]
  },
  {
   "cell_type": "code",
   "execution_count": 51,
   "id": "bd9a2abb-6845-4293-9415-5dd5adc9f9c8",
   "metadata": {},
   "outputs": [],
   "source": [
    "#if dm.regression:\n",
    "#    ylim = (df_nona[\"preds\"].min() - 5, df_nona[\"preds\"].max() + 5)\n",
    "#    ax = sns.jointplot(data=df_nona, x=\"targets\", y=\"preds\", kind=\"reg\", ylim=ylim) # data=bypat\n",
    "#    min_val = df_nona[\"targets\"].min()\n",
    "#    max_val = df_nona[\"targets\"].max()\n",
    "#    ax.ax_joint.plot([min_val, max_val], [min_val, max_val], linewidth=2, color=\"black\", label=\"Ideal model\")"
   ]
  },
  {
   "cell_type": "code",
   "execution_count": 52,
   "id": "442aa307-a683-465a-9e16-11d5b8095dea",
   "metadata": {},
   "outputs": [
    {
     "name": "stdout",
     "output_type": "stream",
     "text": [
      "tensor(-7.1330) tensor(102.)\n"
     ]
    },
    {
     "data": {
      "image/png": "[encoded data removed]",
      "text/plain": [
       "<Figure size 432x432 with 3 Axes>"
      ]
     },
     "metadata": {
      "needs_background": "light"
     },
     "output_type": "display_data"
    }
   ],
   "source": [
    "if dm.regression:\n",
    "    ylim = (flat_preds.min() - 5, flat_preds.max() + 5)\n",
    "    min_val = flat_targets.min()\n",
    "    max_val = flat_targets.max()\n",
    "    plot_df = pd.DataFrame({\"Targets\": flat_targets, \"Preds\": flat_preds})\n",
    "    ax = sns.jointplot(x=\"Targets\", y=\"Preds\", data=plot_df, kind=\"hist\", bins=100, ylim=ylim)\n",
    "    print(min_val, max_val)\n",
    "    # draw line of perfect correlation\n",
    "    ax.ax_joint.plot([min_val, max_val], [min_val, max_val], linewidth=2)#, color=\"black\")\n",
    "    #ax.ax_joint.set_xlabel(\"test\")"
   ]
  },
  {
   "cell_type": "code",
   "execution_count": 55,
   "id": "ad86cce3-b09a-417c-9b1e-df32bd376f12",
   "metadata": {},
   "outputs": [
    {
     "name": "stdout",
     "output_type": "stream",
     "text": [
      "tensor(-7.1330) tensor(102.)\n"
     ]
    },
    {
     "data": {
      "image/png": "[encoded data removed]",
      "text/plain": [
       "<Figure size 432x432 with 3 Axes>"
      ]
     },
     "metadata": {
      "needs_background": "light"
     },
     "output_type": "display_data"
    }
   ],
   "source": [
    "if dm.regression:\n",
    "    ylim = (flat_preds.min() - 5, flat_preds.max() + 5)\n",
    "    min_val = flat_targets.min()\n",
    "    max_val = flat_targets.max()\n",
    "    ax = sns.jointplot(data=plot_df, x=\"Targets\", y=\"Preds\", kind=\"hist\", bins=100, ylim=ylim)\n",
    "    print(min_val, max_val)\n",
    "    # draw line of perfect correlation\n",
    "    ax.ax_joint.plot([min_val, max_val], [min_val, max_val], linewidth=2)#, color=\"black\")"
   ]
  },
  {
   "cell_type": "code",
   "execution_count": 56,
   "id": "d524c7bd-4af2-40be-8e94-36653d2a39fb",
   "metadata": {},
   "outputs": [
    {
     "name": "stdout",
     "output_type": "stream",
     "text": [
      "[  5.  15.  16.  24.  25.  28.  30.  46.  66.  80.  82.  84.  89. 103.\n",
      " 107. 108. 124. 137. 143. 150. 162. 163. 169. 173. 177. 184. 190.]\n",
      "27 patients\n"
     ]
    }
   ],
   "source": [
    "if dm.regression:\n",
    "    #pats = df.groupby(\"ids\").filter(lambda x: x['preds'].max() > 16)\n",
    "    pats = pred_df.groupby(\"ids\").filter(lambda x: x['targets'].mean() > 20)\n",
    "    #pats = df.groupby(\"ids\").filter(lambda x: np.sqrt(x['error'].mean()) > 30)\n",
    "else:\n",
    "    pats = pred_df.groupby(\"ids\").filter(lambda x: x['preds'].mean() > 0.2)\n",
    "pats = pats.groupby(\"ids\").filter(lambda x: len(x[\"targets\"].dropna()) > 2)\n",
    "\n",
    "ids = pats[\"ids\"].unique()\n",
    "print(ids)\n",
    "print(len(ids), \"patients\")\n",
    "#pats"
   ]
  },
  {
   "cell_type": "code",
   "execution_count": 57,
   "id": "9539f8f6-a2e1-44a2-9f8f-b59374bc0365",
   "metadata": {},
   "outputs": [
    {
     "name": "stdout",
     "output_type": "stream",
     "text": [
      "mean average target:  13.218420179278507\n",
      "mean pat targets:  36.998650394086695\n",
      "R2 of model:  -1.7860797018635926\n",
      "RMSE of model: 30.57\n",
      "RMSE of mean: 30.01\n",
      "MAPE of model:  0.67\n",
      "MAPE of mean:  0.65\n"
     ]
    },
    {
     "data": {
      "image/png": "[encoded data removed]",
      "text/plain": [
       "<Figure size 432x288 with 1 Axes>"
      ]
     },
     "metadata": {
      "needs_background": "light"
     },
     "output_type": "display_data"
    }
   ],
   "source": [
    "from icp_pred.eval_utils import mape\n",
    "import sklearn\n",
    "\n",
    "pat_id = 23\n",
    "model_id = 0\n",
    "\n",
    "pat = pred_df[pred_df[\"ids\"] == ids[pat_id]]\n",
    "pat = pat[pat[\"model_id\"] == model_id]\n",
    "if not dm.regression:\n",
    "    pat[\"preds\"] = torch.sigmoid(torch.tensor(pat[\"preds\"].to_numpy())).numpy()\n",
    "\n",
    "\n",
    "plt.scatter(pat[\"step\"], pat[\"targets\"], label=\"targets\", color=\"orange\")\n",
    "plt.plot(pat[\"step\"], pat[\"preds\"], label=\"preds\")\n",
    "mean = dm.preprocessor.mean_train_target\n",
    "print(\"mean average target: \", mean)\n",
    "print(\"mean pat targets: \", pat[\"targets\"].mean())\n",
    "plt.plot([0, max(pat[\"step\"])], [mean, mean], linewidth=1, color=\"black\", label=\"mean train target\", linestyle=\"--\")\n",
    "if dm.regression:\n",
    "    plt.plot([0, max(pat[\"step\"])], [22, 22], linewidth=1, color=\"red\", label=\"critical\", linestyle=\":\")\n",
    "\n",
    "#plt.legend(location=\"out\")\n",
    "plt.legend(title='Legend', bbox_to_anchor=(1.05, 1), loc='upper left')\n",
    "plt.xlim(0, max(pat[\"step\"]) + 1)\n",
    "plt.ylabel(\"ICP\")\n",
    "plt.xlabel(\"Time Step\")\n",
    "plt.title(\"Single Patient Trajectory\")\n",
    "pat_nona = pat[~pat[\"targets\"].isna()]\n",
    "print(\"R2 of model: \", sklearn.metrics.r2_score(pat_nona[\"targets\"], pat_nona[\"preds\"]))\n",
    "print(\"RMSE of model:\", round(np.sqrt(sklearn.metrics.mean_squared_error(pat_nona[\"targets\"], pat_nona[\"preds\"])), 2))\n",
    "print(\"RMSE of mean:\", round(np.sqrt(sklearn.metrics.mean_squared_error(pat_nona[\"targets\"], [mean] * len(pat_nona))), 2))\n",
    "print(\"MAPE of model: \", round(mape(pat_nona[\"targets\"], pat_nona[\"preds\"]), 2))\n",
    "print(\"MAPE of mean: \", round(mape(pat_nona[\"targets\"], [mean] * len(pat_nona)), 2))"
   ]
  },
  {
   "cell_type": "code",
   "execution_count": null,
   "id": "f4d3fc28-5d6b-4dc0-aa13-24f649913e7a",
   "metadata": {},
   "outputs": [],
   "source": []
  },
  {
   "cell_type": "code",
   "execution_count": 58,
   "id": "656ffe0a-eee1-4cce-b1be-49438b10b564",
   "metadata": {},
   "outputs": [],
   "source": [
    "#for i in range(len(dm.train_ds.targets)):\n",
    "#    d = dm.train_ds.targets[i]\n",
    "#    d = d[~torch.isnan(d)].max()\n",
    "#    print(d)"
   ]
  },
  {
   "cell_type": "markdown",
   "id": "edb1a9b2-fc96-44fc-ae9a-b36d3ba15adb",
   "metadata": {},
   "source": [
    "## Saliency"
   ]
  },
  {
   "cell_type": "code",
   "execution_count": 59,
   "id": "d92051d2-6364-4ea0-b135-fb1a36742866",
   "metadata": {},
   "outputs": [],
   "source": [
    "feature_names = dm.feature_names"
   ]
  },
  {
   "cell_type": "code",
   "execution_count": 60,
   "id": "e1894b92-2011-446f-8a54-c61e63545836",
   "metadata": {},
   "outputs": [],
   "source": [
    "import shap\n",
    "\n",
    "\n",
    "def classical_saliency(models, dms, model_type, use_shap=False, verbose=True):\n",
    "    # plot feature importance\n",
    "    all_importances = []\n",
    "    all_inputs = []\n",
    "    \n",
    "    for model, data_module in zip(models, dms):\n",
    "        if use_shap:\n",
    "            explainer = shap.TreeExplainer(model)\n",
    "            inputs = data_module.val_dataloader().dataset.flat_inputs\n",
    "            importances = explainer.shap_values(inputs)\n",
    "            all_inputs.append(inputs)\n",
    "        else:\n",
    "            if hasattr(model, \"feature_importances_\"):\n",
    "                importances = model.feature_importances_\n",
    "            elif hasattr(model, \"coef_\"):\n",
    "                importances = model.coef_\n",
    "        all_importances.append(importances)\n",
    "    if not use_shap and verbose and hasattr(model, \"importance_type\"):\n",
    "        print(\"Importance type: \", model.importance_type)\n",
    "    print(\"importances shapes:\")\n",
    "    for imp in all_importances:\n",
    "        print(imp.shape)\n",
    "    importances = np.concatenate(all_importances)\n",
    "    inputs = np.concatenate(all_inputs)\n",
    "    mean_importances = importances.mean(axis=0)\n",
    "    # save\n",
    "    path = f\"outputs/{model_type}\"\n",
    "    os.makedirs(\"outputs\", exist_ok=True)\n",
    "    \n",
    "    block_size = cfg[\"flat_block_size\"]\n",
    "\n",
    "    \n",
    "    if use_shap:\n",
    "        #shap.summary_plot(mean_importances, X_test, plot_type=\"bar\")\n",
    "        #shap.summary_plot(mean_importances, X_test)\n",
    "        #shap.summary_plot(mean_importances)\n",
    "        #input_df = pd.DataFrame(inputs, columns=feature_names)\n",
    "        #shap_df = pd.DataFrame(mean_importances, columns=feature_names)\n",
    "        \n",
    "        #vals= np.abs(shap_values).mean(0)\n",
    "        #feature_importance = pd.DataFrame(list(zip(feature_names, vals)),columns=['col_name','feature_importance_vals'])\n",
    "        #feature_importance = feature_importance.sort_values(by=['feature_importance_vals'], ascending=False)\n",
    "        #feature_importance.head()\n",
    "                \n",
    "        if verbose:\n",
    "            if block_size < 2:\n",
    "                block_feat_names = feature_names\n",
    "            else:\n",
    "                block_feat_names = []\n",
    "                for i in range(block_size):\n",
    "                    block_feat_names.extend([f + f\"_{i}\" for f in feature_names])\n",
    "            shap.summary_plot(importances, features=inputs, \n",
    "                              feature_names=block_feat_names)\n",
    "            plt.savefig(path + \"_shap_importances.jpg\", bbox_inches='tight')\n",
    "        \n",
    "        \n",
    "        # average over block_size/time_steps\n",
    "       \n",
    "        if block_size > 1:\n",
    "            print(mean_importances.shape)\n",
    "            mean_importances = mean_importances.reshape(-1, len(feature_names), block_size).mean(axis=-1)\n",
    "            print(mean_importances.shape)\n",
    "\n",
    "\n",
    "        imp_per_feat = np.abs(mean_importances).mean(axis=0)\n",
    "        feat_df = pd.Series(imp_per_feat, index=feature_names)\n",
    "    else:\n",
    "        # make plot\n",
    "        if block_size > 1:\n",
    "            print(mean_importances.shape)\n",
    "            mean_importances = np.abs(mean_importances.reshape(len(feature_names), block_size)).mean(axis=-1)\n",
    "            print(mean_importances.shape)\n",
    "        \n",
    "        \n",
    "        feat_df = pd.Series(mean_importances, index=feature_names)\n",
    "        if verbose:\n",
    "            p = feat_df.sort_values().plot.barh(figsize=(4, 25))\n",
    "            p.figure.savefig(path + \"_importances.jpg\", bbox_inches='tight')\n",
    "        \n",
    "    feat_df = feat_df.sort_values(ascending=True)\n",
    "    return feat_df\n",
    "\n",
    "\n",
    "def reduce_feat_df(feat_df, threshold=0.2):\n",
    "    # remove everything above 90% explained importance\n",
    "    print(len(feat_df))\n",
    "    feat_df = feat_df / feat_df.sum()\n",
    "    reduced_df = feat_df[feat_df.cumsum() > threshold]\n",
    "    print(len(reduced_df))\n",
    "    print(reduced_df.sum())\n",
    "    print(reduced_df)\n",
    "    reduced_feats = list(reduced_df.index)\n",
    "    return reduced_feats\n"
   ]
  },
  {
   "cell_type": "code",
   "execution_count": 61,
   "id": "7b5cbf78-fa03-46d4-8b25-9a79cebc967d",
   "metadata": {},
   "outputs": [],
   "source": [
    "if cfg[\"model_type\"] in [\"xgb\", \"log\"]:\n",
    "    sal_df = classical_saliency(models, dms, cfg[\"model_type\"], \n",
    "                                use_shap=True, verbose=True)\n",
    "    \n",
    "    sal_df_normed = sal_df / sal_df.sum()\n",
    "    sal_df_normed.sort_values().iloc[-10:]\n",
    "    \n",
    "    reduced_feats = reduce_feat_df(sal_df, threshold=0.15)\n",
    "    reduced_feats"
   ]
  },
  {
   "cell_type": "code",
   "execution_count": 62,
   "id": "f8ef0767",
   "metadata": {},
   "outputs": [],
   "source": [
    "models[0].cpu()\n",
    "torch.cuda.empty_cache()"
   ]
  },
  {
   "cell_type": "code",
   "execution_count": 63,
   "id": "8a4221a6",
   "metadata": {},
   "outputs": [
    {
     "data": {
      "text/plain": [
       "[<icp_pred.data_utils.SeqDataModule at 0x7fb9ce5b6d90>]"
      ]
     },
     "execution_count": 63,
     "metadata": {},
     "output_type": "execute_result"
    }
   ],
   "source": [
    "dms"
   ]
  },
  {
   "cell_type": "code",
   "execution_count": 66,
   "id": "1796a280-7dea-4b4b-8f0c-652c7bdfe8dd",
   "metadata": {},
   "outputs": [
    {
     "name": "stderr",
     "output_type": "stream",
     "text": [
      "100%|████████████████████████████████████████| 195/195 [00:01<00:00, 107.56it/s]\n"
     ]
    }
   ],
   "source": [
    "import icp_pred.saliency\n",
    "from icp_pred.saliency import get_sal_list\n",
    "import importlib\n",
    "importlib.reload(icp_pred.saliency)\n",
    "\n",
    "torch.cuda.empty_cache()\n",
    "\n",
    "\n",
    "if not cfg[\"model_type\"] in [\"xgb\", \"log\"]:\n",
    "\n",
    "    sal_list = []\n",
    "    for model, dm in zip(models, dms):\n",
    "        model.cuda()\n",
    "        max_backprop_len = 128 \n",
    "        model_saliency = get_sal_list(model, 0, perc=1.0, agg=True, \n",
    "                                      ds=dm.val_dataloader().dataset, \n",
    "                                      ig=False, max_len=max_backprop_len)\n",
    "        sal_list.append(model_saliency)\n",
    "        model.cpu()\n",
    "        torch.cuda.empty_cache()\n"
   ]
  },
  {
   "cell_type": "code",
   "execution_count": 67,
   "id": "5f6abc5e-34bc-4e2b-bd36-ee849884ba4b",
   "metadata": {},
   "outputs": [],
   "source": [
    "import gc\n",
    "gc.collect()\n",
    "torch.cuda.empty_cache()"
   ]
  },
  {
   "cell_type": "code",
   "execution_count": 68,
   "id": "58887d20",
   "metadata": {},
   "outputs": [
    {
     "data": {
      "text/plain": [
       "1"
      ]
     },
     "execution_count": 68,
     "metadata": {},
     "output_type": "execute_result"
    }
   ],
   "source": [
    "len(sal_list)"
   ]
  },
  {
   "cell_type": "code",
   "execution_count": 69,
   "id": "ef2d8408-dd00-42c3-9276-d87371240738",
   "metadata": {},
   "outputs": [],
   "source": [
    "# TODO: average over multiple models!\n",
    "#for sal in sal_list:\n",
    "\n",
    "mean_overall = [s.mean(0) for s in sal_list[0]]\n",
    "feat_saliency = np.sum(mean_overall, axis=0)\n",
    "feature_names = dm.feature_names\n",
    "feat_sal_df = pd.DataFrame({\"sal\": feat_saliency}, index = feature_names).sort_values(\"sal\")"
   ]
  },
  {
   "cell_type": "code",
   "execution_count": 70,
   "id": "a27d5fa3-8796-462c-bcb5-b8200f84aa1a",
   "metadata": {},
   "outputs": [
    {
     "data": {
      "text/plain": [
       "<Figure size 432x288 with 0 Axes>"
      ]
     },
     "metadata": {},
     "output_type": "display_data"
    },
    {
     "data": {
      "image/png": "[encoded data removed]",
      "text/plain": [
       "<Figure size 432x1800 with 1 Axes>"
      ]
     },
     "metadata": {
      "needs_background": "light"
     },
     "output_type": "display_data"
    }
   ],
   "source": [
    "plt.figure()\n",
    "p = feat_sal_df.plot.barh(figsize = (6, 25))"
   ]
  },
  {
   "cell_type": "code",
   "execution_count": 71,
   "id": "856c47c1-4cbc-4575-83c7-017102979484",
   "metadata": {},
   "outputs": [],
   "source": [
    "p.figure.savefig(\"importances.jpg\", bbox_inches='tight')"
   ]
  },
  {
   "cell_type": "code",
   "execution_count": 72,
   "id": "9ff7d4bb-3f7f-4b41-b3a2-b4542cfd892f",
   "metadata": {},
   "outputs": [],
   "source": [
    "plt.show()"
   ]
  },
  {
   "cell_type": "code",
   "execution_count": 73,
   "id": "0847682b",
   "metadata": {},
   "outputs": [
    {
     "data": {
      "text/plain": [
       "73"
      ]
     },
     "execution_count": 73,
     "metadata": {},
     "output_type": "execute_result"
    }
   ],
   "source": [
    "len(feature_names)"
   ]
  },
  {
   "cell_type": "code",
   "execution_count": 74,
   "id": "6228fe15",
   "metadata": {},
   "outputs": [],
   "source": [
    "sal = sal_list[0]\n",
    "\n",
    "all_steps = []\n",
    "for i, s in enumerate(sal):\n",
    "    pat_df = pd.DataFrame(s, columns=feature_names)\n",
    "    pat_df[\"pat_id\"] = i\n",
    "    pat_df[\"step\"] = np.arange(s.shape[0])\n",
    "    all_steps.append(pat_df)\n",
    "sal_df = pd.concat(all_steps, axis=0)"
   ]
  },
  {
   "cell_type": "code",
   "execution_count": 75,
   "id": "b4557ea6-7ea2-4e32-a7bb-596d78ffb316",
   "metadata": {},
   "outputs": [
    {
     "data": {
      "text/html": [
       "<div>\n",
       "<style scoped>\n",
       "    .dataframe tbody tr th:only-of-type {\n",
       "        vertical-align: middle;\n",
       "    }\n",
       "\n",
       "    .dataframe tbody tr th {\n",
       "        vertical-align: top;\n",
       "    }\n",
       "\n",
       "    .dataframe thead th {\n",
       "        text-align: right;\n",
       "    }\n",
       "</style>\n",
       "<table border=\"1\" class=\"dataframe\">\n",
       "  <thead>\n",
       "    <tr style=\"text-align: right;\">\n",
       "      <th></th>\n",
       "      <th>targets</th>\n",
       "      <th>preds</th>\n",
       "      <th>ids</th>\n",
       "      <th>step</th>\n",
       "      <th>error</th>\n",
       "      <th>model_id</th>\n",
       "      <th>mean_train_target</th>\n",
       "      <th>std_train_target</th>\n",
       "    </tr>\n",
       "  </thead>\n",
       "  <tbody>\n",
       "    <tr>\n",
       "      <th>0</th>\n",
       "      <td>-5.999999</td>\n",
       "      <td>12.525763</td>\n",
       "      <td>0.0</td>\n",
       "      <td>0</td>\n",
       "      <td>3.192929</td>\n",
       "      <td>0</td>\n",
       "      <td>13.21842</td>\n",
       "      <td>10.367677</td>\n",
       "    </tr>\n",
       "    <tr>\n",
       "      <th>1</th>\n",
       "      <td>-8.499998</td>\n",
       "      <td>12.481745</td>\n",
       "      <td>0.0</td>\n",
       "      <td>1</td>\n",
       "      <td>4.095625</td>\n",
       "      <td>0</td>\n",
       "      <td>13.21842</td>\n",
       "      <td>10.367677</td>\n",
       "    </tr>\n",
       "    <tr>\n",
       "      <th>2</th>\n",
       "      <td>-8.000000</td>\n",
       "      <td>12.497239</td>\n",
       "      <td>0.0</td>\n",
       "      <td>2</td>\n",
       "      <td>3.908659</td>\n",
       "      <td>0</td>\n",
       "      <td>13.21842</td>\n",
       "      <td>10.367677</td>\n",
       "    </tr>\n",
       "    <tr>\n",
       "      <th>3</th>\n",
       "      <td>-8.000000</td>\n",
       "      <td>12.498789</td>\n",
       "      <td>0.0</td>\n",
       "      <td>3</td>\n",
       "      <td>3.909250</td>\n",
       "      <td>0</td>\n",
       "      <td>13.21842</td>\n",
       "      <td>10.367677</td>\n",
       "    </tr>\n",
       "    <tr>\n",
       "      <th>4</th>\n",
       "      <td>-8.999998</td>\n",
       "      <td>12.488508</td>\n",
       "      <td>0.0</td>\n",
       "      <td>4</td>\n",
       "      <td>4.295854</td>\n",
       "      <td>0</td>\n",
       "      <td>13.21842</td>\n",
       "      <td>10.367677</td>\n",
       "    </tr>\n",
       "    <tr>\n",
       "      <th>...</th>\n",
       "      <td>...</td>\n",
       "      <td>...</td>\n",
       "      <td>...</td>\n",
       "      <td>...</td>\n",
       "      <td>...</td>\n",
       "      <td>...</td>\n",
       "      <td>...</td>\n",
       "      <td>...</td>\n",
       "    </tr>\n",
       "    <tr>\n",
       "      <th>46188</th>\n",
       "      <td>-0.666667</td>\n",
       "      <td>12.627929</td>\n",
       "      <td>194.0</td>\n",
       "      <td>307</td>\n",
       "      <td>1.644324</td>\n",
       "      <td>0</td>\n",
       "      <td>13.21842</td>\n",
       "      <td>10.367677</td>\n",
       "    </tr>\n",
       "    <tr>\n",
       "      <th>46189</th>\n",
       "      <td>0.666667</td>\n",
       "      <td>12.640356</td>\n",
       "      <td>194.0</td>\n",
       "      <td>308</td>\n",
       "      <td>1.333807</td>\n",
       "      <td>0</td>\n",
       "      <td>13.21842</td>\n",
       "      <td>10.367677</td>\n",
       "    </tr>\n",
       "    <tr>\n",
       "      <th>46190</th>\n",
       "      <td>-0.499999</td>\n",
       "      <td>12.572883</td>\n",
       "      <td>194.0</td>\n",
       "      <td>309</td>\n",
       "      <td>1.589936</td>\n",
       "      <td>0</td>\n",
       "      <td>13.21842</td>\n",
       "      <td>10.367677</td>\n",
       "    </tr>\n",
       "    <tr>\n",
       "      <th>46191</th>\n",
       "      <td>-0.999999</td>\n",
       "      <td>12.593616</td>\n",
       "      <td>194.0</td>\n",
       "      <td>310</td>\n",
       "      <td>1.719123</td>\n",
       "      <td>0</td>\n",
       "      <td>13.21842</td>\n",
       "      <td>10.367677</td>\n",
       "    </tr>\n",
       "    <tr>\n",
       "      <th>46192</th>\n",
       "      <td>1.000001</td>\n",
       "      <td>12.588935</td>\n",
       "      <td>194.0</td>\n",
       "      <td>311</td>\n",
       "      <td>1.249465</td>\n",
       "      <td>0</td>\n",
       "      <td>13.21842</td>\n",
       "      <td>10.367677</td>\n",
       "    </tr>\n",
       "  </tbody>\n",
       "</table>\n",
       "<p>46193 rows × 8 columns</p>\n",
       "</div>"
      ],
      "text/plain": [
       "        targets      preds    ids  step     error  model_id  \\\n",
       "0     -5.999999  12.525763    0.0     0  3.192929         0   \n",
       "1     -8.499998  12.481745    0.0     1  4.095625         0   \n",
       "2     -8.000000  12.497239    0.0     2  3.908659         0   \n",
       "3     -8.000000  12.498789    0.0     3  3.909250         0   \n",
       "4     -8.999998  12.488508    0.0     4  4.295854         0   \n",
       "...         ...        ...    ...   ...       ...       ...   \n",
       "46188 -0.666667  12.627929  194.0   307  1.644324         0   \n",
       "46189  0.666667  12.640356  194.0   308  1.333807         0   \n",
       "46190 -0.499999  12.572883  194.0   309  1.589936         0   \n",
       "46191 -0.999999  12.593616  194.0   310  1.719123         0   \n",
       "46192  1.000001  12.588935  194.0   311  1.249465         0   \n",
       "\n",
       "       mean_train_target  std_train_target  \n",
       "0               13.21842         10.367677  \n",
       "1               13.21842         10.367677  \n",
       "2               13.21842         10.367677  \n",
       "3               13.21842         10.367677  \n",
       "4               13.21842         10.367677  \n",
       "...                  ...               ...  \n",
       "46188           13.21842         10.367677  \n",
       "46189           13.21842         10.367677  \n",
       "46190           13.21842         10.367677  \n",
       "46191           13.21842         10.367677  \n",
       "46192           13.21842         10.367677  \n",
       "\n",
       "[46193 rows x 8 columns]"
      ]
     },
     "execution_count": 75,
     "metadata": {},
     "output_type": "execute_result"
    }
   ],
   "source": [
    "pred_df"
   ]
  },
  {
   "cell_type": "code",
   "execution_count": 76,
   "id": "f398caed-a568-4a99-8e8f-a0eb06951672",
   "metadata": {},
   "outputs": [
    {
     "data": {
      "text/plain": [
       "'val'"
      ]
     },
     "execution_count": 76,
     "metadata": {},
     "output_type": "execute_result"
    }
   ],
   "source": [
    "dl_type"
   ]
  },
  {
   "cell_type": "code",
   "execution_count": 77,
   "id": "af466a4e",
   "metadata": {},
   "outputs": [],
   "source": [
    "N = 4\n",
    "\n",
    "# kick out pats with less than N measurements\n",
    "sal_df_min_N = sal_df[sal_df.groupby(\"pat_id\").step.transform(len) >= N]\n",
    "# calculate N averaged steps per patient\n",
    "averaged_df = []\n",
    "for pat_id in sal_df_min_N.pat_id.unique():\n",
    "    pat_df = sal_df_min_N[sal_df_min_N.pat_id == pat_id]\n",
    "    parts = np.array_split(pat_df, N)\n",
    "    for part in parts:\n",
    "        averaged_df.append(part.mean())\n",
    "averaged_df = pd.DataFrame(averaged_df)"
   ]
  },
  {
   "cell_type": "code",
   "execution_count": 78,
   "id": "f9cb6806-1c27-4063-9875-24ff5dd941ed",
   "metadata": {},
   "outputs": [
    {
     "data": {
      "text/plain": [
       "Index(['targets', 'preds', 'ids', 'step', 'error', 'model_id',\n",
       "       'mean_train_target', 'std_train_target'],\n",
       "      dtype='object')"
      ]
     },
     "execution_count": 78,
     "metadata": {},
     "output_type": "execute_result"
    }
   ],
   "source": [
    "pred_df.columns"
   ]
  },
  {
   "cell_type": "code",
   "execution_count": 79,
   "id": "073eddaf-e54e-4017-8e7b-54355ff1d0bd",
   "metadata": {},
   "outputs": [],
   "source": [
    "# do the same as above for pred_df\n",
    "\n",
    "# kick out pats with less than N measurements\n",
    "pred_df_min_N = pred_df[pred_df.groupby(\"ids\").step.transform(len) >= N]\n",
    "# calculate N averaged steps per patient\n",
    "averaged_pred_df = []\n",
    "for pat_id in pred_df_min_N.ids.unique():\n",
    "    pat_df = pred_df_min_N[pred_df_min_N.ids == pat_id]\n",
    "    parts = np.array_split(pred_df_min_N, N)\n",
    "    for part in parts:\n",
    "        mean_part = part.mean()\n",
    "        mean_part = mean_part / mean_part.sum()\n",
    "        averaged_pred_df.append(mean_part)\n",
    "averaged_pred_df = pd.DataFrame(averaged_pred_df)"
   ]
  },
  {
   "cell_type": "code",
   "execution_count": 80,
   "id": "57e3204e-dd8e-4d94-938b-aa33cf06f1e5",
   "metadata": {},
   "outputs": [
    {
     "data": {
      "text/html": [
       "<div>\n",
       "<style scoped>\n",
       "    .dataframe tbody tr th:only-of-type {\n",
       "        vertical-align: middle;\n",
       "    }\n",
       "\n",
       "    .dataframe tbody tr th {\n",
       "        vertical-align: top;\n",
       "    }\n",
       "\n",
       "    .dataframe thead th {\n",
       "        text-align: right;\n",
       "    }\n",
       "</style>\n",
       "<table border=\"1\" class=\"dataframe\">\n",
       "  <thead>\n",
       "    <tr style=\"text-align: right;\">\n",
       "      <th></th>\n",
       "      <th>targets</th>\n",
       "      <th>preds</th>\n",
       "      <th>ids</th>\n",
       "      <th>step</th>\n",
       "      <th>error</th>\n",
       "      <th>model_id</th>\n",
       "      <th>mean_train_target</th>\n",
       "      <th>std_train_target</th>\n",
       "    </tr>\n",
       "  </thead>\n",
       "  <tbody>\n",
       "    <tr>\n",
       "      <th>0</th>\n",
       "      <td>0.039172</td>\n",
       "      <td>0.039177</td>\n",
       "      <td>0.062874</td>\n",
       "      <td>0.782946</td>\n",
       "      <td>0.002327</td>\n",
       "      <td>0.0</td>\n",
       "      <td>0.041194</td>\n",
       "      <td>0.032310</td>\n",
       "    </tr>\n",
       "    <tr>\n",
       "      <th>1</th>\n",
       "      <td>0.038336</td>\n",
       "      <td>0.039838</td>\n",
       "      <td>0.181674</td>\n",
       "      <td>0.663907</td>\n",
       "      <td>0.002027</td>\n",
       "      <td>0.0</td>\n",
       "      <td>0.041594</td>\n",
       "      <td>0.032624</td>\n",
       "    </tr>\n",
       "    <tr>\n",
       "      <th>2</th>\n",
       "      <td>0.040318</td>\n",
       "      <td>0.039930</td>\n",
       "      <td>0.343915</td>\n",
       "      <td>0.494897</td>\n",
       "      <td>0.006074</td>\n",
       "      <td>0.0</td>\n",
       "      <td>0.041957</td>\n",
       "      <td>0.032909</td>\n",
       "    </tr>\n",
       "    <tr>\n",
       "      <th>3</th>\n",
       "      <td>0.039604</td>\n",
       "      <td>0.035028</td>\n",
       "      <td>0.454095</td>\n",
       "      <td>0.401598</td>\n",
       "      <td>0.003582</td>\n",
       "      <td>0.0</td>\n",
       "      <td>0.037041</td>\n",
       "      <td>0.029053</td>\n",
       "    </tr>\n",
       "    <tr>\n",
       "      <th>4</th>\n",
       "      <td>0.039172</td>\n",
       "      <td>0.039177</td>\n",
       "      <td>0.062874</td>\n",
       "      <td>0.782946</td>\n",
       "      <td>0.002327</td>\n",
       "      <td>0.0</td>\n",
       "      <td>0.041194</td>\n",
       "      <td>0.032310</td>\n",
       "    </tr>\n",
       "    <tr>\n",
       "      <th>...</th>\n",
       "      <td>...</td>\n",
       "      <td>...</td>\n",
       "      <td>...</td>\n",
       "      <td>...</td>\n",
       "      <td>...</td>\n",
       "      <td>...</td>\n",
       "      <td>...</td>\n",
       "      <td>...</td>\n",
       "    </tr>\n",
       "    <tr>\n",
       "      <th>775</th>\n",
       "      <td>0.039604</td>\n",
       "      <td>0.035028</td>\n",
       "      <td>0.454095</td>\n",
       "      <td>0.401598</td>\n",
       "      <td>0.003582</td>\n",
       "      <td>0.0</td>\n",
       "      <td>0.037041</td>\n",
       "      <td>0.029053</td>\n",
       "    </tr>\n",
       "    <tr>\n",
       "      <th>776</th>\n",
       "      <td>0.039172</td>\n",
       "      <td>0.039177</td>\n",
       "      <td>0.062874</td>\n",
       "      <td>0.782946</td>\n",
       "      <td>0.002327</td>\n",
       "      <td>0.0</td>\n",
       "      <td>0.041194</td>\n",
       "      <td>0.032310</td>\n",
       "    </tr>\n",
       "    <tr>\n",
       "      <th>777</th>\n",
       "      <td>0.038336</td>\n",
       "      <td>0.039838</td>\n",
       "      <td>0.181674</td>\n",
       "      <td>0.663907</td>\n",
       "      <td>0.002027</td>\n",
       "      <td>0.0</td>\n",
       "      <td>0.041594</td>\n",
       "      <td>0.032624</td>\n",
       "    </tr>\n",
       "    <tr>\n",
       "      <th>778</th>\n",
       "      <td>0.040318</td>\n",
       "      <td>0.039930</td>\n",
       "      <td>0.343915</td>\n",
       "      <td>0.494897</td>\n",
       "      <td>0.006074</td>\n",
       "      <td>0.0</td>\n",
       "      <td>0.041957</td>\n",
       "      <td>0.032909</td>\n",
       "    </tr>\n",
       "    <tr>\n",
       "      <th>779</th>\n",
       "      <td>0.039604</td>\n",
       "      <td>0.035028</td>\n",
       "      <td>0.454095</td>\n",
       "      <td>0.401598</td>\n",
       "      <td>0.003582</td>\n",
       "      <td>0.0</td>\n",
       "      <td>0.037041</td>\n",
       "      <td>0.029053</td>\n",
       "    </tr>\n",
       "  </tbody>\n",
       "</table>\n",
       "<p>780 rows × 8 columns</p>\n",
       "</div>"
      ],
      "text/plain": [
       "      targets     preds       ids      step     error  model_id  \\\n",
       "0    0.039172  0.039177  0.062874  0.782946  0.002327       0.0   \n",
       "1    0.038336  0.039838  0.181674  0.663907  0.002027       0.0   \n",
       "2    0.040318  0.039930  0.343915  0.494897  0.006074       0.0   \n",
       "3    0.039604  0.035028  0.454095  0.401598  0.003582       0.0   \n",
       "4    0.039172  0.039177  0.062874  0.782946  0.002327       0.0   \n",
       "..        ...       ...       ...       ...       ...       ...   \n",
       "775  0.039604  0.035028  0.454095  0.401598  0.003582       0.0   \n",
       "776  0.039172  0.039177  0.062874  0.782946  0.002327       0.0   \n",
       "777  0.038336  0.039838  0.181674  0.663907  0.002027       0.0   \n",
       "778  0.040318  0.039930  0.343915  0.494897  0.006074       0.0   \n",
       "779  0.039604  0.035028  0.454095  0.401598  0.003582       0.0   \n",
       "\n",
       "     mean_train_target  std_train_target  \n",
       "0             0.041194          0.032310  \n",
       "1             0.041594          0.032624  \n",
       "2             0.041957          0.032909  \n",
       "3             0.037041          0.029053  \n",
       "4             0.041194          0.032310  \n",
       "..                 ...               ...  \n",
       "775           0.037041          0.029053  \n",
       "776           0.041194          0.032310  \n",
       "777           0.041594          0.032624  \n",
       "778           0.041957          0.032909  \n",
       "779           0.037041          0.029053  \n",
       "\n",
       "[780 rows x 8 columns]"
      ]
     },
     "execution_count": 80,
     "metadata": {},
     "output_type": "execute_result"
    }
   ],
   "source": [
    "averaged_pred_df"
   ]
  },
  {
   "cell_type": "code",
   "execution_count": 81,
   "id": "47337142-892f-4959-a504-03e6905919de",
   "metadata": {},
   "outputs": [],
   "source": [
    "#averaged_df"
   ]
  },
  {
   "cell_type": "code",
   "execution_count": 82,
   "id": "125955d1-41d0-4fb1-8cd0-d3784df5d6f6",
   "metadata": {},
   "outputs": [
    {
     "data": {
      "text/html": [
       "<div>\n",
       "<style scoped>\n",
       "    .dataframe tbody tr th:only-of-type {\n",
       "        vertical-align: middle;\n",
       "    }\n",
       "\n",
       "    .dataframe tbody tr th {\n",
       "        vertical-align: top;\n",
       "    }\n",
       "\n",
       "    .dataframe thead th {\n",
       "        text-align: right;\n",
       "    }\n",
       "</style>\n",
       "<table border=\"1\" class=\"dataframe\">\n",
       "  <thead>\n",
       "    <tr style=\"text-align: right;\">\n",
       "      <th></th>\n",
       "      <th>rel_time</th>\n",
       "      <th>AF_Vital</th>\n",
       "      <th>AF_Vital_std</th>\n",
       "      <th>ALT_Labor</th>\n",
       "      <th>AST_Labor</th>\n",
       "      <th>Albumin_Labor</th>\n",
       "      <th>Bili_BGA</th>\n",
       "      <th>CK_Labor</th>\n",
       "      <th>CRP_Labor</th>\n",
       "      <th>Ca_BGA</th>\n",
       "      <th>...</th>\n",
       "      <th>Geschlecht</th>\n",
       "      <th>Alpha Blocker_Med</th>\n",
       "      <th>Barbiturat_Med</th>\n",
       "      <th>Benzodiazepin_Med</th>\n",
       "      <th>Direkter Vasodilatator_Med</th>\n",
       "      <th>Katecholamin_Med</th>\n",
       "      <th>Narkotikum_Med</th>\n",
       "      <th>Opioid_Med</th>\n",
       "      <th>pat_id</th>\n",
       "      <th>step</th>\n",
       "    </tr>\n",
       "  </thead>\n",
       "  <tbody>\n",
       "    <tr>\n",
       "      <th>0</th>\n",
       "      <td>0.000256</td>\n",
       "      <td>-0.000208</td>\n",
       "      <td>-0.000091</td>\n",
       "      <td>-0.000066</td>\n",
       "      <td>-2.413047e-06</td>\n",
       "      <td>0.000028</td>\n",
       "      <td>0.000090</td>\n",
       "      <td>0.000057</td>\n",
       "      <td>9.457361e-05</td>\n",
       "      <td>-0.000217</td>\n",
       "      <td>...</td>\n",
       "      <td>0.000140</td>\n",
       "      <td>-0.000120</td>\n",
       "      <td>2.500730e-04</td>\n",
       "      <td>0.000062</td>\n",
       "      <td>0.000192</td>\n",
       "      <td>0.000155</td>\n",
       "      <td>0.000269</td>\n",
       "      <td>-0.000313</td>\n",
       "      <td>0.0</td>\n",
       "      <td>2.0</td>\n",
       "    </tr>\n",
       "    <tr>\n",
       "      <th>1</th>\n",
       "      <td>0.000273</td>\n",
       "      <td>-0.000198</td>\n",
       "      <td>-0.000052</td>\n",
       "      <td>-0.000198</td>\n",
       "      <td>-1.985858e-05</td>\n",
       "      <td>-0.000081</td>\n",
       "      <td>0.000183</td>\n",
       "      <td>0.000032</td>\n",
       "      <td>8.292617e-05</td>\n",
       "      <td>-0.000255</td>\n",
       "      <td>...</td>\n",
       "      <td>-0.000063</td>\n",
       "      <td>-0.000116</td>\n",
       "      <td>1.436663e-04</td>\n",
       "      <td>-0.000011</td>\n",
       "      <td>0.000084</td>\n",
       "      <td>0.000111</td>\n",
       "      <td>0.000339</td>\n",
       "      <td>-0.000247</td>\n",
       "      <td>0.0</td>\n",
       "      <td>7.0</td>\n",
       "    </tr>\n",
       "    <tr>\n",
       "      <th>2</th>\n",
       "      <td>0.000252</td>\n",
       "      <td>-0.000003</td>\n",
       "      <td>-0.000072</td>\n",
       "      <td>-0.000084</td>\n",
       "      <td>7.760990e-05</td>\n",
       "      <td>0.000152</td>\n",
       "      <td>0.000184</td>\n",
       "      <td>0.000148</td>\n",
       "      <td>-9.157560e-07</td>\n",
       "      <td>0.000075</td>\n",
       "      <td>...</td>\n",
       "      <td>-0.000008</td>\n",
       "      <td>0.000052</td>\n",
       "      <td>1.411473e-04</td>\n",
       "      <td>0.000104</td>\n",
       "      <td>0.000096</td>\n",
       "      <td>0.000180</td>\n",
       "      <td>0.000359</td>\n",
       "      <td>-0.000202</td>\n",
       "      <td>0.0</td>\n",
       "      <td>12.0</td>\n",
       "    </tr>\n",
       "    <tr>\n",
       "      <th>3</th>\n",
       "      <td>-0.000031</td>\n",
       "      <td>0.000165</td>\n",
       "      <td>0.000148</td>\n",
       "      <td>-0.000098</td>\n",
       "      <td>1.256237e-04</td>\n",
       "      <td>0.000021</td>\n",
       "      <td>0.000228</td>\n",
       "      <td>-0.000009</td>\n",
       "      <td>-1.447091e-05</td>\n",
       "      <td>0.000102</td>\n",
       "      <td>...</td>\n",
       "      <td>0.000155</td>\n",
       "      <td>-0.000090</td>\n",
       "      <td>2.150211e-05</td>\n",
       "      <td>0.000043</td>\n",
       "      <td>0.000106</td>\n",
       "      <td>-0.000093</td>\n",
       "      <td>0.000066</td>\n",
       "      <td>-0.000332</td>\n",
       "      <td>0.0</td>\n",
       "      <td>17.0</td>\n",
       "    </tr>\n",
       "    <tr>\n",
       "      <th>4</th>\n",
       "      <td>0.000016</td>\n",
       "      <td>-0.000032</td>\n",
       "      <td>0.000012</td>\n",
       "      <td>-0.000039</td>\n",
       "      <td>1.953259e-05</td>\n",
       "      <td>-0.000012</td>\n",
       "      <td>-0.000010</td>\n",
       "      <td>0.000049</td>\n",
       "      <td>-3.689033e-05</td>\n",
       "      <td>-0.000012</td>\n",
       "      <td>...</td>\n",
       "      <td>0.000013</td>\n",
       "      <td>-0.000009</td>\n",
       "      <td>6.540347e-06</td>\n",
       "      <td>-0.000040</td>\n",
       "      <td>-0.000023</td>\n",
       "      <td>-0.000003</td>\n",
       "      <td>0.000011</td>\n",
       "      <td>-0.000036</td>\n",
       "      <td>1.0</td>\n",
       "      <td>33.0</td>\n",
       "    </tr>\n",
       "    <tr>\n",
       "      <th>...</th>\n",
       "      <td>...</td>\n",
       "      <td>...</td>\n",
       "      <td>...</td>\n",
       "      <td>...</td>\n",
       "      <td>...</td>\n",
       "      <td>...</td>\n",
       "      <td>...</td>\n",
       "      <td>...</td>\n",
       "      <td>...</td>\n",
       "      <td>...</td>\n",
       "      <td>...</td>\n",
       "      <td>...</td>\n",
       "      <td>...</td>\n",
       "      <td>...</td>\n",
       "      <td>...</td>\n",
       "      <td>...</td>\n",
       "      <td>...</td>\n",
       "      <td>...</td>\n",
       "      <td>...</td>\n",
       "      <td>...</td>\n",
       "      <td>...</td>\n",
       "    </tr>\n",
       "    <tr>\n",
       "      <th>775</th>\n",
       "      <td>0.000034</td>\n",
       "      <td>0.000029</td>\n",
       "      <td>0.000016</td>\n",
       "      <td>0.000016</td>\n",
       "      <td>1.105887e-05</td>\n",
       "      <td>0.000023</td>\n",
       "      <td>-0.000004</td>\n",
       "      <td>-0.000010</td>\n",
       "      <td>1.580134e-05</td>\n",
       "      <td>-0.000037</td>\n",
       "      <td>...</td>\n",
       "      <td>0.000040</td>\n",
       "      <td>-0.000022</td>\n",
       "      <td>3.441002e-06</td>\n",
       "      <td>-0.000022</td>\n",
       "      <td>0.000034</td>\n",
       "      <td>0.000022</td>\n",
       "      <td>-0.000014</td>\n",
       "      <td>-0.000008</td>\n",
       "      <td>193.0</td>\n",
       "      <td>400.5</td>\n",
       "    </tr>\n",
       "    <tr>\n",
       "      <th>776</th>\n",
       "      <td>0.000045</td>\n",
       "      <td>0.000009</td>\n",
       "      <td>0.000035</td>\n",
       "      <td>-0.000027</td>\n",
       "      <td>5.314430e-07</td>\n",
       "      <td>0.000024</td>\n",
       "      <td>0.000006</td>\n",
       "      <td>0.000005</td>\n",
       "      <td>-4.869951e-06</td>\n",
       "      <td>-0.000010</td>\n",
       "      <td>...</td>\n",
       "      <td>0.000011</td>\n",
       "      <td>0.000009</td>\n",
       "      <td>3.759513e-07</td>\n",
       "      <td>-0.000015</td>\n",
       "      <td>0.000006</td>\n",
       "      <td>0.000012</td>\n",
       "      <td>0.000025</td>\n",
       "      <td>-0.000004</td>\n",
       "      <td>194.0</td>\n",
       "      <td>38.5</td>\n",
       "    </tr>\n",
       "    <tr>\n",
       "      <th>777</th>\n",
       "      <td>0.000030</td>\n",
       "      <td>0.000007</td>\n",
       "      <td>0.000023</td>\n",
       "      <td>-0.000021</td>\n",
       "      <td>-4.140792e-07</td>\n",
       "      <td>0.000021</td>\n",
       "      <td>0.000007</td>\n",
       "      <td>0.000008</td>\n",
       "      <td>-6.193588e-06</td>\n",
       "      <td>-0.000020</td>\n",
       "      <td>...</td>\n",
       "      <td>0.000032</td>\n",
       "      <td>0.000004</td>\n",
       "      <td>-6.352415e-06</td>\n",
       "      <td>-0.000028</td>\n",
       "      <td>0.000008</td>\n",
       "      <td>-0.000006</td>\n",
       "      <td>0.000005</td>\n",
       "      <td>-0.000019</td>\n",
       "      <td>194.0</td>\n",
       "      <td>116.5</td>\n",
       "    </tr>\n",
       "    <tr>\n",
       "      <th>778</th>\n",
       "      <td>0.000048</td>\n",
       "      <td>-0.000001</td>\n",
       "      <td>0.000035</td>\n",
       "      <td>-0.000030</td>\n",
       "      <td>5.742138e-06</td>\n",
       "      <td>0.000007</td>\n",
       "      <td>0.000020</td>\n",
       "      <td>0.000011</td>\n",
       "      <td>-1.770820e-05</td>\n",
       "      <td>-0.000010</td>\n",
       "      <td>...</td>\n",
       "      <td>0.000004</td>\n",
       "      <td>0.000013</td>\n",
       "      <td>-7.942022e-06</td>\n",
       "      <td>-0.000039</td>\n",
       "      <td>-0.000022</td>\n",
       "      <td>0.000009</td>\n",
       "      <td>0.000023</td>\n",
       "      <td>-0.000024</td>\n",
       "      <td>194.0</td>\n",
       "      <td>194.5</td>\n",
       "    </tr>\n",
       "    <tr>\n",
       "      <th>779</th>\n",
       "      <td>0.000096</td>\n",
       "      <td>0.000012</td>\n",
       "      <td>0.000044</td>\n",
       "      <td>-0.000053</td>\n",
       "      <td>2.057552e-05</td>\n",
       "      <td>0.000025</td>\n",
       "      <td>0.000051</td>\n",
       "      <td>0.000055</td>\n",
       "      <td>-3.738780e-05</td>\n",
       "      <td>-0.000037</td>\n",
       "      <td>...</td>\n",
       "      <td>-0.000020</td>\n",
       "      <td>0.000034</td>\n",
       "      <td>2.371541e-05</td>\n",
       "      <td>-0.000102</td>\n",
       "      <td>-0.000049</td>\n",
       "      <td>0.000022</td>\n",
       "      <td>-0.000012</td>\n",
       "      <td>-0.000059</td>\n",
       "      <td>194.0</td>\n",
       "      <td>272.5</td>\n",
       "    </tr>\n",
       "  </tbody>\n",
       "</table>\n",
       "<p>780 rows × 75 columns</p>\n",
       "</div>"
      ],
      "text/plain": [
       "     rel_time  AF_Vital  AF_Vital_std  ALT_Labor     AST_Labor  Albumin_Labor  \\\n",
       "0    0.000256 -0.000208     -0.000091  -0.000066 -2.413047e-06       0.000028   \n",
       "1    0.000273 -0.000198     -0.000052  -0.000198 -1.985858e-05      -0.000081   \n",
       "2    0.000252 -0.000003     -0.000072  -0.000084  7.760990e-05       0.000152   \n",
       "3   -0.000031  0.000165      0.000148  -0.000098  1.256237e-04       0.000021   \n",
       "4    0.000016 -0.000032      0.000012  -0.000039  1.953259e-05      -0.000012   \n",
       "..        ...       ...           ...        ...           ...            ...   \n",
       "775  0.000034  0.000029      0.000016   0.000016  1.105887e-05       0.000023   \n",
       "776  0.000045  0.000009      0.000035  -0.000027  5.314430e-07       0.000024   \n",
       "777  0.000030  0.000007      0.000023  -0.000021 -4.140792e-07       0.000021   \n",
       "778  0.000048 -0.000001      0.000035  -0.000030  5.742138e-06       0.000007   \n",
       "779  0.000096  0.000012      0.000044  -0.000053  2.057552e-05       0.000025   \n",
       "\n",
       "     Bili_BGA  CK_Labor     CRP_Labor    Ca_BGA  ...  Geschlecht  \\\n",
       "0    0.000090  0.000057  9.457361e-05 -0.000217  ...    0.000140   \n",
       "1    0.000183  0.000032  8.292617e-05 -0.000255  ...   -0.000063   \n",
       "2    0.000184  0.000148 -9.157560e-07  0.000075  ...   -0.000008   \n",
       "3    0.000228 -0.000009 -1.447091e-05  0.000102  ...    0.000155   \n",
       "4   -0.000010  0.000049 -3.689033e-05 -0.000012  ...    0.000013   \n",
       "..        ...       ...           ...       ...  ...         ...   \n",
       "775 -0.000004 -0.000010  1.580134e-05 -0.000037  ...    0.000040   \n",
       "776  0.000006  0.000005 -4.869951e-06 -0.000010  ...    0.000011   \n",
       "777  0.000007  0.000008 -6.193588e-06 -0.000020  ...    0.000032   \n",
       "778  0.000020  0.000011 -1.770820e-05 -0.000010  ...    0.000004   \n",
       "779  0.000051  0.000055 -3.738780e-05 -0.000037  ...   -0.000020   \n",
       "\n",
       "     Alpha Blocker_Med  Barbiturat_Med  Benzodiazepin_Med  \\\n",
       "0            -0.000120    2.500730e-04           0.000062   \n",
       "1            -0.000116    1.436663e-04          -0.000011   \n",
       "2             0.000052    1.411473e-04           0.000104   \n",
       "3            -0.000090    2.150211e-05           0.000043   \n",
       "4            -0.000009    6.540347e-06          -0.000040   \n",
       "..                 ...             ...                ...   \n",
       "775          -0.000022    3.441002e-06          -0.000022   \n",
       "776           0.000009    3.759513e-07          -0.000015   \n",
       "777           0.000004   -6.352415e-06          -0.000028   \n",
       "778           0.000013   -7.942022e-06          -0.000039   \n",
       "779           0.000034    2.371541e-05          -0.000102   \n",
       "\n",
       "     Direkter Vasodilatator_Med  Katecholamin_Med  Narkotikum_Med  Opioid_Med  \\\n",
       "0                      0.000192          0.000155        0.000269   -0.000313   \n",
       "1                      0.000084          0.000111        0.000339   -0.000247   \n",
       "2                      0.000096          0.000180        0.000359   -0.000202   \n",
       "3                      0.000106         -0.000093        0.000066   -0.000332   \n",
       "4                     -0.000023         -0.000003        0.000011   -0.000036   \n",
       "..                          ...               ...             ...         ...   \n",
       "775                    0.000034          0.000022       -0.000014   -0.000008   \n",
       "776                    0.000006          0.000012        0.000025   -0.000004   \n",
       "777                    0.000008         -0.000006        0.000005   -0.000019   \n",
       "778                   -0.000022          0.000009        0.000023   -0.000024   \n",
       "779                   -0.000049          0.000022       -0.000012   -0.000059   \n",
       "\n",
       "     pat_id   step  \n",
       "0       0.0    2.0  \n",
       "1       0.0    7.0  \n",
       "2       0.0   12.0  \n",
       "3       0.0   17.0  \n",
       "4       1.0   33.0  \n",
       "..      ...    ...  \n",
       "775   193.0  400.5  \n",
       "776   194.0   38.5  \n",
       "777   194.0  116.5  \n",
       "778   194.0  194.5  \n",
       "779   194.0  272.5  \n",
       "\n",
       "[780 rows x 75 columns]"
      ]
     },
     "execution_count": 82,
     "metadata": {},
     "output_type": "execute_result"
    }
   ],
   "source": [
    "averaged_df"
   ]
  },
  {
   "cell_type": "code",
   "execution_count": 83,
   "id": "966c2a0f",
   "metadata": {},
   "outputs": [],
   "source": [
    "# train umap on averaged steps\n",
    "from umap import UMAP\n",
    "umapper = UMAP(n_neighbors=10, min_dist=0.1)\n",
    "sal_data = averaged_df.drop(columns=[\"pat_id\", \"step\"])\n",
    "umap_embedding = umapper.fit_transform(sal_data)"
   ]
  },
  {
   "cell_type": "code",
   "execution_count": 84,
   "id": "1441d18e",
   "metadata": {},
   "outputs": [
    {
     "data": {
      "text/html": [
       "<div>\n",
       "<style scoped>\n",
       "    .dataframe tbody tr th:only-of-type {\n",
       "        vertical-align: middle;\n",
       "    }\n",
       "\n",
       "    .dataframe tbody tr th {\n",
       "        vertical-align: top;\n",
       "    }\n",
       "\n",
       "    .dataframe thead th {\n",
       "        text-align: right;\n",
       "    }\n",
       "</style>\n",
       "<table border=\"1\" class=\"dataframe\">\n",
       "  <thead>\n",
       "    <tr style=\"text-align: right;\">\n",
       "      <th></th>\n",
       "      <th>rel_time</th>\n",
       "      <th>AF_Vital</th>\n",
       "      <th>AF_Vital_std</th>\n",
       "      <th>ALT_Labor</th>\n",
       "      <th>AST_Labor</th>\n",
       "      <th>Albumin_Labor</th>\n",
       "      <th>Bili_BGA</th>\n",
       "      <th>CK_Labor</th>\n",
       "      <th>CRP_Labor</th>\n",
       "      <th>Ca_BGA</th>\n",
       "      <th>...</th>\n",
       "      <th>Geschlecht</th>\n",
       "      <th>Alpha Blocker_Med</th>\n",
       "      <th>Barbiturat_Med</th>\n",
       "      <th>Benzodiazepin_Med</th>\n",
       "      <th>Direkter Vasodilatator_Med</th>\n",
       "      <th>Katecholamin_Med</th>\n",
       "      <th>Narkotikum_Med</th>\n",
       "      <th>Opioid_Med</th>\n",
       "      <th>pat_id</th>\n",
       "      <th>step</th>\n",
       "    </tr>\n",
       "  </thead>\n",
       "  <tbody>\n",
       "    <tr>\n",
       "      <th>0</th>\n",
       "      <td>0.000256</td>\n",
       "      <td>-0.000208</td>\n",
       "      <td>-0.000091</td>\n",
       "      <td>-0.000066</td>\n",
       "      <td>-2.413047e-06</td>\n",
       "      <td>0.000028</td>\n",
       "      <td>0.000090</td>\n",
       "      <td>0.000057</td>\n",
       "      <td>9.457361e-05</td>\n",
       "      <td>-0.000217</td>\n",
       "      <td>...</td>\n",
       "      <td>0.000140</td>\n",
       "      <td>-0.000120</td>\n",
       "      <td>2.500730e-04</td>\n",
       "      <td>0.000062</td>\n",
       "      <td>0.000192</td>\n",
       "      <td>0.000155</td>\n",
       "      <td>0.000269</td>\n",
       "      <td>-0.000313</td>\n",
       "      <td>0.0</td>\n",
       "      <td>2.0</td>\n",
       "    </tr>\n",
       "    <tr>\n",
       "      <th>1</th>\n",
       "      <td>0.000273</td>\n",
       "      <td>-0.000198</td>\n",
       "      <td>-0.000052</td>\n",
       "      <td>-0.000198</td>\n",
       "      <td>-1.985858e-05</td>\n",
       "      <td>-0.000081</td>\n",
       "      <td>0.000183</td>\n",
       "      <td>0.000032</td>\n",
       "      <td>8.292617e-05</td>\n",
       "      <td>-0.000255</td>\n",
       "      <td>...</td>\n",
       "      <td>-0.000063</td>\n",
       "      <td>-0.000116</td>\n",
       "      <td>1.436663e-04</td>\n",
       "      <td>-0.000011</td>\n",
       "      <td>0.000084</td>\n",
       "      <td>0.000111</td>\n",
       "      <td>0.000339</td>\n",
       "      <td>-0.000247</td>\n",
       "      <td>0.0</td>\n",
       "      <td>7.0</td>\n",
       "    </tr>\n",
       "    <tr>\n",
       "      <th>2</th>\n",
       "      <td>0.000252</td>\n",
       "      <td>-0.000003</td>\n",
       "      <td>-0.000072</td>\n",
       "      <td>-0.000084</td>\n",
       "      <td>7.760990e-05</td>\n",
       "      <td>0.000152</td>\n",
       "      <td>0.000184</td>\n",
       "      <td>0.000148</td>\n",
       "      <td>-9.157560e-07</td>\n",
       "      <td>0.000075</td>\n",
       "      <td>...</td>\n",
       "      <td>-0.000008</td>\n",
       "      <td>0.000052</td>\n",
       "      <td>1.411473e-04</td>\n",
       "      <td>0.000104</td>\n",
       "      <td>0.000096</td>\n",
       "      <td>0.000180</td>\n",
       "      <td>0.000359</td>\n",
       "      <td>-0.000202</td>\n",
       "      <td>0.0</td>\n",
       "      <td>12.0</td>\n",
       "    </tr>\n",
       "    <tr>\n",
       "      <th>3</th>\n",
       "      <td>-0.000031</td>\n",
       "      <td>0.000165</td>\n",
       "      <td>0.000148</td>\n",
       "      <td>-0.000098</td>\n",
       "      <td>1.256237e-04</td>\n",
       "      <td>0.000021</td>\n",
       "      <td>0.000228</td>\n",
       "      <td>-0.000009</td>\n",
       "      <td>-1.447091e-05</td>\n",
       "      <td>0.000102</td>\n",
       "      <td>...</td>\n",
       "      <td>0.000155</td>\n",
       "      <td>-0.000090</td>\n",
       "      <td>2.150211e-05</td>\n",
       "      <td>0.000043</td>\n",
       "      <td>0.000106</td>\n",
       "      <td>-0.000093</td>\n",
       "      <td>0.000066</td>\n",
       "      <td>-0.000332</td>\n",
       "      <td>0.0</td>\n",
       "      <td>17.0</td>\n",
       "    </tr>\n",
       "    <tr>\n",
       "      <th>4</th>\n",
       "      <td>0.000016</td>\n",
       "      <td>-0.000032</td>\n",
       "      <td>0.000012</td>\n",
       "      <td>-0.000039</td>\n",
       "      <td>1.953259e-05</td>\n",
       "      <td>-0.000012</td>\n",
       "      <td>-0.000010</td>\n",
       "      <td>0.000049</td>\n",
       "      <td>-3.689033e-05</td>\n",
       "      <td>-0.000012</td>\n",
       "      <td>...</td>\n",
       "      <td>0.000013</td>\n",
       "      <td>-0.000009</td>\n",
       "      <td>6.540347e-06</td>\n",
       "      <td>-0.000040</td>\n",
       "      <td>-0.000023</td>\n",
       "      <td>-0.000003</td>\n",
       "      <td>0.000011</td>\n",
       "      <td>-0.000036</td>\n",
       "      <td>1.0</td>\n",
       "      <td>33.0</td>\n",
       "    </tr>\n",
       "    <tr>\n",
       "      <th>...</th>\n",
       "      <td>...</td>\n",
       "      <td>...</td>\n",
       "      <td>...</td>\n",
       "      <td>...</td>\n",
       "      <td>...</td>\n",
       "      <td>...</td>\n",
       "      <td>...</td>\n",
       "      <td>...</td>\n",
       "      <td>...</td>\n",
       "      <td>...</td>\n",
       "      <td>...</td>\n",
       "      <td>...</td>\n",
       "      <td>...</td>\n",
       "      <td>...</td>\n",
       "      <td>...</td>\n",
       "      <td>...</td>\n",
       "      <td>...</td>\n",
       "      <td>...</td>\n",
       "      <td>...</td>\n",
       "      <td>...</td>\n",
       "      <td>...</td>\n",
       "    </tr>\n",
       "    <tr>\n",
       "      <th>775</th>\n",
       "      <td>0.000034</td>\n",
       "      <td>0.000029</td>\n",
       "      <td>0.000016</td>\n",
       "      <td>0.000016</td>\n",
       "      <td>1.105887e-05</td>\n",
       "      <td>0.000023</td>\n",
       "      <td>-0.000004</td>\n",
       "      <td>-0.000010</td>\n",
       "      <td>1.580134e-05</td>\n",
       "      <td>-0.000037</td>\n",
       "      <td>...</td>\n",
       "      <td>0.000040</td>\n",
       "      <td>-0.000022</td>\n",
       "      <td>3.441002e-06</td>\n",
       "      <td>-0.000022</td>\n",
       "      <td>0.000034</td>\n",
       "      <td>0.000022</td>\n",
       "      <td>-0.000014</td>\n",
       "      <td>-0.000008</td>\n",
       "      <td>193.0</td>\n",
       "      <td>400.5</td>\n",
       "    </tr>\n",
       "    <tr>\n",
       "      <th>776</th>\n",
       "      <td>0.000045</td>\n",
       "      <td>0.000009</td>\n",
       "      <td>0.000035</td>\n",
       "      <td>-0.000027</td>\n",
       "      <td>5.314430e-07</td>\n",
       "      <td>0.000024</td>\n",
       "      <td>0.000006</td>\n",
       "      <td>0.000005</td>\n",
       "      <td>-4.869951e-06</td>\n",
       "      <td>-0.000010</td>\n",
       "      <td>...</td>\n",
       "      <td>0.000011</td>\n",
       "      <td>0.000009</td>\n",
       "      <td>3.759513e-07</td>\n",
       "      <td>-0.000015</td>\n",
       "      <td>0.000006</td>\n",
       "      <td>0.000012</td>\n",
       "      <td>0.000025</td>\n",
       "      <td>-0.000004</td>\n",
       "      <td>194.0</td>\n",
       "      <td>38.5</td>\n",
       "    </tr>\n",
       "    <tr>\n",
       "      <th>777</th>\n",
       "      <td>0.000030</td>\n",
       "      <td>0.000007</td>\n",
       "      <td>0.000023</td>\n",
       "      <td>-0.000021</td>\n",
       "      <td>-4.140792e-07</td>\n",
       "      <td>0.000021</td>\n",
       "      <td>0.000007</td>\n",
       "      <td>0.000008</td>\n",
       "      <td>-6.193588e-06</td>\n",
       "      <td>-0.000020</td>\n",
       "      <td>...</td>\n",
       "      <td>0.000032</td>\n",
       "      <td>0.000004</td>\n",
       "      <td>-6.352415e-06</td>\n",
       "      <td>-0.000028</td>\n",
       "      <td>0.000008</td>\n",
       "      <td>-0.000006</td>\n",
       "      <td>0.000005</td>\n",
       "      <td>-0.000019</td>\n",
       "      <td>194.0</td>\n",
       "      <td>116.5</td>\n",
       "    </tr>\n",
       "    <tr>\n",
       "      <th>778</th>\n",
       "      <td>0.000048</td>\n",
       "      <td>-0.000001</td>\n",
       "      <td>0.000035</td>\n",
       "      <td>-0.000030</td>\n",
       "      <td>5.742138e-06</td>\n",
       "      <td>0.000007</td>\n",
       "      <td>0.000020</td>\n",
       "      <td>0.000011</td>\n",
       "      <td>-1.770820e-05</td>\n",
       "      <td>-0.000010</td>\n",
       "      <td>...</td>\n",
       "      <td>0.000004</td>\n",
       "      <td>0.000013</td>\n",
       "      <td>-7.942022e-06</td>\n",
       "      <td>-0.000039</td>\n",
       "      <td>-0.000022</td>\n",
       "      <td>0.000009</td>\n",
       "      <td>0.000023</td>\n",
       "      <td>-0.000024</td>\n",
       "      <td>194.0</td>\n",
       "      <td>194.5</td>\n",
       "    </tr>\n",
       "    <tr>\n",
       "      <th>779</th>\n",
       "      <td>0.000096</td>\n",
       "      <td>0.000012</td>\n",
       "      <td>0.000044</td>\n",
       "      <td>-0.000053</td>\n",
       "      <td>2.057552e-05</td>\n",
       "      <td>0.000025</td>\n",
       "      <td>0.000051</td>\n",
       "      <td>0.000055</td>\n",
       "      <td>-3.738780e-05</td>\n",
       "      <td>-0.000037</td>\n",
       "      <td>...</td>\n",
       "      <td>-0.000020</td>\n",
       "      <td>0.000034</td>\n",
       "      <td>2.371541e-05</td>\n",
       "      <td>-0.000102</td>\n",
       "      <td>-0.000049</td>\n",
       "      <td>0.000022</td>\n",
       "      <td>-0.000012</td>\n",
       "      <td>-0.000059</td>\n",
       "      <td>194.0</td>\n",
       "      <td>272.5</td>\n",
       "    </tr>\n",
       "  </tbody>\n",
       "</table>\n",
       "<p>780 rows × 75 columns</p>\n",
       "</div>"
      ],
      "text/plain": [
       "     rel_time  AF_Vital  AF_Vital_std  ALT_Labor     AST_Labor  Albumin_Labor  \\\n",
       "0    0.000256 -0.000208     -0.000091  -0.000066 -2.413047e-06       0.000028   \n",
       "1    0.000273 -0.000198     -0.000052  -0.000198 -1.985858e-05      -0.000081   \n",
       "2    0.000252 -0.000003     -0.000072  -0.000084  7.760990e-05       0.000152   \n",
       "3   -0.000031  0.000165      0.000148  -0.000098  1.256237e-04       0.000021   \n",
       "4    0.000016 -0.000032      0.000012  -0.000039  1.953259e-05      -0.000012   \n",
       "..        ...       ...           ...        ...           ...            ...   \n",
       "775  0.000034  0.000029      0.000016   0.000016  1.105887e-05       0.000023   \n",
       "776  0.000045  0.000009      0.000035  -0.000027  5.314430e-07       0.000024   \n",
       "777  0.000030  0.000007      0.000023  -0.000021 -4.140792e-07       0.000021   \n",
       "778  0.000048 -0.000001      0.000035  -0.000030  5.742138e-06       0.000007   \n",
       "779  0.000096  0.000012      0.000044  -0.000053  2.057552e-05       0.000025   \n",
       "\n",
       "     Bili_BGA  CK_Labor     CRP_Labor    Ca_BGA  ...  Geschlecht  \\\n",
       "0    0.000090  0.000057  9.457361e-05 -0.000217  ...    0.000140   \n",
       "1    0.000183  0.000032  8.292617e-05 -0.000255  ...   -0.000063   \n",
       "2    0.000184  0.000148 -9.157560e-07  0.000075  ...   -0.000008   \n",
       "3    0.000228 -0.000009 -1.447091e-05  0.000102  ...    0.000155   \n",
       "4   -0.000010  0.000049 -3.689033e-05 -0.000012  ...    0.000013   \n",
       "..        ...       ...           ...       ...  ...         ...   \n",
       "775 -0.000004 -0.000010  1.580134e-05 -0.000037  ...    0.000040   \n",
       "776  0.000006  0.000005 -4.869951e-06 -0.000010  ...    0.000011   \n",
       "777  0.000007  0.000008 -6.193588e-06 -0.000020  ...    0.000032   \n",
       "778  0.000020  0.000011 -1.770820e-05 -0.000010  ...    0.000004   \n",
       "779  0.000051  0.000055 -3.738780e-05 -0.000037  ...   -0.000020   \n",
       "\n",
       "     Alpha Blocker_Med  Barbiturat_Med  Benzodiazepin_Med  \\\n",
       "0            -0.000120    2.500730e-04           0.000062   \n",
       "1            -0.000116    1.436663e-04          -0.000011   \n",
       "2             0.000052    1.411473e-04           0.000104   \n",
       "3            -0.000090    2.150211e-05           0.000043   \n",
       "4            -0.000009    6.540347e-06          -0.000040   \n",
       "..                 ...             ...                ...   \n",
       "775          -0.000022    3.441002e-06          -0.000022   \n",
       "776           0.000009    3.759513e-07          -0.000015   \n",
       "777           0.000004   -6.352415e-06          -0.000028   \n",
       "778           0.000013   -7.942022e-06          -0.000039   \n",
       "779           0.000034    2.371541e-05          -0.000102   \n",
       "\n",
       "     Direkter Vasodilatator_Med  Katecholamin_Med  Narkotikum_Med  Opioid_Med  \\\n",
       "0                      0.000192          0.000155        0.000269   -0.000313   \n",
       "1                      0.000084          0.000111        0.000339   -0.000247   \n",
       "2                      0.000096          0.000180        0.000359   -0.000202   \n",
       "3                      0.000106         -0.000093        0.000066   -0.000332   \n",
       "4                     -0.000023         -0.000003        0.000011   -0.000036   \n",
       "..                          ...               ...             ...         ...   \n",
       "775                    0.000034          0.000022       -0.000014   -0.000008   \n",
       "776                    0.000006          0.000012        0.000025   -0.000004   \n",
       "777                    0.000008         -0.000006        0.000005   -0.000019   \n",
       "778                   -0.000022          0.000009        0.000023   -0.000024   \n",
       "779                   -0.000049          0.000022       -0.000012   -0.000059   \n",
       "\n",
       "     pat_id   step  \n",
       "0       0.0    2.0  \n",
       "1       0.0    7.0  \n",
       "2       0.0   12.0  \n",
       "3       0.0   17.0  \n",
       "4       1.0   33.0  \n",
       "..      ...    ...  \n",
       "775   193.0  400.5  \n",
       "776   194.0   38.5  \n",
       "777   194.0  116.5  \n",
       "778   194.0  194.5  \n",
       "779   194.0  272.5  \n",
       "\n",
       "[780 rows x 75 columns]"
      ]
     },
     "execution_count": 84,
     "metadata": {},
     "output_type": "execute_result"
    }
   ],
   "source": [
    "averaged_df"
   ]
  },
  {
   "cell_type": "code",
   "execution_count": 85,
   "id": "a6e9c1b9",
   "metadata": {},
   "outputs": [
    {
     "ename": "ImportError",
     "evalue": "umap.plot requires pandas matplotlib datashader bokeh holoviews scikit-image and colorcet to be installed",
     "output_type": "error",
     "traceback": [
      "\u001b[0;31m---------------------------------------------------------------------------\u001b[0m",
      "\u001b[0;31mImportError\u001b[0m                               Traceback (most recent call last)",
      "\u001b[0;32m/tmp/ipykernel_1786558/2409604627.py\u001b[0m in \u001b[0;36m<module>\u001b[0;34m\u001b[0m\n\u001b[1;32m      1\u001b[0m \u001b[0;31m# plot umap\u001b[0m\u001b[0;34m\u001b[0m\u001b[0;34m\u001b[0m\u001b[0;34m\u001b[0m\u001b[0m\n\u001b[0;32m----> 2\u001b[0;31m \u001b[0;32mimport\u001b[0m \u001b[0mumap\u001b[0m\u001b[0;34m.\u001b[0m\u001b[0mplot\u001b[0m\u001b[0;34m\u001b[0m\u001b[0;34m\u001b[0m\u001b[0m\n\u001b[0m\u001b[1;32m      3\u001b[0m \u001b[0;31m#umap.plot.points(umapper, labels=averaged_df.pat_id)\u001b[0m\u001b[0;34m\u001b[0m\u001b[0;34m\u001b[0m\u001b[0;34m\u001b[0m\u001b[0m\n\u001b[1;32m      4\u001b[0m umap.plot.points(umapper, \n\u001b[1;32m      5\u001b[0m                  \u001b[0;31m#values=averaged_df.Katecholamin_Med,\u001b[0m\u001b[0;34m\u001b[0m\u001b[0;34m\u001b[0m\u001b[0;34m\u001b[0m\u001b[0m\n",
      "\u001b[0;32m~/.local/lib/python3.8/site-packages/umap/plot.py\u001b[0m in \u001b[0;36m<module>\u001b[0;34m\u001b[0m\n\u001b[1;32m     29\u001b[0m     \"\"\"\n\u001b[1;32m     30\u001b[0m     )\n\u001b[0;32m---> 31\u001b[0;31m     raise ImportError(\n\u001b[0m\u001b[1;32m     32\u001b[0m         \u001b[0;34m\"umap.plot requires pandas matplotlib datashader bokeh holoviews scikit-image and colorcet to be \"\u001b[0m\u001b[0;34m\u001b[0m\u001b[0;34m\u001b[0m\u001b[0m\n\u001b[1;32m     33\u001b[0m         \u001b[0;34m\"installed\"\u001b[0m\u001b[0;34m\u001b[0m\u001b[0;34m\u001b[0m\u001b[0m\n",
      "\u001b[0;31mImportError\u001b[0m: umap.plot requires pandas matplotlib datashader bokeh holoviews scikit-image and colorcet to be installed"
     ]
    }
   ],
   "source": [
    "# plot umap\n",
    "import umap.plot\n",
    "#umap.plot.points(umapper, labels=averaged_df.pat_id)\n",
    "umap.plot.points(umapper, \n",
    "                 #values=averaged_df.Katecholamin_Med,\n",
    "                 values=averaged_pred_df[\"error\"],\n",
    "                 theme=\"fire\")"
   ]
  },
  {
   "cell_type": "code",
   "execution_count": null,
   "id": "c4439ef6-d2e1-4571-984b-bdbfd7dfa90a",
   "metadata": {},
   "outputs": [],
   "source": [
    "plot_df = pd.DataFrame(umap_embedding, columns=[\"x\", \"y\"])\n",
    "plot_df[\"cluster\"] = cluster_labels\n",
    "plot_df[\"error\"] = averaged_pred_df[\"error\"]"
   ]
  },
  {
   "cell_type": "code",
   "execution_count": null,
   "id": "8f9e938a-626e-4275-adac-e5a44bc5619b",
   "metadata": {},
   "outputs": [],
   "source": [
    "sns.lmplot(x=\"x\", y=\"y\", data=plot_df, fit_reg=False,\n",
    "           #hue='error',\n",
    "           col=\"error\",\n",
    "           legend=True)"
   ]
  },
  {
   "cell_type": "code",
   "execution_count": null,
   "id": "34067713-6fee-4fb1-b4e5-c8d16a7c0ebc",
   "metadata": {},
   "outputs": [],
   "source": [
    "plt.figure(figsize=(10,10))\n",
    "sns.lmplot(x=\"x\", y=\"y\", data=plot_df, fit_reg=False,\n",
    "           hue='error',\n",
    "           #col=\"cluster\",\n",
    "           #row=\"error\",\n",
    "           legend=True,\n",
    "          )"
   ]
  },
  {
   "cell_type": "code",
   "execution_count": null,
   "id": "616b57a6",
   "metadata": {},
   "outputs": [],
   "source": [
    "# cluster averaged using K-means\n",
    "from sklearn.cluster import KMeans\n",
    "n_clusters = 5\n",
    "kmeans = KMeans(n_clusters=n_clusters, random_state=0)\n",
    "#clustering_data = sal_data\n",
    "clustering_data = umap.UMAP(n_neighbors=10, min_dist=0.1).fit_transform(sal_data)\n",
    "kmeans.fit(clustering_data)\n",
    "cluster_labels = kmeans.labels_"
   ]
  },
  {
   "cell_type": "code",
   "execution_count": null,
   "id": "28b39432",
   "metadata": {},
   "outputs": [],
   "source": [
    "# label histogram\n",
    "plt.figure()\n",
    "plt.hist(cluster_labels, bins=10)"
   ]
  },
  {
   "cell_type": "code",
   "execution_count": null,
   "id": "aa9c00fd-aa79-4cc8-a90d-cfcd5599f2eb",
   "metadata": {},
   "outputs": [],
   "source": []
  },
  {
   "cell_type": "code",
   "execution_count": null,
   "id": "4dd5850a-a7d2-40e1-b734-b3d8020af7c1",
   "metadata": {},
   "outputs": [],
   "source": [
    "plot_df"
   ]
  },
  {
   "cell_type": "code",
   "execution_count": null,
   "id": "bb736875-3fa6-4ab6-a402-ee48ef2ccbe9",
   "metadata": {},
   "outputs": [],
   "source": [
    "sns.lmplot( x=\"x\", y=\"y\", data=plot_df, fit_reg=False, hue='cluster', legend=True)"
   ]
  },
  {
   "cell_type": "code",
   "execution_count": null,
   "id": "c1429af6",
   "metadata": {},
   "outputs": [],
   "source": [
    "# show boxplots next to each other of each cluster\n",
    "# sort columns by overall absolute mean importance value\n",
    "\n",
    "# make subplots\n",
    "fig, axes = plt.subplots(nrows=1, ncols=n_clusters, figsize=(10, 10), sharey=True)\n",
    "for i in range(n_clusters):\n",
    "    ax = axes[i]\n",
    "    data = sal_data[cluster_labels == i]\n",
    "    sns.stripplot(data=data, orient=\"h\", palette=\"Set2\", color=\".25\", alpha=0.3, ax=ax)\n",
    "    sns.boxplot(data=data, orient=\"h\", palette=\"Set2\", showfliers=False, ax=ax)"
   ]
  },
  {
   "cell_type": "code",
   "execution_count": null,
   "id": "0ad52e7b",
   "metadata": {},
   "outputs": [],
   "source": [
    "# print boxplot for each feature per clusters\n",
    "for i in range(np.max(cluster_labels) + 1):\n",
    "    cluster_data = sal_data[cluster_labels == i]\n",
    "    # sort feature columns by absolute value\n",
    "    mean_abs = cluster_data.abs().mean(axis=0)\n",
    "    sorted_data = sorted(cluster_data.transpose().values, key=lambda x: np.abs(x).mean())\n",
    "    sorted_columns = sorted(cluster_data.columns, key=lambda x: np.abs(cluster_data[x]).mean())\n",
    "    # only show top N\n",
    "    N = 6\n",
    "    sorted_data = sorted_data[-N:] \n",
    "    sorted_columns = sorted_columns[-N:]\n",
    "    \n",
    "    # now sort by mean value without abs\n",
    "    mean_data = cluster_data.mean(axis=0)\n",
    "    sorted_data = sorted(sorted_data, key=lambda x: x.mean())\n",
    "    sorted_columns = sorted(sorted_columns, key=lambda x: mean_data[x])\n",
    "    \n",
    "    # show boxplot where the feature name is at the y-axis\n",
    "    #plt.figure(figsize=(5, 5))\n",
    "    #plt.boxplot(sorted_data, labels=sorted_columns, whis=1.5, vert=False)\n",
    "    #plt.show()\n",
    "    # show variant where each single point is shown\n",
    "    #plt.figure(figsize=(5, 5))\n",
    "    #plt.scatter(cluster_data.index, cluster_data[sorted_columns[0]], c=cluster_labels)\n",
    "    sorted_df = pd.DataFrame(sorted_data, index=sorted_columns)\n",
    "    sns.stripplot(data=sorted_df.transpose(), orient=\"h\", palette=\"Set2\", color=\".25\", alpha=0.3)\n",
    "    sns.boxplot(data=sorted_df.transpose(), orient=\"h\", palette=\"Set2\", showfliers=False)\n",
    "    plt.xlim(-0.04, 0.04)\n",
    "    #sns.stripplot(data=sorted_df.transpose(), orient=\"h\", palette=\"Set2\", color=\".25\")\n",
    "    plt.show()\n",
    "    "
   ]
  },
  {
   "cell_type": "code",
   "execution_count": null,
   "id": "478830b0",
   "metadata": {},
   "outputs": [],
   "source": [
    "sns.stripplot(data=sorted_df.transpose(), orient=\"h\", palette=\"Set2\", color=\".25\", alpha=0.3)\n",
    "sns.boxplot(data=sorted_df.transpose(), orient=\"h\", palette=\"Set2\", showfliers=False)\n",
    "plt.show()"
   ]
  },
  {
   "cell_type": "code",
   "execution_count": null,
   "id": "b6efc0c3",
   "metadata": {},
   "outputs": [],
   "source": []
  },
  {
   "cell_type": "markdown",
   "id": "b51139e8-1e0d-4967-8899-0c8671e7bf05",
   "metadata": {},
   "source": [
    "# Tuning"
   ]
  },
  {
   "cell_type": "code",
   "execution_count": null,
   "id": "3786fb1d-890a-41a6-92bd-143ad740bead",
   "metadata": {},
   "outputs": [],
   "source": [
    "from tune_utils import tune#, make_tune_plots\n",
    "from data_utils import make_split\n",
    "\n",
    "import importlib\n",
    "import tune_utils\n",
    "importlib.reload(tune_utils)\n",
    "from tune_utils import tune\n",
    "\n",
    "import data_utils\n",
    "importlib.reload(data_utils)"
   ]
  },
  {
   "cell_type": "code",
   "execution_count": null,
   "id": "ec2f60c1-a0a6-4f25-9391-3b051cd022c0",
   "metadata": {},
   "outputs": [],
   "source": [
    "import logging\n",
    "import pytorch_lightning\n",
    "\n",
    "logging.getLogger(\"pytorch_lightning\").setLevel(logging.ERROR)\n",
    "logging.getLogger(\"lightning\").setLevel(logging.ERROR)\n",
    "pytorch_lightning.utilities.distributed.log.setLevel(logging.ERROR)"
   ]
  },
  {
   "cell_type": "code",
   "execution_count": null,
   "id": "b319e7b2-fde0-4ad7-8414-3e3a8fc2f1a7",
   "metadata": {},
   "outputs": [],
   "source": [
    "cfg[\"dbs\"] = [\"UKE\"]\n",
    "cfg[\"k_fold\"] = 0\n",
    "cfg[\"num_splits\"] = 3\n",
    "cfg[\"flat_block_size\"] = 0\n",
    "cfg[\"n_trials\"] = 15\n",
    "cfg[\"model_type\"] = \"linear\"\n",
    "cfg[\"fill_type\"] = \"pat_mean\"\n",
    "\n",
    "cfg[\"max_steps\"] = 300\n",
    "\n",
    "opt_flat_block_size = False\n",
    "opt_augs = False\n",
    "opt_fill_type = False"
   ]
  },
  {
   "cell_type": "code",
   "execution_count": null,
   "id": "6193a76c-b789-4845-a4e5-6eaa5eae3e1c",
   "metadata": {},
   "outputs": [],
   "source": [
    "#storage = optuna.storages.RDBStorage(url=\"sqlite:///optuna.db\",\n",
    "#                                         engine_kwargs={\"connect_args\": {\"timeout\": 30}})\n",
    "#load_study = optuna.load_study(\"09_17_02_39__linear_UKE_15\", storage=storage)"
   ]
  },
  {
   "cell_type": "code",
   "execution_count": null,
   "id": "1d751b3c-3c64-48df-9d5b-ff2b2b09f5bd",
   "metadata": {},
   "outputs": [],
   "source": [
    "# make dev/test split to test tuning\n",
    "dev_data, test_data, dev_idcs, test_idcs = make_split(seq_list, test_size=0.2)"
   ]
  },
  {
   "cell_type": "code",
   "execution_count": null,
   "id": "ef5afe9b-7da5-46ec-8f67-98fd4bbce52b",
   "metadata": {},
   "outputs": [],
   "source": [
    "# tune\n",
    "study = tune(dev_data, test_data, args, cfg, verbose=False, n_trials=cfg[\"n_trials\"],\n",
    "             opt_flat_block_size=opt_flat_block_size, opt_augs=opt_augs, opt_fill_type=opt_fill_type)"
   ]
  },
  {
   "cell_type": "code",
   "execution_count": null,
   "id": "59314a06-f83a-4a4b-a50b-c02700a2ad60",
   "metadata": {},
   "outputs": [],
   "source": [
    "#test_idcs = np.load(\"test_tune/09_17_02_39__linear_UKE_15/test_idcs.npy\")"
   ]
  },
  {
   "cell_type": "code",
   "execution_count": null,
   "id": "159b05d2-0a2b-4599-adb1-321e0bbe31bf",
   "metadata": {},
   "outputs": [],
   "source": [
    "# print key study parts\n",
    "name = study.study_name\n",
    "print(name)\n",
    "print(study.best_trial)\n",
    "best_params = study.best_params\n",
    "print(best_params)"
   ]
  },
  {
   "cell_type": "code",
   "execution_count": null,
   "id": "5fc29766-69c1-4e9f-92ab-7afd708fab3b",
   "metadata": {},
   "outputs": [],
   "source": [
    "from tune_utils import store_study_results\n",
    "store_study_results(study, \"./test_tune/\", test_idcs, args)"
   ]
  },
  {
   "cell_type": "code",
   "execution_count": null,
   "id": "fe860988-bd2b-4c89-bdce-4955b336eeeb",
   "metadata": {},
   "outputs": [],
   "source": [
    "make_tune_plots(study, f\"outputs/tune_results/{cfg['model_type']}_{cfg['n_trials']}\")"
   ]
  },
  {
   "cell_type": "code",
   "execution_count": null,
   "id": "99161a6f-167e-4bca-9e0b-7f438fc7fa9f",
   "metadata": {},
   "outputs": [],
   "source": [
    "# retrain on dev/test and check performance\n",
    "    \n",
    "models, trainers = retrain(dev_data, test_data, best_params, args, cfg, verbose=True)"
   ]
  },
  {
   "cell_type": "code",
   "execution_count": null,
   "id": "2f74412f-3003-43f0-ab14-e3caefd6dc3c",
   "metadata": {},
   "outputs": [],
   "source": [
    "cfg[\"k_fold\"] = 0\n",
    "cfg[\"num_splits\"] = 5\n",
    "models, trainers = retrain(dev_data, test_data, best_params, args, cfg, verbose=True)"
   ]
  },
  {
   "cell_type": "code",
   "execution_count": null,
   "id": "836f840e-3eb0-4558-8a45-971b7cf3aa07",
   "metadata": {},
   "outputs": [],
   "source": [
    "cfg[\"k_fold\"] = 5\n",
    "models, trainers = retrain(dev_data, test_data, best_params, args, cfg, verbose=True)"
   ]
  },
  {
   "cell_type": "markdown",
   "id": "448055bd-c960-4fd5-90ae-d67cace0f033",
   "metadata": {},
   "source": [
    "## Nested k-fold"
   ]
  },
  {
   "cell_type": "code",
   "execution_count": null,
   "id": "e9144be8-e705-41ef-8750-b4eb7d799c8c",
   "metadata": {},
   "outputs": [],
   "source": [
    "classical_models = [\"xgb\", \"rf\", \"linear\"]"
   ]
  },
  {
   "cell_type": "code",
   "execution_count": null,
   "id": "af294171-1ca8-4627-b19a-76355ec58389",
   "metadata": {},
   "outputs": [],
   "source": [
    "cfg[\"dbs\"] = [\"UKE\"]\n",
    "cfg[\"k_fold\"] = 0\n",
    "cfg[\"num_splits\"] = 3\n",
    "cfg[\"flat_block_size\"] = 1\n",
    "cfg[\"n_trials\"] = 10\n",
    "\n",
    "cfg[\"n_outer_folds\"] = 3\n",
    "\n",
    "cfg[\"model_type\"] = \"xgb\"\n",
    "cfg[\"fill_type\"] = \"pat_mean\""
   ]
  },
  {
   "cell_type": "code",
   "execution_count": null,
   "id": "f058455f-207d-4d20-adf1-10ee74dc84c4",
   "metadata": {},
   "outputs": [],
   "source": [
    "from data_utils import make_fold\n",
    "# outer fold\n",
    "dev_data_list, test_data_list, dev_idcs, test_idcs = make_fold(seq_list, k=cfg[\"n_outer_folds\"])"
   ]
  },
  {
   "cell_type": "code",
   "execution_count": null,
   "id": "c5ae3167-5c9c-45f3-835b-2a01cb2673b4",
   "metadata": {},
   "outputs": [],
   "source": [
    "# tune and store studies\n",
    "studies = []\n",
    "for dev_data, test_data in zip(dev_data_list, test_data_list):\n",
    "    study = tune(dev_data, test_data, args, cfg, verbose=False, n_trials=cfg[\"n_trials\"])\n",
    "    # print key tune details\n",
    "    name = study.study_name\n",
    "    print(name)\n",
    "    print(study.best_trial)\n",
    "    best_params = study.best_params\n",
    "    print(best_params)\n",
    "    studies.append(study)"
   ]
  },
  {
   "cell_type": "code",
   "execution_count": null,
   "id": "207d300d-5dfd-47c4-9e7d-3cbfc2df82de",
   "metadata": {},
   "outputs": [],
   "source": [
    "metrics = []\n",
    "pred_dfs = []\n",
    "for tune_idx in tqdm(range(len(studies))):\n",
    "    models, trainers = retrain(dev_data_list[tune_idx],\n",
    "                               test_data_list[tune_idx], \n",
    "                               studies[tune_idx].best_params, \n",
    "                               args, cfg, verbose=False)\n",
    "    df = get_all_dfs(models, trainers, cfg[\"model_type\"], dl_type=\"test\")\n",
    "    #loss = print_all_metrics(df)\n",
    "    loss = df.groupby(\"model_id\").apply(lambda model_df: model_df.groupby(\"ids\").mean()).mean()[\"error\"]\n",
    "    metrics.append(loss)\n",
    "    pred_dfs.append(df)\n",
    "    print(loss)"
   ]
  },
  {
   "cell_type": "code",
   "execution_count": null,
   "id": "0a0db61e-746e-4f46-901d-b0694fbd631b",
   "metadata": {},
   "outputs": [],
   "source": [
    "print(np.mean(metrics))\n",
    "print(np.std(metrics))"
   ]
  },
  {
   "cell_type": "code",
   "execution_count": null,
   "id": "1dafaf53-4484-4f4a-9e53-28744b3327c1",
   "metadata": {},
   "outputs": [],
   "source": [
    "for study in studies:\n",
    "    print(study.best_value)\n",
    "    print(study.best_params)\n",
    "    print()"
   ]
  },
  {
   "cell_type": "code",
   "execution_count": null,
   "id": "d58bb9ad-48e6-4594-9ce6-6857ebab6e86",
   "metadata": {},
   "outputs": [],
   "source": [
    "[study.best_value for study in studies]"
   ]
  },
  {
   "cell_type": "code",
   "execution_count": null,
   "id": "a480c0c7-70f3-4ea3-bae3-08b2b18dc0ef",
   "metadata": {},
   "outputs": [],
   "source": [
    "metrics"
   ]
  },
  {
   "cell_type": "code",
   "execution_count": null,
   "id": "d60af506-40aa-40f8-9821-ac6ea982ac74",
   "metadata": {},
   "outputs": [],
   "source": []
  },
  {
   "cell_type": "code",
   "execution_count": null,
   "id": "29d452de-db1a-4e25-96ca-aac754aa9aa1",
   "metadata": {},
   "outputs": [],
   "source": [
    "print(np.mean(metrics))\n",
    "print(np.std(metrics))"
   ]
  },
  {
   "cell_type": "code",
   "execution_count": null,
   "id": "c79480ff-c1be-4238-9ae2-d5cf3228bc8a",
   "metadata": {},
   "outputs": [],
   "source": [
    "for study in studies:\n",
    "    print(study.best_value)\n",
    "    print(study.best_params)\n",
    "    print()"
   ]
  },
  {
   "cell_type": "code",
   "execution_count": null,
   "id": "1236125c-e54d-4d13-9fd8-3d763e1b2de8",
   "metadata": {},
   "outputs": [],
   "source": [
    "metrics"
   ]
  },
  {
   "cell_type": "code",
   "execution_count": null,
   "id": "f6858ffd-9c76-4cb5-bd0c-d8d3298a5584",
   "metadata": {},
   "outputs": [],
   "source": [
    "len(studies)"
   ]
  },
  {
   "cell_type": "code",
   "execution_count": null,
   "id": "43776d9b-3083-45f3-a58b-5b118f6680e2",
   "metadata": {},
   "outputs": [],
   "source": [
    "studies[0].best_trial"
   ]
  },
  {
   "cell_type": "code",
   "execution_count": null,
   "id": "3c0cdda2-cc87-483e-af97-b508505f3d55",
   "metadata": {},
   "outputs": [],
   "source": []
  }
 ],
 "metadata": {
  "kernelspec": {
   "display_name": "Python 3 (ipykernel)",
   "language": "python",
   "name": "python3"
  },
  "language_info": {
   "codemirror_mode": {
    "name": "ipython",
    "version": 3
   },
   "file_extension": ".py",
   "mimetype": "text/x-python",
   "name": "python",
   "nbconvert_exporter": "python",
   "pygments_lexer": "ipython3",
   "version": "3.8.10"
  },
  "vscode": {
   "interpreter": {
    "hash": "31f2aee4e71d21fbe5cf8b01ff0e069b9275f58929596ceb00d14d90e3e16cd6"
   }
  }
 },
 "nbformat": 4,
 "nbformat_minor": 5
}
