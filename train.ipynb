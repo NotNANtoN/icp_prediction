{
 "cells": [
  {
   "cell_type": "code",
   "execution_count": 1,
   "id": "4d54516b-3394-4220-b7a9-6818417b2be2",
   "metadata": {},
   "outputs": [],
   "source": [
    "#%load_ext line_profiler\n",
    "#%%prun  -D train.prof -s cumulative -q -T prun0\n",
    "#print(open('prun0', 'r').read())\n",
    "#%snakeviz 1 + 2"
   ]
  },
  {
   "cell_type": "code",
   "execution_count": 2,
   "id": "3b17f338-7ab5-4ce5-b8ba-347be721b14c",
   "metadata": {},
   "outputs": [],
   "source": [
    "#from torch.profiler import profile, record_function, ProfilerActivity\n",
    "#with profile(activities=[ProfilerActivity.CPU, ProfilerActivity.CUDA], record_shapes=True) as prof:\n",
    "#    with record_function(\"train_model\"):\n",
    "#        models, trainers = train_model(model_type, data_modules, model_args, verbose=True)\n",
    "#prof.key_averages().table(sort_by=\"cuda_time_total\", row_limit=10)"
   ]
  },
  {
   "cell_type": "code",
   "execution_count": 3,
   "id": "f7f4c780-09b5-4421-a595-a1e1d47cb861",
   "metadata": {},
   "outputs": [],
   "source": [
    "import os\n",
    "import math\n",
    "import random\n",
    "import copy\n",
    "        \n",
    "import torch\n",
    "from torch.nn.utils.rnn import pad_sequence, pack_padded_sequence, pad_packed_sequence\n",
    "import pytorch_lightning as pl\n",
    "import pandas as pd\n",
    "import numpy as np\n",
    "from tqdm import tqdm\n",
    "import seaborn as sns\n",
    "import sklearn\n",
    "import matplotlib.pyplot as plt\n",
    "\n",
    "from data_utils import SeqDataModule"
   ]
  },
  {
   "cell_type": "code",
   "execution_count": 4,
   "id": "609ef524-2a89-4dd0-b135-0465950b6b40",
   "metadata": {},
   "outputs": [],
   "source": [
    "show_umap = False\n",
    "\n",
    "if show_umap:\n",
    "    # plot umap\n",
    "    dm = data_modules[0]\n",
    "    dm.setup()  # remove NaNs and normalize\n",
    "    train_dl = dm.train_dataloader()\n",
    "    train_inputs = train_dl.dataset.inputs\n",
    "    train_targets = train_dl.dataset.targets\n",
    "\n",
    "    from umap import UMAP\n",
    "    import umap.plot\n",
    "\n",
    "    flat_inputs = np.concatenate(train_inputs, axis=0)\n",
    "    flat_targets = np.concatenate(train_targets, axis=0)\n",
    "    mask = ~np.isnan(flat_targets)\n",
    "    flat_inputs = flat_inputs[mask]\n",
    "    flat_targets = flat_targets[mask]\n",
    "\n",
    "    mapper = UMAP(n_components=2)\n",
    "    umapped_inputs = mapper.fit_transform(flat_inputs)\n",
    "\n",
    "    umap.plot.points(mapper, values=flat_targets, theme=\"fire\")"
   ]
  },
  {
   "cell_type": "code",
   "execution_count": 5,
   "id": "a22afdc3-5395-4936-a3a3-6f47a4cd2736",
   "metadata": {},
   "outputs": [],
   "source": [
    "# NaN filling debug plots\n",
    "\n",
    "# plot data\n",
    "#train_inputs = train_dl.dataset.inputs\n",
    "#val_inputs = val_dl.dataset.inputs\n",
    "#print(\"Lens train val:\", len(train_inputs), len(val_inputs))\n",
    "\n",
    "\n",
    "#pat_idx = 12\n",
    "#feat_idx = 5\n",
    "\n",
    "#feat_name = feature_names[feat_idx]\n",
    "##print(model.mean[0, feat_idx])\n",
    "#pat_data = train_inputs[pat_idx][:, feat_idx]\n",
    "#print(pat_data.min())\n",
    "#print(torch.isnan(pat_data).sum())\n",
    "#plt.plot(pat_data)\n",
    "##plt.title(f\"Progression of {feat_name}\")\n",
    "#plt.ylabel(feat_name)\n",
    "#plt.xlabel(\"time\")\n",
    "\n",
    "#nan_again = train_inputs[pat_idx][:, feat_idx]\n",
    "#plt.scatter(range(len(nan_again)), nan_again)\n",
    "#plt.show()\n",
    "#print(np.isnan(nan_again).sum())\n",
    "#print(nan_again.shape)"
   ]
  },
  {
   "cell_type": "code",
   "execution_count": 6,
   "id": "40406aa1-4f23-41da-b9a3-a90ca2a399d4",
   "metadata": {},
   "outputs": [],
   "source": [
    "import logging\n",
    "import pytorch_lightning\n",
    "\n",
    "logging.getLogger(\"pytorch_lightning\").setLevel(logging.ERROR)\n",
    "pytorch_lightning.utilities.distributed.log.setLevel(logging.ERROR)"
   ]
  },
  {
   "cell_type": "code",
   "execution_count": null,
   "id": "3af4e9b8-a5ec-48b2-8945-b562b0f951dd",
   "metadata": {},
   "outputs": [],
   "source": []
  },
  {
   "cell_type": "code",
   "execution_count": 7,
   "id": "fe4ce688-587d-4bd3-a7d1-a31c6a4d3185",
   "metadata": {},
   "outputs": [],
   "source": [
    "from train_utils import default_args\n",
    "\n",
    "args, model_args = default_args()"
   ]
  },
  {
   "cell_type": "code",
   "execution_count": 10,
   "id": "5ed24c94-dbf9-44e8-b8b5-439eabb33a91",
   "metadata": {},
   "outputs": [],
   "source": [
    "\"\"\"\n",
    "self.add_float(trial, \"lr\", [0.00003, 0.005])\n",
    "self.add_float(trial, \"grad_clip_val\", [0.1, 10.0])\n",
    "self.add_int(trial, \"hidden_size\", [64, 1024])\n",
    "self.add_float(trial, \"dropout\", [0.0, 0.5])\n",
    "# need to set bs manually\n",
    "bs = trial.suggest_int(\"bs\", 1, 7)\n",
    "for dm in self.data_modules:\n",
    "    dm.batch_size = 2 ** bs \n",
    "\n",
    "if self.model_type == \"rnn\":\n",
    "    self.add_int(trial, \"rnn_layers\", [1, 5])\n",
    "    self.add_cat(trial, \"rnn_type\", [\"lstm\", \"gru\"])\n",
    "\n",
    "if self.model_type == \"transformer\":\n",
    "    self.add_int(trial, \"n_layers\", [1, 10])\n",
    "    self.add_int(trial, \"n_heads\", [1, 16])\n",
    "    self.add_int(trial, \"emb_dim\", [32, 1024])\n",
    "\"\"\"\n",
    "a = 1"
   ]
  },
  {
   "cell_type": "code",
   "execution_count": null,
   "id": "a2bd5457-13ce-439c-bf12-c17816bf3d9b",
   "metadata": {},
   "outputs": [],
   "source": [
    "model_args[\"rnn_layers\"] = 10\n",
    "model_args[\"bs\"] = 2 ** 5\n",
    "model_args[\"hidden_size\"] = 512\n",
    "\n",
    "model_args[\"n_layers\"] = 3\n",
    "model_args[\"n_heads\"] = 4\n",
    "model_args[\"emb_dim\"] = 256\n",
    "\n",
    "\n",
    "# model args\n",
    "model_args[\"dropout\"] = 0.1\n",
    "model_args[\"rnn_type\"] = \"lstm\"\n",
    "# transfomrer\n",
    "\n",
    "model_args[\"max_steps\"] = 500\n",
    "model_args[\"lr\"] = 0.05\n",
    "args[\"model_type\"] = \"lucid_transformer\"\n",
    "args[\"dbs\"] = [\"UKE\"]"
   ]
  },
  {
   "cell_type": "code",
   "execution_count": null,
   "id": "a88e8629-d4f4-47f1-99c7-cf6008631d9f",
   "metadata": {},
   "outputs": [],
   "source": [
    "model_args"
   ]
  },
  {
   "cell_type": "code",
   "execution_count": null,
   "id": "18dd47c1-7030-476c-9631-baeb6aa0146a",
   "metadata": {},
   "outputs": [],
   "source": [
    "embed_dim = model_args[\"emb_dim\"]\n",
    "num_heads = model_args[\"n_heads\"]\n",
    "\n",
    "head_dim = embed_dim // num_heads\n",
    "print(head_dim)\n",
    "#assert head_dim * num_heads == embed_dim"
   ]
  },
  {
   "cell_type": "code",
   "execution_count": 11,
   "id": "386ac20a-a39c-439e-b52b-c2b9e4ea1e8c",
   "metadata": {},
   "outputs": [
    {
     "name": "stdout",
     "output_type": "stream",
     "text": [
      "Reading df from:  data/60_/yeo_N/normalization_None/median/uni_clip_0.9999/multi_clip_N/df.pkl\n",
      "['rel_time', 'AF_Vital', 'AF_Vital_max', 'AF_Vital_min', 'AF_Vital_std', 'ALT_Labor', 'AST_Labor', 'Alpha Blocker_Med', 'Benzodiazepin_Med', 'Ca_BGA', 'Cl_BGA', 'Direkter Vasodilatator_Med', 'EVB_Labor', 'FiO2_Vital', 'FiO2_Vital_std', 'Freq gesamt_Vital', 'Freq spontan_Vital', 'GCS_auge_Vital', 'GCS_motor_Vital', 'GCS_total_Vital', 'GCS_verbal_Vital', 'Glu_BGA', 'HCO3_BGA', 'HF_Vital', 'HF_Vital_max', 'HF_Vital_min', 'HF_Vital_std', 'Harnstoff-N_Labor', 'Hb_BGA_BGA', 'Hk_Labor', 'INR_Labor', 'K_BGA', 'Katecholamin_Med', 'Kreatinin_Labor', 'Lac_BGA', 'MCHC_Labor', 'MCH_Labor', 'MCV_Labor', 'Magnesium_Labor', 'Na_BGA', 'Narkotikum_Med', 'Opioid_Med', 'PCO2_BGA', 'PEEP_Vital', 'PO2_BGA', 'Phosphat_Labor', 'Pmean_Vital', 'Ppeak_Vital', 'Pupille li_Vital', 'Pupille re_Vital', 'SBE_BGA', 'SpO2_Vital', 'SpO2_Vital_max', 'SpO2_Vital_min', 'SpO2_Vital_std', 'TZ_Labor', 'Temp_Vital', 'Temp_Vital_std', 'Thrombocyten_Labor', 'aPTT_Labor', 'diast_NBD_Vital', 'diast_NBD_Vital_max', 'diast_NBD_Vital_min', 'diast_NBD_Vital_std', 'diast_Vital', 'diast_Vital_max', 'diast_Vital_min', 'diast_Vital_std', 'mittl_NBD_Vital', 'mittl_NBD_Vital_max', 'mittl_NBD_Vital_min', 'mittl_NBD_Vital_std', 'mittl_Vital', 'mittl_Vital_max', 'mittl_Vital_min', 'mittl_Vital_std', 'pH_BGA', 'sO2_BGA', 'syst_NBD_Vital', 'syst_NBD_Vital_max', 'syst_NBD_Vital_min', 'syst_NBD_Vital_std', 'syst_Vital', 'syst_Vital_max', 'syst_Vital_min', 'syst_Vital_std', 'Alter', 'Größe', 'Gewicht', 'Diagnose_ICH', 'Diagnose_MISC', 'Diagnose_SAH', 'Diagnose_Stroke', 'Diagnose_TBI', 'Diagnose_Tumor', 'Geschlecht']\n"
     ]
    }
   ],
   "source": [
    "from data_utils import get_seq_list, make_split, do_fold\n",
    "\n",
    "# choose feats\n",
    "#no_meds = [name for name in feature_names if \"_Med\" not in name and \"Diagnose\" not in name]\n",
    "#args[\"features\"] = no_meds # no_meds\n",
    "\n",
    "# load data\n",
    "seq_list = get_seq_list(args[\"minutes\"], False, \"ICP_Vital\", args[\"features\"])\n",
    "\n",
    "# dev test split\n",
    "dev_data, test_data, dev_idcs, test_idcs = make_split(seq_list, test_size=0.2)\n",
    "# train val splits\n",
    "data_modules = do_fold(dev_data, test_data, \n",
    "                       args[\"dbs\"], \n",
    "                       model_args[\"random_starts\"], \n",
    "                       model_args[\"min_len\"], \n",
    "                       model_args[\"train_noise_std\"],\n",
    "                       model_args[\"bs\"],\n",
    "                       model_args[\"fill_type\"], \n",
    "                       args[\"flat_block_size\"],\n",
    "                       k_fold=args[\"k_fold\"], \n",
    "                       num_splits=args[\"num_splits\"],\n",
    "                      )\n",
    "\n",
    "train_dl = data_modules[0].train_dataloader()\n",
    "val_dl = data_modules[0].val_dataloader()\n",
    "num_features = train_dl.dataset.inputs[0].shape[-1]\n",
    "feature_names = train_dl.dataset.feature_names\n",
    "\n",
    "print(feature_names)"
   ]
  },
  {
   "cell_type": "code",
   "execution_count": 51,
   "id": "eb84971f-9c0b-43fb-be85-e068e7859224",
   "metadata": {},
   "outputs": [
    {
     "data": {
      "text/plain": [
       "'rel_time'"
      ]
     },
     "execution_count": 51,
     "metadata": {},
     "output_type": "execute_result"
    }
   ],
   "source": [
    "feature_names[0]"
   ]
  },
  {
   "cell_type": "code",
   "execution_count": 53,
   "id": "545d9014-32d0-43ff-89eb-edcd88f193fe",
   "metadata": {},
   "outputs": [
    {
     "data": {
      "text/plain": [
       "96"
      ]
     },
     "execution_count": 53,
     "metadata": {},
     "output_type": "execute_result"
    }
   ],
   "source": [
    "len(feature_names)"
   ]
  },
  {
   "cell_type": "code",
   "execution_count": 56,
   "id": "9faa7984-b415-41fc-9e89-f28358240d5f",
   "metadata": {},
   "outputs": [
    {
     "data": {
      "text/plain": [
       "torch.Size([145, 96])"
      ]
     },
     "execution_count": 56,
     "metadata": {},
     "output_type": "execute_result"
    }
   ],
   "source": [
    "data_modules[0].train_ds.inputs[0].shape"
   ]
  },
  {
   "cell_type": "code",
   "execution_count": 60,
   "id": "9fecefb4-94dc-4a99-826f-45ace3cd623c",
   "metadata": {},
   "outputs": [
    {
     "name": "stdout",
     "output_type": "stream",
     "text": [
      "tensor([-1.6625e+00, -6.7071e-01, -4.6287e-01, -7.7160e-01,  1.8987e+00,\n",
      "        -3.1350e-01, -4.3504e-01, -8.9948e-01, -1.8473e+00,  7.9975e-02,\n",
      "         3.1691e-01, -8.3937e-01, -1.3887e-02, -6.8793e-01,  1.4128e+00,\n",
      "        -1.0070e+00,  1.9670e+00, -4.0324e-01,  2.5708e+00,  1.0347e+00,\n",
      "        -5.8320e-01,  5.5381e-01, -4.4288e-02, -2.2325e-01, -2.3285e-01,\n",
      "        -2.1468e-01, -3.5167e-01, -5.7792e-01,  4.2359e-01,  1.1258e-03,\n",
      "        -6.1625e-02,  8.0675e-02, -5.2140e-01, -1.0580e-01,  2.5797e-01,\n",
      "        -3.3739e-02, -3.3363e-02, -2.2075e-02,  1.3320e-01,  6.1410e-02,\n",
      "        -6.7700e-01, -1.9613e-01,  1.2580e-01, -5.8782e-01, -7.8342e-02,\n",
      "         1.7427e-01, -1.3139e+00, -1.6550e+00, -8.4920e-01, -9.1646e-01,\n",
      "        -8.1586e-01,  2.6504e-01,  2.7065e-01,  2.5405e-01,  1.3421e+00,\n",
      "        -2.1437e-01,  1.5153e-01,  3.5247e-01, -3.2729e-02, -1.3056e-01,\n",
      "         5.1404e-01,  5.1534e-01,  5.2097e-01,  2.3907e-01, -1.1037e+00,\n",
      "        -1.1146e+00, -1.0571e+00, -5.4788e-01,  4.6208e-01,  4.7603e-01,\n",
      "         4.7712e-01,  1.4262e-01, -1.2699e+00, -1.2882e+00, -1.2218e+00,\n",
      "        -6.0499e-01,  1.1214e-01,  1.1721e-01,  4.8093e-01,  4.7280e-01,\n",
      "         5.0711e-01, -3.8039e-01, -1.3633e+00, -1.3624e+00, -1.2937e+00,\n",
      "        -5.2125e-01,  3.2468e+00,  6.8992e+00,  9.0866e+00, -6.7314e+00,\n",
      "        -6.3056e+00, -7.0162e+00,  2.6381e+01, -6.3503e+00, -5.9841e+00,\n",
      "         6.4158e+00])\n"
     ]
    },
    {
     "data": {
      "text/plain": [
       "[<matplotlib.lines.Line2D at 0x7f28af7c4640>]"
      ]
     },
     "execution_count": 60,
     "metadata": {},
     "output_type": "execute_result"
    },
    {
     "data": {
      "image/png": "[encoded data removed]",
      "text/plain": [
       "<Figure size 432x288 with 1 Axes>"
      ]
     },
     "metadata": {
      "needs_background": "light"
     },
     "output_type": "display_data"
    }
   ],
   "source": [
    "input_batch = next(iter(data_modules[0].train_dataloader()))[0]\n",
    "print(input_batch[0][0])\n",
    "plt.plot(range(len(input_batch[0][0])), input_batch[0][0])"
   ]
  },
  {
   "cell_type": "code",
   "execution_count": 63,
   "id": "8c3981bb-6744-415e-bd74-4bda2d2b37d6",
   "metadata": {},
   "outputs": [
    {
     "ename": "AttributeError",
     "evalue": "'tuple' object has no attribute 'shape'",
     "output_type": "error",
     "traceback": [
      "\u001b[0;31m---------------------------------------------------------------------------\u001b[0m",
      "\u001b[0;31mAttributeError\u001b[0m                            Traceback (most recent call last)",
      "\u001b[0;32m/tmp/ipykernel_13392/2241901777.py\u001b[0m in \u001b[0;36m<module>\u001b[0;34m\u001b[0m\n\u001b[0;32m----> 1\u001b[0;31m \u001b[0mdata_modules\u001b[0m\u001b[0;34m[\u001b[0m\u001b[0;36m0\u001b[0m\u001b[0;34m]\u001b[0m\u001b[0;34m.\u001b[0m\u001b[0mtrain_ds\u001b[0m\u001b[0;34m[\u001b[0m\u001b[0;36m0\u001b[0m\u001b[0;34m]\u001b[0m\u001b[0;34m.\u001b[0m\u001b[0mshape\u001b[0m\u001b[0;34m\u001b[0m\u001b[0;34m\u001b[0m\u001b[0m\n\u001b[0m",
      "\u001b[0;31mAttributeError\u001b[0m: 'tuple' object has no attribute 'shape'"
     ]
    }
   ],
   "source": [
    "data_modules[0].train_ds[0].shape"
   ]
  },
  {
   "cell_type": "code",
   "execution_count": 74,
   "id": "cc640732-f7b3-4f35-85e7-79b38530264d",
   "metadata": {},
   "outputs": [
    {
     "data": {
      "text/plain": [
       "[<matplotlib.lines.Line2D at 0x7f2898752df0>]"
      ]
     },
     "execution_count": 74,
     "metadata": {},
     "output_type": "execute_result"
    },
    {
     "data": {
      "image/png": "[encoded data removed]",
      "text/plain": [
       "<Figure size 432x288 with 1 Axes>"
      ]
     },
     "metadata": {
      "needs_background": "light"
     },
     "output_type": "display_data"
    }
   ],
   "source": [
    "plt.plot(data_modules[0].train_ds[0][0][0])"
   ]
  },
  {
   "cell_type": "code",
   "execution_count": 81,
   "id": "6270f2f0-8869-4eba-b774-471fc28d02ff",
   "metadata": {},
   "outputs": [
    {
     "data": {
      "text/plain": [
       "760"
      ]
     },
     "execution_count": 81,
     "metadata": {},
     "output_type": "execute_result"
    }
   ],
   "source": [
    "len(data_modules[0].train_ds.raw_inputs)"
   ]
  },
  {
   "cell_type": "code",
   "execution_count": null,
   "id": "4c84befd-996b-4f6e-ba85-331e9dc00530",
   "metadata": {},
   "outputs": [],
   "source": []
  },
  {
   "cell_type": "code",
   "execution_count": null,
   "id": "8f27967e-35ec-4eb1-aa7f-c206f8b20af1",
   "metadata": {},
   "outputs": [],
   "source": []
  },
  {
   "cell_type": "code",
   "execution_count": 88,
   "id": "485cf5a4-0eba-4d77-aac5-973f6fabdc3c",
   "metadata": {},
   "outputs": [
    {
     "name": "stdout",
     "output_type": "stream",
     "text": [
      "torch.Size([145, 96])\n"
     ]
    },
    {
     "data": {
      "text/plain": [
       "[<matplotlib.lines.Line2D at 0x7f289846fc40>]"
      ]
     },
     "execution_count": 88,
     "metadata": {},
     "output_type": "execute_result"
    },
    {
     "data": {
      "image/png": "[encoded data removed]",
      "text/plain": [
       "<Figure size 432x288 with 1 Axes>"
      ]
     },
     "metadata": {
      "needs_background": "light"
     },
     "output_type": "display_data"
    }
   ],
   "source": [
    "first_pat = data_modules[0].train_ds.raw_inputs[0]\n",
    "print(first_pat.shape)\n",
    "plt.plot(first_pat[:, 0])"
   ]
  },
  {
   "cell_type": "code",
   "execution_count": 106,
   "id": "c2193b95-c8c6-4263-99af-38ba0f4775ee",
   "metadata": {},
   "outputs": [
    {
     "data": {
      "text/plain": [
       "tensor([ 8.3389e+03,  1.4604e+01,  1.4894e+01,  1.4404e+01,  1.9114e-01,\n",
       "         4.6880e+00,  7.1607e+00, -1.8695e+00, -1.1926e+00,  4.8636e-01,\n",
       "         4.2652e+01, -7.5060e+00,  1.7448e+00,  2.3701e+01,  5.8411e-02,\n",
       "         1.3789e+01,  1.8868e+00,  8.7881e-01,  1.0138e+00,  2.6262e+00,\n",
       "         7.5685e-01,  5.8272e+01,  1.0438e+01,  6.9570e+01,  7.0338e+01,\n",
       "         6.8812e+01,  6.5128e-01,  4.0606e-01,  4.0997e+00,  3.5016e+00,\n",
       "         1.3118e-01,  1.6989e+00, -1.5542e-01,  9.7008e-02,  5.4310e-01,\n",
       "         4.2969e+00,  3.9056e+00,  1.1518e+01,  7.8967e-02,  5.9197e+01,\n",
       "        -8.7389e-01, -7.1619e-01,  1.5411e+01,  5.3540e+00,  3.7315e+01,\n",
       "         8.7433e-02,  8.6492e+00,  1.6798e+01,  1.5651e+00,  1.5659e+00,\n",
       "         4.2822e-01,  8.6705e+01,  8.6854e+01,  8.6549e+01,  1.4632e-01,\n",
       "         2.6881e+00,  3.0337e+01,  1.3060e-02,  2.7964e+01,  4.6491e+00,\n",
       "         6.7305e+00,  6.8655e+00,  6.5365e+00,  5.1415e-02,  5.7196e+01,\n",
       "         5.8205e+01,  5.6197e+01,  8.7731e-01,  9.5682e+00,  9.6376e+00,\n",
       "         9.2397e+00,  6.4877e-02,  7.8867e+01,  8.0189e+01,  7.7538e+01,\n",
       "         1.1712e+00,  3.0702e+00,  3.9548e+01,  1.2550e+01,  1.2875e+01,\n",
       "         1.2205e+01,  7.9882e-02,  1.2432e+02,  1.2639e+02,  1.2224e+02,\n",
       "         1.8168e+00,  5.4286e+01,  1.1400e+02,  6.2690e+01,  2.0099e-01,\n",
       "         8.8193e-02,  9.8780e-02,  1.6932e-01,  3.3626e-01,  2.6310e-02,\n",
       "         6.4921e-01], dtype=torch.float64)"
      ]
     },
     "execution_count": 106,
     "metadata": {},
     "output_type": "execute_result"
    }
   ],
   "source": [
    "data_modules[0].mean"
   ]
  },
  {
   "cell_type": "code",
   "execution_count": 103,
   "id": "163e853b-77b8-4a5a-af80-c0badc3b85e7",
   "metadata": {},
   "outputs": [
    {
     "data": {
      "text/plain": [
       "[<matplotlib.lines.Line2D at 0x7f2893e87550>]"
      ]
     },
     "execution_count": 103,
     "metadata": {},
     "output_type": "execute_result"
    },
    {
     "data": {
      "image/png": "[encoded data removed]",
      "text/plain": [
       "<Figure size 432x288 with 1 Axes>"
      ]
     },
     "metadata": {
      "needs_background": "light"
     },
     "output_type": "display_data"
    }
   ],
   "source": [
    "feats = data_modules[0].train_ds[3][0][:, 0]\n",
    "plt.plot(feats)"
   ]
  },
  {
   "cell_type": "code",
   "execution_count": 45,
   "id": "6fdad790-69db-4009-a253-209e1e480b0c",
   "metadata": {},
   "outputs": [
    {
     "data": {
      "text/plain": [
       "tensor([247,  63, 230,  64,  57,  54, 355,  38])"
      ]
     },
     "execution_count": 45,
     "metadata": {},
     "output_type": "execute_result"
    }
   ],
   "source": [
    "next(iter(data_modules[0].train_dataloader()))[2]"
   ]
  },
  {
   "cell_type": "code",
   "execution_count": 37,
   "id": "c7f84859-f3cb-4768-8667-fd2c18d5ed57",
   "metadata": {},
   "outputs": [
    {
     "data": {
      "text/plain": [
       "(191068, 96)"
      ]
     },
     "execution_count": 37,
     "metadata": {},
     "output_type": "execute_result"
    }
   ],
   "source": [
    "data_modules[0].train_ds.flat_inputs.shape"
   ]
  },
  {
   "cell_type": "code",
   "execution_count": 109,
   "id": "37821828-e8d6-4a87-b1d1-02ab708cf79d",
   "metadata": {},
   "outputs": [
    {
     "name": "stdout",
     "output_type": "stream",
     "text": [
      "Mean train target:  13.053722766145164\n",
      "Total steps:  191068\n",
      "Total ICP training targets:  150238\n"
     ]
    }
   ],
   "source": [
    "mean_train_target = np.concatenate([pat[~torch.isnan(pat)].numpy() for pat in train_dl.dataset.targets]).mean()#np.mean([pd.Series(pat).mean() for pat in train_dl.dataset.targets])\n",
    "print(\"Mean train target: \", mean_train_target)\n",
    "\n",
    "total_icps = np.sum([(~pd.Series(pat).isna()).sum() for pat in train_dl.dataset.targets])\n",
    "total_steps = np.sum([len(pat) for pat in train_dl.dataset.targets])\n",
    "print(\"Total steps: \", total_steps)\n",
    "print(\"Total ICP training targets: \", total_icps)"
   ]
  },
  {
   "cell_type": "code",
   "execution_count": null,
   "id": "6bba9604-a864-4bbb-a2f7-0d94b44347ad",
   "metadata": {},
   "outputs": [],
   "source": [
    "from data_utils import SequenceDataset, seq_pad_collate\n",
    "\n",
    "#external_db_names = [db for db in all_dbs if db not in args[\"dbs\"]]\n",
    "#print(\"External validation dbs: \", external_db_names)\n",
    "#external_datasets = [SequenceDataset(seq_list, \"ICP_Vital\", train=False, random_starts=False, block_size=0, \n",
    "#                         train_noise_std=0.0, dbs=[db]) for db in external_db_names]\n",
    "#external_dls = {db_name: torch.utils.data.DataLoader(ds, batch_size=model_args[\"bs\"] * 4, collate_fn=seq_pad_collate) for db_name, ds in zip(external_db_names, external_datasets)}"
   ]
  },
  {
   "cell_type": "code",
   "execution_count": 110,
   "id": "773fef4a-ad04-4c99-86e0-4a6c6bc6da55",
   "metadata": {},
   "outputs": [],
   "source": [
    "# train\n",
    "#model_args[\"lr\"] = 0.005\n",
    "model_args[\"max_steps\"] = 200\n",
    "\n",
    "classical_models = [\"linear\", \"xgb\", \"rf\"]\n",
    "nn_models = [\"mlp\", \"rnn\", \"transformer\"]\n",
    "# Choose:\n",
    "#model_type = \"xgb\" # [\"linear\", \"xgb\"], [\"mlp\", \"rnn\", \"transformer\"]"
   ]
  },
  {
   "cell_type": "code",
   "execution_count": 137,
   "id": "e246795e-5a26-492e-8f18-4c062df8d691",
   "metadata": {},
   "outputs": [],
   "source": [
    "model_args[\"lr\"] = 0.0001\n",
    "model_args[\"max_steps\"] = 500\n",
    "args[\"model_type\"] = \"xgb\""
   ]
  },
  {
   "cell_type": "code",
   "execution_count": 138,
   "id": "3f5b4ee0-f3cb-4547-86bd-5c16750fb475",
   "metadata": {},
   "outputs": [
    {
     "name": "stdout",
     "output_type": "stream",
     "text": [
      "Input, target shape:  (150238, 96) (150238,)\n",
      "Input, target shape:  (153585, 96) (153585,)\n",
      "Input, target shape:  (150816, 96) (150816,)\n"
     ]
    }
   ],
   "source": [
    "from train_utils import train_model\n",
    "\n",
    "models, trainers = train_model(args[\"model_type\"], data_modules, model_args, verbose=True)"
   ]
  },
  {
   "cell_type": "code",
   "execution_count": 139,
   "id": "d5a3b97d-e248-40d2-a95b-cfa6e024c6ca",
   "metadata": {},
   "outputs": [],
   "source": [
    "from data_utils import seq_pad_collate\n",
    "\n",
    "def traini(bs, num_workers, pin):\n",
    "    dl = torch.utils.data.DataLoader(data_modules[0].train_ds, batch_size=bs, num_workers=num_workers, pin_memory=pin, collate_fn=seq_pad_collate)\n",
    "    model = create_model(model_type, data_modules[0], model_args)\n",
    "    trainer = create_trainer(model_args, verbose=False)\n",
    "    trainer.fit(model, dl)"
   ]
  },
  {
   "cell_type": "code",
   "execution_count": 140,
   "id": "61581bf3-7516-4515-8e13-5cada07fac3b",
   "metadata": {},
   "outputs": [],
   "source": [
    "from eval_utils import get_all_dfs, print_all_metrics\n",
    "\n",
    "# eval\n",
    "dl_type = \"test\"\n",
    "#dl = external_dls[\"MIMIC\"] # external_dls - MIMIC, eICU, UKE\n",
    "calc_new_norm_stats = True\n",
    "dl = None\n",
    "\n",
    "df = get_all_dfs(models, trainers, args[\"model_type\"], dl_type=dl_type, dl=dl, calc_new_norm_stats=calc_new_norm_stats)"
   ]
  },
  {
   "cell_type": "code",
   "execution_count": 141,
   "id": "b344fdd1-f0ab-47d6-92f2-2c0af1e5a2a9",
   "metadata": {},
   "outputs": [
    {
     "data": {
      "text/html": [
       "<div>\n",
       "<style scoped>\n",
       "    .dataframe tbody tr th:only-of-type {\n",
       "        vertical-align: middle;\n",
       "    }\n",
       "\n",
       "    .dataframe tbody tr th {\n",
       "        vertical-align: top;\n",
       "    }\n",
       "\n",
       "    .dataframe thead th {\n",
       "        text-align: right;\n",
       "    }\n",
       "</style>\n",
       "<table border=\"1\" class=\"dataframe\">\n",
       "  <thead>\n",
       "    <tr style=\"text-align: right;\">\n",
       "      <th></th>\n",
       "      <th>targets</th>\n",
       "      <th>preds</th>\n",
       "      <th>ids</th>\n",
       "      <th>step</th>\n",
       "      <th>error</th>\n",
       "      <th>mean_train_target</th>\n",
       "      <th>model_id</th>\n",
       "    </tr>\n",
       "  </thead>\n",
       "  <tbody>\n",
       "    <tr>\n",
       "      <th>0</th>\n",
       "      <td>19.000000</td>\n",
       "      <td>18.128492</td>\n",
       "      <td>0</td>\n",
       "      <td>0</td>\n",
       "      <td>0.759526</td>\n",
       "      <td>13.053723</td>\n",
       "      <td>0</td>\n",
       "    </tr>\n",
       "    <tr>\n",
       "      <th>1</th>\n",
       "      <td>18.000000</td>\n",
       "      <td>19.804688</td>\n",
       "      <td>0</td>\n",
       "      <td>1</td>\n",
       "      <td>3.256897</td>\n",
       "      <td>13.053723</td>\n",
       "      <td>0</td>\n",
       "    </tr>\n",
       "    <tr>\n",
       "      <th>2</th>\n",
       "      <td>19.250000</td>\n",
       "      <td>16.981329</td>\n",
       "      <td>0</td>\n",
       "      <td>2</td>\n",
       "      <td>5.146868</td>\n",
       "      <td>13.053723</td>\n",
       "      <td>0</td>\n",
       "    </tr>\n",
       "    <tr>\n",
       "      <th>3</th>\n",
       "      <td>13.666667</td>\n",
       "      <td>30.811781</td>\n",
       "      <td>0</td>\n",
       "      <td>3</td>\n",
       "      <td>293.954932</td>\n",
       "      <td>13.053723</td>\n",
       "      <td>0</td>\n",
       "    </tr>\n",
       "    <tr>\n",
       "      <th>4</th>\n",
       "      <td>12.333333</td>\n",
       "      <td>48.291965</td>\n",
       "      <td>0</td>\n",
       "      <td>4</td>\n",
       "      <td>1293.023249</td>\n",
       "      <td>13.053723</td>\n",
       "      <td>0</td>\n",
       "    </tr>\n",
       "    <tr>\n",
       "      <th>...</th>\n",
       "      <td>...</td>\n",
       "      <td>...</td>\n",
       "      <td>...</td>\n",
       "      <td>...</td>\n",
       "      <td>...</td>\n",
       "      <td>...</td>\n",
       "      <td>...</td>\n",
       "    </tr>\n",
       "    <tr>\n",
       "      <th>60277</th>\n",
       "      <td>-0.500000</td>\n",
       "      <td>11.704804</td>\n",
       "      <td>232</td>\n",
       "      <td>261</td>\n",
       "      <td>148.957251</td>\n",
       "      <td>13.016913</td>\n",
       "      <td>2</td>\n",
       "    </tr>\n",
       "    <tr>\n",
       "      <th>60278</th>\n",
       "      <td>4.000000</td>\n",
       "      <td>9.937780</td>\n",
       "      <td>232</td>\n",
       "      <td>262</td>\n",
       "      <td>35.257236</td>\n",
       "      <td>13.016913</td>\n",
       "      <td>2</td>\n",
       "    </tr>\n",
       "    <tr>\n",
       "      <th>60279</th>\n",
       "      <td>8.000000</td>\n",
       "      <td>11.363655</td>\n",
       "      <td>232</td>\n",
       "      <td>263</td>\n",
       "      <td>11.314176</td>\n",
       "      <td>13.016913</td>\n",
       "      <td>2</td>\n",
       "    </tr>\n",
       "    <tr>\n",
       "      <th>60280</th>\n",
       "      <td>6.000000</td>\n",
       "      <td>9.953321</td>\n",
       "      <td>232</td>\n",
       "      <td>264</td>\n",
       "      <td>15.628751</td>\n",
       "      <td>13.016913</td>\n",
       "      <td>2</td>\n",
       "    </tr>\n",
       "    <tr>\n",
       "      <th>60281</th>\n",
       "      <td>1.500000</td>\n",
       "      <td>9.453754</td>\n",
       "      <td>232</td>\n",
       "      <td>265</td>\n",
       "      <td>63.262209</td>\n",
       "      <td>13.016913</td>\n",
       "      <td>2</td>\n",
       "    </tr>\n",
       "  </tbody>\n",
       "</table>\n",
       "<p>180846 rows × 7 columns</p>\n",
       "</div>"
      ],
      "text/plain": [
       "         targets      preds  ids  step        error  mean_train_target  \\\n",
       "0      19.000000  18.128492    0     0     0.759526          13.053723   \n",
       "1      18.000000  19.804688    0     1     3.256897          13.053723   \n",
       "2      19.250000  16.981329    0     2     5.146868          13.053723   \n",
       "3      13.666667  30.811781    0     3   293.954932          13.053723   \n",
       "4      12.333333  48.291965    0     4  1293.023249          13.053723   \n",
       "...          ...        ...  ...   ...          ...                ...   \n",
       "60277  -0.500000  11.704804  232   261   148.957251          13.016913   \n",
       "60278   4.000000   9.937780  232   262    35.257236          13.016913   \n",
       "60279   8.000000  11.363655  232   263    11.314176          13.016913   \n",
       "60280   6.000000   9.953321  232   264    15.628751          13.016913   \n",
       "60281   1.500000   9.453754  232   265    63.262209          13.016913   \n",
       "\n",
       "       model_id  \n",
       "0             0  \n",
       "1             0  \n",
       "2             0  \n",
       "3             0  \n",
       "4             0  \n",
       "...         ...  \n",
       "60277         2  \n",
       "60278         2  \n",
       "60279         2  \n",
       "60280         2  \n",
       "60281         2  \n",
       "\n",
       "[180846 rows x 7 columns]"
      ]
     },
     "execution_count": 141,
     "metadata": {},
     "output_type": "execute_result"
    }
   ],
   "source": [
    "df"
   ]
  },
  {
   "cell_type": "code",
   "execution_count": 142,
   "id": "5ab3343c-750b-40b9-bd0d-9a96bffe71ac",
   "metadata": {},
   "outputs": [
    {
     "name": "stdout",
     "output_type": "stream",
     "text": [
      "Performance over splits: \n",
      "            targets      preds      error\n",
      "model_id                                 \n",
      "0         13.203527  13.473685  77.723793\n",
      "1         13.203527  13.675105  79.354236\n",
      "2         13.203527  13.327634  80.902869\n",
      "Mean train target:  13.053722766145164\n",
      "Mean/Std preds:  13.598003 7.0178623\n",
      "Mean/Std targets:  13.203526552941277 11.068664597496733\n",
      "Max error:  7212.454410167935\n",
      "Accuracy for hypertension baseline:  0.9147020163883994\n",
      "\n",
      "Model metrics:\n",
      "RMSE:  8.906568707631719\n",
      "MSE:  79.32696614376455\n",
      "MAE:  5.684785392040176\n",
      "MAPE:  0.43055053278730354\n",
      "R2 custom:  0.3525094622335089\n",
      "R2:  0.35250946223350904\n",
      "R2 old:  0.3525094622335089\n",
      "Accuracy for hypertension:  0.9147020163883995\n",
      "Precision for hypertension:  0.42127419417889067\n",
      "Recall for hypertension:  0.33740853940909515\n",
      "\n",
      "Mean train baseline metrics:\n",
      "Mean train target: 13.053722766145164\n",
      "RMSE:  11.06963958598189\n",
      "MSE:  122.5369205635373\n",
      "MAE:  6.338916477820832\n",
      "MAPE:  0.4800926822394087\n",
      "R2 custom:  -8.280620603306957\n",
      "R2 score:  -0.0001831716108195991\n",
      "\n",
      "\n",
      "Scores for test target mean\n",
      "Mean test target:  13.203526552941277\n",
      "MSE:  122.51447938899884\n",
      "MAE:  6.373027645209732\n",
      "R2 score:  0\n"
     ]
    }
   ],
   "source": [
    "print_all_metrics(df)"
   ]
  },
  {
   "cell_type": "code",
   "execution_count": null,
   "id": "6e19e039-6d21-4ebe-946c-9e4db7ab74a7",
   "metadata": {},
   "outputs": [],
   "source": []
  },
  {
   "cell_type": "code",
   "execution_count": 143,
   "id": "f67621cc-d191-4566-bd7c-99272804fd3b",
   "metadata": {},
   "outputs": [
    {
     "data": {
      "text/plain": [
       "(0.0, 5000.0)"
      ]
     },
     "execution_count": 143,
     "metadata": {},
     "output_type": "execute_result"
    },
    {
     "data": {
      "image/png": "[encoded data removed]",
      "text/plain": [
       "<Figure size 432x432 with 3 Axes>"
      ]
     },
     "metadata": {
      "needs_background": "light"
     },
     "output_type": "display_data"
    }
   ],
   "source": [
    "df_nona = df[~df.isna()]\n",
    "mean_pred_error = (df_nona[\"targets\"] - mean_train_target).dropna() ** 2\n",
    "ax = sns.jointplot(x=\"targets\", y=\"error\", data=df_nona, kind=\"hist\", bins=100) # data=by_pat\n",
    "ax.ax_joint.scatter(df_nona[\"targets\"], (np.ones(len(df_nona[\"targets\"])) * mean_train_target - df_nona[\"targets\"]) ** 2, s=2, color=\"orange\")\n",
    "plt.xlim(-20, 105)\n",
    "plt.ylim(0, 5000)"
   ]
  },
  {
   "cell_type": "code",
   "execution_count": 144,
   "id": "bd9a2abb-6845-4293-9415-5dd5adc9f9c8",
   "metadata": {},
   "outputs": [
    {
     "data": {
      "text/plain": [
       "[<matplotlib.lines.Line2D at 0x7f298a165040>]"
      ]
     },
     "execution_count": 144,
     "metadata": {},
     "output_type": "execute_result"
    },
    {
     "data": {
      "image/png": "[encoded data removed]",
      "text/plain": [
       "<Figure size 432x432 with 3 Axes>"
      ]
     },
     "metadata": {
      "needs_background": "light"
     },
     "output_type": "display_data"
    }
   ],
   "source": [
    "ylim = (df_nona[\"preds\"].min() - 5, df_nona[\"preds\"].max() + 5)\n",
    "ax = sns.jointplot(data=df_nona, x=\"targets\", y=\"preds\", kind=\"reg\", ylim=ylim) # data=bypat\n",
    "min_val = df_nona[\"targets\"].min()\n",
    "max_val = df_nona[\"targets\"].max()\n",
    "ax.ax_joint.plot([min_val, max_val], [min_val, max_val], linewidth=2, color=\"black\", label=\"Ideal model\")"
   ]
  },
  {
   "cell_type": "code",
   "execution_count": 145,
   "id": "ad86cce3-b09a-417c-9b1e-df32bd376f12",
   "metadata": {},
   "outputs": [
    {
     "name": "stdout",
     "output_type": "stream",
     "text": [
      "-4.0 87.0\n"
     ]
    },
    {
     "data": {
      "text/plain": [
       "[<matplotlib.lines.Line2D at 0x7f298910e190>]"
      ]
     },
     "execution_count": 145,
     "metadata": {},
     "output_type": "execute_result"
    },
    {
     "data": {
      "image/png": "[encoded data removed]",
      "text/plain": [
       "<Figure size 432x432 with 3 Axes>"
      ]
     },
     "metadata": {
      "needs_background": "light"
     },
     "output_type": "display_data"
    }
   ],
   "source": [
    "ax = sns.jointplot(data=df_nona, x=\"targets\", y=\"preds\", kind=\"hist\", bins=100, ylim=ylim)\n",
    "print(min_val, max_val)\n",
    "# draw line of perfect correlation\n",
    "ax.ax_joint.plot([min_val, max_val], [min_val, max_val], linewidth=2)#, color=\"black\")"
   ]
  },
  {
   "cell_type": "code",
   "execution_count": 154,
   "id": "d524c7bd-4af2-40be-8e94-36653d2a39fb",
   "metadata": {},
   "outputs": [
    {
     "name": "stdout",
     "output_type": "stream",
     "text": [
      "[ 12  15  29  49  51  84  89 104 105 110 125 136 142 144 146 147 149 154\n",
      " 159 169 177 206 207 210 224 229 230]\n",
      "27 patients\n"
     ]
    }
   ],
   "source": [
    "#pats = df.groupby(\"ids\").filter(lambda x: x['preds'].max() > 16)\n",
    "pats = df.groupby(\"ids\").filter(lambda x: x['targets'].mean() > 30)\n",
    "#pats = df.groupby(\"ids\").filter(lambda x: np.sqrt(x['error'].mean()) > 30)\n",
    "\n",
    "pats = pats.groupby(\"ids\").filter(lambda x: len(x[\"targets\"].dropna()) > 2)\n",
    "\n",
    "ids = pats[\"ids\"].unique()\n",
    "print(ids)\n",
    "print(len(ids), \"patients\")\n",
    "#pats"
   ]
  },
  {
   "cell_type": "code",
   "execution_count": 155,
   "id": "9539f8f6-a2e1-44a2-9f8f-b59374bc0365",
   "metadata": {},
   "outputs": [
    {
     "name": "stdout",
     "output_type": "stream",
     "text": [
      "mean average target:  13.053722766145164\n",
      "mean pat targets:  32.65425531914894\n",
      "RMSE of model: 24.62\n",
      "RMSE of mean: 31.93\n",
      "MAPE of model:  0.49\n",
      "MAPE of mean:  0.62\n"
     ]
    },
    {
     "data": {
      "image/png": "[encoded data removed]",
      "text/plain": [
       "<Figure size 432x288 with 1 Axes>"
      ]
     },
     "metadata": {
      "needs_background": "light"
     },
     "output_type": "display_data"
    }
   ],
   "source": [
    "from eval_utils import mape\n",
    "\n",
    "pat_id = 0\n",
    "model_id = 0\n",
    "\n",
    "pat = df[df[\"ids\"] == ids[pat_id]]\n",
    "pat = pat[pat[\"model_id\"] == model_id]\n",
    "plt.scatter(pat[\"step\"], pat[\"targets\"], label=\"targets\", color=\"orange\")\n",
    "plt.plot(pat[\"step\"], pat[\"preds\"], label=\"preds\")\n",
    "mean = mean_train_target\n",
    "print(\"mean average target: \", mean)\n",
    "print(\"mean pat targets: \", pat[\"targets\"].mean())\n",
    "plt.plot([0, max(pat[\"step\"])], [mean, mean], linewidth=1, color=\"black\", label=\"mean train ICP\", linestyle=\"--\")\n",
    "#plt.legend(location=\"out\")\n",
    "plt.legend(title='Legend', bbox_to_anchor=(1.05, 1), loc='upper left')\n",
    "plt.xlim(0, max(pat[\"step\"]) + 1)\n",
    "pat_nona = pat[~pat[\"targets\"].isna()]\n",
    "print(\"RMSE of model:\", round(np.sqrt(sklearn.metrics.mean_squared_error(pat_nona[\"targets\"], pat_nona[\"preds\"])), 2))\n",
    "print(\"RMSE of mean:\", round(np.sqrt(sklearn.metrics.mean_squared_error(pat_nona[\"targets\"], [mean] * len(pat_nona))), 2))\n",
    "print(\"MAPE of model: \", round(mape(pat_nona[\"targets\"], pat_nona[\"preds\"]), 2))\n",
    "print(\"MAPE of mean: \", round(mape(pat_nona[\"targets\"], [mean] * len(pat_nona)), 2))"
   ]
  },
  {
   "cell_type": "code",
   "execution_count": null,
   "id": "656ffe0a-eee1-4cce-b1be-49438b10b564",
   "metadata": {},
   "outputs": [],
   "source": []
  },
  {
   "cell_type": "markdown",
   "id": "edb1a9b2-fc96-44fc-ae9a-b36d3ba15adb",
   "metadata": {},
   "source": [
    "## Saliency"
   ]
  },
  {
   "cell_type": "code",
   "execution_count": 156,
   "id": "e1894b92-2011-446f-8a54-c61e63545836",
   "metadata": {},
   "outputs": [
    {
     "name": "stderr",
     "output_type": "stream",
     "text": [
      "2021-11-03 14:09:29.761274: W tensorflow/stream_executor/platform/default/dso_loader.cc:64] Could not load dynamic library 'libcudart.so.11.0'; dlerror: libcudart.so.11.0: cannot open shared object file: No such file or directory\n",
      "2021-11-03 14:09:29.761320: I tensorflow/stream_executor/cuda/cudart_stub.cc:29] Ignore above cudart dlerror if you do not have a GPU set up on your machine.\n"
     ]
    }
   ],
   "source": [
    "import shap\n",
    "\n",
    "\n",
    "def classical_saliency(models, trainers, model_type, use_shap=False, verbose=True):\n",
    "    # plot feature importance\n",
    "    all_importances = []\n",
    "    all_inputs = []\n",
    "    for model, data_module in zip(models, trainers):\n",
    "        if use_shap:\n",
    "            explainer = shap.TreeExplainer(model)\n",
    "            inputs = data_module.test_dataloader().dataset.flat_inputs\n",
    "            importances = explainer.shap_values(inputs)\n",
    "            all_inputs.append(inputs)\n",
    "        else:\n",
    "            if hasattr(model, \"feature_importances_\"):\n",
    "                importances = model.feature_importances_\n",
    "            elif hasattr(model, \"coef_\"):\n",
    "                importances = model.coef_\n",
    "        all_importances.append(importances)\n",
    "    if verbose and hasattr(model, \"importance_type\"):\n",
    "        print(\"Importance type: \", model.importance_type)\n",
    "    mean_importances = np.mean(np.stack(all_importances), axis=0)\n",
    "    path = f\"outputs/{model_type}\"\n",
    "    os.makedirs(\"outputs\", exist_ok=True)\n",
    "    \n",
    "    if use_shap:\n",
    "        #shap.summary_plot(mean_importances, X_test, plot_type=\"bar\")\n",
    "        #shap.summary_plot(mean_importances, X_test)\n",
    "        #shap.summary_plot(mean_importances)\n",
    "        #input_df = pd.DataFrame(inputs, columns=feature_names)\n",
    "        #shap_df = pd.DataFrame(mean_importances, columns=feature_names)\n",
    "        \n",
    "        #vals= np.abs(shap_values).mean(0)\n",
    "        #feature_importance = pd.DataFrame(list(zip(feature_names, vals)),columns=['col_name','feature_importance_vals'])\n",
    "        #feature_importance = feature_importance.sort_values(by=['feature_importance_vals'], ascending=False)\n",
    "        #feature_importance.head()\n",
    "        if verbose:\n",
    "            shap.summary_plot(mean_importances, features=inputs, feature_names=feature_names)\n",
    "            plt.savefig(path + \"_shap_importances.jpg\", bbox_inches='tight')\n",
    "        \n",
    "        imp_per_feat = np.abs(mean_importances).mean(axis=0)\n",
    "        feat_df = pd.Series(imp_per_feat, index=feature_names)\n",
    "    else:\n",
    "        # make plot\n",
    "        feat_df = pd.Series(mean_importances, index=feature_names)\n",
    "        if verbose:\n",
    "            p = feat_df.sort_values().plot.barh(figsize=(4, 25))\n",
    "            p.figure.savefig(path + \"_importances.jpg\", bbox_inches='tight')\n",
    "        \n",
    "    feat_df = feat_df.sort_values(ascending=True)\n",
    "    return feat_df\n",
    "\n",
    "\n",
    "def reduce_feat_df(feat_df, threshold=0.2):\n",
    "    # remove everything above 90% explained importance\n",
    "    print(len(feat_df))\n",
    "    feat_df = feat_df / feat_df.sum()\n",
    "    reduced_df = feat_df[feat_df.cumsum() > 0.2]\n",
    "    print(len(reduced_df))\n",
    "    print(reduced_df)\n",
    "    reduced_feats = list(reduced_df.index)\n",
    "    return reduced_feats\n"
   ]
  },
  {
   "cell_type": "code",
   "execution_count": 159,
   "id": "7b5cbf78-fa03-46d4-8b25-9a79cebc967d",
   "metadata": {},
   "outputs": [
    {
     "name": "stderr",
     "output_type": "stream",
     "text": [
      "ntree_limit is deprecated, use `iteration_range` or model slicing instead.\n"
     ]
    },
    {
     "name": "stdout",
     "output_type": "stream",
     "text": [
      "Importance type:  gain\n"
     ]
    },
    {
     "data": {
      "image/png": "[encoded data removed]",
      "text/plain": [
       "<Figure size 576x684 with 2 Axes>"
      ]
     },
     "metadata": {
      "needs_background": "light"
     },
     "output_type": "display_data"
    },
    {
     "data": {
      "text/plain": [
       "<Figure size 432x288 with 0 Axes>"
      ]
     },
     "metadata": {},
     "output_type": "display_data"
    }
   ],
   "source": [
    "sal_df = classical_saliency(models, trainers, args[\"model_type\"], use_shap=True, verbose=True)"
   ]
  },
  {
   "cell_type": "code",
   "execution_count": 160,
   "id": "6c8796f1-300c-4cea-870b-4701ccbb733a",
   "metadata": {},
   "outputs": [
    {
     "name": "stdout",
     "output_type": "stream",
     "text": [
      "96\n",
      "37\n",
      "ALT_Labor             0.006599\n",
      "Geschlecht            0.006802\n",
      "SpO2_Vital_max        0.006817\n",
      "AF_Vital_std          0.007692\n",
      "INR_Labor             0.008175\n",
      "syst_Vital_max        0.008496\n",
      "diast_Vital_max       0.008758\n",
      "HF_Vital_min          0.009101\n",
      "PO2_BGA               0.009284\n",
      "Cl_BGA                0.009521\n",
      "PEEP_Vital            0.009627\n",
      "Na_BGA                0.011820\n",
      "PCO2_BGA              0.011968\n",
      "FiO2_Vital            0.012290\n",
      "Ppeak_Vital           0.012842\n",
      "Pupille re_Vital      0.012915\n",
      "Gewicht               0.013839\n",
      "Narkotikum_Med        0.014173\n",
      "Lac_BGA               0.015163\n",
      "Freq gesamt_Vital     0.015708\n",
      "Temp_Vital            0.016700\n",
      "Katecholamin_Med      0.017250\n",
      "rel_time              0.019159\n",
      "Alter                 0.020336\n",
      "Diagnose_TBI          0.020472\n",
      "Größe                 0.020477\n",
      "Diagnose_ICH          0.022855\n",
      "GCS_motor_Vital       0.024767\n",
      "SBE_BGA               0.026270\n",
      "mittl_Vital_max       0.027281\n",
      "SpO2_Vital_min        0.029208\n",
      "Benzodiazepin_Med     0.039338\n",
      "GCS_auge_Vital        0.042918\n",
      "mittl_Vital           0.043152\n",
      "Freq spontan_Vital    0.057046\n",
      "Pupille li_Vital      0.064249\n",
      "Opioid_Med            0.098917\n",
      "dtype: float32\n"
     ]
    }
   ],
   "source": [
    "reduced_feats = reduce_feat_df(sal_df, threshold=0.2)"
   ]
  },
  {
   "cell_type": "code",
   "execution_count": 162,
   "id": "1796a280-7dea-4b4b-8f0c-652c7bdfe8dd",
   "metadata": {},
   "outputs": [
    {
     "ename": "AttributeError",
     "evalue": "'XGBRegressor' object has no attribute 'data_module'",
     "output_type": "error",
     "traceback": [
      "\u001b[0;31m---------------------------------------------------------------------------\u001b[0m",
      "\u001b[0;31mAttributeError\u001b[0m                            Traceback (most recent call last)",
      "\u001b[0;32m/tmp/ipykernel_13392/242775935.py\u001b[0m in \u001b[0;36m<module>\u001b[0;34m\u001b[0m\n\u001b[1;32m      4\u001b[0m \u001b[0;34m\u001b[0m\u001b[0m\n\u001b[1;32m      5\u001b[0m \u001b[0;32mfor\u001b[0m \u001b[0mmodel\u001b[0m \u001b[0;32min\u001b[0m \u001b[0mmodels\u001b[0m\u001b[0;34m:\u001b[0m\u001b[0;34m\u001b[0m\u001b[0;34m\u001b[0m\u001b[0m\n\u001b[0;32m----> 6\u001b[0;31m     \u001b[0mmodel_saliency\u001b[0m \u001b[0;34m=\u001b[0m \u001b[0mget_sal_list\u001b[0m\u001b[0;34m(\u001b[0m\u001b[0mmodel\u001b[0m\u001b[0;34m,\u001b[0m \u001b[0;36m0\u001b[0m\u001b[0;34m,\u001b[0m \u001b[0mperc\u001b[0m\u001b[0;34m=\u001b[0m\u001b[0;36m1.0\u001b[0m\u001b[0;34m,\u001b[0m \u001b[0magg\u001b[0m\u001b[0;34m=\u001b[0m\u001b[0;32mTrue\u001b[0m\u001b[0;34m,\u001b[0m \u001b[0mds\u001b[0m\u001b[0;34m=\u001b[0m\u001b[0mmodel\u001b[0m\u001b[0;34m.\u001b[0m\u001b[0mdata_module\u001b[0m\u001b[0;34m.\u001b[0m\u001b[0mtest_dataloader\u001b[0m\u001b[0;34m(\u001b[0m\u001b[0;34m)\u001b[0m\u001b[0;34m.\u001b[0m\u001b[0mdataset\u001b[0m\u001b[0;34m,\u001b[0m \u001b[0mig\u001b[0m\u001b[0;34m=\u001b[0m\u001b[0;32mFalse\u001b[0m\u001b[0;34m)\u001b[0m\u001b[0;34m\u001b[0m\u001b[0;34m\u001b[0m\u001b[0m\n\u001b[0m\u001b[1;32m      7\u001b[0m     \u001b[0msal_list\u001b[0m \u001b[0;34m+=\u001b[0m \u001b[0mmodel_saliency\u001b[0m\u001b[0;34m\u001b[0m\u001b[0;34m\u001b[0m\u001b[0m\n",
      "\u001b[0;31mAttributeError\u001b[0m: 'XGBRegressor' object has no attribute 'data_module'"
     ]
    }
   ],
   "source": [
    "from saliency import get_sal_list\n",
    "\n",
    "sal_list = []\n",
    "\n",
    "for model in models:\n",
    "    model_saliency = get_sal_list(model, 0, perc=1.0, agg=True, ds=model.data_module.test_dataloader().dataset, ig=False)\n",
    "    sal_list += model_saliency"
   ]
  },
  {
   "cell_type": "code",
   "execution_count": null,
   "id": "5f6abc5e-34bc-4e2b-bd36-ee849884ba4b",
   "metadata": {},
   "outputs": [],
   "source": [
    "import gc\n",
    "gc.collect()\n",
    "torch.cuda.empty_cache()"
   ]
  },
  {
   "cell_type": "code",
   "execution_count": null,
   "id": "ef2d8408-dd00-42c3-9276-d87371240738",
   "metadata": {},
   "outputs": [],
   "source": [
    "mean_overall = [s.mean(0) for s in sal_list]\n",
    "feat_saliency = np.sum(mean_overall, axis=0)"
   ]
  },
  {
   "cell_type": "code",
   "execution_count": null,
   "id": "61c2826f-9f8a-4806-813f-66a046c23cd1",
   "metadata": {},
   "outputs": [],
   "source": [
    "feat_sal_df = pd.DataFrame({\"sal\": feat_saliency}, index = feature_names).sort_values(\"sal\")"
   ]
  },
  {
   "cell_type": "code",
   "execution_count": null,
   "id": "a27d5fa3-8796-462c-bcb5-b8200f84aa1a",
   "metadata": {},
   "outputs": [],
   "source": [
    "plt.figure()\n",
    "p = feat_sal_df.plot.barh(figsize = (6, 25))"
   ]
  },
  {
   "cell_type": "code",
   "execution_count": null,
   "id": "856c47c1-4cbc-4575-83c7-017102979484",
   "metadata": {},
   "outputs": [],
   "source": [
    "p.figure.savefig(\"importances.jpg\", bbox_inches='tight')"
   ]
  },
  {
   "cell_type": "code",
   "execution_count": null,
   "id": "9ff7d4bb-3f7f-4b41-b3a2-b4542cfd892f",
   "metadata": {},
   "outputs": [],
   "source": [
    "plt.show()"
   ]
  },
  {
   "cell_type": "markdown",
   "id": "b51139e8-1e0d-4967-8899-0c8671e7bf05",
   "metadata": {},
   "source": [
    "# Tuning"
   ]
  },
  {
   "cell_type": "code",
   "execution_count": null,
   "id": "3786fb1d-890a-41a6-92bd-143ad740bead",
   "metadata": {},
   "outputs": [],
   "source": [
    "from tune_utils import tune#, make_tune_plots\n",
    "from data_utils import make_split\n",
    "\n",
    "import importlib\n",
    "import tune_utils\n",
    "importlib.reload(tune_utils)\n",
    "from tune_utils import tune\n",
    "\n",
    "import data_utils\n",
    "importlib.reload(data_utils)"
   ]
  },
  {
   "cell_type": "code",
   "execution_count": null,
   "id": "ec2f60c1-a0a6-4f25-9391-3b051cd022c0",
   "metadata": {},
   "outputs": [],
   "source": [
    "import logging\n",
    "import pytorch_lightning\n",
    "\n",
    "logging.getLogger(\"pytorch_lightning\").setLevel(logging.ERROR)\n",
    "logging.getLogger(\"lightning\").setLevel(logging.ERROR)\n",
    "pytorch_lightning.utilities.distributed.log.setLevel(logging.ERROR)"
   ]
  },
  {
   "cell_type": "code",
   "execution_count": null,
   "id": "b319e7b2-fde0-4ad7-8414-3e3a8fc2f1a7",
   "metadata": {},
   "outputs": [],
   "source": [
    "args[\"dbs\"] = [\"UKE\"]\n",
    "args[\"k_fold\"] = 0\n",
    "args[\"num_splits\"] = 3\n",
    "args[\"flat_block_size\"] = 0\n",
    "args[\"n_trials\"] = 15\n",
    "args[\"model_type\"] = \"linear\"\n",
    "args[\"fill_type\"] = \"pat_mean\"\n",
    "\n",
    "model_args[\"max_steps\"] = 300\n",
    "\n",
    "opt_flat_block_size = False\n",
    "opt_augs = False\n",
    "opt_fill_type = False"
   ]
  },
  {
   "cell_type": "code",
   "execution_count": null,
   "id": "6193a76c-b789-4845-a4e5-6eaa5eae3e1c",
   "metadata": {},
   "outputs": [],
   "source": [
    "#storage = optuna.storages.RDBStorage(url=\"sqlite:///optuna.db\",\n",
    "#                                         engine_kwargs={\"connect_args\": {\"timeout\": 30}})\n",
    "#load_study = optuna.load_study(\"09_17_02_39__linear_UKE_15\", storage=storage)"
   ]
  },
  {
   "cell_type": "code",
   "execution_count": null,
   "id": "1d751b3c-3c64-48df-9d5b-ff2b2b09f5bd",
   "metadata": {},
   "outputs": [],
   "source": [
    "# make dev/test split to test tuning\n",
    "dev_data, test_data, dev_idcs, test_idcs = make_split(seq_list, test_size=0.2)"
   ]
  },
  {
   "cell_type": "code",
   "execution_count": null,
   "id": "ef5afe9b-7da5-46ec-8f67-98fd4bbce52b",
   "metadata": {},
   "outputs": [],
   "source": [
    "# tune\n",
    "study = tune(dev_data, test_data, args, model_args, verbose=False, n_trials=args[\"n_trials\"],\n",
    "             opt_flat_block_size=opt_flat_block_size, opt_augs=opt_augs, opt_fill_type=opt_fill_type)"
   ]
  },
  {
   "cell_type": "code",
   "execution_count": null,
   "id": "59314a06-f83a-4a4b-a50b-c02700a2ad60",
   "metadata": {},
   "outputs": [],
   "source": [
    "#test_idcs = np.load(\"test_tune/09_17_02_39__linear_UKE_15/test_idcs.npy\")"
   ]
  },
  {
   "cell_type": "code",
   "execution_count": null,
   "id": "159b05d2-0a2b-4599-adb1-321e0bbe31bf",
   "metadata": {},
   "outputs": [],
   "source": [
    "# print key study parts\n",
    "name = study.study_name\n",
    "print(name)\n",
    "print(study.best_trial)\n",
    "best_params = study.best_params\n",
    "print(best_params)"
   ]
  },
  {
   "cell_type": "code",
   "execution_count": null,
   "id": "5fc29766-69c1-4e9f-92ab-7afd708fab3b",
   "metadata": {},
   "outputs": [],
   "source": [
    "from tune_utils import store_study_results\n",
    "store_study_results(study, \"./test_tune/\", test_idcs, args)"
   ]
  },
  {
   "cell_type": "code",
   "execution_count": null,
   "id": "fe860988-bd2b-4c89-bdce-4955b336eeeb",
   "metadata": {},
   "outputs": [],
   "source": [
    "make_tune_plots(study, f\"outputs/tune_results/{args['model_type']}_{args['n_trials']}\")"
   ]
  },
  {
   "cell_type": "code",
   "execution_count": null,
   "id": "99161a6f-167e-4bca-9e0b-7f438fc7fa9f",
   "metadata": {},
   "outputs": [],
   "source": [
    "# retrain on dev/test and check performance\n",
    "    \n",
    "models, trainers = retrain(dev_data, test_data, best_params, args, model_args, verbose=True)"
   ]
  },
  {
   "cell_type": "code",
   "execution_count": null,
   "id": "2f74412f-3003-43f0-ab14-e3caefd6dc3c",
   "metadata": {},
   "outputs": [],
   "source": [
    "args[\"k_fold\"] = 0\n",
    "args[\"num_splits\"] = 5\n",
    "models, trainers = retrain(dev_data, test_data, best_params, args, model_args, verbose=True)"
   ]
  },
  {
   "cell_type": "code",
   "execution_count": null,
   "id": "836f840e-3eb0-4558-8a45-971b7cf3aa07",
   "metadata": {},
   "outputs": [],
   "source": [
    "args[\"k_fold\"] = 5\n",
    "models, trainers = retrain(dev_data, test_data, best_params, args, model_args, verbose=True)"
   ]
  },
  {
   "cell_type": "markdown",
   "id": "448055bd-c960-4fd5-90ae-d67cace0f033",
   "metadata": {},
   "source": [
    "## Nested k-fold"
   ]
  },
  {
   "cell_type": "code",
   "execution_count": null,
   "id": "e9144be8-e705-41ef-8750-b4eb7d799c8c",
   "metadata": {},
   "outputs": [],
   "source": [
    "classical_models = [\"xgb\", \"rf\", \"linear\"]"
   ]
  },
  {
   "cell_type": "code",
   "execution_count": null,
   "id": "af294171-1ca8-4627-b19a-76355ec58389",
   "metadata": {},
   "outputs": [],
   "source": [
    "args[\"dbs\"] = [\"UKE\"]\n",
    "args[\"k_fold\"] = 0\n",
    "args[\"num_splits\"] = 3\n",
    "args[\"flat_block_size\"] = 1\n",
    "args[\"n_trials\"] = 10\n",
    "\n",
    "args[\"n_outer_folds\"] = 3\n",
    "\n",
    "args[\"model_type\"] = \"xgb\"\n",
    "args[\"fill_type\"] = \"pat_mean\""
   ]
  },
  {
   "cell_type": "code",
   "execution_count": null,
   "id": "f058455f-207d-4d20-adf1-10ee74dc84c4",
   "metadata": {},
   "outputs": [],
   "source": [
    "from data_utils import make_fold\n",
    "# outer fold\n",
    "dev_data_list, test_data_list, dev_idcs, test_idcs = make_fold(seq_list, k=args[\"n_outer_folds\"])"
   ]
  },
  {
   "cell_type": "code",
   "execution_count": null,
   "id": "c5ae3167-5c9c-45f3-835b-2a01cb2673b4",
   "metadata": {},
   "outputs": [],
   "source": [
    "# tune and store studies\n",
    "studies = []\n",
    "for dev_data, test_data in zip(dev_data_list, test_data_list):\n",
    "    study = tune(dev_data, test_data, args, model_args, verbose=False, n_trials=args[\"n_trials\"])\n",
    "    # print key tune details\n",
    "    name = study.study_name\n",
    "    print(name)\n",
    "    print(study.best_trial)\n",
    "    best_params = study.best_params\n",
    "    print(best_params)\n",
    "    studies.append(study)"
   ]
  },
  {
   "cell_type": "code",
   "execution_count": null,
   "id": "207d300d-5dfd-47c4-9e7d-3cbfc2df82de",
   "metadata": {},
   "outputs": [],
   "source": [
    "metrics = []\n",
    "pred_dfs = []\n",
    "for tune_idx in tqdm(range(len(studies))):\n",
    "    models, trainers = retrain(dev_data_list[tune_idx],\n",
    "                               test_data_list[tune_idx], \n",
    "                               studies[tune_idx].best_params, \n",
    "                               args, model_args, verbose=False)\n",
    "    df = get_all_dfs(models, trainers, args[\"model_type\"], dl_type=\"test\")\n",
    "    #loss = print_all_metrics(df)\n",
    "    loss = df.groupby(\"model_id\").apply(lambda model_df: model_df.groupby(\"ids\").mean()).mean()[\"error\"]\n",
    "    metrics.append(loss)\n",
    "    pred_dfs.append(df)\n",
    "    print(loss)"
   ]
  },
  {
   "cell_type": "code",
   "execution_count": null,
   "id": "0a0db61e-746e-4f46-901d-b0694fbd631b",
   "metadata": {},
   "outputs": [],
   "source": [
    "print(np.mean(metrics))\n",
    "print(np.std(metrics))"
   ]
  },
  {
   "cell_type": "code",
   "execution_count": null,
   "id": "1dafaf53-4484-4f4a-9e53-28744b3327c1",
   "metadata": {},
   "outputs": [],
   "source": [
    "for study in studies:\n",
    "    print(study.best_value)\n",
    "    print(study.best_params)\n",
    "    print()"
   ]
  },
  {
   "cell_type": "code",
   "execution_count": null,
   "id": "d58bb9ad-48e6-4594-9ce6-6857ebab6e86",
   "metadata": {},
   "outputs": [],
   "source": [
    "[study.best_value for study in studies]"
   ]
  },
  {
   "cell_type": "code",
   "execution_count": null,
   "id": "a480c0c7-70f3-4ea3-bae3-08b2b18dc0ef",
   "metadata": {},
   "outputs": [],
   "source": [
    "metrics"
   ]
  },
  {
   "cell_type": "code",
   "execution_count": null,
   "id": "d60af506-40aa-40f8-9821-ac6ea982ac74",
   "metadata": {},
   "outputs": [],
   "source": []
  },
  {
   "cell_type": "code",
   "execution_count": null,
   "id": "29d452de-db1a-4e25-96ca-aac754aa9aa1",
   "metadata": {},
   "outputs": [],
   "source": [
    "print(np.mean(metrics))\n",
    "print(np.std(metrics))"
   ]
  },
  {
   "cell_type": "code",
   "execution_count": null,
   "id": "c79480ff-c1be-4238-9ae2-d5cf3228bc8a",
   "metadata": {},
   "outputs": [],
   "source": [
    "for study in studies:\n",
    "    print(study.best_value)\n",
    "    print(study.best_params)\n",
    "    print()"
   ]
  },
  {
   "cell_type": "code",
   "execution_count": null,
   "id": "1236125c-e54d-4d13-9fd8-3d763e1b2de8",
   "metadata": {},
   "outputs": [],
   "source": [
    "metrics"
   ]
  },
  {
   "cell_type": "code",
   "execution_count": null,
   "id": "f6858ffd-9c76-4cb5-bd0c-d8d3298a5584",
   "metadata": {},
   "outputs": [],
   "source": [
    "len(studies)"
   ]
  },
  {
   "cell_type": "code",
   "execution_count": null,
   "id": "43776d9b-3083-45f3-a58b-5b118f6680e2",
   "metadata": {},
   "outputs": [],
   "source": [
    "studies[0].best_trial"
   ]
  },
  {
   "cell_type": "code",
   "execution_count": null,
   "id": "3c0cdda2-cc87-483e-af97-b508505f3d55",
   "metadata": {},
   "outputs": [],
   "source": []
  }
 ],
 "metadata": {
  "kernelspec": {
   "display_name": "raw",
   "language": "python",
   "name": "raw"
  },
  "language_info": {
   "codemirror_mode": {
    "name": "ipython",
    "version": 3
   },
   "file_extension": ".py",
   "mimetype": "text/x-python",
   "name": "python",
   "nbconvert_exporter": "python",
   "pygments_lexer": "ipython3",
   "version": "3.8.11"
  }
 },
 "nbformat": 4,
 "nbformat_minor": 5
}
