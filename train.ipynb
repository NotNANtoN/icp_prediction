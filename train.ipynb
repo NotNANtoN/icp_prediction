{
 "cells": [
  {
   "cell_type": "code",
   "execution_count": 1,
   "id": "169c4255-7bc4-4ff2-b2fd-0587eabe2b86",
   "metadata": {},
   "outputs": [
    {
     "name": "stderr",
     "output_type": "stream",
     "text": [
      "Global seed set to 4\n"
     ]
    }
   ],
   "source": [
    "from arg_utils import is_notebook, get_cfg\n",
    "cfg = get_cfg()\n",
    "# choices\n",
    "classical_models = [\"linear\", \"xgb\", \"rf\"]\n",
    "nn_models = [\"mlp\", \"rnn\", \"transformer\", \"clip\", \"gpt\"]\n",
    "# override variables to experiment in notebook\n",
    "if is_notebook():    \n",
    "    cfg[\"target_name\"] = \"ICP_Vital\"   # ICP_Vital\" , long_icp_hypertension_2\n",
    "    cfg[\"db_name\"] = \"UKE\"  # \"UKE\", \"MIMIC\"\n",
    "    cfg[\"minutes\"] = 60\n",
    "    cfg[\"model_type\"] = \"mlp\"\n",
    "    \n",
    "    # do experiments on:  fill_type, target_nan_quantile, train_noise_std, \n",
    "    #  min_len(increase from 20 to higher), grad_clip_val (at 1 so far), weight_decay (at 0.2 so far)\n",
    "    \n",
    "    cfg[\"fill_type\"] = \"none\" # \"pat_mean\", \"median\", \"pat_ema\" \"pat_ema_mask\"\n",
    "    #cfg[\"norm_method\"] = None # z, or none\n",
    "    cfg[\"use_static\"] = False\n",
    "    \n",
    "    cfg[\"bs\"] = 16 # 8 best for rnn, 32 for GPT\n",
    "    cfg[\"max_len\"] = 128\n",
    "    cfg[\"min_len\"] = 128\n",
    "    cfg[\"target_nan_quantile\"] = 0.9999\n",
    "    cfg[\"block_size\"] = 0\n",
    "\n",
    "    # classical model args\n",
    "    cfg[\"flat_block_size\"] = 1\n",
    "    # general args\n",
    "    cfg[\"max_epochs\"] = 20\n",
    "    cfg[\"use_nan_embed\"] = False\n",
    "    cfg[\"weight_decay\"] = 0.2\n",
    "    cfg[\"train_noise_std\"] = 0.05\n",
    "    cfg[\"grad_clip_val\"] = 1.0\n",
    "    cfg[\"use_huber\"] = 0\n",
    "    \n",
    "    cfg[\"lr\"] = 0.001\n",
    "\n",
    "\n",
    "    # rnn params\n",
    "    cfg[\"hidden_size\"] = 2048\n",
    "    cfg[\"rnn_type\"] = \"gru\"\n",
    "\n",
    "    cfg[\"rnn_layers\"] = 1\n",
    "    \n",
    "    # transformer params\n",
    "    cfg[\"mode\"] = \"adapters\"  # \"adapters\", \"train_mlp_norm\",  \"train_norm\", \"freeze\" (does not train)\n",
    "    \n",
    "    cfg[\"gpu\"] = 0\n",
    "    \n",
    "    cfg[\"seed\"] = 4\n",
    "    cfg[\"subsample\"] = 0.9\n",
    "    cfg[\"colsample_bytree\"] = 0.9\n",
    "    \n",
    "    \n",
    "# overrides and calculated default vals\n",
    "if cfg[\"lr\"] is None:\n",
    "    model_type = cfg[\"model_type\"]\n",
    "    if model_type == \"clip\":\n",
    "        cfg[\"lr\"] = 0.001\n",
    "    elif model_type == \"gpt\":\n",
    "        # bs 8 and gpt2 take 9.8GB with max seq len of 512\n",
    "        # bs 16 with max seq len of 256\n",
    "        # bs 32 with max seq len 128 only 7.4GB, good performance and fast - 6.9 if mlp_norm\n",
    "        # bs 64 with len 128 and mlp_norm = 10.9GB. 9.4GB for freeze\n",
    "        cfg[\"lr\"] = 0.00005\n",
    "    else:\n",
    "        cfg[\"lr\"] = 0.0001  # 0.01 works kind of for nan_embed\n",
    "\n",
    "if cfg[\"fill_type\"] == \"none\":\n",
    "    cfg[\"use_nan_embed\"] = 1\n",
    "        \n",
    "#cfg[\"val_check_interval\"] = int(cfg[\"val_check_interval\"] * (32 / cfg[\"batch_size\"]))\n",
    "    \n",
    "import pytorch_lightning as pl\n",
    "pl.utilities.seed.seed_everything(seed=cfg[\"seed\"], workers=False)\n",
    "locals().update(cfg)"
   ]
  },
  {
   "cell_type": "code",
   "execution_count": null,
   "id": "1be28d75",
   "metadata": {},
   "outputs": [],
   "source": []
  },
  {
   "cell_type": "code",
   "execution_count": 2,
   "id": "ae4cf0b4-8d17-4dba-9a73-26de0eb9bd11",
   "metadata": {},
   "outputs": [],
   "source": [
    "import os\n",
    "os.environ[\"CUDA_VISIBLE_DEVICES\"] = str(cfg[\"gpu\"])"
   ]
  },
  {
   "cell_type": "code",
   "execution_count": 3,
   "id": "f7f4c780-09b5-4421-a595-a1e1d47cb861",
   "metadata": {},
   "outputs": [],
   "source": [
    "import os\n",
    "        \n",
    "import torch\n",
    "import pytorch_lightning as pl\n",
    "import pandas as pd\n",
    "import numpy as np\n",
    "from tqdm import tqdm\n",
    "import seaborn as sns\n",
    "import sklearn\n",
    "import matplotlib.pyplot as plt\n",
    "\n",
    "from data_utils import SeqDataModule\n",
    "\n",
    "import logging\n",
    "import pytorch_lightning\n",
    "logging.getLogger(\"pytorch_lightning\").setLevel(logging.ERROR)\n",
    "pytorch_lightning.utilities.distributed.log.setLevel(logging.ERROR)"
   ]
  },
  {
   "cell_type": "code",
   "execution_count": 4,
   "id": "b10ef0e1-e32d-46c5-b1ba-64c282c82091",
   "metadata": {},
   "outputs": [],
   "source": [
    "# load df\n",
    "path = f'data/DB_{cfg[\"db_name\"]}_{cfg[\"minutes\"]}_final_df.pkl'\n",
    "df = pd.read_pickle(path)\n",
    "\n",
    "if \"Bili_BGA\" in df:\n",
    "    print(\"Drop Bili\")\n",
    "    df = df.drop(columns=[\"Bili_BGA\"])"
   ]
  },
  {
   "cell_type": "code",
   "execution_count": 5,
   "id": "027d55bc",
   "metadata": {},
   "outputs": [
    {
     "name": "stdout",
     "output_type": "stream",
     "text": [
      "291704\n",
      "count    243510.000000\n",
      "mean         13.136463\n",
      "std          10.522283\n",
      "min         -23.000000\n",
      "25%           8.000000\n",
      "50%          12.000000\n",
      "75%          16.000000\n",
      "max         298.000000\n",
      "Name: ICP_Vital, dtype: float64\n",
      "0.49113061427296983\n",
      "0.1652154238543181\n"
     ]
    }
   ],
   "source": [
    "print(len(df))\n",
    "print(df[\"ICP_Vital\"].describe())\n",
    "print(df.isna().mean().mean())\n",
    "print(df[\"ICP_Vital\"].isna().mean())"
   ]
  },
  {
   "cell_type": "code",
   "execution_count": 6,
   "id": "95db715a-8709-4a85-bbe1-6a2a6de3287b",
   "metadata": {},
   "outputs": [],
   "source": [
    "# create datamodule with dataloaders\n",
    "from data_utils import SeqDataModule\n",
    "\n",
    "dm = SeqDataModule(df, db_name,\n",
    "                   target_name=cfg[\"target_name\"],\n",
    "                   random_starts=cfg[\"random_starts\"], \n",
    "                   min_len=cfg[\"min_len\"], \n",
    "                   max_len=cfg[\"max_len\"],\n",
    "                   train_noise_std=cfg[\"train_noise_std\"], \n",
    "                   batch_size=cfg[\"bs\"], \n",
    "                   fill_type=cfg[\"fill_type\"], \n",
    "                   flat_block_size=cfg[\"flat_block_size\"],\n",
    "                   target_nan_quantile=cfg[\"target_nan_quantile\"],\n",
    "                   block_size=cfg[\"block_size\"],\n",
    "                   )\n",
    "dm.setup()"
   ]
  },
  {
   "cell_type": "code",
   "execution_count": 7,
   "id": "bbc46f5e-6dc0-47e3-898f-b3a20dbd425f",
   "metadata": {},
   "outputs": [
    {
     "name": "stdout",
     "output_type": "stream",
     "text": [
      "torch.Size([16, 128, 88]) tensor(nan) tensor(nan)\n",
      "torch.Size([16, 128, 1])\n",
      "tensor(14.9114)\n",
      "tensor([ 20,  14, 128,  88,  62,  28, 128,   7, 108, 128,  84, 128,  34,  30,\n",
      "        128, 128])\n",
      "tensor(77.6875) tensor(128)\n"
     ]
    }
   ],
   "source": [
    "# test dataloader\n",
    "out = next(iter(dm.train_dataloader()))\n",
    "inputs, targets, lens = next(iter(dm.train_dataloader()))\n",
    "#print(dm.feature_names)\n",
    "print(inputs.shape, inputs.min(), inputs.max())\n",
    "print(targets.shape)\n",
    "print(targets[~torch.isnan(targets)].mean())\n",
    "print(lens)\n",
    "print(lens.float().mean(), lens.max())\n",
    "# TODO: lens max and mean deviate strongly from each other - smaller ranges, increase min_len"
   ]
  },
  {
   "cell_type": "code",
   "execution_count": 8,
   "id": "3f5b4ee0-f3cb-4547-86bd-5c16750fb475",
   "metadata": {},
   "outputs": [
    {
     "name": "stderr",
     "output_type": "stream",
     "text": [
      "Failed to detect the name of this notebook, you can set it manually with the WANDB_NOTEBOOK_NAME environment variable to enable code saving.\n"
     ]
    },
    {
     "name": "stdout",
     "output_type": "stream",
     "text": [
      "Number of trainable parameters:  13455361\n"
     ]
    },
    {
     "name": "stderr",
     "output_type": "stream",
     "text": [
      "\u001b[34m\u001b[1mwandb\u001b[0m: Currently logged in as: \u001b[33mantonius\u001b[0m (use `wandb login --relogin` to force relogin)\n"
     ]
    },
    {
     "data": {
      "text/html": [
       "Tracking run with wandb version 0.12.11"
      ],
      "text/plain": [
       "<IPython.core.display.HTML object>"
      ]
     },
     "metadata": {},
     "output_type": "display_data"
    },
    {
     "data": {
      "text/html": [
       "Run data is saved locally in <code>/home/anton/ICU/icp_prediction/wandb/run-20220308_164725-39mwpmq9</code>"
      ],
      "text/plain": [
       "<IPython.core.display.HTML object>"
      ]
     },
     "metadata": {},
     "output_type": "display_data"
    },
    {
     "data": {
      "text/html": [
       "Syncing run <strong><a href=\"https://wandb.ai/antonius/ICP_Vital/runs/39mwpmq9\" target=\"_blank\">jumping-wind-979</a></strong> to <a href=\"https://wandb.ai/antonius/ICP_Vital\" target=\"_blank\">Weights & Biases</a> (<a href=\"https://wandb.me/run\" target=\"_blank\">docs</a>)<br/>"
      ],
      "text/plain": [
       "<IPython.core.display.HTML object>"
      ]
     },
     "metadata": {},
     "output_type": "display_data"
    },
    {
     "name": "stderr",
     "output_type": "stream",
     "text": [
      "\u001b[34m\u001b[1mwandb\u001b[0m: logging graph, to disable use `wandb.watch(log_graph=False)`\n",
      "/home/anton/.local/lib/python3.8/site-packages/pytorch_lightning/core/datamodule.py:469: LightningDeprecationWarning: DataModule.setup has already been called, so it will not be called again. In v1.6 this behavior will change to always call DataModule.setup.\n",
      "  rank_zero_deprecation(\n"
     ]
    },
    {
     "data": {
      "application/vnd.jupyter.widget-view+json": {
       "model_id": "7f8c965b096c4d86bc57dd5432f745f5",
       "version_major": 2,
       "version_minor": 0
      },
      "text/plain": [
       "Validation sanity check: 0it [00:00, ?it/s]"
      ]
     },
     "metadata": {},
     "output_type": "display_data"
    },
    {
     "data": {
      "application/vnd.jupyter.widget-view+json": {
       "model_id": "826acbbb9b8a43df8352ddb8beffd076",
       "version_major": 2,
       "version_minor": 0
      },
      "text/plain": [
       "Training: 0it [00:00, ?it/s]"
      ]
     },
     "metadata": {},
     "output_type": "display_data"
    },
    {
     "name": "stderr",
     "output_type": "stream",
     "text": [
      "/home/anton/.local/lib/python3.8/site-packages/torch/optim/lr_scheduler.py:129: UserWarning: Detected call of `lr_scheduler.step()` before `optimizer.step()`. In PyTorch 1.1.0 and later, you should call them in the opposite order: `optimizer.step()` before `lr_scheduler.step()`.  Failure to do this will result in PyTorch skipping the first value of the learning rate schedule. See more details at https://pytorch.org/docs/stable/optim.html#how-to-adjust-learning-rate\n",
      "  warnings.warn(\"Detected call of `lr_scheduler.step()` before `optimizer.step()`. \"\n"
     ]
    },
    {
     "data": {
      "application/vnd.jupyter.widget-view+json": {
       "model_id": "65ac334d8af447cdb6a9f1503d3b5bea",
       "version_major": 2,
       "version_minor": 0
      },
      "text/plain": [
       "Validating: 0it [00:00, ?it/s]"
      ]
     },
     "metadata": {},
     "output_type": "display_data"
    },
    {
     "data": {
      "application/vnd.jupyter.widget-view+json": {
       "model_id": "b7b0ff7dedc340fd97aa4a6334ecb7e9",
       "version_major": 2,
       "version_minor": 0
      },
      "text/plain": [
       "Validating: 0it [00:00, ?it/s]"
      ]
     },
     "metadata": {},
     "output_type": "display_data"
    },
    {
     "data": {
      "application/vnd.jupyter.widget-view+json": {
       "model_id": "9592757ed81148b68b4fa7b1419ac58c",
       "version_major": 2,
       "version_minor": 0
      },
      "text/plain": [
       "Validating: 0it [00:00, ?it/s]"
      ]
     },
     "metadata": {},
     "output_type": "display_data"
    },
    {
     "data": {
      "application/vnd.jupyter.widget-view+json": {
       "model_id": "3f0f3edd7bcd447e8cbf0a0c843e3307",
       "version_major": 2,
       "version_minor": 0
      },
      "text/plain": [
       "Validating: 0it [00:00, ?it/s]"
      ]
     },
     "metadata": {},
     "output_type": "display_data"
    },
    {
     "data": {
      "application/vnd.jupyter.widget-view+json": {
       "model_id": "7a7e42762a4d4eff9128efd45185d4bb",
       "version_major": 2,
       "version_minor": 0
      },
      "text/plain": [
       "Validating: 0it [00:00, ?it/s]"
      ]
     },
     "metadata": {},
     "output_type": "display_data"
    },
    {
     "data": {
      "application/vnd.jupyter.widget-view+json": {
       "model_id": "9cfcb7506d79449cb8f13ff6e99d8bdf",
       "version_major": 2,
       "version_minor": 0
      },
      "text/plain": [
       "Validating: 0it [00:00, ?it/s]"
      ]
     },
     "metadata": {},
     "output_type": "display_data"
    },
    {
     "data": {
      "application/vnd.jupyter.widget-view+json": {
       "model_id": "fed22ada0ef647359b940fedfc5643e6",
       "version_major": 2,
       "version_minor": 0
      },
      "text/plain": [
       "Validating: 0it [00:00, ?it/s]"
      ]
     },
     "metadata": {},
     "output_type": "display_data"
    },
    {
     "data": {
      "application/vnd.jupyter.widget-view+json": {
       "model_id": "82ff0df8314f4134af38d110f2c9f612",
       "version_major": 2,
       "version_minor": 0
      },
      "text/plain": [
       "Validating: 0it [00:00, ?it/s]"
      ]
     },
     "metadata": {},
     "output_type": "display_data"
    },
    {
     "data": {
      "application/vnd.jupyter.widget-view+json": {
       "model_id": "bf2bd2301d894b04891c13b05bcf6b18",
       "version_major": 2,
       "version_minor": 0
      },
      "text/plain": [
       "Validating: 0it [00:00, ?it/s]"
      ]
     },
     "metadata": {},
     "output_type": "display_data"
    },
    {
     "data": {
      "application/vnd.jupyter.widget-view+json": {
       "model_id": "7decfa90c3084508bd37035325c57c38",
       "version_major": 2,
       "version_minor": 0
      },
      "text/plain": [
       "Validating: 0it [00:00, ?it/s]"
      ]
     },
     "metadata": {},
     "output_type": "display_data"
    },
    {
     "data": {
      "application/vnd.jupyter.widget-view+json": {
       "model_id": "7904d243bfd3456f8186a4e662a05b3f",
       "version_major": 2,
       "version_minor": 0
      },
      "text/plain": [
       "Validating: 0it [00:00, ?it/s]"
      ]
     },
     "metadata": {},
     "output_type": "display_data"
    },
    {
     "data": {
      "application/vnd.jupyter.widget-view+json": {
       "model_id": "178532cd81664da68e5e642620fff409",
       "version_major": 2,
       "version_minor": 0
      },
      "text/plain": [
       "Validating: 0it [00:00, ?it/s]"
      ]
     },
     "metadata": {},
     "output_type": "display_data"
    },
    {
     "data": {
      "application/vnd.jupyter.widget-view+json": {
       "model_id": "f9587e2652b94a0d83acb6583f4fdb32",
       "version_major": 2,
       "version_minor": 0
      },
      "text/plain": [
       "Validating: 0it [00:00, ?it/s]"
      ]
     },
     "metadata": {},
     "output_type": "display_data"
    },
    {
     "data": {
      "application/vnd.jupyter.widget-view+json": {
       "model_id": "06f8689ffeea4aae9fb94f1120111b60",
       "version_major": 2,
       "version_minor": 0
      },
      "text/plain": [
       "Validating: 0it [00:00, ?it/s]"
      ]
     },
     "metadata": {},
     "output_type": "display_data"
    },
    {
     "data": {
      "application/vnd.jupyter.widget-view+json": {
       "model_id": "68e0ac2fd9694e9ea97f4741d89a47f3",
       "version_major": 2,
       "version_minor": 0
      },
      "text/plain": [
       "Validating: 0it [00:00, ?it/s]"
      ]
     },
     "metadata": {},
     "output_type": "display_data"
    },
    {
     "data": {
      "application/vnd.jupyter.widget-view+json": {
       "model_id": "5d4c689676ea4ca3aa5bb56d2c8384db",
       "version_major": 2,
       "version_minor": 0
      },
      "text/plain": [
       "Validating: 0it [00:00, ?it/s]"
      ]
     },
     "metadata": {},
     "output_type": "display_data"
    },
    {
     "data": {
      "application/vnd.jupyter.widget-view+json": {
       "model_id": "a48da9a8f6b3402ebb0ec3b58f76b381",
       "version_major": 2,
       "version_minor": 0
      },
      "text/plain": [
       "Validating: 0it [00:00, ?it/s]"
      ]
     },
     "metadata": {},
     "output_type": "display_data"
    },
    {
     "data": {
      "application/vnd.jupyter.widget-view+json": {
       "model_id": "fd02f1c54ab047709f95da063b376b62",
       "version_major": 2,
       "version_minor": 0
      },
      "text/plain": [
       "Validating: 0it [00:00, ?it/s]"
      ]
     },
     "metadata": {},
     "output_type": "display_data"
    },
    {
     "data": {
      "application/vnd.jupyter.widget-view+json": {
       "model_id": "00c69750d1b7408fad0b12e2b8d19b59",
       "version_major": 2,
       "version_minor": 0
      },
      "text/plain": [
       "Validating: 0it [00:00, ?it/s]"
      ]
     },
     "metadata": {},
     "output_type": "display_data"
    },
    {
     "data": {
      "application/vnd.jupyter.widget-view+json": {
       "model_id": "8c519eb8af7d4ea5bca5c2aa2c6753d6",
       "version_major": 2,
       "version_minor": 0
      },
      "text/plain": [
       "Validating: 0it [00:00, ?it/s]"
      ]
     },
     "metadata": {},
     "output_type": "display_data"
    },
    {
     "name": "stdout",
     "output_type": "stream",
     "text": [
      "\n"
     ]
    },
    {
     "data": {
      "text/html": [
       "Waiting for W&B process to finish... <strong style=\"color:green\">(success).</strong>"
      ],
      "text/plain": [
       "<IPython.core.display.HTML object>"
      ]
     },
     "metadata": {},
     "output_type": "display_data"
    },
    {
     "data": {
      "application/vnd.jupyter.widget-view+json": {
       "model_id": "6802d38845b248dc87b86a183a7205fb",
       "version_major": 2,
       "version_minor": 0
      },
      "text/plain": [
       "VBox(children=(Label(value='0.001 MB of 0.001 MB uploaded (0.000 MB deduped)\\r'), FloatProgress(value=1.0, max…"
      ]
     },
     "metadata": {},
     "output_type": "display_data"
    },
    {
     "data": {
      "text/html": [
       "Synced <strong style=\"color:#cdcd00\">jumping-wind-979</strong>: <a href=\"https://wandb.ai/antonius/ICP_Vital/runs/39mwpmq9\" target=\"_blank\">https://wandb.ai/antonius/ICP_Vital/runs/39mwpmq9</a><br/>Synced 5 W&B file(s), 0 media file(s), 0 artifact file(s) and 0 other file(s)"
      ],
      "text/plain": [
       "<IPython.core.display.HTML object>"
      ]
     },
     "metadata": {},
     "output_type": "display_data"
    }
   ],
   "source": [
    "# train model on datamodule\n",
    "from train_utils import train_model\n",
    "\n",
    "models, trainers = train_model(cfg[\"model_type\"], [dm], cfg, verbose=True)"
   ]
  },
  {
   "cell_type": "code",
   "execution_count": 9,
   "id": "5ff8cd7d-4d53-464e-a8c8-33093791304f",
   "metadata": {},
   "outputs": [],
   "source": [
    "import wandb\n",
    "wandb.finish()"
   ]
  },
  {
   "cell_type": "code",
   "execution_count": 10,
   "id": "d5a3b97d-e248-40d2-a95b-cfa6e024c6ca",
   "metadata": {},
   "outputs": [],
   "source": [
    "#from data_utils import seq_pad_collate\n",
    "\n",
    "#def traini(bs, num_workers, pin):\n",
    "#    dl = torch.utils.data.DataLoader(data_modules[0].train_ds, batch_size=bs, num_workers=num_workers, pin_memory=pin, collate_fn=seq_pad_collate)\n",
    "#    model = create_model(model_type, data_modules[0], cfg)\n",
    "#    trainer = create_trainer(cfg, verbose=False)\n",
    "#    trainer.fit(model, dl)"
   ]
  },
  {
   "cell_type": "code",
   "execution_count": 11,
   "id": "61581bf3-7516-4515-8e13-5cada07fac3b",
   "metadata": {},
   "outputs": [],
   "source": [
    "from eval_utils import get_all_dfs, print_all_metrics\n",
    "\n",
    "# eval\n",
    "dl_type = \"test\"\n",
    "#dl = external_dls[\"MIMIC\"] # external_dls - MIMIC, eICU, UKE\n",
    "calc_new_norm_stats = False\n",
    "dl = None\n",
    "\n",
    "pred_df = get_all_dfs(models, trainers, cfg[\"model_type\"], dm.regression, dl_type=dl_type, dl=dl, calc_new_norm_stats=calc_new_norm_stats)"
   ]
  },
  {
   "cell_type": "code",
   "execution_count": 12,
   "id": "78ad43d8-1c53-4891-90c6-e1cc1e3d4a8f",
   "metadata": {},
   "outputs": [],
   "source": [
    "import sklearn\n",
    "import seaborn as sns\n",
    "import matplotlib.pyplot as plt\n",
    "import numpy as np"
   ]
  },
  {
   "cell_type": "code",
   "execution_count": 13,
   "id": "e1a4dfef-de2f-410b-a26f-3df8036c5482",
   "metadata": {},
   "outputs": [],
   "source": [
    "def hypertension_acc(targets, preds):\n",
    "    thresh = 22\n",
    "    hyper_targets = targets > thresh\n",
    "    hyper_preds = preds > thresh\n",
    "    hyper_acc = (hyper_targets == hyper_preds).astype(float).mean()\n",
    "    return hyper_acc"
   ]
  },
  {
   "cell_type": "code",
   "execution_count": 14,
   "id": "25455a66-a68b-45d4-af3b-aeeef8295957",
   "metadata": {},
   "outputs": [
    {
     "name": "stdout",
     "output_type": "stream",
     "text": [
      "Accuracy for hypertension:  0.9216856237180683\n",
      "Accuracy for hypertension:  0.9515196718254708\n",
      "Performance over splits: \n",
      "           targets      preds      error\n",
      "model_id                                \n",
      "0         13.88923  13.986758  82.656921\n",
      "Mean train target:  13.179458670261017\n",
      "Mean/Std preds:  14.08517 9.006145\n",
      "Mean/Std targets:  13.889231 13.222152\n",
      "Max error:  8808.996\n",
      "Accuracy for hypertension baseline:  0.9216856237180683\n",
      "\n",
      "Model metrics:\n",
      "RMSE:  9.091585\n",
      "MSE:  82.65692\n",
      "MAE:  5.7014694\n",
      "MAPE:  0.4104957\n",
      "R2 custom:  0.5271586711099299\n",
      "R2:  0.5271586775779724\n",
      "R2 old:  0.527158710118012\n",
      "Accuracy for hypertension:  0.9515196718254708\n",
      "Precision for hypertension:  0.7867383512544803\n",
      "Recall for hypertension:  0.5226190476190476\n",
      "\n",
      "Mean train baseline metrics:\n",
      "Mean train target: 13.179458670261017\n",
      "RMSE:  13.240573\n",
      "MSE:  175.31277\n",
      "MAE:  7.065530759012068\n",
      "MAPE:  0.5087056879017295\n",
      "R2 custom:  -11.622209548950195\n",
      "R2 score:  -0.0028818595318540474\n",
      "\n",
      "\n",
      "Scores for test target mean\n",
      "Mean test target:  13.889231\n",
      "MSE:  174.80900322470643\n",
      "MAE:  7.2392054\n",
      "R2 score:  0\n"
     ]
    }
   ],
   "source": [
    "import importlib\n",
    "import eval_utils\n",
    "importlib.reload(eval_utils)\n",
    "from eval_utils import get_all_dfs\n",
    "\n",
    "if dm.regression:\n",
    "    #from eval_utils import hypertension_acc\n",
    "    pred_targets = pred_df[\"targets\"].dropna()\n",
    "    preds = pred_df[\"preds\"][~pred_df[\"targets\"].isna()]\n",
    "    print(\"Accuracy for hypertension: \", hypertension_acc(pred_targets, np.zeros((len(pred_targets,)))))\n",
    "    print(\"Accuracy for hypertension: \", hypertension_acc(pred_targets, preds))\n",
    "    print_all_metrics(pred_df)\n",
    "else:\n",
    "    # general metrics\n",
    "    non_na_pred_df = pred_df.dropna(subset=[\"targets\"])\n",
    "    binary_preds = non_na_pred_df[\"preds\"] > 0.5\n",
    "    targets = non_na_pred_df[\"targets\"] \n",
    "    preds = non_na_pred_df[\"preds\"]\n",
    "    \n",
    "    \n",
    "    auc = sklearn.metrics.roc_auc_score(targets, preds)\n",
    "    tpr, fpr, threshs = sklearn.metrics.roc_curve(targets, preds)\n",
    "    plt.plot(tpr, fpr)\n",
    "    plt.plot([0, 1], [0, 1], linestyle=\"--\", color=\"black\")\n",
    "    plt.show()\n",
    "    \n",
    "    precision, recall, thresholds = sklearn.metrics.precision_recall_curve(targets, preds)\n",
    "    plt.plot(precision, recall)\n",
    "    plt.xlabel(\"precision\")\n",
    "    plt.ylabel(\"recall\")\n",
    "    plt.show()\n",
    "    \n",
    "    matrix = sklearn.metrics.confusion_matrix(non_na_pred_df[\"targets\"],\n",
    "                                              binary_preds)\n",
    "    cm_display = sklearn.metrics.ConfusionMatrixDisplay(matrix).plot()\n",
    "    print(matrix)\n",
    "    print(\"AUC: \", auc)\n",
    "    print(\"Mean pred: \", pred_df[\"preds\"].mean())\n",
    "    \n",
    "    #train_pred_df = get_all_dfs(models, trainers, cfg[\"model_type\"], dm.regression, dl_type=\"train\", dl=None, calc_new_norm_stats=False)\n",
    "    #non_na_df = train_pred_df.dropna(subset=[\"targets\"])\n",
    "    #tpr, fpr, threshs = sklearn.metrics.roc_curve(non_na_df[\"targets\"], non_na_df[\"preds\"])\n",
    "    "
   ]
  },
  {
   "cell_type": "code",
   "execution_count": 15,
   "id": "b9175a80-c741-4c32-8cb3-a7dfebf8c12b",
   "metadata": {},
   "outputs": [],
   "source": [
    "\"\"\"\n",
    "from data_utils import SeqDataModule\n",
    "from eval_utils import get_all_dfs\n",
    "\n",
    "# external performance\n",
    "# read external df\n",
    "if db_name == \"UKE\":\n",
    "    ext_db_name = \"MIMIC\"\n",
    "else:\n",
    "    ext_db_name = \"UKE\"\n",
    "path = f\"data/DB_{ext_db_name}_{minutes}_final_df.pkl\"\n",
    "ext_df = pd.read_pickle(path)\n",
    "if \"Bili_BGA\" in ext_df:\n",
    "    print(\"Drop Bili\")\n",
    "    ext_df = ext_df.drop(columns=[\"Bili_BGA\"])    \n",
    "# create external dataloaders\n",
    "dl_type = \"test\"\n",
    "calc_new_norm_stats = False\n",
    "ext_dm = SeqDataModule(ext_df, \n",
    "                            ext_db_name,\n",
    "                            target_name=cfg[\"target_name\"],\n",
    "                            random_starts=cfg[\"random_starts\"], \n",
    "                            min_len=cfg[\"min_len\"], \n",
    "                            train_noise_std=cfg[\"train_noise_std\"], \n",
    "                            batch_size=cfg[\"bs\"], \n",
    "                            fill_type=cfg[\"fill_type\"], \n",
    "                            flat_block_size=cfg[\"flat_block_size\"],\n",
    "                            target_nan_quantile=cfg[\"target_nan_quantile\"],) \n",
    "dl = ext_dm.val_dataloader()\n",
    "\n",
    "pred_df_ext = get_all_dfs(models, trainers, cfg[\"model_type\"], ext_dm.regression, \n",
    "                          dl_type=dl_type, dl=dl, calc_new_norm_stats=calc_new_norm_stats)\n",
    "\n",
    "print_all_metrics(pred_df_ext)\n",
    "\"\"\"\n",
    "pass\n",
    "# external dataset validation"
   ]
  },
  {
   "cell_type": "code",
   "execution_count": 16,
   "id": "f67621cc-d191-4566-bd7c-99272804fd3b",
   "metadata": {},
   "outputs": [
    {
     "data": {
      "image/png": "[encoded data removed]",
      "text/plain": [
       "<Figure size 432x432 with 3 Axes>"
      ]
     },
     "metadata": {
      "needs_background": "light"
     },
     "output_type": "display_data"
    }
   ],
   "source": [
    "if dm.regression:\n",
    "    df_nona = pred_df.dropna(subset=[\"targets\"])\n",
    "    mean_pred_error = (df_nona[\"targets\"] - dm.mean_train_target).dropna() ** 2\n",
    "    ax = sns.jointplot(x=\"targets\", y=\"error\", data=df_nona, kind=\"hist\", bins=100) # data=by_pat\n",
    "    ax.ax_joint.scatter(df_nona[\"targets\"], (np.ones(len(df_nona[\"targets\"])) * dm.mean_train_target - df_nona[\"targets\"]) ** 2, s=2, color=\"orange\")\n",
    "    plt.xlim(-20, 105)\n",
    "    plt.ylim(0, 5000)"
   ]
  },
  {
   "cell_type": "code",
   "execution_count": 17,
   "id": "bd9a2abb-6845-4293-9415-5dd5adc9f9c8",
   "metadata": {},
   "outputs": [
    {
     "data": {
      "image/png": "[encoded data removed]",
      "text/plain": [
       "<Figure size 432x432 with 3 Axes>"
      ]
     },
     "metadata": {
      "needs_background": "light"
     },
     "output_type": "display_data"
    }
   ],
   "source": [
    "if dm.regression:\n",
    "    ylim = (df_nona[\"preds\"].min() - 5, df_nona[\"preds\"].max() + 5)\n",
    "    ax = sns.jointplot(data=df_nona, x=\"targets\", y=\"preds\", kind=\"reg\", ylim=ylim) # data=bypat\n",
    "    min_val = df_nona[\"targets\"].min()\n",
    "    max_val = df_nona[\"targets\"].max()\n",
    "    ax.ax_joint.plot([min_val, max_val], [min_val, max_val], linewidth=2, color=\"black\", label=\"Ideal model\")"
   ]
  },
  {
   "cell_type": "code",
   "execution_count": 18,
   "id": "ad86cce3-b09a-417c-9b1e-df32bd376f12",
   "metadata": {},
   "outputs": [
    {
     "name": "stdout",
     "output_type": "stream",
     "text": [
      "-15.5 109.0\n"
     ]
    },
    {
     "data": {
      "image/png": "[encoded data removed]",
      "text/plain": [
       "<Figure size 432x432 with 3 Axes>"
      ]
     },
     "metadata": {
      "needs_background": "light"
     },
     "output_type": "display_data"
    }
   ],
   "source": [
    "if dm.regression:\n",
    "    ax = sns.jointplot(data=df_nona, x=\"targets\", y=\"preds\", kind=\"hist\", bins=100, ylim=ylim)\n",
    "    print(min_val, max_val)\n",
    "    # draw line of perfect correlation\n",
    "    ax.ax_joint.plot([min_val, max_val], [min_val, max_val], linewidth=2)#, color=\"black\")"
   ]
  },
  {
   "cell_type": "code",
   "execution_count": 19,
   "id": "d524c7bd-4af2-40be-8e94-36653d2a39fb",
   "metadata": {},
   "outputs": [
    {
     "name": "stdout",
     "output_type": "stream",
     "text": [
      "[  1.  41.  66.  69.  80.  91. 103.]\n",
      "7 patients\n"
     ]
    }
   ],
   "source": [
    "if dm.regression:\n",
    "    #pats = df.groupby(\"ids\").filter(lambda x: x['preds'].max() > 16)\n",
    "    pats = pred_df.groupby(\"ids\").filter(lambda x: x['targets'].mean() > 30)\n",
    "    #pats = df.groupby(\"ids\").filter(lambda x: np.sqrt(x['error'].mean()) > 30)\n",
    "else:\n",
    "    pats = pred_df.groupby(\"ids\").filter(lambda x: x['preds'].mean() > 0.2)\n",
    "pats = pats.groupby(\"ids\").filter(lambda x: len(x[\"targets\"].dropna()) > 2)\n",
    "\n",
    "ids = pats[\"ids\"].unique()\n",
    "print(ids)\n",
    "print(len(ids), \"patients\")\n",
    "#pats"
   ]
  },
  {
   "cell_type": "code",
   "execution_count": 20,
   "id": "9539f8f6-a2e1-44a2-9f8f-b59374bc0365",
   "metadata": {},
   "outputs": [
    {
     "name": "stdout",
     "output_type": "stream",
     "text": [
      "mean average target:  13.179458670261017\n",
      "mean pat targets:  59.910645\n",
      "RMSE of model: 34.88\n",
      "RMSE of mean: 49.53\n",
      "MAPE of model:  0.52\n",
      "MAPE of mean:  0.78\n"
     ]
    },
    {
     "data": {
      "image/png": "[encoded data removed]",
      "text/plain": [
       "<Figure size 432x288 with 1 Axes>"
      ]
     },
     "metadata": {
      "needs_background": "light"
     },
     "output_type": "display_data"
    }
   ],
   "source": [
    "from eval_utils import mape\n",
    "import sklearn\n",
    "\n",
    "pat_id = 5\n",
    "model_id = 0\n",
    "\n",
    "pat = pred_df[pred_df[\"ids\"] == ids[pat_id]]\n",
    "pat = pat[pat[\"model_id\"] == model_id]\n",
    "plt.scatter(pat[\"step\"], pat[\"targets\"], label=\"targets\", color=\"orange\")\n",
    "plt.plot(pat[\"step\"], pat[\"preds\"], label=\"preds\")\n",
    "mean = dm.mean_train_target\n",
    "print(\"mean average target: \", mean)\n",
    "print(\"mean pat targets: \", pat[\"targets\"].mean())\n",
    "plt.plot([0, max(pat[\"step\"])], [mean, mean], linewidth=1, color=\"black\", label=\"mean train target\", linestyle=\"--\")\n",
    "#plt.legend(location=\"out\")\n",
    "plt.legend(title='Legend', bbox_to_anchor=(1.05, 1), loc='upper left')\n",
    "plt.xlim(0, max(pat[\"step\"]) + 1)\n",
    "pat_nona = pat[~pat[\"targets\"].isna()]\n",
    "print(\"RMSE of model:\", round(np.sqrt(sklearn.metrics.mean_squared_error(pat_nona[\"targets\"], pat_nona[\"preds\"])), 2))\n",
    "print(\"RMSE of mean:\", round(np.sqrt(sklearn.metrics.mean_squared_error(pat_nona[\"targets\"], [mean] * len(pat_nona))), 2))\n",
    "print(\"MAPE of model: \", round(mape(pat_nona[\"targets\"], pat_nona[\"preds\"]), 2))\n",
    "print(\"MAPE of mean: \", round(mape(pat_nona[\"targets\"], [mean] * len(pat_nona)), 2))"
   ]
  },
  {
   "cell_type": "code",
   "execution_count": 21,
   "id": "656ffe0a-eee1-4cce-b1be-49438b10b564",
   "metadata": {},
   "outputs": [],
   "source": [
    "#for i in range(len(dm.train_ds.targets)):\n",
    "#    d = dm.train_ds.targets[i]\n",
    "#    d = d[~torch.isnan(d)].max()\n",
    "#    print(d)"
   ]
  },
  {
   "cell_type": "markdown",
   "id": "edb1a9b2-fc96-44fc-ae9a-b36d3ba15adb",
   "metadata": {},
   "source": [
    "## Saliency"
   ]
  },
  {
   "cell_type": "code",
   "execution_count": 22,
   "id": "d92051d2-6364-4ea0-b135-fb1a36742866",
   "metadata": {},
   "outputs": [],
   "source": [
    "feature_names = dm.feature_names"
   ]
  },
  {
   "cell_type": "code",
   "execution_count": 23,
   "id": "e1894b92-2011-446f-8a54-c61e63545836",
   "metadata": {},
   "outputs": [],
   "source": [
    "import shap\n",
    "\n",
    "\n",
    "def classical_saliency(models, trainers, model_type, use_shap=False, verbose=True):\n",
    "    # plot feature importance\n",
    "    all_importances = []\n",
    "    all_inputs = []\n",
    "    \n",
    "    for model, data_module in zip(models, trainers):\n",
    "        if use_shap:\n",
    "            explainer = shap.TreeExplainer(model)\n",
    "            inputs = data_module.test_dataloader().dataset.flat_inputs\n",
    "            importances = explainer.shap_values(inputs)\n",
    "            all_inputs.append(inputs)\n",
    "        else:\n",
    "            if hasattr(model, \"feature_importances_\"):\n",
    "                importances = model.feature_importances_\n",
    "            elif hasattr(model, \"coef_\"):\n",
    "                importances = model.coef_\n",
    "        all_importances.append(importances)\n",
    "    if not use_shap and verbose and hasattr(model, \"importance_type\"):\n",
    "        print(\"Importance type: \", model.importance_type)\n",
    "    print(\"importances shape \", importances.shape)\n",
    "    mean_importances = np.mean(np.stack(all_importances), axis=0)\n",
    "    # save\n",
    "    path = f\"outputs/{model_type}\"\n",
    "    os.makedirs(\"outputs\", exist_ok=True)\n",
    "    \n",
    "    block_size = cfg[\"flat_block_size\"]\n",
    "\n",
    "    \n",
    "    if use_shap:\n",
    "        #shap.summary_plot(mean_importances, X_test, plot_type=\"bar\")\n",
    "        #shap.summary_plot(mean_importances, X_test)\n",
    "        #shap.summary_plot(mean_importances)\n",
    "        #input_df = pd.DataFrame(inputs, columns=feature_names)\n",
    "        #shap_df = pd.DataFrame(mean_importances, columns=feature_names)\n",
    "        \n",
    "        #vals= np.abs(shap_values).mean(0)\n",
    "        #feature_importance = pd.DataFrame(list(zip(feature_names, vals)),columns=['col_name','feature_importance_vals'])\n",
    "        #feature_importance = feature_importance.sort_values(by=['feature_importance_vals'], ascending=False)\n",
    "        #feature_importance.head()\n",
    "                \n",
    "        if verbose:\n",
    "            block_feat_names = []\n",
    "            for i in range(block_size):\n",
    "                block_feat_names.extend([f + f\"_{i}\" for f in feature_names])\n",
    "            \n",
    "            shap.summary_plot(mean_importances, features=inputs, \n",
    "                              feature_names=block_feat_names)\n",
    "            plt.savefig(path + \"_shap_importances.jpg\", bbox_inches='tight')\n",
    "        \n",
    "        \n",
    "        # average over block_size/time_steps\n",
    "       \n",
    "        if block_size > 1:\n",
    "            print(mean_importances.shape)\n",
    "            mean_importances = mean_importances.reshape(-1, len(feature_names), block_size).mean(axis=-1)\n",
    "            print(mean_importances.shape)\n",
    "\n",
    "\n",
    "        imp_per_feat = np.abs(mean_importances).mean(axis=0)\n",
    "        feat_df = pd.Series(imp_per_feat, index=feature_names)\n",
    "    else:\n",
    "        # make plot\n",
    "        if block_size > 1:\n",
    "            print(mean_importances.shape)\n",
    "            mean_importances = np.abs(mean_importances.reshape(len(feature_names), block_size)).mean(axis=-1)\n",
    "            print(mean_importances.shape)\n",
    "        \n",
    "        \n",
    "        feat_df = pd.Series(mean_importances, index=feature_names)\n",
    "        if verbose:\n",
    "            p = feat_df.sort_values().plot.barh(figsize=(4, 25))\n",
    "            p.figure.savefig(path + \"_importances.jpg\", bbox_inches='tight')\n",
    "        \n",
    "    feat_df = feat_df.sort_values(ascending=True)\n",
    "    return feat_df\n",
    "\n",
    "\n",
    "def reduce_feat_df(feat_df, threshold=0.2):\n",
    "    # remove everything above 90% explained importance\n",
    "    print(len(feat_df))\n",
    "    feat_df = feat_df / feat_df.sum()\n",
    "    reduced_df = feat_df[feat_df.cumsum() > threshold]\n",
    "    print(len(reduced_df))\n",
    "    print(reduced_df.sum())\n",
    "    print(reduced_df)\n",
    "    reduced_feats = list(reduced_df.index)\n",
    "    return reduced_feats\n"
   ]
  },
  {
   "cell_type": "code",
   "execution_count": null,
   "id": "6a5d1290-dae4-4e8b-a146-7432f517b1c4",
   "metadata": {},
   "outputs": [],
   "source": []
  },
  {
   "cell_type": "code",
   "execution_count": 24,
   "id": "7b5cbf78-fa03-46d4-8b25-9a79cebc967d",
   "metadata": {},
   "outputs": [
    {
     "ename": "Exception",
     "evalue": "Model type not yet supported by TreeExplainer: <class 'model.LitMLP'>",
     "output_type": "error",
     "traceback": [
      "\u001b[0;31m---------------------------------------------------------------------------\u001b[0m",
      "\u001b[0;31mException\u001b[0m                                 Traceback (most recent call last)",
      "\u001b[0;32m/tmp/ipykernel_203806/2489098479.py\u001b[0m in \u001b[0;36m<module>\u001b[0;34m\u001b[0m\n\u001b[0;32m----> 1\u001b[0;31m sal_df = classical_saliency(models, trainers, cfg[\"model_type\"], \n\u001b[0m\u001b[1;32m      2\u001b[0m                             use_shap=True, verbose=True)\n",
      "\u001b[0;32m/tmp/ipykernel_203806/3367432045.py\u001b[0m in \u001b[0;36mclassical_saliency\u001b[0;34m(models, trainers, model_type, use_shap, verbose)\u001b[0m\n\u001b[1;32m      9\u001b[0m     \u001b[0;32mfor\u001b[0m \u001b[0mmodel\u001b[0m\u001b[0;34m,\u001b[0m \u001b[0mdata_module\u001b[0m \u001b[0;32min\u001b[0m \u001b[0mzip\u001b[0m\u001b[0;34m(\u001b[0m\u001b[0mmodels\u001b[0m\u001b[0;34m,\u001b[0m \u001b[0mtrainers\u001b[0m\u001b[0;34m)\u001b[0m\u001b[0;34m:\u001b[0m\u001b[0;34m\u001b[0m\u001b[0;34m\u001b[0m\u001b[0m\n\u001b[1;32m     10\u001b[0m         \u001b[0;32mif\u001b[0m \u001b[0muse_shap\u001b[0m\u001b[0;34m:\u001b[0m\u001b[0;34m\u001b[0m\u001b[0;34m\u001b[0m\u001b[0m\n\u001b[0;32m---> 11\u001b[0;31m             \u001b[0mexplainer\u001b[0m \u001b[0;34m=\u001b[0m \u001b[0mshap\u001b[0m\u001b[0;34m.\u001b[0m\u001b[0mTreeExplainer\u001b[0m\u001b[0;34m(\u001b[0m\u001b[0mmodel\u001b[0m\u001b[0;34m)\u001b[0m\u001b[0;34m\u001b[0m\u001b[0;34m\u001b[0m\u001b[0m\n\u001b[0m\u001b[1;32m     12\u001b[0m             \u001b[0minputs\u001b[0m \u001b[0;34m=\u001b[0m \u001b[0mdata_module\u001b[0m\u001b[0;34m.\u001b[0m\u001b[0mtest_dataloader\u001b[0m\u001b[0;34m(\u001b[0m\u001b[0;34m)\u001b[0m\u001b[0;34m.\u001b[0m\u001b[0mdataset\u001b[0m\u001b[0;34m.\u001b[0m\u001b[0mflat_inputs\u001b[0m\u001b[0;34m\u001b[0m\u001b[0;34m\u001b[0m\u001b[0m\n\u001b[1;32m     13\u001b[0m             \u001b[0mimportances\u001b[0m \u001b[0;34m=\u001b[0m \u001b[0mexplainer\u001b[0m\u001b[0;34m.\u001b[0m\u001b[0mshap_values\u001b[0m\u001b[0;34m(\u001b[0m\u001b[0minputs\u001b[0m\u001b[0;34m)\u001b[0m\u001b[0;34m\u001b[0m\u001b[0;34m\u001b[0m\u001b[0m\n",
      "\u001b[0;32m~/.local/lib/python3.8/site-packages/shap/explainers/_tree.py\u001b[0m in \u001b[0;36m__init__\u001b[0;34m(self, model, data, model_output, feature_perturbation, feature_names, approximate, **deprecated_options)\u001b[0m\n\u001b[1;32m    146\u001b[0m         \u001b[0mself\u001b[0m\u001b[0;34m.\u001b[0m\u001b[0mfeature_perturbation\u001b[0m \u001b[0;34m=\u001b[0m \u001b[0mfeature_perturbation\u001b[0m\u001b[0;34m\u001b[0m\u001b[0;34m\u001b[0m\u001b[0m\n\u001b[1;32m    147\u001b[0m         \u001b[0mself\u001b[0m\u001b[0;34m.\u001b[0m\u001b[0mexpected_value\u001b[0m \u001b[0;34m=\u001b[0m \u001b[0;32mNone\u001b[0m\u001b[0;34m\u001b[0m\u001b[0;34m\u001b[0m\u001b[0m\n\u001b[0;32m--> 148\u001b[0;31m         \u001b[0mself\u001b[0m\u001b[0;34m.\u001b[0m\u001b[0mmodel\u001b[0m \u001b[0;34m=\u001b[0m \u001b[0mTreeEnsemble\u001b[0m\u001b[0;34m(\u001b[0m\u001b[0mmodel\u001b[0m\u001b[0;34m,\u001b[0m \u001b[0mself\u001b[0m\u001b[0;34m.\u001b[0m\u001b[0mdata\u001b[0m\u001b[0;34m,\u001b[0m \u001b[0mself\u001b[0m\u001b[0;34m.\u001b[0m\u001b[0mdata_missing\u001b[0m\u001b[0;34m,\u001b[0m \u001b[0mmodel_output\u001b[0m\u001b[0;34m)\u001b[0m\u001b[0;34m\u001b[0m\u001b[0;34m\u001b[0m\u001b[0m\n\u001b[0m\u001b[1;32m    149\u001b[0m         \u001b[0mself\u001b[0m\u001b[0;34m.\u001b[0m\u001b[0mmodel_output\u001b[0m \u001b[0;34m=\u001b[0m \u001b[0mmodel_output\u001b[0m\u001b[0;34m\u001b[0m\u001b[0;34m\u001b[0m\u001b[0m\n\u001b[1;32m    150\u001b[0m         \u001b[0;31m#self.model_output = self.model.model_output # this allows the TreeEnsemble to translate model outputs types by how it loads the model\u001b[0m\u001b[0;34m\u001b[0m\u001b[0;34m\u001b[0m\u001b[0;34m\u001b[0m\u001b[0m\n",
      "\u001b[0;32m~/.local/lib/python3.8/site-packages/shap/explainers/_tree.py\u001b[0m in \u001b[0;36m__init__\u001b[0;34m(self, model, data, data_missing, model_output)\u001b[0m\n\u001b[1;32m    977\u001b[0m             \u001b[0mself\u001b[0m\u001b[0;34m.\u001b[0m\u001b[0mbase_offset\u001b[0m \u001b[0;34m=\u001b[0m \u001b[0mmodel\u001b[0m\u001b[0;34m.\u001b[0m\u001b[0minit_params\u001b[0m\u001b[0;34m[\u001b[0m\u001b[0mparam_idx\u001b[0m\u001b[0;34m]\u001b[0m\u001b[0;34m\u001b[0m\u001b[0;34m\u001b[0m\u001b[0m\n\u001b[1;32m    978\u001b[0m         \u001b[0;32melse\u001b[0m\u001b[0;34m:\u001b[0m\u001b[0;34m\u001b[0m\u001b[0;34m\u001b[0m\u001b[0m\n\u001b[0;32m--> 979\u001b[0;31m             \u001b[0;32mraise\u001b[0m \u001b[0mException\u001b[0m\u001b[0;34m(\u001b[0m\u001b[0;34m\"Model type not yet supported by TreeExplainer: \"\u001b[0m \u001b[0;34m+\u001b[0m \u001b[0mstr\u001b[0m\u001b[0;34m(\u001b[0m\u001b[0mtype\u001b[0m\u001b[0;34m(\u001b[0m\u001b[0mmodel\u001b[0m\u001b[0;34m)\u001b[0m\u001b[0;34m)\u001b[0m\u001b[0;34m)\u001b[0m\u001b[0;34m\u001b[0m\u001b[0;34m\u001b[0m\u001b[0m\n\u001b[0m\u001b[1;32m    980\u001b[0m \u001b[0;34m\u001b[0m\u001b[0m\n\u001b[1;32m    981\u001b[0m         \u001b[0;31m# build a dense numpy version of all the tree objects\u001b[0m\u001b[0;34m\u001b[0m\u001b[0;34m\u001b[0m\u001b[0;34m\u001b[0m\u001b[0m\n",
      "\u001b[0;31mException\u001b[0m: Model type not yet supported by TreeExplainer: <class 'model.LitMLP'>"
     ]
    }
   ],
   "source": [
    "sal_df = classical_saliency(models, trainers, cfg[\"model_type\"], \n",
    "                            use_shap=True, verbose=True)"
   ]
  },
  {
   "cell_type": "code",
   "execution_count": null,
   "id": "82abe9d8-fc90-411e-9b49-8dc55473a154",
   "metadata": {},
   "outputs": [],
   "source": [
    "sal_df_normed = sal_df / sal_df.sum()\n",
    "sal_df_normed.sort_values().iloc[-10:]"
   ]
  },
  {
   "cell_type": "code",
   "execution_count": null,
   "id": "6c8796f1-300c-4cea-870b-4701ccbb733a",
   "metadata": {},
   "outputs": [],
   "source": [
    "reduced_feats = reduce_feat_df(sal_df, threshold=0.15)\n",
    "reduced_feats"
   ]
  },
  {
   "cell_type": "code",
   "execution_count": null,
   "id": "8c3ac8e3-2afe-4cef-94d0-402bf97a63e2",
   "metadata": {},
   "outputs": [],
   "source": [
    "reduced_feats"
   ]
  },
  {
   "cell_type": "code",
   "execution_count": null,
   "id": "1796a280-7dea-4b4b-8f0c-652c7bdfe8dd",
   "metadata": {},
   "outputs": [],
   "source": [
    "from saliency import get_sal_list\n",
    "\n",
    "sal_list = []\n",
    "\n",
    "for model in models:\n",
    "    model_saliency = get_sal_list(model, 0, perc=1.0, agg=True, ds=model.data_module.test_dataloader().dataset, ig=False)\n",
    "    sal_list += model_saliency"
   ]
  },
  {
   "cell_type": "code",
   "execution_count": null,
   "id": "5f6abc5e-34bc-4e2b-bd36-ee849884ba4b",
   "metadata": {},
   "outputs": [],
   "source": [
    "import gc\n",
    "gc.collect()\n",
    "torch.cuda.empty_cache()"
   ]
  },
  {
   "cell_type": "code",
   "execution_count": null,
   "id": "ef2d8408-dd00-42c3-9276-d87371240738",
   "metadata": {},
   "outputs": [],
   "source": [
    "mean_overall = [s.mean(0) for s in sal_list]\n",
    "feat_saliency = np.sum(mean_overall, axis=0)"
   ]
  },
  {
   "cell_type": "code",
   "execution_count": null,
   "id": "9146b404-9bba-4c5e-9aa4-4d849d39b293",
   "metadata": {},
   "outputs": [],
   "source": [
    "feature_names = dm.feature_names"
   ]
  },
  {
   "cell_type": "code",
   "execution_count": null,
   "id": "61c2826f-9f8a-4806-813f-66a046c23cd1",
   "metadata": {},
   "outputs": [],
   "source": [
    "feat_sal_df = pd.DataFrame({\"sal\": feat_saliency}, index = feature_names).sort_values(\"sal\")"
   ]
  },
  {
   "cell_type": "code",
   "execution_count": null,
   "id": "a27d5fa3-8796-462c-bcb5-b8200f84aa1a",
   "metadata": {},
   "outputs": [],
   "source": [
    "plt.figure()\n",
    "p = feat_sal_df.plot.barh(figsize = (6, 25))"
   ]
  },
  {
   "cell_type": "code",
   "execution_count": null,
   "id": "856c47c1-4cbc-4575-83c7-017102979484",
   "metadata": {},
   "outputs": [],
   "source": [
    "p.figure.savefig(\"importances.jpg\", bbox_inches='tight')"
   ]
  },
  {
   "cell_type": "code",
   "execution_count": null,
   "id": "9ff7d4bb-3f7f-4b41-b3a2-b4542cfd892f",
   "metadata": {},
   "outputs": [],
   "source": [
    "plt.show()"
   ]
  },
  {
   "cell_type": "markdown",
   "id": "b51139e8-1e0d-4967-8899-0c8671e7bf05",
   "metadata": {},
   "source": [
    "# Tuning"
   ]
  },
  {
   "cell_type": "code",
   "execution_count": null,
   "id": "3786fb1d-890a-41a6-92bd-143ad740bead",
   "metadata": {},
   "outputs": [],
   "source": [
    "from tune_utils import tune#, make_tune_plots\n",
    "from data_utils import make_split\n",
    "\n",
    "import importlib\n",
    "import tune_utils\n",
    "importlib.reload(tune_utils)\n",
    "from tune_utils import tune\n",
    "\n",
    "import data_utils\n",
    "importlib.reload(data_utils)"
   ]
  },
  {
   "cell_type": "code",
   "execution_count": null,
   "id": "ec2f60c1-a0a6-4f25-9391-3b051cd022c0",
   "metadata": {},
   "outputs": [],
   "source": [
    "import logging\n",
    "import pytorch_lightning\n",
    "\n",
    "logging.getLogger(\"pytorch_lightning\").setLevel(logging.ERROR)\n",
    "logging.getLogger(\"lightning\").setLevel(logging.ERROR)\n",
    "pytorch_lightning.utilities.distributed.log.setLevel(logging.ERROR)"
   ]
  },
  {
   "cell_type": "code",
   "execution_count": null,
   "id": "b319e7b2-fde0-4ad7-8414-3e3a8fc2f1a7",
   "metadata": {},
   "outputs": [],
   "source": [
    "cfg[\"dbs\"] = [\"UKE\"]\n",
    "cfg[\"k_fold\"] = 0\n",
    "cfg[\"num_splits\"] = 3\n",
    "cfg[\"flat_block_size\"] = 0\n",
    "cfg[\"n_trials\"] = 15\n",
    "cfg[\"model_type\"] = \"linear\"\n",
    "cfg[\"fill_type\"] = \"pat_mean\"\n",
    "\n",
    "cfg[\"max_steps\"] = 300\n",
    "\n",
    "opt_flat_block_size = False\n",
    "opt_augs = False\n",
    "opt_fill_type = False"
   ]
  },
  {
   "cell_type": "code",
   "execution_count": null,
   "id": "6193a76c-b789-4845-a4e5-6eaa5eae3e1c",
   "metadata": {},
   "outputs": [],
   "source": [
    "#storage = optuna.storages.RDBStorage(url=\"sqlite:///optuna.db\",\n",
    "#                                         engine_kwargs={\"connect_args\": {\"timeout\": 30}})\n",
    "#load_study = optuna.load_study(\"09_17_02_39__linear_UKE_15\", storage=storage)"
   ]
  },
  {
   "cell_type": "code",
   "execution_count": null,
   "id": "1d751b3c-3c64-48df-9d5b-ff2b2b09f5bd",
   "metadata": {},
   "outputs": [],
   "source": [
    "# make dev/test split to test tuning\n",
    "dev_data, test_data, dev_idcs, test_idcs = make_split(seq_list, test_size=0.2)"
   ]
  },
  {
   "cell_type": "code",
   "execution_count": null,
   "id": "ef5afe9b-7da5-46ec-8f67-98fd4bbce52b",
   "metadata": {},
   "outputs": [],
   "source": [
    "# tune\n",
    "study = tune(dev_data, test_data, args, cfg, verbose=False, n_trials=cfg[\"n_trials\"],\n",
    "             opt_flat_block_size=opt_flat_block_size, opt_augs=opt_augs, opt_fill_type=opt_fill_type)"
   ]
  },
  {
   "cell_type": "code",
   "execution_count": null,
   "id": "59314a06-f83a-4a4b-a50b-c02700a2ad60",
   "metadata": {},
   "outputs": [],
   "source": [
    "#test_idcs = np.load(\"test_tune/09_17_02_39__linear_UKE_15/test_idcs.npy\")"
   ]
  },
  {
   "cell_type": "code",
   "execution_count": null,
   "id": "159b05d2-0a2b-4599-adb1-321e0bbe31bf",
   "metadata": {},
   "outputs": [],
   "source": [
    "# print key study parts\n",
    "name = study.study_name\n",
    "print(name)\n",
    "print(study.best_trial)\n",
    "best_params = study.best_params\n",
    "print(best_params)"
   ]
  },
  {
   "cell_type": "code",
   "execution_count": null,
   "id": "5fc29766-69c1-4e9f-92ab-7afd708fab3b",
   "metadata": {},
   "outputs": [],
   "source": [
    "from tune_utils import store_study_results\n",
    "store_study_results(study, \"./test_tune/\", test_idcs, args)"
   ]
  },
  {
   "cell_type": "code",
   "execution_count": null,
   "id": "fe860988-bd2b-4c89-bdce-4955b336eeeb",
   "metadata": {},
   "outputs": [],
   "source": [
    "make_tune_plots(study, f\"outputs/tune_results/{cfg['model_type']}_{cfg['n_trials']}\")"
   ]
  },
  {
   "cell_type": "code",
   "execution_count": null,
   "id": "99161a6f-167e-4bca-9e0b-7f438fc7fa9f",
   "metadata": {},
   "outputs": [],
   "source": [
    "# retrain on dev/test and check performance\n",
    "    \n",
    "models, trainers = retrain(dev_data, test_data, best_params, args, cfg, verbose=True)"
   ]
  },
  {
   "cell_type": "code",
   "execution_count": null,
   "id": "2f74412f-3003-43f0-ab14-e3caefd6dc3c",
   "metadata": {},
   "outputs": [],
   "source": [
    "cfg[\"k_fold\"] = 0\n",
    "cfg[\"num_splits\"] = 5\n",
    "models, trainers = retrain(dev_data, test_data, best_params, args, cfg, verbose=True)"
   ]
  },
  {
   "cell_type": "code",
   "execution_count": null,
   "id": "836f840e-3eb0-4558-8a45-971b7cf3aa07",
   "metadata": {},
   "outputs": [],
   "source": [
    "cfg[\"k_fold\"] = 5\n",
    "models, trainers = retrain(dev_data, test_data, best_params, args, cfg, verbose=True)"
   ]
  },
  {
   "cell_type": "markdown",
   "id": "448055bd-c960-4fd5-90ae-d67cace0f033",
   "metadata": {},
   "source": [
    "## Nested k-fold"
   ]
  },
  {
   "cell_type": "code",
   "execution_count": null,
   "id": "e9144be8-e705-41ef-8750-b4eb7d799c8c",
   "metadata": {},
   "outputs": [],
   "source": [
    "classical_models = [\"xgb\", \"rf\", \"linear\"]"
   ]
  },
  {
   "cell_type": "code",
   "execution_count": null,
   "id": "af294171-1ca8-4627-b19a-76355ec58389",
   "metadata": {},
   "outputs": [],
   "source": [
    "cfg[\"dbs\"] = [\"UKE\"]\n",
    "cfg[\"k_fold\"] = 0\n",
    "cfg[\"num_splits\"] = 3\n",
    "cfg[\"flat_block_size\"] = 1\n",
    "cfg[\"n_trials\"] = 10\n",
    "\n",
    "cfg[\"n_outer_folds\"] = 3\n",
    "\n",
    "cfg[\"model_type\"] = \"xgb\"\n",
    "cfg[\"fill_type\"] = \"pat_mean\""
   ]
  },
  {
   "cell_type": "code",
   "execution_count": null,
   "id": "f058455f-207d-4d20-adf1-10ee74dc84c4",
   "metadata": {},
   "outputs": [],
   "source": [
    "from data_utils import make_fold\n",
    "# outer fold\n",
    "dev_data_list, test_data_list, dev_idcs, test_idcs = make_fold(seq_list, k=cfg[\"n_outer_folds\"])"
   ]
  },
  {
   "cell_type": "code",
   "execution_count": null,
   "id": "c5ae3167-5c9c-45f3-835b-2a01cb2673b4",
   "metadata": {},
   "outputs": [],
   "source": [
    "# tune and store studies\n",
    "studies = []\n",
    "for dev_data, test_data in zip(dev_data_list, test_data_list):\n",
    "    study = tune(dev_data, test_data, args, cfg, verbose=False, n_trials=cfg[\"n_trials\"])\n",
    "    # print key tune details\n",
    "    name = study.study_name\n",
    "    print(name)\n",
    "    print(study.best_trial)\n",
    "    best_params = study.best_params\n",
    "    print(best_params)\n",
    "    studies.append(study)"
   ]
  },
  {
   "cell_type": "code",
   "execution_count": null,
   "id": "207d300d-5dfd-47c4-9e7d-3cbfc2df82de",
   "metadata": {},
   "outputs": [],
   "source": [
    "metrics = []\n",
    "pred_dfs = []\n",
    "for tune_idx in tqdm(range(len(studies))):\n",
    "    models, trainers = retrain(dev_data_list[tune_idx],\n",
    "                               test_data_list[tune_idx], \n",
    "                               studies[tune_idx].best_params, \n",
    "                               args, cfg, verbose=False)\n",
    "    df = get_all_dfs(models, trainers, cfg[\"model_type\"], dl_type=\"test\")\n",
    "    #loss = print_all_metrics(df)\n",
    "    loss = df.groupby(\"model_id\").apply(lambda model_df: model_df.groupby(\"ids\").mean()).mean()[\"error\"]\n",
    "    metrics.append(loss)\n",
    "    pred_dfs.append(df)\n",
    "    print(loss)"
   ]
  },
  {
   "cell_type": "code",
   "execution_count": null,
   "id": "0a0db61e-746e-4f46-901d-b0694fbd631b",
   "metadata": {},
   "outputs": [],
   "source": [
    "print(np.mean(metrics))\n",
    "print(np.std(metrics))"
   ]
  },
  {
   "cell_type": "code",
   "execution_count": null,
   "id": "1dafaf53-4484-4f4a-9e53-28744b3327c1",
   "metadata": {},
   "outputs": [],
   "source": [
    "for study in studies:\n",
    "    print(study.best_value)\n",
    "    print(study.best_params)\n",
    "    print()"
   ]
  },
  {
   "cell_type": "code",
   "execution_count": null,
   "id": "d58bb9ad-48e6-4594-9ce6-6857ebab6e86",
   "metadata": {},
   "outputs": [],
   "source": [
    "[study.best_value for study in studies]"
   ]
  },
  {
   "cell_type": "code",
   "execution_count": null,
   "id": "a480c0c7-70f3-4ea3-bae3-08b2b18dc0ef",
   "metadata": {},
   "outputs": [],
   "source": [
    "metrics"
   ]
  },
  {
   "cell_type": "code",
   "execution_count": null,
   "id": "d60af506-40aa-40f8-9821-ac6ea982ac74",
   "metadata": {},
   "outputs": [],
   "source": []
  },
  {
   "cell_type": "code",
   "execution_count": null,
   "id": "29d452de-db1a-4e25-96ca-aac754aa9aa1",
   "metadata": {},
   "outputs": [],
   "source": [
    "print(np.mean(metrics))\n",
    "print(np.std(metrics))"
   ]
  },
  {
   "cell_type": "code",
   "execution_count": null,
   "id": "c79480ff-c1be-4238-9ae2-d5cf3228bc8a",
   "metadata": {},
   "outputs": [],
   "source": [
    "for study in studies:\n",
    "    print(study.best_value)\n",
    "    print(study.best_params)\n",
    "    print()"
   ]
  },
  {
   "cell_type": "code",
   "execution_count": null,
   "id": "1236125c-e54d-4d13-9fd8-3d763e1b2de8",
   "metadata": {},
   "outputs": [],
   "source": [
    "metrics"
   ]
  },
  {
   "cell_type": "code",
   "execution_count": null,
   "id": "f6858ffd-9c76-4cb5-bd0c-d8d3298a5584",
   "metadata": {},
   "outputs": [],
   "source": [
    "len(studies)"
   ]
  },
  {
   "cell_type": "code",
   "execution_count": null,
   "id": "43776d9b-3083-45f3-a58b-5b118f6680e2",
   "metadata": {},
   "outputs": [],
   "source": [
    "studies[0].best_trial"
   ]
  },
  {
   "cell_type": "code",
   "execution_count": null,
   "id": "3c0cdda2-cc87-483e-af97-b508505f3d55",
   "metadata": {},
   "outputs": [],
   "source": []
  }
 ],
 "metadata": {
  "kernelspec": {
   "display_name": "Python 3 (ipykernel)",
   "language": "python",
   "name": "python3"
  },
  "language_info": {
   "codemirror_mode": {
    "name": "ipython",
    "version": 3
   },
   "file_extension": ".py",
   "mimetype": "text/x-python",
   "name": "python",
   "nbconvert_exporter": "python",
   "pygments_lexer": "ipython3",
   "version": "3.8.10"
  }
 },
 "nbformat": 4,
 "nbformat_minor": 5
}
