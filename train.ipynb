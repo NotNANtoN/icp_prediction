{
 "cells": [
  {
   "cell_type": "code",
   "execution_count": 1,
   "id": "f7f4c780-09b5-4421-a595-a1e1d47cb861",
   "metadata": {},
   "outputs": [],
   "source": [
    "import os\n",
    "import math\n",
    "import random\n",
    "\n",
    "import torch\n",
    "from torch.nn.utils.rnn import pad_sequence, pack_padded_sequence, pad_packed_sequence\n",
    "import pytorch_lightning as pl\n",
    "import pandas as pd\n",
    "import numpy as np\n",
    "from tqdm import tqdm"
   ]
  },
  {
   "cell_type": "code",
   "execution_count": 13,
   "id": "d1ed5c0f-3b1a-4c6f-9fb1-9fae69996023",
   "metadata": {},
   "outputs": [
    {
     "name": "stderr",
     "output_type": "stream",
     "text": [
      "Global seed set to 1\n"
     ]
    }
   ],
   "source": [
    "# fixed settings\n",
    "target_name = \"ICP_pred\" \n",
    "\n",
    "# hyperparams\n",
    "args = {}\n",
    "# training args\n",
    "args[\"max_steps\"] = 10000\n",
    "args[\"val_check_interval\"] = 100  # check validation performance every N steps\n",
    "args[\"grad_clip_val\"] = 1.0\n",
    "#epochs = 10\n",
    "args[\"lr\"] = 0.0001\n",
    "args[\"bs\"] = 16\n",
    "args[\"norm_targets\"] = False\n",
    "# data args\n",
    "args[\"minutes\"] = 5\n",
    "args[\"norm_method\"] = None # z, None\n",
    "args[\"dbs\"] = [\"MIMIC\"]  #\"all\" # [\"eICU\", \"UKE\", \"MIMIC\"], all\n",
    "# dataloader args\n",
    "args[\"train_noise_std\"] = 0.1\n",
    "args[\"random_starts\"] = True\n",
    "args[\"min_len\"] = 20\n",
    "# model args\n",
    "args[\"hidden_size\"] = 512\n",
    "# preprocess args\n",
    "args[\"fill_type\"] = \"pat_ema\" # \"pat_mean\", \"mean\", \"pat_ema\" \"pat_ema_mask\"\n",
    "\n",
    "\n",
    "args[\"seed\"] = 1\n",
    "seed = pl.utilities.seed.seed_everything(seed=args[\"seed\"], workers=False)"
   ]
  },
  {
   "cell_type": "code",
   "execution_count": 14,
   "id": "a114e611-cdc5-4081-aafa-bc108d1a03d0",
   "metadata": {},
   "outputs": [
    {
     "name": "stdout",
     "output_type": "stream",
     "text": [
      "Reading df from:  data/5_/yeo_N/normalization_None/median/uni_clip_0.9999/multi_clip_N/df.pkl\n",
      "Mean len:  581.924193548387\n",
      "Mean target:  12.700467841964711\n",
      "['Med_Narkotikum', 'Med_Opioid', 'Med_Katecholamin', 'Med_Benzodiazepin', 'Med_Barbiturat', 'Vital_diast', 'Vital_GCS_total', 'Vital_mittl', 'Vital_Temp', 'Vital_diast_NBD', 'Vital_syst_NBD', 'Vital_Ppeak', 'Vital_GCS_auge', 'Vital_GCS_motor', 'Vital_GCS_verbal', 'Vital_Pmean', 'Vital_Freq_spontan', 'Vital_Pupille_li', 'Vital_Pupille_re', 'Geschlecht', 'Alter', 'Größe', 'Gewicht', 'Diagnose_MISC', 'Diagnose_TBI']\n"
     ]
    }
   ],
   "source": [
    "from data import make_split, create_dl\n",
    "\n",
    "# get args\n",
    "norm_method = args['norm_method']\n",
    "norm_targets = args[\"norm_targets\"]\n",
    "random_starts = args[\"random_starts\"]\n",
    "bs = args[\"bs\"]\n",
    "train_noise_std = args[\"train_noise_std\"]\n",
    "min_len = args[\"min_len\"]\n",
    "dbs = args[\"dbs\"]\n",
    "minutes = args[\"minutes\"]\n",
    "\n",
    "# read df\n",
    "df_path = f\"data/{minutes}_/yeo_N/normalization_{norm_method}/median/uni_clip_0.9999/multi_clip_N/df.pkl\"\n",
    "print(\"Reading df from: \", df_path)\n",
    "df = pd.read_pickle(df_path)\n",
    "if norm_targets:\n",
    "    df[target_name] = df[target_name] / df[target_name].std()\n",
    "# turn into seq list\n",
    "seq_list = [df[df[\"Pat_ID\"] == pat_id].drop(columns=[\"Pat_ID\"]) for pat_id in sorted(df[\"Pat_ID\"].unique())]\n",
    "\n",
    "# do train/val split\n",
    "train_data, val_data, train_idcs, val_idcs = make_split(seq_list, test_size=0.2)\n",
    "# create train dataset\n",
    "train_dl = create_dl(train_data, train=True, target_name=target_name, random_starts=random_starts, min_len=min_len, bs=bs, \n",
    "                     train_noise_std=train_noise_std, dbs=dbs)\n",
    "val_dl = create_dl(val_data, train=False, target_name=target_name, bs=bs, dbs=dbs)\n",
    "\n",
    "num_features = train_dl.dataset.inputs[0].shape[-1]\n",
    "feature_names = train_dl.dataset.feature_names\n",
    "print(feature_names)"
   ]
  },
  {
   "cell_type": "code",
   "execution_count": 15,
   "id": "9dfee51e-7c36-4e65-8215-df6fbad9654a",
   "metadata": {},
   "outputs": [
    {
     "data": {
      "text/plain": [
       "618"
      ]
     },
     "execution_count": 15,
     "metadata": {},
     "output_type": "execute_result"
    }
   ],
   "source": [
    "(~train_data[3][\"ICP_pred\"].isna()).sum()"
   ]
  },
  {
   "cell_type": "code",
   "execution_count": 16,
   "id": "b29023c6-f557-431a-b6f6-925d1e1cb441",
   "metadata": {},
   "outputs": [
    {
     "name": "stdout",
     "output_type": "stream",
     "text": [
      "Mean train target:  11.125967258770956\n",
      "Total steps:  187516\n",
      "Total ICP training targets:  117119\n"
     ]
    }
   ],
   "source": [
    "mean_train_target = np.mean([pd.Series(pat).mean() for pat in train_dl.dataset.targets])\n",
    "print(\"Mean train target: \", mean_train_target)\n",
    "\n",
    "total_icps = np.sum([(~pd.Series(pat).isna()).sum() for pat in train_dl.dataset.targets])\n",
    "total_steps = np.sum([len(pat) for pat in train_dl.dataset.targets])\n",
    "print(\"Total steps: \", total_steps)\n",
    "print(\"Total ICP training targets: \", total_icps)"
   ]
  },
  {
   "cell_type": "code",
   "execution_count": 17,
   "id": "a22afdc3-5395-4936-a3a3-6f47a4cd2736",
   "metadata": {},
   "outputs": [
    {
     "name": "stdout",
     "output_type": "stream",
     "text": [
      "Lens train val: 761 172\n",
      "tensor(nan, dtype=torch.float64)\n",
      "tensor(69)\n"
     ]
    },
    {
     "data": {
      "text/plain": [
       "Text(0.5, 0, 'time')"
      ]
     },
     "execution_count": 17,
     "metadata": {},
     "output_type": "execute_result"
    },
    {
     "data": {
      "image/png": "[encoded data removed]",
      "text/plain": [
       "<Figure size 432x288 with 1 Axes>"
      ]
     },
     "metadata": {
      "needs_background": "light"
     },
     "output_type": "display_data"
    }
   ],
   "source": [
    "import matplotlib.pyplot as plt\n",
    "\n",
    "# plot data\n",
    "train_inputs = train_dl.dataset.inputs\n",
    "val_inputs = val_dl.dataset.inputs\n",
    "print(\"Lens train val:\", len(train_inputs), len(val_inputs))\n",
    "\n",
    "\n",
    "pat_idx = 12\n",
    "feat_idx = 5\n",
    "\n",
    "feat_name = feature_names[feat_idx]\n",
    "#print(model.mean[0, feat_idx])\n",
    "pat_data = train_inputs[pat_idx][:, feat_idx]\n",
    "print(pat_data.min())\n",
    "print(torch.isnan(pat_data).sum())\n",
    "plt.plot(pat_data)\n",
    "#plt.title(f\"Progression of {feat_name}\")\n",
    "plt.ylabel(feat_name)\n",
    "plt.xlabel(\"time\")"
   ]
  },
  {
   "cell_type": "code",
   "execution_count": 18,
   "id": "3b6886e8-8061-4f97-bf30-abc23aeff859",
   "metadata": {},
   "outputs": [
    {
     "data": {
      "text/plain": [
       "100"
      ]
     },
     "execution_count": 18,
     "metadata": {},
     "output_type": "execute_result"
    }
   ],
   "source": [
    "len(pat_data)"
   ]
  },
  {
   "cell_type": "code",
   "execution_count": 19,
   "id": "b3dcfeff-3e4e-4623-bcf9-3f2ada68b2ca",
   "metadata": {},
   "outputs": [
    {
     "data": {
      "image/png": "[encoded data removed]",
      "text/plain": [
       "<Figure size 432x288 with 1 Axes>"
      ]
     },
     "metadata": {
      "needs_background": "light"
     },
     "output_type": "display_data"
    },
    {
     "name": "stdout",
     "output_type": "stream",
     "text": [
      "tensor(69)\n",
      "torch.Size([100])\n"
     ]
    }
   ],
   "source": [
    "nan_again = train_inputs[pat_idx][:, feat_idx]\n",
    "plt.scatter(range(len(nan_again)), nan_again)\n",
    "plt.show()\n",
    "print(np.isnan(nan_again).sum())\n",
    "print(nan_again.shape)"
   ]
  },
  {
   "cell_type": "code",
   "execution_count": 20,
   "id": "06931fd8-76dd-439e-af74-d78cc59884e9",
   "metadata": {},
   "outputs": [
    {
     "data": {
      "text/plain": [
       "tensor(nan, dtype=torch.float64)"
      ]
     },
     "execution_count": 20,
     "metadata": {},
     "output_type": "execute_result"
    }
   ],
   "source": [
    "nan_again[0]"
   ]
  },
  {
   "cell_type": "code",
   "execution_count": 21,
   "id": "615efc2e-3e1a-41d4-80fb-268e19cd189a",
   "metadata": {},
   "outputs": [],
   "source": [
    "nan_again = train_inputs[pat_idx][:, feat_idx].numpy()\n",
    "pat = torch.from_numpy(nan_again).unsqueeze(1)\n",
    "\n",
    "use_ema = 1\n",
    "if use_ema:\n",
    "    mask_nans = 0\n",
    "    \n",
    "    if mask_nans:\n",
    "        ema_val = 0.4\n",
    "    else:\n",
    "        ema_val = 0.90\n",
    "    # init ema\n",
    "    ema = pat[0]\n",
    "    ema[torch.isnan(ema)] = 0\n",
    "    # run ema\n",
    "    ema_steps = []\n",
    "    for pat_step in pat:\n",
    "        mask = torch.isnan(pat_step)\n",
    "        if mask_nans:\n",
    "            ema[~mask] = ema_val * ema[~mask] + (1 - ema_val) * pat_step[~mask]\n",
    "        else:\n",
    "            pat_step[mask] = 0\n",
    "            ema = ema_val * ema + (1 - ema_val) * pat_step\n",
    "        ema_steps.append(ema.clone())\n",
    "    pat = torch.stack(ema_steps)\n",
    "    #print(pat)\n",
    "else:\n",
    "\n",
    "    nan_mask = torch.isnan(pat)\n",
    "    count = (~nan_mask).cumsum(dim=0)\n",
    "    # calc cumsum without nans\n",
    "    zero_filled = pat.clone()\n",
    "    zero_filled[nan_mask] = 0\n",
    "    cumsum = zero_filled.cumsum(dim=0)\n",
    "    # calc mean until step:\n",
    "    mean_until_step = cumsum / count\n",
    "    # fill mean until step\n",
    "    #print(pat.shape, nan_mask.shape, self.mean.shape, self.mean.repeat(pat.shape).shape, self.mean.repeat(pat.shape[0], 1))\n",
    "    pat[nan_mask] = mean_until_step[nan_mask]\n",
    "    # in some cases we divided by a count of 0, so we have still Nans, fill them with mean\n",
    "    nan_mask = torch.isnan(pat)\n",
    "    nan_mask = torch.isnan(pat)\n",
    "    pat[nan_mask] = 0#self.mean.repeat(pat.shape[0], 1)[nan_mask]"
   ]
  },
  {
   "cell_type": "code",
   "execution_count": 22,
   "id": "24d7643f-c14f-474f-a089-ac3b28c5ca07",
   "metadata": {},
   "outputs": [
    {
     "name": "stdout",
     "output_type": "stream",
     "text": [
      "torch.Size([100, 1])\n",
      "tensor(0., dtype=torch.float64) tensor(0.8908, dtype=torch.float64)\n",
      "tensor([0.], dtype=torch.float64)\n"
     ]
    },
    {
     "data": {
      "text/plain": [
       "[<matplotlib.lines.Line2D at 0x7f7067744fd0>]"
      ]
     },
     "execution_count": 22,
     "metadata": {},
     "output_type": "execute_result"
    },
    {
     "data": {
      "image/png": "[encoded data removed]",
      "text/plain": [
       "<Figure size 432x288 with 1 Axes>"
      ]
     },
     "metadata": {
      "needs_background": "light"
     },
     "output_type": "display_data"
    }
   ],
   "source": [
    "print(pat.shape)\n",
    "print(pat.min(), pat.max())\n",
    "print(pat[0])\n",
    "plt.plot(pat.numpy())"
   ]
  },
  {
   "cell_type": "code",
   "execution_count": 23,
   "id": "40406aa1-4f23-41da-b9a3-a90ca2a399d4",
   "metadata": {},
   "outputs": [
    {
     "name": "stdout",
     "output_type": "stream",
     "text": [
      "Model fill type:  pat_ema\n"
     ]
    }
   ],
   "source": [
    "from model import LitRNN, LitTransformer\n",
    "\n",
    "from pytorch_lightning.callbacks.early_stopping import EarlyStopping\n",
    "from pytorch_lightning.callbacks.model_checkpoint import ModelCheckpoint\n",
    "\n",
    "# define model\n",
    "model_type = \"rnn\"\n",
    "if model_type == \"rnn\":\n",
    "    MyLightingModule = LitRNN  # for loading from checkpoint\n",
    "    model = LitRNN(feature_names, \n",
    "                   hidden_size=args[\"hidden_size\"], \n",
    "                   dropout_val=0.2, \n",
    "                   lstm_layers=1, \n",
    "                   lr=1e-4,#args[\"lr\"],\n",
    "                   fill_type=args[\"fill_type\"])\n",
    "elif model_type == \"transformer\":\n",
    "    MyLightingModule = LitTransformer  # for loading from checkpoint\n",
    "    model = LitTransformer(num_features,\n",
    "                           ninp=512, # embedding dimension\n",
    "                           nhead=16, # 2, # num attention heads\n",
    "                           nhid=1024, #the dimension of the feedforward network model in nn.TransformerEncoder\n",
    "                           nlayers=8, # the number of heads in the multiheadattention models\n",
    "                           dropout=0.2,\n",
    "                           lr=0.00005,\n",
    "                           fill_type=args[\"fill_type\"])\n",
    "#model = torch.jit.script(model)\n",
    "#model = model.to_torchscript()"
   ]
  },
  {
   "cell_type": "code",
   "execution_count": 25,
   "id": "bb16ca68-c508-4422-bd53-31a1de6cbf68",
   "metadata": {},
   "outputs": [
    {
     "name": "stderr",
     "output_type": "stream",
     "text": [
      "Using native 16bit precision.\n",
      "GPU available: True, used: True\n",
      "TPU available: False, using: 0 TPU cores\n",
      "IPU available: False, using: 0 IPUs\n"
     ]
    }
   ],
   "source": [
    "# default logger used by trainer\n",
    "logger = pl.loggers.mlflow.MLFlowLogger(\n",
    "    experiment_name='default', \n",
    ")\n",
    "logger.log_hyperparams(args)\n",
    "\n",
    "\n",
    "es = EarlyStopping(monitor='val_loss_epoch', patience=5, verbose=True, mode=\"min\")\n",
    "mc = ModelCheckpoint(monitor='val_loss_epoch', verbose=False, save_last=False, save_top_k=1,\n",
    "                     save_weights_only=False, mode='min', period=None)\n",
    "callbacks = [es, mc]\n",
    "\n",
    "trainer = pl.Trainer(\n",
    "                    callbacks=callbacks,\n",
    "                    precision=16,\n",
    "                    max_steps=args[\"max_steps\"],\n",
    "                    gradient_clip_val=args[\"grad_clip_val\"],\n",
    "                    track_grad_norm=-1, # -1 to disable\n",
    "                    truncated_bptt_steps=None, # None to disable, 5 was mentioned in docs\n",
    "                    logger=logger,\n",
    "                    weights_summary='top',\n",
    "                    gpus=1,\n",
    "                    progress_bar_refresh_rate=1,\n",
    "                    val_check_interval=args[\"val_check_interval\"],\n",
    "                    auto_lr_find=False,\n",
    ") "
   ]
  },
  {
   "cell_type": "code",
   "execution_count": 29,
   "id": "f6737eee-c06d-4357-a684-1772879ada28",
   "metadata": {},
   "outputs": [
    {
     "data": {
      "text/plain": [
       "'bc96be73c2b5414c84ed9698695faa60'"
      ]
     },
     "execution_count": 29,
     "metadata": {},
     "output_type": "execute_result"
    }
   ],
   "source": []
  },
  {
   "cell_type": "code",
   "execution_count": 31,
   "id": "1d27786b-4cd9-4318-a37b-8a71081acf64",
   "metadata": {},
   "outputs": [
    {
     "data": {
      "text/plain": [
       "<Run: data=<RunData: metrics={}, params={'bs': '16',\n",
       " 'dbs': \"['MIMIC']\",\n",
       " 'fill_type': 'pat_ema',\n",
       " 'grad_clip_val': '1.0',\n",
       " 'hidden_size': '512',\n",
       " 'lr': '0.0001',\n",
       " 'max_steps': '10000',\n",
       " 'min_len': '20',\n",
       " 'minutes': '5',\n",
       " 'norm_method': 'None',\n",
       " 'norm_targets': 'False',\n",
       " 'random_starts': 'True',\n",
       " 'seed': '1',\n",
       " 'train_noise_std': '0.1',\n",
       " 'val_check_interval': '100'}, tags={'mlflow.source.name': '/home/anton/.local/lib/python3.8/site-packages/ipykernel_launcher.py',\n",
       " 'mlflow.source.type': 'LOCAL',\n",
       " 'mlflow.user': 'anton'}>, info=<RunInfo: artifact_uri='file:./mlruns/1/bc96be73c2b5414c84ed9698695faa60/artifacts', end_time=None, experiment_id='1', lifecycle_stage='active', run_id='bc96be73c2b5414c84ed9698695faa60', run_uuid='bc96be73c2b5414c84ed9698695faa60', start_time=1627564839343, status='RUNNING', user_id='anton'>>"
      ]
     },
     "execution_count": 31,
     "metadata": {},
     "output_type": "execute_result"
    }
   ],
   "source": [
    "import mlflow\n",
    "run = mlflow.get_run(logger.run_id)\n",
    "run"
   ]
  },
  {
   "cell_type": "markdown",
   "id": "bb22b718-ec75-45e8-a6d6-136fd64b3bc2",
   "metadata": {},
   "source": [
    "# Run learning rate finder\n",
    "#lr_finder = trainer.tuner.lr_find(model, train_dl, num_training=100, max_lr=0.1, min_lr=1e-7)#, early_stop_threshold=None)\n",
    "\n",
    "# Results can be found in\n",
    "#lr_finder.results\n",
    "\n",
    "# Plot with\n",
    "#fig = lr_finder.plot(suggest=True)\n",
    "#fig.show()\n",
    "\n",
    "# Pick point based on plot, or get suggestion\n",
    "#new_lr = lr_finder.suggestion()\n",
    "#new_lr"
   ]
  },
  {
   "cell_type": "code",
   "execution_count": 223,
   "id": "f563fa92-8243-4a9e-9547-9b5a8f80e431",
   "metadata": {},
   "outputs": [],
   "source": [
    "# update hparams of the model\n",
    "#new_lr = 5e-4\n",
    "#model.hparams.lr = new_lr\n",
    "#model.lr = new_lr"
   ]
  },
  {
   "cell_type": "code",
   "execution_count": 224,
   "id": "01ec9ffc-471c-4a3d-a5e2-f04c9c4e5cfa",
   "metadata": {},
   "outputs": [
    {
     "name": "stderr",
     "output_type": "stream",
     "text": [
      "LOCAL_RANK: 0 - CUDA_VISIBLE_DEVICES: [0,1]\n",
      "\n",
      "  | Name          | Type           | Params\n",
      "-------------------------------------------------\n",
      "0 | rnn           | LSTM           | 1.1 M \n",
      "1 | layer_norm    | LayerNorm      | 1.0 K \n",
      "2 | encode_static | Sequential     | 267 K \n",
      "3 | out_mlp       | Sequential     | 263 K \n",
      "4 | loss_func     | SequentialLoss | 0     \n",
      "-------------------------------------------------\n",
      "1.6 M     Trainable params\n",
      "0         Non-trainable params\n",
      "1.6 M     Total params\n",
      "6.492     Total estimated model params size (MB)\n"
     ]
    },
    {
     "data": {
      "application/vnd.jupyter.widget-view+json": {
       "model_id": "",
       "version_major": 2,
       "version_minor": 0
      },
      "text/plain": [
       "Validation sanity check: 0it [00:00, ?it/s]"
      ]
     },
     "metadata": {},
     "output_type": "display_data"
    },
    {
     "name": "stderr",
     "output_type": "stream",
     "text": [
      "/home/anton/.local/lib/python3.8/site-packages/pytorch_lightning/trainer/data_loading.py:105: UserWarning: The dataloader, val dataloader 0, does not have many workers which may be a bottleneck. Consider increasing the value of the `num_workers` argument` (try 32 which is the number of cpus on this machine) in the `DataLoader` init to improve performance.\n",
      "  rank_zero_warn(\n",
      "Global seed set to 1\n",
      "/home/anton/.local/lib/python3.8/site-packages/pytorch_lightning/trainer/data_loading.py:105: UserWarning: The dataloader, train dataloader, does not have many workers which may be a bottleneck. Consider increasing the value of the `num_workers` argument` (try 32 which is the number of cpus on this machine) in the `DataLoader` init to improve performance.\n",
      "  rank_zero_warn(\n"
     ]
    },
    {
     "data": {
      "application/vnd.jupyter.widget-view+json": {
       "model_id": "5fb19c27976b494d967180bc6177ce7b",
       "version_major": 2,
       "version_minor": 0
      },
      "text/plain": [
       "Training: -1it [00:00, ?it/s]"
      ]
     },
     "metadata": {},
     "output_type": "display_data"
    },
    {
     "name": "stderr",
     "output_type": "stream",
     "text": [
      "/home/anton/.local/lib/python3.8/site-packages/pytorch_lightning/plugins/precision/precision_plugin.py:138: FutureWarning: Non-finite norm encountered in torch.nn.utils.clip_grad_norm_; continuing anyway. Note that the default behavior will change in a future release to error out if a non-finite total norm is encountered. At that point, setting error_if_nonfinite=false will be required to retain the old behavior.\n",
      "  torch.nn.utils.clip_grad_norm_(parameters, clip_val)\n"
     ]
    },
    {
     "data": {
      "application/vnd.jupyter.widget-view+json": {
       "model_id": "",
       "version_major": 2,
       "version_minor": 0
      },
      "text/plain": [
       "Validating: 0it [00:00, ?it/s]"
      ]
     },
     "metadata": {},
     "output_type": "display_data"
    },
    {
     "data": {
      "application/vnd.jupyter.widget-view+json": {
       "model_id": "",
       "version_major": 2,
       "version_minor": 0
      },
      "text/plain": [
       "Validating: 0it [00:00, ?it/s]"
      ]
     },
     "metadata": {},
     "output_type": "display_data"
    },
    {
     "data": {
      "application/vnd.jupyter.widget-view+json": {
       "model_id": "",
       "version_major": 2,
       "version_minor": 0
      },
      "text/plain": [
       "Validating: 0it [00:00, ?it/s]"
      ]
     },
     "metadata": {},
     "output_type": "display_data"
    },
    {
     "data": {
      "application/vnd.jupyter.widget-view+json": {
       "model_id": "",
       "version_major": 2,
       "version_minor": 0
      },
      "text/plain": [
       "Validating: 0it [00:00, ?it/s]"
      ]
     },
     "metadata": {},
     "output_type": "display_data"
    },
    {
     "data": {
      "application/vnd.jupyter.widget-view+json": {
       "model_id": "",
       "version_major": 2,
       "version_minor": 0
      },
      "text/plain": [
       "Validating: 0it [00:00, ?it/s]"
      ]
     },
     "metadata": {},
     "output_type": "display_data"
    },
    {
     "data": {
      "application/vnd.jupyter.widget-view+json": {
       "model_id": "",
       "version_major": 2,
       "version_minor": 0
      },
      "text/plain": [
       "Validating: 0it [00:00, ?it/s]"
      ]
     },
     "metadata": {},
     "output_type": "display_data"
    },
    {
     "data": {
      "application/vnd.jupyter.widget-view+json": {
       "model_id": "",
       "version_major": 2,
       "version_minor": 0
      },
      "text/plain": [
       "Validating: 0it [00:00, ?it/s]"
      ]
     },
     "metadata": {},
     "output_type": "display_data"
    },
    {
     "data": {
      "application/vnd.jupyter.widget-view+json": {
       "model_id": "",
       "version_major": 2,
       "version_minor": 0
      },
      "text/plain": [
       "Validating: 0it [00:00, ?it/s]"
      ]
     },
     "metadata": {},
     "output_type": "display_data"
    },
    {
     "data": {
      "application/vnd.jupyter.widget-view+json": {
       "model_id": "",
       "version_major": 2,
       "version_minor": 0
      },
      "text/plain": [
       "Validating: 0it [00:00, ?it/s]"
      ]
     },
     "metadata": {},
     "output_type": "display_data"
    },
    {
     "data": {
      "application/vnd.jupyter.widget-view+json": {
       "model_id": "",
       "version_major": 2,
       "version_minor": 0
      },
      "text/plain": [
       "Validating: 0it [00:00, ?it/s]"
      ]
     },
     "metadata": {},
     "output_type": "display_data"
    },
    {
     "data": {
      "application/vnd.jupyter.widget-view+json": {
       "model_id": "",
       "version_major": 2,
       "version_minor": 0
      },
      "text/plain": [
       "Validating: 0it [00:00, ?it/s]"
      ]
     },
     "metadata": {},
     "output_type": "display_data"
    },
    {
     "data": {
      "application/vnd.jupyter.widget-view+json": {
       "model_id": "",
       "version_major": 2,
       "version_minor": 0
      },
      "text/plain": [
       "Validating: 0it [00:00, ?it/s]"
      ]
     },
     "metadata": {},
     "output_type": "display_data"
    },
    {
     "data": {
      "application/vnd.jupyter.widget-view+json": {
       "model_id": "",
       "version_major": 2,
       "version_minor": 0
      },
      "text/plain": [
       "Validating: 0it [00:00, ?it/s]"
      ]
     },
     "metadata": {},
     "output_type": "display_data"
    },
    {
     "data": {
      "application/vnd.jupyter.widget-view+json": {
       "model_id": "",
       "version_major": 2,
       "version_minor": 0
      },
      "text/plain": [
       "Validating: 0it [00:00, ?it/s]"
      ]
     },
     "metadata": {},
     "output_type": "display_data"
    },
    {
     "data": {
      "application/vnd.jupyter.widget-view+json": {
       "model_id": "",
       "version_major": 2,
       "version_minor": 0
      },
      "text/plain": [
       "Validating: 0it [00:00, ?it/s]"
      ]
     },
     "metadata": {},
     "output_type": "display_data"
    },
    {
     "data": {
      "application/vnd.jupyter.widget-view+json": {
       "model_id": "",
       "version_major": 2,
       "version_minor": 0
      },
      "text/plain": [
       "Validating: 0it [00:00, ?it/s]"
      ]
     },
     "metadata": {},
     "output_type": "display_data"
    },
    {
     "data": {
      "application/vnd.jupyter.widget-view+json": {
       "model_id": "",
       "version_major": 2,
       "version_minor": 0
      },
      "text/plain": [
       "Validating: 0it [00:00, ?it/s]"
      ]
     },
     "metadata": {},
     "output_type": "display_data"
    },
    {
     "data": {
      "application/vnd.jupyter.widget-view+json": {
       "model_id": "",
       "version_major": 2,
       "version_minor": 0
      },
      "text/plain": [
       "Validating: 0it [00:00, ?it/s]"
      ]
     },
     "metadata": {},
     "output_type": "display_data"
    },
    {
     "data": {
      "application/vnd.jupyter.widget-view+json": {
       "model_id": "",
       "version_major": 2,
       "version_minor": 0
      },
      "text/plain": [
       "Validating: 0it [00:00, ?it/s]"
      ]
     },
     "metadata": {},
     "output_type": "display_data"
    },
    {
     "data": {
      "application/vnd.jupyter.widget-view+json": {
       "model_id": "",
       "version_major": 2,
       "version_minor": 0
      },
      "text/plain": [
       "Validating: 0it [00:00, ?it/s]"
      ]
     },
     "metadata": {},
     "output_type": "display_data"
    },
    {
     "data": {
      "application/vnd.jupyter.widget-view+json": {
       "model_id": "",
       "version_major": 2,
       "version_minor": 0
      },
      "text/plain": [
       "Validating: 0it [00:00, ?it/s]"
      ]
     },
     "metadata": {},
     "output_type": "display_data"
    },
    {
     "data": {
      "application/vnd.jupyter.widget-view+json": {
       "model_id": "",
       "version_major": 2,
       "version_minor": 0
      },
      "text/plain": [
       "Validating: 0it [00:00, ?it/s]"
      ]
     },
     "metadata": {},
     "output_type": "display_data"
    },
    {
     "data": {
      "application/vnd.jupyter.widget-view+json": {
       "model_id": "",
       "version_major": 2,
       "version_minor": 0
      },
      "text/plain": [
       "Validating: 0it [00:00, ?it/s]"
      ]
     },
     "metadata": {},
     "output_type": "display_data"
    },
    {
     "data": {
      "application/vnd.jupyter.widget-view+json": {
       "model_id": "",
       "version_major": 2,
       "version_minor": 0
      },
      "text/plain": [
       "Validating: 0it [00:00, ?it/s]"
      ]
     },
     "metadata": {},
     "output_type": "display_data"
    },
    {
     "data": {
      "application/vnd.jupyter.widget-view+json": {
       "model_id": "",
       "version_major": 2,
       "version_minor": 0
      },
      "text/plain": [
       "Validating: 0it [00:00, ?it/s]"
      ]
     },
     "metadata": {},
     "output_type": "display_data"
    },
    {
     "data": {
      "application/vnd.jupyter.widget-view+json": {
       "model_id": "",
       "version_major": 2,
       "version_minor": 0
      },
      "text/plain": [
       "Validating: 0it [00:00, ?it/s]"
      ]
     },
     "metadata": {},
     "output_type": "display_data"
    },
    {
     "data": {
      "application/vnd.jupyter.widget-view+json": {
       "model_id": "",
       "version_major": 2,
       "version_minor": 0
      },
      "text/plain": [
       "Validating: 0it [00:00, ?it/s]"
      ]
     },
     "metadata": {},
     "output_type": "display_data"
    },
    {
     "name": "stderr",
     "output_type": "stream",
     "text": [
      "/home/anton/.local/lib/python3.8/site-packages/pytorch_lightning/trainer/trainer.py:1047: UserWarning: Detected KeyboardInterrupt, attempting graceful shutdown...\n",
      "  rank_zero_warn(\"Detected KeyboardInterrupt, attempting graceful shutdown...\")\n"
     ]
    }
   ],
   "source": [
    "trainer.fit(model, train_dl, val_dl)"
   ]
  },
  {
   "cell_type": "code",
   "execution_count": 225,
   "id": "535e5d51-1480-42ce-b974-67892ccac1ea",
   "metadata": {},
   "outputs": [
    {
     "name": "stdout",
     "output_type": "stream",
     "text": [
      "Model fill type:  pat_mean\n"
     ]
    }
   ],
   "source": [
    "# load best checkpoint\n",
    "model = MyLightingModule.load_from_checkpoint(mc.best_model_path, feature_names=feature_names, hidden_size=512)"
   ]
  },
  {
   "cell_type": "code",
   "execution_count": 226,
   "id": "37ca7cc4-482d-4a9c-8948-4c944b6054af",
   "metadata": {},
   "outputs": [],
   "source": [
    "# Eval model\n",
    "all_targets = []\n",
    "all_preds = []\n",
    "all_times = []\n",
    "all_ids = []\n",
    "all_losses = []\n",
    "count = 0\n",
    "model.to(\"cuda\")\n",
    "model.eval()\n",
    "\n",
    "dl_type = \"val\"\n",
    "if dl_type == \"train\":\n",
    "    train_dl.dataset.train = False\n",
    "    dl = train_dl\n",
    "else:\n",
    "    dl = val_dl\n",
    "    \n",
    "with torch.no_grad():\n",
    "    for inputs, targets, lens in dl:\n",
    "        bs = inputs.shape[0]\n",
    "        # to gpu\n",
    "        inputs = inputs.to(\"cuda\")\n",
    "        targets = targets.to(\"cuda\")\n",
    "        # pred\n",
    "        preds = model(inputs)\n",
    "        # loss\n",
    "        mask = torch.isnan(targets)\n",
    "        loss = model.loss_func(preds, targets, mask)\n",
    "        # other details\n",
    "        times = torch.stack([torch.arange(inputs.shape[1]) for _ in range(bs)]).unsqueeze(-1)\n",
    "        ids = torch.stack([torch.ones(inputs.shape[1]) * (count + i) for i in range(bs)]).unsqueeze(-1)\n",
    "        count += bs\n",
    "        \n",
    "        targets = torch.cat([t[:l] for t, l in zip(targets, lens)]).flatten()\n",
    "        times = torch.cat([t[:l] for t, l in zip(times, lens)]).flatten()\n",
    "        preds = torch.cat([t[:l] for t, l in zip(preds, lens)]).flatten()\n",
    "        ids = torch.cat([t[:l] for t, l in zip(ids, lens)]).flatten()\n",
    "        \n",
    "        all_targets.append(targets)\n",
    "        all_preds.append(preds)\n",
    "        all_times.append(times)\n",
    "        all_ids.append(ids)\n",
    "        all_losses.append(loss)\n",
    "        \n",
    "all_baseline_losses = torch.stack([(t[~torch.isnan(t)] - mean_train_target).pow(2).mean() for t in all_targets]).cpu().flatten().numpy()\n",
    "\n",
    "all_losses = torch.stack(all_losses).cpu().flatten().numpy()\n",
    "all_targets = torch.cat(all_targets).cpu().flatten().numpy()\n",
    "all_preds = torch.cat(all_preds).cpu().flatten().numpy()\n",
    "all_ids = torch.cat(all_ids).cpu().flatten().numpy()\n",
    "all_times = torch.cat(all_times).cpu().flatten().numpy()\n",
    "all_errors = (all_targets - all_preds) ** 2\n",
    "\n",
    "df = pd.DataFrame({\"targets\": all_targets, \"preds\": all_preds, \"ids\": all_ids, \"step\": all_times, \"error\": all_errors})\n",
    "by_pat = df.groupby(\"ids\").apply(lambda x: x[~x[\"targets\"].isna()].mean())"
   ]
  },
  {
   "cell_type": "code",
   "execution_count": 227,
   "id": "bbb0ca1f-b7a5-42cf-a11d-61c3626bdc8e",
   "metadata": {},
   "outputs": [
    {
     "name": "stdout",
     "output_type": "stream",
     "text": [
      "Mean/Std preds:  10.393157 3.1203294\n",
      "Mean/Std targets:  10.432425 5.914493\n",
      "Max error:  870.60876\n",
      "Mean error:  31.317638\n",
      "By Pat Mean error:  50.994694455418475\n",
      "\n",
      "Mean model loss:  51.29319\n",
      "Model R2 score:  0.1\n",
      "Explained var:  0.11093223094940186\n",
      "\n",
      "Mean baseline loss:  37.81162\n",
      "Mean baseline R2 score:  0.0\n"
     ]
    }
   ],
   "source": [
    "import sklearn\n",
    "print(\"Mean/Std preds: \", np.mean(all_preds), np.std(all_preds))\n",
    "print(\"Mean/Std targets: \", np.mean(df[\"targets\"]), np.std(df[\"targets\"]))\n",
    "print(\"Max error: \", np.max(df[\"error\"]))\n",
    "print(\"Mean error: \", np.mean(df[\"error\"]))\n",
    "print(\"By Pat Mean error: \", np.mean(by_pat[\"error\"]))\n",
    "print()\n",
    "\n",
    "mask = df[\"targets\"].isna()\n",
    "non_na_targets = df[\"targets\"][~mask]\n",
    "non_na_preds = df[\"preds\"][~mask]\n",
    "r2_model = sklearn.metrics.r2_score(non_na_targets, non_na_preds)\n",
    "explained_var = sklearn.metrics.explained_variance_score(non_na_targets, non_na_preds)\n",
    "print(\"Mean model loss: \", np.mean(all_losses))\n",
    "print(\"Model R2 score: \", round(r2_model, 2))\n",
    "print(\"Explained var: \", explained_var)\n",
    "print()\n",
    "\n",
    "r2_mean = sklearn.metrics.r2_score(non_na_targets, [df[\"targets\"].mean()] * len(non_na_targets))\n",
    "print(\"Mean baseline loss: \", np.mean(all_baseline_losses))\n",
    "print(\"Mean baseline R2 score: \", round(r2_mean, 2))"
   ]
  },
  {
   "cell_type": "code",
   "execution_count": 228,
   "id": "cdeb50a9-2b9d-4c03-a65e-124fe0e199c6",
   "metadata": {},
   "outputs": [],
   "source": [
    "import matplotlib.pyplot as plt\n",
    "import seaborn as sns"
   ]
  },
  {
   "cell_type": "code",
   "execution_count": 229,
   "id": "889e67e6-3fda-4219-989f-f6e49f68c990",
   "metadata": {},
   "outputs": [],
   "source": [
    "mean_pred_error = (df[\"targets\"] - mean_train_target).dropna() ** 2\n",
    "mean_pred_error\n",
    "df[\"mean_pred_error\"] = mean_pred_error\n",
    "df[\"mean_pred\"] = mean_train_target"
   ]
  },
  {
   "cell_type": "code",
   "execution_count": 230,
   "id": "f67621cc-d191-4566-bd7c-99272804fd3b",
   "metadata": {},
   "outputs": [
    {
     "data": {
      "text/plain": [
       "(0.0, 800.0)"
      ]
     },
     "execution_count": 230,
     "metadata": {},
     "output_type": "execute_result"
    },
    {
     "data": {
      "image/png": "[encoded data removed]",
      "text/plain": [
       "<Figure size 432x432 with 3 Axes>"
      ]
     },
     "metadata": {
      "needs_background": "light"
     },
     "output_type": "display_data"
    }
   ],
   "source": [
    "ax = sns.jointplot(x=\"targets\", y=\"error\", data=df, kind=\"hist\", bins=100) # data=by_pat\n",
    "ax.ax_joint.scatter(df[\"targets\"].dropna(), mean_pred_error, s=2, color=\"orange\")\n",
    "plt.xlim(-20, 105)\n",
    "plt.ylim(0, 800)"
   ]
  },
  {
   "cell_type": "code",
   "execution_count": 209,
   "id": "bd9a2abb-6845-4293-9415-5dd5adc9f9c8",
   "metadata": {},
   "outputs": [
    {
     "data": {
      "text/plain": [
       "[<matplotlib.lines.Line2D at 0x7f61dcd80c40>]"
      ]
     },
     "execution_count": 209,
     "metadata": {},
     "output_type": "execute_result"
    },
    {
     "data": {
      "image/png": "[encoded data removed]",
      "text/plain": [
       "<Figure size 432x432 with 3 Axes>"
      ]
     },
     "metadata": {
      "needs_background": "light"
     },
     "output_type": "display_data"
    }
   ],
   "source": [
    "ylim = (df[\"preds\"].min() - 5, df[\"preds\"].max() + 5)\n",
    "ax = sns.jointplot(data=df, x=\"targets\", y=\"preds\", kind=\"reg\", ylim=ylim) # data=bypat\n",
    "min_val = df[\"targets\"].min()\n",
    "max_val = df[\"targets\"].max()\n",
    "ax.ax_joint.plot([min_val, max_val], [min_val, max_val], linewidth=2, color=\"black\")"
   ]
  },
  {
   "cell_type": "code",
   "execution_count": 186,
   "id": "ad86cce3-b09a-417c-9b1e-df32bd376f12",
   "metadata": {},
   "outputs": [
    {
     "name": "stdout",
     "output_type": "stream",
     "text": [
      "-13.0 34.0\n"
     ]
    },
    {
     "data": {
      "text/plain": [
       "[<matplotlib.lines.Line2D at 0x7f623e48a820>]"
      ]
     },
     "execution_count": 186,
     "metadata": {},
     "output_type": "execute_result"
    },
    {
     "data": {
      "image/png": "[encoded data removed]",
      "text/plain": [
       "<Figure size 432x432 with 3 Axes>"
      ]
     },
     "metadata": {
      "needs_background": "light"
     },
     "output_type": "display_data"
    }
   ],
   "source": [
    "ax = sns.jointplot(data=df, x=\"targets\", y=\"preds\", kind=\"hist\", bins=100, ylim=ylim)\n",
    "print(min_val, max_val)\n",
    "# draw line of perfect correlation\n",
    "ax.ax_joint.plot([min_val, max_val], [min_val, max_val], linewidth=2)#, color=\"black\")"
   ]
  },
  {
   "cell_type": "code",
   "execution_count": 187,
   "id": "b0e025c7-ca59-4718-b163-94c5676765f9",
   "metadata": {},
   "outputs": [
    {
     "data": {
      "text/plain": [
       "count    84622.000000\n",
       "mean        10.319387\n",
       "std          2.254800\n",
       "min          5.415998\n",
       "25%          8.552198\n",
       "50%          9.953376\n",
       "75%         11.872278\n",
       "max         17.041582\n",
       "Name: preds, dtype: float64"
      ]
     },
     "execution_count": 187,
     "metadata": {},
     "output_type": "execute_result"
    }
   ],
   "source": [
    "df[\"preds\"].describe()"
   ]
  },
  {
   "cell_type": "code",
   "execution_count": 188,
   "id": "5e39efbc-b9a7-44d3-a71e-a588482a7c56",
   "metadata": {},
   "outputs": [],
   "source": [
    "# takes too long \n",
    "#ax = sns.jointplot(data=df, x=\"targets\", y=\"preds\", kind=\"kde\")\n",
    "#ax.ax_joint.plot([min_val, max_val], [min_val, max_val], linewidth=2)#, color=\"black\")"
   ]
  },
  {
   "cell_type": "code",
   "execution_count": 189,
   "id": "94fa5688-b6de-4fd3-9fc3-3d8cd6d976d2",
   "metadata": {},
   "outputs": [],
   "source": [
    "count = 0"
   ]
  },
  {
   "cell_type": "code",
   "execution_count": 190,
   "id": "d524c7bd-4af2-40be-8e94-36653d2a39fb",
   "metadata": {},
   "outputs": [
    {
     "name": "stdout",
     "output_type": "stream",
     "text": [
      "[  0.   1.   8.   9.  19.  27.  33.  41.  53.  61.  67.  75.  80.  83.\n",
      "  84.  88.  91.  92.  96. 104. 114. 122. 133. 141. 145. 149. 153. 157.\n",
      " 161. 162. 163. 164. 169. 170. 171. 172. 180. 188. 192. 200. 215. 223.\n",
      " 226. 234. 240. 245. 246. 248. 253. 254. 257. 265. 273. 278. 281. 286.\n",
      " 291. 299. 305. 310. 311. 313. 318. 319. 326. 327. 334. 335.]\n",
      "68 patients\n"
     ]
    }
   ],
   "source": [
    "#pats = df.groupby(\"ids\").filter(lambda x: x['preds'].max() > 10)\n",
    "pats = df.groupby(\"ids\").filter(lambda x: x['targets'].max() > 30)\n",
    "#pats = df.groupby(\"ids\").filter(lambda x: x['error'].mean() > 50)\n",
    "\n",
    "ids = pats[\"ids\"].unique()\n",
    "print(ids)\n",
    "print(len(ids), \"patients\")\n",
    "#pats"
   ]
  },
  {
   "cell_type": "code",
   "execution_count": 191,
   "id": "369bc722-8dd1-4f1b-8e7b-d86c47c83acd",
   "metadata": {},
   "outputs": [],
   "source": [
    "def rmse(targets, preds):\n",
    "    return np.sqrt(np.mean((targets - preds) ** 2))"
   ]
  },
  {
   "cell_type": "code",
   "execution_count": 192,
   "id": "9539f8f6-a2e1-44a2-9f8f-b59374bc0365",
   "metadata": {},
   "outputs": [
    {
     "name": "stdout",
     "output_type": "stream",
     "text": [
      "mean average target:  10.432425\n",
      "mean pat targets:  12.378049\n",
      "RMSE of model: 5.347875\n",
      "RMSE of mean: 5.4856663\n"
     ]
    },
    {
     "data": {
      "image/png": "[encoded data removed]",
      "text/plain": [
       "<Figure size 432x288 with 1 Axes>"
      ]
     },
     "metadata": {
      "needs_background": "light"
     },
     "output_type": "display_data"
    }
   ],
   "source": [
    "pat_id = 4\n",
    "\n",
    "pat = df[df[\"ids\"] == ids[pat_id]]\n",
    "plt.scatter(pat[\"step\"], pat[\"targets\"], label=\"targets\", color=\"orange\")\n",
    "plt.plot(pat[\"step\"], pat[\"preds\"], label=\"preds\")\n",
    "mean = df[\"targets\"].mean()\n",
    "print(\"mean average target: \", mean)\n",
    "print(\"mean pat targets: \", pat[\"targets\"].mean())\n",
    "plt.plot([0, max(pat[\"step\"])], [mean, mean], linewidth=1, color=\"black\", label=\"mean\", linestyle=\"--\")\n",
    "#plt.legend(location=\"out\")\n",
    "plt.legend(title='Legend', bbox_to_anchor=(1.05, 1), loc='upper left')\n",
    "plt.xlim(0, max(pat[\"step\"]) + 1)\n",
    "print(\"RMSE of model:\", rmse(pat[\"targets\"], pat[\"preds\"]))\n",
    "print(\"RMSE of mean:\", rmse(pat[\"targets\"], mean))"
   ]
  },
  {
   "cell_type": "code",
   "execution_count": 193,
   "id": "b4469df8-abdb-451e-87e6-cbf7157e103c",
   "metadata": {},
   "outputs": [
    {
     "data": {
      "text/plain": [
       "28.599764"
      ]
     },
     "execution_count": 193,
     "metadata": {},
     "output_type": "execute_result"
    }
   ],
   "source": [
    "mask = ~pat[\"targets\"].isna()\n",
    "(pat[\"targets\"][mask] - pat[\"preds\"][mask]).pow(2).mean()"
   ]
  },
  {
   "cell_type": "code",
   "execution_count": 194,
   "id": "307b516b-4bf8-42a8-970d-6ece13b89c72",
   "metadata": {},
   "outputs": [
    {
     "data": {
      "text/plain": [
       "28.599766"
      ]
     },
     "execution_count": 194,
     "metadata": {},
     "output_type": "execute_result"
    }
   ],
   "source": [
    "(pat[\"targets\"] - pat[\"preds\"]).pow(2).mean()"
   ]
  },
  {
   "cell_type": "code",
   "execution_count": null,
   "id": "68c37b5b-665e-4b29-bcef-baf01f163521",
   "metadata": {},
   "outputs": [],
   "source": []
  },
  {
   "cell_type": "code",
   "execution_count": 195,
   "id": "3d9c353f-7dd5-4907-90ae-47d4b93c3635",
   "metadata": {},
   "outputs": [],
   "source": [
    "per_step = df.groupby(\"step\").mean()"
   ]
  },
  {
   "cell_type": "code",
   "execution_count": 196,
   "id": "ccd64107-f341-465f-87b7-400de2208ae8",
   "metadata": {},
   "outputs": [
    {
     "data": {
      "text/plain": [
       "<AxesSubplot:xlabel='step'>"
      ]
     },
     "execution_count": 196,
     "metadata": {},
     "output_type": "execute_result"
    },
    {
     "data": {
      "image/png": "[encoded data removed]",
      "text/plain": [
       "<Figure size 432x288 with 1 Axes>"
      ]
     },
     "metadata": {
      "needs_background": "light"
     },
     "output_type": "display_data"
    }
   ],
   "source": [
    "per_step[\"error\"].plot()"
   ]
  },
  {
   "cell_type": "code",
   "execution_count": 197,
   "id": "a7359c71-6bb2-4db6-b2f2-243d25977cf5",
   "metadata": {},
   "outputs": [],
   "source": [
    "import matplotlib.pyplot as plt"
   ]
  },
  {
   "cell_type": "code",
   "execution_count": 198,
   "id": "6f8eb24c-cdc0-4481-82af-8afcdf91efb3",
   "metadata": {},
   "outputs": [
    {
     "data": {
      "text/plain": [
       "<matplotlib.legend.Legend at 0x7f61ac564220>"
      ]
     },
     "execution_count": 198,
     "metadata": {},
     "output_type": "execute_result"
    },
    {
     "data": {
      "image/png": "[encoded data removed]",
      "text/plain": [
       "<Figure size 432x288 with 1 Axes>"
      ]
     },
     "metadata": {
      "needs_background": "light"
     },
     "output_type": "display_data"
    }
   ],
   "source": [
    "per_step[\"targets\"].plot()\n",
    "per_step[\"preds\"].plot()\n",
    "plt.legend()"
   ]
  },
  {
   "cell_type": "code",
   "execution_count": 199,
   "id": "ef358c87-63ab-4850-96bd-3824f537644d",
   "metadata": {},
   "outputs": [
    {
     "data": {
      "text/plain": [
       "<AxesSubplot:xlabel='ids', ylabel='error'>"
      ]
     },
     "execution_count": 199,
     "metadata": {},
     "output_type": "execute_result"
    },
    {
     "data": {
      "image/png": "[encoded data removed]",
      "text/plain": [
       "<Figure size 432x288 with 1 Axes>"
      ]
     },
     "metadata": {
      "needs_background": "light"
     },
     "output_type": "display_data"
    }
   ],
   "source": [
    "df.plot.scatter(\"ids\", \"error\")"
   ]
  },
  {
   "cell_type": "code",
   "execution_count": 200,
   "id": "fa550704-6224-4b9f-9924-6f26077634dc",
   "metadata": {},
   "outputs": [
    {
     "data": {
      "text/plain": [
       "<AxesSubplot:xlabel='step', ylabel='error'>"
      ]
     },
     "execution_count": 200,
     "metadata": {},
     "output_type": "execute_result"
    },
    {
     "data": {
      "image/png": "[encoded data removed]",
      "text/plain": [
       "<Figure size 432x288 with 1 Axes>"
      ]
     },
     "metadata": {
      "needs_background": "light"
     },
     "output_type": "display_data"
    }
   ],
   "source": [
    "df.plot.scatter(\"step\", \"error\")"
   ]
  },
  {
   "cell_type": "markdown",
   "id": "edb1a9b2-fc96-44fc-ae9a-b36d3ba15adb",
   "metadata": {},
   "source": [
    "## Saliency"
   ]
  },
  {
   "cell_type": "code",
   "execution_count": 201,
   "id": "536cc1ba-cf23-4d93-a450-b0a0a0ca2736",
   "metadata": {},
   "outputs": [],
   "source": [
    "from captum.attr import NoiseTunnel, Saliency\n",
    "\n",
    "class LSTMLastStep(torch.nn.Module):\n",
    "    def __init__(self, net):\n",
    "        super(LSTMLastStep, self).__init__()\n",
    "        self.net = net\n",
    "\n",
    "    def forward(self, x):\n",
    "        out = self.net(x)\n",
    "        # take last timestep\n",
    "        out = out[:, -1, :]\n",
    "        return out\n",
    "\n",
    "\n",
    "class LSTMSelectFeature(torch.nn.Module):\n",
    "    def __init__(self, net, idx):\n",
    "        super().__init__()\n",
    "        self.net = net\n",
    "        self.idx = idx\n",
    "    \n",
    "    def forward(self, x):\n",
    "        out = self.net(x)\n",
    "        if self.idx is not None:\n",
    "            out = out[:, self.idx]\n",
    "            out = out.unsqueeze(1)\n",
    "        return out\n",
    "\n",
    "\n",
    "def get_sal_model(model, idx=None):\n",
    "    saliency = Saliency(LSTMSelectFeature(LSTMLastStep(model), idx))\n",
    "    noise_tunnel = NoiseTunnel(saliency)\n",
    "    return noise_tunnel\n",
    "\n",
    "sal_model = get_sal_model(model)"
   ]
  },
  {
   "cell_type": "code",
   "execution_count": 202,
   "id": "00add6cc-1227-4ee8-bb00-ac88c8bf2d31",
   "metadata": {},
   "outputs": [],
   "source": [
    "def get_all_attrs(model, absolute=False, target_idx=None, desired_target_val=None, perc=None, agg=True, ds=None, tqdm_off=True):\n",
    "    if ds is None:\n",
    "        ds = model.val_dataloader().dataset\n",
    "    ids = range(len(ds.inputs))\n",
    "    if perc is not None:\n",
    "        ids = ids[:int(len(ids) * perc)]\n",
    "        print(\"Only processing \", len(ids), \" ids\")\n",
    "        \n",
    "    model.train()\n",
    "    attrs = []\n",
    "    for pat_id in tqdm(ids, disable=tqdm_off):\n",
    "        attr = get_attr_single(model, pat_id, absolute=absolute, target_idx=target_idx, desired_target_val=desired_target_val, ds=ds)\n",
    "        if len(attr) > 0:\n",
    "            attrs.append(attr)\n",
    "    if agg:\n",
    "        attrs = utils.pad_and_mask(attrs)\n",
    "    return attrs\n",
    "\n",
    "\n",
    "def get_attr_single(model, pat_id, absolute=False, tqdm_off=True, target_idx=None, desired_target_val=None, ds=None):\n",
    "    if ds is None:\n",
    "        ds = model.val_dataloader().dataset\n",
    "    # pat_data, pat_target, idx, len_ = ds[pat_id]\n",
    "    pat_data, pat_target = ds[pat_id]\n",
    "    if target_idx is None:\n",
    "        target_idx = 0\n",
    "    model = get_sal_model(model, target_idx)\n",
    "    attrs = []\n",
    "    #print(\"Pat data shape: \", pat_data.shape)\n",
    "    for end_idx in tqdm(range(1, len(pat_data) + 1), disable=tqdm_off):\n",
    "        if desired_target_val is not None and pat_target[end_idx - 1, target_idx] != desired_target_val:\n",
    "            # if the target is not the desired value, then don't calculate the saliency for it\n",
    "            continue\n",
    "        data = pat_data[:end_idx].unsqueeze(0).cuda()\n",
    "        if len(data.shape) == 4:\n",
    "            data = data.squeeze(0)\n",
    "        data.requires_grad = True\n",
    "        attr = model.attribute(data, nt_type=\"smoothgrad\", nt_samples=50,\n",
    "                               stdevs=0.01, abs=absolute).detach().cpu().squeeze(0)\n",
    "        data.requires_grad = False\n",
    "        attr /= attr.abs().sum()\n",
    "        attr = attr.unsqueeze(0)\n",
    "        # print('ATTR', attr.shape)\n",
    "        attrs.append(attr)\n",
    "    if len(attrs) > 0:\n",
    "        attrs = pad_and_mask(attrs)\n",
    "    else:\n",
    "        attrs = np.zeros(0)\n",
    "\n",
    "    # Divide each timestep by number of times that saliency was computed for it\n",
    "    #inv_count = np.arange(1, len(pat_data) + 1)[::-1]\n",
    "    #print(inv_count.shape)\n",
    "    #attrs = attrs / inv_count\n",
    "    return attrs\n",
    "\n",
    "\n",
    "def get_sal_list(model, idx, perc, agg, ds=None):\n",
    "    attrs = get_all_attrs(model, target_idx=idx, perc=perc, agg=False, ds=ds, tqdm_off=False)\n",
    "    summed_per_pat = [attr.sum(axis=0) for attr in attrs]\n",
    "    return summed_per_pat\n",
    "\n",
    "def pad_and_mask(data, mask_value=math.nan):\n",
    "    # find max seq len\n",
    "    max_len = max([pat.shape[1] for pat in data])\n",
    "    # pad each seq to max seq len\n",
    "    data = [np.concatenate([pat, np.zeros([pat.shape[0], max_len - pat.shape[1], pat.shape[2]]) * math.nan], axis=1) for pat in data]\n",
    "    # concat all seqs\n",
    "    data = np.concatenate(data)\n",
    "    #data = torch.nn.utils.rnn.pad_sequence(data, batch_first=True, padding_value=mask_value)\n",
    "    if math.isnan(mask_value):\n",
    "        mask = np.isnan(data)\n",
    "    else:\n",
    "        mask = data == mask_value\n",
    "    data = np.ma.masked_array(data, mask=mask)\n",
    "    return data"
   ]
  },
  {
   "cell_type": "code",
   "execution_count": 203,
   "id": "1796a280-7dea-4b4b-8f0c-652c7bdfe8dd",
   "metadata": {},
   "outputs": [
    {
     "name": "stderr",
     "output_type": "stream",
     "text": [
      "\n",
      "\n",
      "  0%|                                                         | 0/17 [00:00<?, ?it/s]\u001b[A\u001b[A\n",
      "\n",
      "  6%|██▉                                              | 1/17 [00:00<00:02,  5.79it/s]\u001b[A\u001b[A"
     ]
    },
    {
     "name": "stdout",
     "output_type": "stream",
     "text": [
      "Only processing  17  ids\n"
     ]
    },
    {
     "name": "stderr",
     "output_type": "stream",
     "text": [
      "\n",
      "\n",
      " 12%|█████▊                                           | 2/17 [00:04<00:37,  2.49s/it]\u001b[A\u001b[A\n",
      "\n",
      " 18%|████████▋                                        | 3/17 [00:04<00:19,  1.40s/it]\u001b[A\u001b[A\n",
      "\n",
      " 24%|███████████▌                                     | 4/17 [00:05<00:15,  1.17s/it]\u001b[A\u001b[A\n",
      "\n",
      " 29%|██████████████▍                                  | 5/17 [00:14<00:50,  4.23s/it]\u001b[A\u001b[A\n",
      "\n",
      " 35%|█████████████████▎                               | 6/17 [00:17<00:39,  3.59s/it]\u001b[A\u001b[A\n",
      "\n",
      " 41%|████████████████████▏                            | 7/17 [00:23<00:44,  4.43s/it]\u001b[A\u001b[A\n",
      "\n",
      " 47%|███████████████████████                          | 8/17 [00:23<00:27,  3.06s/it]\u001b[A\u001b[A\n",
      "\n",
      " 59%|████████████████████████████▏                   | 10/17 [00:38<00:36,  5.21s/it]\u001b[A\u001b[A\n",
      "\n",
      " 65%|███████████████████████████████                 | 11/17 [00:40<00:25,  4.27s/it]\u001b[A\u001b[A\n",
      "\n",
      " 71%|█████████████████████████████████▉              | 12/17 [00:45<00:22,  4.56s/it]\u001b[A\u001b[A\n",
      "\n",
      " 76%|████████████████████████████████████▋           | 13/17 [00:45<00:13,  3.34s/it]\u001b[A\u001b[A\n",
      "\n",
      " 82%|███████████████████████████████████████▌        | 14/17 [00:55<00:15,  5.07s/it]\u001b[A\u001b[A\n",
      "\n",
      " 88%|██████████████████████████████████████████▎     | 15/17 [00:55<00:07,  3.87s/it]\u001b[A\u001b[A\n",
      "\n",
      " 94%|█████████████████████████████████████████████▏  | 16/17 [00:56<00:02,  2.97s/it]\u001b[A\u001b[A\n",
      "\n",
      "100%|████████████████████████████████████████████████| 17/17 [01:01<00:00,  3.61s/it]\u001b[A\u001b[A\n"
     ]
    }
   ],
   "source": [
    "sal_list = get_sal_list(model, 0, perc=0.1, agg=True, ds=val_dl.dataset)"
   ]
  },
  {
   "cell_type": "code",
   "execution_count": 204,
   "id": "ef2d8408-dd00-42c3-9276-d87371240738",
   "metadata": {},
   "outputs": [],
   "source": [
    "mean_overall = [s.mean(0) for s in sal_list]\n",
    "feat_saliency = np.sum(mean_overall, axis=0)"
   ]
  },
  {
   "cell_type": "code",
   "execution_count": 205,
   "id": "61c2826f-9f8a-4806-813f-66a046c23cd1",
   "metadata": {},
   "outputs": [],
   "source": [
    "feat_sal_df = pd.DataFrame({\"sal\": feat_saliency}, index = feature_names).sort_values(\"sal\")"
   ]
  },
  {
   "cell_type": "code",
   "execution_count": 206,
   "id": "096ef21e-8480-498f-8ff2-d3e328a2499e",
   "metadata": {},
   "outputs": [
    {
     "data": {
      "text/plain": [
       "<AxesSubplot:>"
      ]
     },
     "execution_count": 206,
     "metadata": {},
     "output_type": "execute_result"
    },
    {
     "data": {
      "image/png": "[encoded data removed]",
      "text/plain": [
       "<Figure size 360x576 with 1 Axes>"
      ]
     },
     "metadata": {
      "needs_background": "light"
     },
     "output_type": "display_data"
    }
   ],
   "source": [
    "feat_sal_df.plot.barh(figsize = (5, 8))"
   ]
  },
  {
   "cell_type": "code",
   "execution_count": 113,
   "id": "6f64e091-d626-46a2-8751-042057018af1",
   "metadata": {},
   "outputs": [
    {
     "data": {
      "text/plain": [
       "<AxesSubplot:>"
      ]
     },
     "execution_count": 113,
     "metadata": {},
     "output_type": "execute_result"
    },
    {
     "data": {
      "image/png": "[encoded data removed]",
      "text/plain": [
       "<Figure size 360x576 with 1 Axes>"
      ]
     },
     "metadata": {
      "needs_background": "light"
     },
     "output_type": "display_data"
    }
   ],
   "source": [
    "feat_sal_df.plot.barh(figsize = (5, 8))"
   ]
  },
  {
   "cell_type": "code",
   "execution_count": null,
   "id": "856c47c1-4cbc-4575-83c7-017102979484",
   "metadata": {},
   "outputs": [],
   "source": []
  }
 ],
 "metadata": {
  "kernelspec": {
   "display_name": "raw",
   "language": "python",
   "name": "raw"
  },
  "language_info": {
   "codemirror_mode": {
    "name": "ipython",
    "version": 3
   },
   "file_extension": ".py",
   "mimetype": "text/x-python",
   "name": "python",
   "nbconvert_exporter": "python",
   "pygments_lexer": "ipython3",
   "version": "3.8.11"
  }
 },
 "nbformat": 4,
 "nbformat_minor": 5
}
