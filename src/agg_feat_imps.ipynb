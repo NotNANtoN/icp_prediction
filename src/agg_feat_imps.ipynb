{
 "cells": [
  {
   "cell_type": "code",
   "execution_count": null,
   "metadata": {},
   "outputs": [],
   "source": [
    "import os\n",
    "import joblib\n",
    "from os.path import join\n",
    "\n",
    "import numpy as np"
   ]
  },
  {
   "cell_type": "code",
   "execution_count": null,
   "metadata": {},
   "outputs": [],
   "source": [
    "root_folder = \"../results_eval_tune\""
   ]
  },
  {
   "cell_type": "code",
   "execution_count": null,
   "metadata": {},
   "outputs": [],
   "source": [
    "model_dict = {}\n",
    "\n",
    "files = os.listdir(root_folder)\n",
    "files_other = ['Dec-17-20:59:35_xgb_5k_freeze_10_5_clinical',\n",
    " 'Dec-11-13:58:40_xgb_5k_freeze_10_5_blood',\n",
    " 'Dec-11-13:59:07_xgb_5k_freeze_10_5_imaging_pca',\n",
    "  'Dec-18-20:16:19_xgb_5k_freeze_10_5_clinical_blood',\n",
    "  'Dec-18-23:13:58_xgb_5k_freeze_10_5_clinical_imaging_pca',\n",
    " 'Dec-17-23:54:04_log_5k_freeze_10_5_clinical',\n",
    " 'Dec-12-14:32:32_log_0k_freeze_10_5_blood',\n",
    " 'Dec-12-14:34:11_log_0k_freeze_10_5_imaging_pca',\n",
    "  'Dec-19-02:16:22_log_5k_freeze_10_5_clinical_blood',\n",
    "  'Dec-19-05:13:04_log_5k_freeze_10_5_clinical_imaging_pca',\n",
    "  #'Dec-18-16:23:31_mlp_0k_freeze_10_5_clinical',\n",
    "  'Dec-19-15:59:52_mlp_1k_freeze_10_5_clinical',\n",
    "        \n",
    "]\n",
    "\n",
    "files_other = ['Dec-22-14:21:47_xgb_5k_freeze_10_5_clinical_blood']\n",
    "\n",
    "files_other = ['Jan-06-00:35:58_xgb_5k_freeze_10_5_clinical']\n",
    "\n",
    "files_other = ['Jan-07-22:47:10_xgb_5k_freeze_10_5_clinical',\n",
    "         'Jan-08-03:05:05_xgb_5k_freeze_10_5_blood',\n",
    "         'Jan-08-19:10:28_xgb_5k_freeze_10_5_sparse_img',\n",
    "         \n",
    "         'Jan-08-13:02:26_log_5k_freeze_10_5_clinical',\n",
    "         'Jan-08-17:36:36_log_5k_freeze_10_5_blood',\n",
    "         'Jan-09-07:29:04_log_5k_freeze_10_5_sparse_img',\n",
    "         \n",
    "         'Jan-09-13:32:30_mlp_1k_freeze_10_5_clinical',\n",
    "         \n",
    "        ]\n",
    "\n",
    "for file in files:\n",
    "    if \"xgb\" not in file:\n",
    "        continue\n",
    "    #if \"clinical\" not in file:\n",
    "    #    continue\n",
    "    #if \"clinical\" in file and \"blood\" in file:\n",
    "    #    continue\n",
    "    #if \"imaging_pca\" in file:\n",
    "    #    continue\n",
    "    \n",
    "    #if \"freeze\" not in file:\n",
    "    #    continue\n",
    "    eval_tuning_path = join(root_folder, file)\n",
    "    study_list =  os.listdir(eval_tuning_path)\n",
    "    study_list = [study for study in study_list if study.endswith(\".pkl\") and study != \"cfg.pkl\"]\n",
    "    #if len(study_list) != 10:\n",
    "    #    continue\n",
    "    print(file, len(study_list))\n",
    "\n",
    "    names = [\"hyperparams\", \"eval_score\", \"score_dict\", \"y_pred_logits\", \"y_pred_binary\", \"y_true\"]\n",
    "    models = [joblib.load(join(eval_tuning_path, study))[-1] for study in study_list]\n",
    "    model_dict[file] = models\n",
    "    # print hyperparams:\n",
    "    if \"opt\" in file:\n",
    "        for study in study_list:\n",
    "            hypers = joblib.load(join(eval_tuning_path, study))[0]\n",
    "            print(hypers[\"df\"])\n"
   ]
  },
  {
   "cell_type": "code",
   "execution_count": null,
   "metadata": {},
   "outputs": [],
   "source": [
    "feat_imp_dict = {}\n",
    "for key in model_dict:\n",
    "    if isinstance(model_dict[key][0], np.ndarray):\n",
    "        continue\n",
    "    print(key)\n",
    "    feat_imp_dict[key] = [model.feature_importances_ for model in model_dict[key]]"
   ]
  },
  {
   "cell_type": "code",
   "execution_count": null,
   "metadata": {},
   "outputs": [],
   "source": [
    "for key in feat_imp_dict:\n",
    "    print(key)\n",
    "    mean_feats = np.mean(feat_imp_dict[key], axis=0)\n",
    "    std_feats = np.std(feat_imp_dict[key], axis=0)\n",
    "\n",
    "    print(mean_feats.sum())"
   ]
  },
  {
   "cell_type": "code",
   "execution_count": null,
   "metadata": {},
   "outputs": [],
   "source": [
    "for key in feat_imp_dict:\n",
    "    num_feats_key = feat_imp_dict[key][0].shape[0]\n",
    "    print(key)\n",
    "    print(num_feats_key)\n",
    "    print()\n",
    "    assert num_feats_key > 4, f'{key}, {num_feats_key}'"
   ]
  },
  {
   "cell_type": "code",
   "execution_count": null,
   "metadata": {},
   "outputs": [],
   "source": [
    "#feat_imp_dict[\"Dec-12-14:24:23_xgb_5k_freeze_10_5_clinical_blood\"][0].shape"
   ]
  },
  {
   "cell_type": "code",
   "execution_count": null,
   "metadata": {},
   "outputs": [],
   "source": [
    "#feat_imp_dict[\"Dec-12-18:33:22_xgb_5k_freeze_10_5_clinical_imaging_pca\"][0].shape"
   ]
  },
  {
   "cell_type": "code",
   "execution_count": null,
   "metadata": {},
   "outputs": [],
   "source": [
    "import pandas as pd\n",
    "import matplotlib.pyplot as plt"
   ]
  },
  {
   "cell_type": "code",
   "execution_count": null,
   "metadata": {},
   "outputs": [],
   "source": [
    "all_dts = [\"clinical\", \"blood\", \"imaging_pca\", \"sparse_img\"]"
   ]
  },
  {
   "cell_type": "code",
   "execution_count": null,
   "metadata": {},
   "outputs": [],
   "source": [
    "dts = [\"clinical\", \"sparse_img\", \"blood\"]\n",
    "#dts = [\"clinical\"]"
   ]
  },
  {
   "cell_type": "code",
   "execution_count": null,
   "metadata": {},
   "outputs": [],
   "source": [
    "import sys\n",
    "import importlib\n",
    "sys.path.append(\"..\")\n",
    "import src.utils.load_data_utils\n",
    "importlib.reload(src.utils.load_data_utils)\n",
    "from src.utils.load_data_utils import get_data\n",
    "\n",
    "df = \"yeo_Y/z/median/uni_clip_0.9999/multi_clip_N\"\n",
    "x_train, y_train, x_eval, y_eval, n_features, feature_names, class_weights = get_data(df_name=df, split='no-split', nf=0, v=0,\n",
    "             blood=(\"blood\" in dts), static=1, clinical=(\"clinical\" in dts), imaging=0, imaging_pca=(\"imaging\" in dts), miss_feats=0,\n",
    "             sparse_img=(\"sparse_img\" in dts)\n",
    "             )"
   ]
  },
  {
   "cell_type": "code",
   "execution_count": null,
   "metadata": {},
   "outputs": [],
   "source": [
    "data_first = x_train[0]\n",
    "data_len = len(data_first)\n",
    "print(\"Num feats: \", data_first.shape[1])\n",
    "print(\"All:\", data_len, \"Dev:\", int(data_len * 0.8), \"Test\", int(data_len * 0.2))\n",
    "print(\"Train split size: \", int(data_len * 0.8 * 0.9), \"Val split size: \", int(data_len * 0.8 * 0.1))"
   ]
  },
  {
   "cell_type": "code",
   "execution_count": null,
   "metadata": {},
   "outputs": [],
   "source": [
    "len(feature_names)"
   ]
  },
  {
   "cell_type": "code",
   "execution_count": null,
   "metadata": {},
   "outputs": [],
   "source": [
    "study_name = [key for key in feat_imp_dict if all([dt in key for dt in dts]) and not any([dt in key for dt in [other_dt for other_dt in all_dts if other_dt not in dts]])]\n",
    "study_name = study_name[0]\n",
    "study_name"
   ]
  },
  {
   "cell_type": "code",
   "execution_count": null,
   "metadata": {},
   "outputs": [],
   "source": [
    "feat_imp_dict[study_name][0].shape"
   ]
  },
  {
   "cell_type": "code",
   "execution_count": null,
   "metadata": {},
   "outputs": [],
   "source": [
    "rename = True\n",
    "if rename:\n",
    "    for dt in all_dts:\n",
    "        feature_names = [col[len(dt) + 1:] if col.startswith(dt) else col for col in feature_names]\n",
    "    feature_names = [col.replace(\"_\", \" \") for col in feature_names]\n",
    "    feature_names = [col.replace(\" nan\", \" - Missingness Feature\") for col in feature_names]\n",
    "    feature_names = [col[0].upper() + col[1:] for col in feature_names]\n",
    "\n",
    "    feature_names = [col[9:] if \"clinical\" in col else col for col in feature_names]\n",
    "    feature_names = [col[6:] if \"blood\" in col else col for col in feature_names]"
   ]
  },
  {
   "cell_type": "code",
   "execution_count": null,
   "metadata": {},
   "outputs": [],
   "source": [
    "df = pd.DataFrame(data=feat_imp_dict[study_name], columns=feature_names)"
   ]
  },
  {
   "cell_type": "code",
   "execution_count": null,
   "metadata": {},
   "outputs": [],
   "source": [
    "# Exclude two blood lab values that should have been filtered out before training:\n",
    "df = df[[col for col in df.columns if col not in (\"Zonulin\", \"Site of leptin measurement (laboratory)\")]]"
   ]
  },
  {
   "cell_type": "code",
   "execution_count": null,
   "metadata": {},
   "outputs": [],
   "source": [
    "mean_df = df.mean(axis=0).sort_values(ascending=True)\n",
    "# remove everything above 90% explained importance\n",
    "print(len(mean_df))\n",
    "mean_df = mean_df[mean_df.cumsum() > 0.1]\n",
    "print(len(mean_df))\n",
    "mean_df = mean_df * 100\n",
    "if dts == [\"sparse_img\"]:\n",
    "    plt.figure(figsize=(6, 2), dpi=300)\n",
    "elif dts == [\"clinical\"]:\n",
    "    plt.figure(figsize=(6, 5), dpi=300)\n",
    "elif \"blood\" in dts:\n",
    "    plt.figure(figsize=(6, 10), dpi=300)\n",
    "else:\n",
    "    plt.figure(figsize=(6, 5), dpi=300)\n",
    "\n",
    "plt.xlabel(\"Percentage of importance\")\n",
    "fig = mean_df.plot.barh()\n",
    "plt.tight_layout()\n",
    "name = \"_\".join(dts)\n",
    "print(name)\n",
    "plt.savefig(name + \"importances.jpg\")\n",
    "mean_df.to_csv(name + \"importances.csv\")"
   ]
  },
  {
   "cell_type": "code",
   "execution_count": null,
   "metadata": {},
   "outputs": [],
   "source": []
  },
  {
   "cell_type": "code",
   "execution_count": null,
   "metadata": {},
   "outputs": [],
   "source": [
    "mean_df = df.mean(axis=0).sort_values(ascending=True)\n",
    "mean_df = mean_df[mean_df != 0]\n",
    "mean_df = mean_df * 100\n",
    "plt.figure(figsize=(8, 13), dpi=300)\n",
    "plt.xlabel(\"Percentage of importance\")\n",
    "fig = mean_df.plot.barh()\n",
    "plt.tight_layout()\n",
    "#name = \"_\".join(dts)\n",
    "#plt.savefig(name + \"importances.jpg\")\n",
    "#mean_df.to_csv(name + \"importances.csv\")"
   ]
  },
  {
   "cell_type": "code",
   "execution_count": null,
   "metadata": {},
   "outputs": [],
   "source": [
    "len(mean_df)"
   ]
  },
  {
   "cell_type": "code",
   "execution_count": null,
   "metadata": {},
   "outputs": [],
   "source": []
  },
  {
   "cell_type": "code",
   "execution_count": null,
   "metadata": {},
   "outputs": [],
   "source": []
  },
  {
   "cell_type": "code",
   "execution_count": null,
   "metadata": {},
   "outputs": [],
   "source": []
  },
  {
   "cell_type": "code",
   "execution_count": null,
   "metadata": {},
   "outputs": [],
   "source": []
  },
  {
   "cell_type": "code",
   "execution_count": null,
   "metadata": {},
   "outputs": [],
   "source": []
  }
 ],
 "metadata": {
  "kernelspec": {
   "display_name": "Python 3",
   "language": "python",
   "name": "python3"
  },
  "language_info": {
   "codemirror_mode": {
    "name": "ipython",
    "version": 3
   },
   "file_extension": ".py",
   "mimetype": "text/x-python",
   "name": "python",
   "nbconvert_exporter": "python",
   "pygments_lexer": "ipython3",
   "version": "3.8.5"
  }
 },
 "nbformat": 4,
 "nbformat_minor": 4
}
