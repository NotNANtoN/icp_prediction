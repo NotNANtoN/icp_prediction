{
 "cells": [
  {
   "cell_type": "code",
   "execution_count": 1,
   "id": "second-backing",
   "metadata": {},
   "outputs": [],
   "source": [
    "import os\n",
    "import sys\n",
    "\n",
    "import numpy as np\n",
    "import pandas as pd\n",
    "import seaborn as sns\n",
    "import matplotlib.pyplot as plt"
   ]
  },
  {
   "cell_type": "code",
   "execution_count": 2,
   "id": "detected-examination",
   "metadata": {},
   "outputs": [
    {
     "name": "stdout",
     "output_type": "stream",
     "text": [
      "Requirement already satisfied: pyreadstat in /home/angelie/anaconda3/envs/pharma_env/lib/python3.9/site-packages (1.1.2)\r\n",
      "Requirement already satisfied: pandas>0.24.0 in /home/angelie/anaconda3/envs/pharma_env/lib/python3.9/site-packages (from pyreadstat) (1.2.4)\r\n",
      "Requirement already satisfied: python-dateutil>=2.7.3 in /home/angelie/anaconda3/envs/pharma_env/lib/python3.9/site-packages (from pandas>0.24.0->pyreadstat) (2.8.1)\r\n",
      "Requirement already satisfied: pytz>=2017.3 in /home/angelie/anaconda3/envs/pharma_env/lib/python3.9/site-packages (from pandas>0.24.0->pyreadstat) (2021.1)\r\n",
      "Requirement already satisfied: numpy>=1.16.5 in /home/angelie/anaconda3/envs/pharma_env/lib/python3.9/site-packages (from pandas>0.24.0->pyreadstat) (1.20.1)\r\n",
      "Requirement already satisfied: six>=1.5 in /home/angelie/anaconda3/envs/pharma_env/lib/python3.9/site-packages (from python-dateutil>=2.7.3->pandas>0.24.0->pyreadstat) (1.15.0)\r\n"
     ]
    }
   ],
   "source": [
    "!python3 -m pip install pyreadstat"
   ]
  },
  {
   "cell_type": "code",
   "execution_count": 3,
   "id": "1cab53b4",
   "metadata": {},
   "outputs": [
    {
     "name": "stdout",
     "output_type": "stream",
     "text": [
      "Requirement already satisfied: xlrd in /home/angelie/anaconda3/envs/pharma_env/lib/python3.9/site-packages (2.0.1)\r\n"
     ]
    }
   ],
   "source": [
    "!python3 -m pip install xlrd"
   ]
  },
  {
   "cell_type": "code",
   "execution_count": 4,
   "id": "legendary-indianapolis",
   "metadata": {
    "scrolled": false
   },
   "outputs": [
    {
     "data": {
      "text/plain": "       Name Value                                               Text\n0     f1a_1     0                  no  Ja, jemand mit positivem Test\n1     f1a_1     1                      Ja, jemand mit positivem Test\n2     f1a_2     0  no  Ja, jemand mit ärztlicher Diagnose, aber o...\n3     f1a_2     1  Ja, jemand mit ärztlicher Diagnose, aber ohne ...\n4     f1a_3     0  no  Ja, jemand mit möglichen Symptomen, aber n...\n...     ...   ...                                                ...\n1209     bl    12                                        Brandenburg\n1210     bl    13                             Mecklenburg-Vorpommern\n1211     bl    14                                            Sachsen\n1212     bl    15                                     Sachsen-Anhalt\n1213     bl    16                                          Thüringen\n\n[1214 rows x 3 columns]",
      "text/html": "<div>\n<style scoped>\n    .dataframe tbody tr th:only-of-type {\n        vertical-align: middle;\n    }\n\n    .dataframe tbody tr th {\n        vertical-align: top;\n    }\n\n    .dataframe thead th {\n        text-align: right;\n    }\n</style>\n<table border=\"1\" class=\"dataframe\">\n  <thead>\n    <tr style=\"text-align: right;\">\n      <th></th>\n      <th>Name</th>\n      <th>Value</th>\n      <th>Text</th>\n    </tr>\n  </thead>\n  <tbody>\n    <tr>\n      <th>0</th>\n      <td>f1a_1</td>\n      <td>0</td>\n      <td>no  Ja, jemand mit positivem Test</td>\n    </tr>\n    <tr>\n      <th>1</th>\n      <td>f1a_1</td>\n      <td>1</td>\n      <td>Ja, jemand mit positivem Test</td>\n    </tr>\n    <tr>\n      <th>2</th>\n      <td>f1a_2</td>\n      <td>0</td>\n      <td>no  Ja, jemand mit ärztlicher Diagnose, aber o...</td>\n    </tr>\n    <tr>\n      <th>3</th>\n      <td>f1a_2</td>\n      <td>1</td>\n      <td>Ja, jemand mit ärztlicher Diagnose, aber ohne ...</td>\n    </tr>\n    <tr>\n      <th>4</th>\n      <td>f1a_3</td>\n      <td>0</td>\n      <td>no  Ja, jemand mit möglichen Symptomen, aber n...</td>\n    </tr>\n    <tr>\n      <th>...</th>\n      <td>...</td>\n      <td>...</td>\n      <td>...</td>\n    </tr>\n    <tr>\n      <th>1209</th>\n      <td>bl</td>\n      <td>12</td>\n      <td>Brandenburg</td>\n    </tr>\n    <tr>\n      <th>1210</th>\n      <td>bl</td>\n      <td>13</td>\n      <td>Mecklenburg-Vorpommern</td>\n    </tr>\n    <tr>\n      <th>1211</th>\n      <td>bl</td>\n      <td>14</td>\n      <td>Sachsen</td>\n    </tr>\n    <tr>\n      <th>1212</th>\n      <td>bl</td>\n      <td>15</td>\n      <td>Sachsen-Anhalt</td>\n    </tr>\n    <tr>\n      <th>1213</th>\n      <td>bl</td>\n      <td>16</td>\n      <td>Thüringen</td>\n    </tr>\n  </tbody>\n</table>\n<p>1214 rows × 3 columns</p>\n</div>"
     },
     "execution_count": 4,
     "metadata": {},
     "output_type": "execute_result"
    }
   ],
   "source": [
    "text_to_val_df = pd.read_excel(\"../../data/Variablenwerte.xls\", names=[\"Name\", \"Value\", \"Text\"], header=1)\n",
    "# Fill all names\n",
    "for i in range(len(text_to_val_df)):\n",
    "    if pd.isna(text_to_val_df.loc[i, \"Name\"]):\n",
    "        text_to_val_df.loc[i, \"Name\"] = text_to_val_df.loc[i - 1, \"Name\"]\n",
    "# make values ints\n",
    "for i in range(len(text_to_val_df)):\n",
    "    val = text_to_val_df.loc[i, \"Value\"]\n",
    "    if val == \",00\":\n",
    "        val = 0\n",
    "    elif val == \"1,00\":\n",
    "        val = 1\n",
    "    else:\n",
    "        val = str(val).split(\",\")[0].replace(\",\", \"\")\n",
    "        if val == \"\":\n",
    "            print(i)\n",
    "            val = -1\n",
    "        else:\n",
    "            val = int(val)\n",
    "    text_to_val_df.loc[i, \"Value\"] = val\n",
    "text_to_val_df"
   ]
  },
  {
   "cell_type": "code",
   "execution_count": 5,
   "id": "motivated-pharmaceutical",
   "metadata": {
    "scrolled": false
   },
   "outputs": [
    {
     "data": {
      "text/plain": "         sernr  f1a_1  f1a_2  f1a_3  f1a_4  f1a_5  f1a_6  f1b_1  f1b_2  f1b_3  \\\n0          1.0      0      0      0      0      1      0      0      0      0   \n1          2.0      0      0      0      0      1      0      0      0      0   \n2          3.0      0      0      0      0      1      0      0      0      0   \n3          4.0      0      0      0      0      1      0      0      0      0   \n4          6.0      0      0      0      0      1      0      0      0      0   \n...        ...    ...    ...    ...    ...    ...    ...    ...    ...    ...   \n30063  31676.0      0      0      0      0      1      0      0      0      0   \n30064  31677.0      0      0      1      0      0      0      0      0      1   \n30065  31678.0      0      0      0      0      0      1      0      0      0   \n30066  31679.0      0      0      0      0      1      0      0      0      0   \n30067  31680.0      0      0      0      0      1      0      0      0      0   \n\n       ...  f145  f146  altq  altqx  ges    plz  bl  regbez  lkrs  weight  \n0      ...   NaN     2  67.0      5    2  972.0   9     6.0  77.0   0.947  \n1      ...   NaN     2  54.0      4    2  844.0   9     1.0  77.0   0.880  \n2      ...   NaN     2  67.0      5    2  985.0  16     0.0  66.0   1.051  \n3      ...   NaN     2  26.0      2    1  453.0   5     1.0  13.0   2.233  \n4      ...   NaN     2  50.0      4    1  703.0   8     1.0  11.0   0.923  \n...    ...   ...   ...   ...    ...  ...    ...  ..     ...   ...     ...  \n30063  ...   NaN     1  53.0      4    1  168.0  12     0.0  68.0   0.853  \n30064  ...   NaN     2  31.0      2    1  732.0   8     1.0  16.0   1.015  \n30065  ...   NaN     2  44.0      3    2   42.0  14     7.0  13.0   0.787  \n30066  ...   NaN     2  41.0      3    1   11.0  14     6.0  12.0   0.870  \n30067  ...     1     1  74.0      6    2  452.0   5     1.0  13.0   0.986  \n\n[30068 rows x 282 columns]",
      "text/html": "<div>\n<style scoped>\n    .dataframe tbody tr th:only-of-type {\n        vertical-align: middle;\n    }\n\n    .dataframe tbody tr th {\n        vertical-align: top;\n    }\n\n    .dataframe thead th {\n        text-align: right;\n    }\n</style>\n<table border=\"1\" class=\"dataframe\">\n  <thead>\n    <tr style=\"text-align: right;\">\n      <th></th>\n      <th>sernr</th>\n      <th>f1a_1</th>\n      <th>f1a_2</th>\n      <th>f1a_3</th>\n      <th>f1a_4</th>\n      <th>f1a_5</th>\n      <th>f1a_6</th>\n      <th>f1b_1</th>\n      <th>f1b_2</th>\n      <th>f1b_3</th>\n      <th>...</th>\n      <th>f145</th>\n      <th>f146</th>\n      <th>altq</th>\n      <th>altqx</th>\n      <th>ges</th>\n      <th>plz</th>\n      <th>bl</th>\n      <th>regbez</th>\n      <th>lkrs</th>\n      <th>weight</th>\n    </tr>\n  </thead>\n  <tbody>\n    <tr>\n      <th>0</th>\n      <td>1.0</td>\n      <td>0</td>\n      <td>0</td>\n      <td>0</td>\n      <td>0</td>\n      <td>1</td>\n      <td>0</td>\n      <td>0</td>\n      <td>0</td>\n      <td>0</td>\n      <td>...</td>\n      <td>NaN</td>\n      <td>2</td>\n      <td>67.0</td>\n      <td>5</td>\n      <td>2</td>\n      <td>972.0</td>\n      <td>9</td>\n      <td>6.0</td>\n      <td>77.0</td>\n      <td>0.947</td>\n    </tr>\n    <tr>\n      <th>1</th>\n      <td>2.0</td>\n      <td>0</td>\n      <td>0</td>\n      <td>0</td>\n      <td>0</td>\n      <td>1</td>\n      <td>0</td>\n      <td>0</td>\n      <td>0</td>\n      <td>0</td>\n      <td>...</td>\n      <td>NaN</td>\n      <td>2</td>\n      <td>54.0</td>\n      <td>4</td>\n      <td>2</td>\n      <td>844.0</td>\n      <td>9</td>\n      <td>1.0</td>\n      <td>77.0</td>\n      <td>0.880</td>\n    </tr>\n    <tr>\n      <th>2</th>\n      <td>3.0</td>\n      <td>0</td>\n      <td>0</td>\n      <td>0</td>\n      <td>0</td>\n      <td>1</td>\n      <td>0</td>\n      <td>0</td>\n      <td>0</td>\n      <td>0</td>\n      <td>...</td>\n      <td>NaN</td>\n      <td>2</td>\n      <td>67.0</td>\n      <td>5</td>\n      <td>2</td>\n      <td>985.0</td>\n      <td>16</td>\n      <td>0.0</td>\n      <td>66.0</td>\n      <td>1.051</td>\n    </tr>\n    <tr>\n      <th>3</th>\n      <td>4.0</td>\n      <td>0</td>\n      <td>0</td>\n      <td>0</td>\n      <td>0</td>\n      <td>1</td>\n      <td>0</td>\n      <td>0</td>\n      <td>0</td>\n      <td>0</td>\n      <td>...</td>\n      <td>NaN</td>\n      <td>2</td>\n      <td>26.0</td>\n      <td>2</td>\n      <td>1</td>\n      <td>453.0</td>\n      <td>5</td>\n      <td>1.0</td>\n      <td>13.0</td>\n      <td>2.233</td>\n    </tr>\n    <tr>\n      <th>4</th>\n      <td>6.0</td>\n      <td>0</td>\n      <td>0</td>\n      <td>0</td>\n      <td>0</td>\n      <td>1</td>\n      <td>0</td>\n      <td>0</td>\n      <td>0</td>\n      <td>0</td>\n      <td>...</td>\n      <td>NaN</td>\n      <td>2</td>\n      <td>50.0</td>\n      <td>4</td>\n      <td>1</td>\n      <td>703.0</td>\n      <td>8</td>\n      <td>1.0</td>\n      <td>11.0</td>\n      <td>0.923</td>\n    </tr>\n    <tr>\n      <th>...</th>\n      <td>...</td>\n      <td>...</td>\n      <td>...</td>\n      <td>...</td>\n      <td>...</td>\n      <td>...</td>\n      <td>...</td>\n      <td>...</td>\n      <td>...</td>\n      <td>...</td>\n      <td>...</td>\n      <td>...</td>\n      <td>...</td>\n      <td>...</td>\n      <td>...</td>\n      <td>...</td>\n      <td>...</td>\n      <td>...</td>\n      <td>...</td>\n      <td>...</td>\n      <td>...</td>\n    </tr>\n    <tr>\n      <th>30063</th>\n      <td>31676.0</td>\n      <td>0</td>\n      <td>0</td>\n      <td>0</td>\n      <td>0</td>\n      <td>1</td>\n      <td>0</td>\n      <td>0</td>\n      <td>0</td>\n      <td>0</td>\n      <td>...</td>\n      <td>NaN</td>\n      <td>1</td>\n      <td>53.0</td>\n      <td>4</td>\n      <td>1</td>\n      <td>168.0</td>\n      <td>12</td>\n      <td>0.0</td>\n      <td>68.0</td>\n      <td>0.853</td>\n    </tr>\n    <tr>\n      <th>30064</th>\n      <td>31677.0</td>\n      <td>0</td>\n      <td>0</td>\n      <td>1</td>\n      <td>0</td>\n      <td>0</td>\n      <td>0</td>\n      <td>0</td>\n      <td>0</td>\n      <td>1</td>\n      <td>...</td>\n      <td>NaN</td>\n      <td>2</td>\n      <td>31.0</td>\n      <td>2</td>\n      <td>1</td>\n      <td>732.0</td>\n      <td>8</td>\n      <td>1.0</td>\n      <td>16.0</td>\n      <td>1.015</td>\n    </tr>\n    <tr>\n      <th>30065</th>\n      <td>31678.0</td>\n      <td>0</td>\n      <td>0</td>\n      <td>0</td>\n      <td>0</td>\n      <td>0</td>\n      <td>1</td>\n      <td>0</td>\n      <td>0</td>\n      <td>0</td>\n      <td>...</td>\n      <td>NaN</td>\n      <td>2</td>\n      <td>44.0</td>\n      <td>3</td>\n      <td>2</td>\n      <td>42.0</td>\n      <td>14</td>\n      <td>7.0</td>\n      <td>13.0</td>\n      <td>0.787</td>\n    </tr>\n    <tr>\n      <th>30066</th>\n      <td>31679.0</td>\n      <td>0</td>\n      <td>0</td>\n      <td>0</td>\n      <td>0</td>\n      <td>1</td>\n      <td>0</td>\n      <td>0</td>\n      <td>0</td>\n      <td>0</td>\n      <td>...</td>\n      <td>NaN</td>\n      <td>2</td>\n      <td>41.0</td>\n      <td>3</td>\n      <td>1</td>\n      <td>11.0</td>\n      <td>14</td>\n      <td>6.0</td>\n      <td>12.0</td>\n      <td>0.870</td>\n    </tr>\n    <tr>\n      <th>30067</th>\n      <td>31680.0</td>\n      <td>0</td>\n      <td>0</td>\n      <td>0</td>\n      <td>0</td>\n      <td>1</td>\n      <td>0</td>\n      <td>0</td>\n      <td>0</td>\n      <td>0</td>\n      <td>...</td>\n      <td>1</td>\n      <td>1</td>\n      <td>74.0</td>\n      <td>6</td>\n      <td>2</td>\n      <td>452.0</td>\n      <td>5</td>\n      <td>1.0</td>\n      <td>13.0</td>\n      <td>0.986</td>\n    </tr>\n  </tbody>\n</table>\n<p>30068 rows × 282 columns</p>\n</div>"
     },
     "execution_count": 5,
     "metadata": {},
     "output_type": "execute_result"
    }
   ],
   "source": [
    "df = pd.read_spss(\"../../data/f20.0251z_290620.sav\")\n",
    "# replace strings by values using Variablenwerte.xls\n",
    "replace_dict = {name: {row[\"Text\"]: row[\"Value\"] for _, row in text_to_val_df[text_to_val_df[\"Name\"] == name].iterrows()} for name in text_to_val_df[\"Name\"].unique()}\n",
    "df = df.replace(replace_dict)\n",
    "# replace empty rows by NaN\n",
    "df = df.replace({\"\": np.nan, \" \": np.nan})\n",
    "# remove \"offen\" fields\n",
    "df = df[[col for col in df if \"offen\" not in col]]\n",
    "df"
   ]
  },
  {
   "cell_type": "markdown",
   "id": "1ae0a671",
   "metadata": {},
   "source": [
    "# Preprocessing functions"
   ]
  },
  {
   "cell_type": "code",
   "execution_count": 6,
   "id": "5f96890c",
   "metadata": {},
   "outputs": [],
   "source": [
    "sys.path.insert(0, '..') \n",
    "\n",
    "import constants"
   ]
  },
  {
   "cell_type": "markdown",
   "id": "eda4274a",
   "metadata": {},
   "source": [
    "## Replace \"don't know\""
   ]
  },
  {
   "cell_type": "code",
   "execution_count": 7,
   "id": "9372b1d5",
   "metadata": {},
   "outputs": [],
   "source": [
    "def dontknow_to_mean(df, columns):\n",
    "    for c in columns:\n",
    "        print(c, sum(df[c] == max(df[c])))\n",
    "        df[c] = df[c].replace({max(df[c]) : round(df[c].mean())})\n",
    "        print()\n",
    "    return df"
   ]
  },
  {
   "cell_type": "code",
   "execution_count": 8,
   "id": "2dd37a82",
   "metadata": {},
   "outputs": [],
   "source": [
    "def dontknow_to_lowest(df, columns):\n",
    "    for c in columns:\n",
    "        print(c, sum(df[c] == max(df[c])))\n",
    "        df[c] = df[c].replace({max(df[c]) : min(df[c])})\n",
    "        print()\n",
    "    return df"
   ]
  },
  {
   "cell_type": "code",
   "execution_count": 9,
   "id": "99f3841e",
   "metadata": {},
   "outputs": [
    {
     "name": "stdout",
     "output_type": "stream",
     "text": [
      "f5 28\n",
      "\n",
      "f6 67\n",
      "\n",
      "f7 13\n",
      "\n",
      "f9 49\n",
      "\n",
      "f10 60\n",
      "\n",
      "f11 43\n",
      "\n",
      "f12 52\n",
      "\n",
      "f13 258\n",
      "\n",
      "f14 0\n",
      "\n",
      "f15 195\n",
      "\n",
      "f16 0\n",
      "\n",
      "f18 0\n",
      "\n",
      "f19 39\n",
      "\n",
      "f20 19\n",
      "\n",
      "f21 46\n",
      "\n",
      "f22 205\n",
      "\n",
      "f23 37\n",
      "\n",
      "f24 117\n",
      "\n",
      "f25 114\n",
      "\n",
      "f26 82\n",
      "\n",
      "f27 50\n",
      "\n",
      "f28 201\n",
      "\n",
      "f29 64\n",
      "\n",
      "f30 126\n",
      "\n",
      "f31 143\n",
      "\n",
      "f32 109\n",
      "\n",
      "f37 259\n",
      "\n",
      "f63 0\n",
      "\n",
      "f64 0\n",
      "\n",
      "f68 2822\n",
      "\n",
      "f72 0\n",
      "\n",
      "f89 290\n",
      "\n",
      "f95 942\n",
      "\n",
      "f96 185\n",
      "\n",
      "f98 133\n",
      "\n",
      "f99 220\n",
      "\n",
      "f100 304\n",
      "\n",
      "f102 147\n",
      "\n",
      "f103 558\n",
      "\n",
      "f104 325\n",
      "\n",
      "f105 213\n",
      "\n",
      "f106 444\n",
      "\n",
      "f107 223\n",
      "\n",
      "f108 340\n",
      "\n",
      "f109 240\n",
      "\n",
      "f110 77\n",
      "\n",
      "f111 80\n",
      "\n",
      "f112 70\n",
      "\n",
      "f113 98\n",
      "\n",
      "f114 87\n",
      "\n",
      "f115 87\n",
      "\n",
      "f116 90\n",
      "\n",
      "f117 82\n",
      "\n",
      "f118 161\n",
      "\n",
      "f119 294\n",
      "\n",
      "f120 156\n",
      "\n",
      "f121 510\n",
      "\n",
      "f122 247\n",
      "\n",
      "f123 203\n",
      "\n",
      "f124 340\n",
      "\n",
      "f125 203\n",
      "\n",
      "f126 269\n",
      "\n",
      "f127 218\n",
      "\n",
      "f128 70\n",
      "\n",
      "f129 73\n",
      "\n",
      "f130 74\n",
      "\n",
      "f131 94\n",
      "\n",
      "f132 81\n",
      "\n",
      "f133 76\n",
      "\n",
      "f134 82\n",
      "\n",
      "f146 68\n",
      "\n"
     ]
    }
   ],
   "source": [
    "df = dontknow_to_mean(df, constants.ordinal_questions)"
   ]
  },
  {
   "cell_type": "code",
   "execution_count": 10,
   "id": "24818732",
   "metadata": {
    "scrolled": true
   },
   "outputs": [
    {
     "name": "stdout",
     "output_type": "stream",
     "text": [
      "f135a 552\n",
      "\n",
      "f135b 120\n",
      "\n",
      "f135c 498\n",
      "\n",
      "f135d 335\n",
      "\n",
      "f135e 112\n",
      "\n",
      "f135f 243\n",
      "\n",
      "f135g 247\n",
      "\n",
      "f135h 281\n",
      "\n",
      "f135i 230\n",
      "\n",
      "f135j 155\n",
      "\n",
      "f135k 260\n",
      "\n",
      "f135l 309\n",
      "\n",
      "f135m 226\n",
      "\n",
      "f135n 203\n",
      "\n",
      "f135o 161\n",
      "\n",
      "f135p 108\n",
      "\n",
      "f135q 281\n",
      "\n",
      "f135r 67\n",
      "\n"
     ]
    }
   ],
   "source": [
    "df = dontknow_to_lowest(df, constants.preconditions_when)"
   ]
  },
  {
   "cell_type": "code",
   "execution_count": 11,
   "id": "2db45a47",
   "metadata": {
    "scrolled": false
   },
   "outputs": [
    {
     "data": {
      "text/plain": "<Figure size 432x288 with 1 Axes>",
      "image/png": "[encoded data removed]"
     },
     "metadata": {
      "needs_background": "light"
     },
     "output_type": "display_data"
    }
   ],
   "source": [
    "for c in constants.preconditions_when:\n",
    "    df[c].hist()"
   ]
  },
  {
   "cell_type": "code",
   "execution_count": 25,
   "outputs": [
    {
     "data": {
      "text/plain": "0.701"
     },
     "execution_count": 25,
     "metadata": {},
     "output_type": "execute_result"
    }
   ],
   "source": [
    "df['weight'].min()"
   ],
   "metadata": {
    "collapsed": false,
    "pycharm": {
     "name": "#%%\n"
    }
   }
  },
  {
   "cell_type": "markdown",
   "id": "bc4396d0",
   "metadata": {},
   "source": [
    "## Replace numeric placeholders in interval-scale questions (99, 999, etc.)"
   ]
  },
  {
   "cell_type": "code",
   "execution_count": 12,
   "id": "1629dba2",
   "metadata": {
    "scrolled": true
   },
   "outputs": [],
   "source": [
    "def replace_nan_placeholder(df, text_to_val_df, columns):\n",
    "    # replace 99, 999 etc. by np.nan\n",
    "    for c in columns:\n",
    "        nan_placeholder = text_to_val_df.loc[text_to_val_df['Name'] == c, 'Value'].to_list()[0]\n",
    "        if c in df.columns:\n",
    "            df[c] = df[c].replace(nan_placeholder, np.nan)\n",
    "    return df\n",
    "\n",
    "df = replace_nan_placeholder(df, text_to_val_df, constants.interval_questions)"
   ]
  },
  {
   "cell_type": "code",
   "execution_count": 13,
   "id": "678533f2",
   "metadata": {
    "scrolled": true
   },
   "outputs": [
    {
     "ename": "KeyError",
     "evalue": "'ges_1'",
     "output_type": "error",
     "traceback": [
      "\u001B[0;31m---------------------------------------------------------------------------\u001B[0m",
      "\u001B[0;31mKeyError\u001B[0m                                  Traceback (most recent call last)",
      "\u001B[0;32m~/anaconda3/envs/pharma_env/lib/python3.9/site-packages/pandas/core/indexes/base.py\u001B[0m in \u001B[0;36mget_loc\u001B[0;34m(self, key, method, tolerance)\u001B[0m\n\u001B[1;32m   3079\u001B[0m             \u001B[0;32mtry\u001B[0m\u001B[0;34m:\u001B[0m\u001B[0;34m\u001B[0m\u001B[0;34m\u001B[0m\u001B[0m\n\u001B[0;32m-> 3080\u001B[0;31m                 \u001B[0;32mreturn\u001B[0m \u001B[0mself\u001B[0m\u001B[0;34m.\u001B[0m\u001B[0m_engine\u001B[0m\u001B[0;34m.\u001B[0m\u001B[0mget_loc\u001B[0m\u001B[0;34m(\u001B[0m\u001B[0mcasted_key\u001B[0m\u001B[0;34m)\u001B[0m\u001B[0;34m\u001B[0m\u001B[0;34m\u001B[0m\u001B[0m\n\u001B[0m\u001B[1;32m   3081\u001B[0m             \u001B[0;32mexcept\u001B[0m \u001B[0mKeyError\u001B[0m \u001B[0;32mas\u001B[0m \u001B[0merr\u001B[0m\u001B[0;34m:\u001B[0m\u001B[0;34m\u001B[0m\u001B[0;34m\u001B[0m\u001B[0m\n",
      "\u001B[0;32mpandas/_libs/index.pyx\u001B[0m in \u001B[0;36mpandas._libs.index.IndexEngine.get_loc\u001B[0;34m()\u001B[0m\n",
      "\u001B[0;32mpandas/_libs/index.pyx\u001B[0m in \u001B[0;36mpandas._libs.index.IndexEngine.get_loc\u001B[0;34m()\u001B[0m\n",
      "\u001B[0;32mpandas/_libs/hashtable_class_helper.pxi\u001B[0m in \u001B[0;36mpandas._libs.hashtable.PyObjectHashTable.get_item\u001B[0;34m()\u001B[0m\n",
      "\u001B[0;32mpandas/_libs/hashtable_class_helper.pxi\u001B[0m in \u001B[0;36mpandas._libs.hashtable.PyObjectHashTable.get_item\u001B[0;34m()\u001B[0m\n",
      "\u001B[0;31mKeyError\u001B[0m: 'ges_1'",
      "\nThe above exception was the direct cause of the following exception:\n",
      "\u001B[0;31mKeyError\u001B[0m                                  Traceback (most recent call last)",
      "\u001B[0;32m<ipython-input-13-2b731242377c>\u001B[0m in \u001B[0;36m<module>\u001B[0;34m\u001B[0m\n\u001B[0;32m----> 1\u001B[0;31m \u001B[0mdf\u001B[0m\u001B[0;34m.\u001B[0m\u001B[0mloc\u001B[0m\u001B[0;34m[\u001B[0m\u001B[0mdf\u001B[0m\u001B[0;34m[\u001B[0m\u001B[0;34m'ges_1'\u001B[0m\u001B[0;34m]\u001B[0m\u001B[0;34m==\u001B[0m\u001B[0;36m1\u001B[0m\u001B[0;34m,\u001B[0m \u001B[0;34m'target'\u001B[0m\u001B[0;34m]\u001B[0m\u001B[0;34m.\u001B[0m\u001B[0mhist\u001B[0m\u001B[0;34m(\u001B[0m\u001B[0;34m)\u001B[0m\u001B[0;34m\u001B[0m\u001B[0;34m\u001B[0m\u001B[0m\n\u001B[0m\u001B[1;32m      2\u001B[0m \u001B[0;34m\u001B[0m\u001B[0m\n",
      "\u001B[0;32m~/anaconda3/envs/pharma_env/lib/python3.9/site-packages/pandas/core/frame.py\u001B[0m in \u001B[0;36m__getitem__\u001B[0;34m(self, key)\u001B[0m\n\u001B[1;32m   3022\u001B[0m             \u001B[0;32mif\u001B[0m \u001B[0mself\u001B[0m\u001B[0;34m.\u001B[0m\u001B[0mcolumns\u001B[0m\u001B[0;34m.\u001B[0m\u001B[0mnlevels\u001B[0m \u001B[0;34m>\u001B[0m \u001B[0;36m1\u001B[0m\u001B[0;34m:\u001B[0m\u001B[0;34m\u001B[0m\u001B[0;34m\u001B[0m\u001B[0m\n\u001B[1;32m   3023\u001B[0m                 \u001B[0;32mreturn\u001B[0m \u001B[0mself\u001B[0m\u001B[0;34m.\u001B[0m\u001B[0m_getitem_multilevel\u001B[0m\u001B[0;34m(\u001B[0m\u001B[0mkey\u001B[0m\u001B[0;34m)\u001B[0m\u001B[0;34m\u001B[0m\u001B[0;34m\u001B[0m\u001B[0m\n\u001B[0;32m-> 3024\u001B[0;31m             \u001B[0mindexer\u001B[0m \u001B[0;34m=\u001B[0m \u001B[0mself\u001B[0m\u001B[0;34m.\u001B[0m\u001B[0mcolumns\u001B[0m\u001B[0;34m.\u001B[0m\u001B[0mget_loc\u001B[0m\u001B[0;34m(\u001B[0m\u001B[0mkey\u001B[0m\u001B[0;34m)\u001B[0m\u001B[0;34m\u001B[0m\u001B[0;34m\u001B[0m\u001B[0m\n\u001B[0m\u001B[1;32m   3025\u001B[0m             \u001B[0;32mif\u001B[0m \u001B[0mis_integer\u001B[0m\u001B[0;34m(\u001B[0m\u001B[0mindexer\u001B[0m\u001B[0;34m)\u001B[0m\u001B[0;34m:\u001B[0m\u001B[0;34m\u001B[0m\u001B[0;34m\u001B[0m\u001B[0m\n\u001B[1;32m   3026\u001B[0m                 \u001B[0mindexer\u001B[0m \u001B[0;34m=\u001B[0m \u001B[0;34m[\u001B[0m\u001B[0mindexer\u001B[0m\u001B[0;34m]\u001B[0m\u001B[0;34m\u001B[0m\u001B[0;34m\u001B[0m\u001B[0m\n",
      "\u001B[0;32m~/anaconda3/envs/pharma_env/lib/python3.9/site-packages/pandas/core/indexes/base.py\u001B[0m in \u001B[0;36mget_loc\u001B[0;34m(self, key, method, tolerance)\u001B[0m\n\u001B[1;32m   3080\u001B[0m                 \u001B[0;32mreturn\u001B[0m \u001B[0mself\u001B[0m\u001B[0;34m.\u001B[0m\u001B[0m_engine\u001B[0m\u001B[0;34m.\u001B[0m\u001B[0mget_loc\u001B[0m\u001B[0;34m(\u001B[0m\u001B[0mcasted_key\u001B[0m\u001B[0;34m)\u001B[0m\u001B[0;34m\u001B[0m\u001B[0;34m\u001B[0m\u001B[0m\n\u001B[1;32m   3081\u001B[0m             \u001B[0;32mexcept\u001B[0m \u001B[0mKeyError\u001B[0m \u001B[0;32mas\u001B[0m \u001B[0merr\u001B[0m\u001B[0;34m:\u001B[0m\u001B[0;34m\u001B[0m\u001B[0;34m\u001B[0m\u001B[0m\n\u001B[0;32m-> 3082\u001B[0;31m                 \u001B[0;32mraise\u001B[0m \u001B[0mKeyError\u001B[0m\u001B[0;34m(\u001B[0m\u001B[0mkey\u001B[0m\u001B[0;34m)\u001B[0m \u001B[0;32mfrom\u001B[0m \u001B[0merr\u001B[0m\u001B[0;34m\u001B[0m\u001B[0;34m\u001B[0m\u001B[0m\n\u001B[0m\u001B[1;32m   3083\u001B[0m \u001B[0;34m\u001B[0m\u001B[0m\n\u001B[1;32m   3084\u001B[0m         \u001B[0;32mif\u001B[0m \u001B[0mtolerance\u001B[0m \u001B[0;32mis\u001B[0m \u001B[0;32mnot\u001B[0m \u001B[0;32mNone\u001B[0m\u001B[0;34m:\u001B[0m\u001B[0;34m\u001B[0m\u001B[0;34m\u001B[0m\u001B[0m\n",
      "\u001B[0;31mKeyError\u001B[0m: 'ges_1'"
     ]
    }
   ],
   "source": [
    "df.loc[df['ges_1']==1, 'target'].hist()"
   ]
  },
  {
   "cell_type": "code",
   "execution_count": null,
   "id": "e1832db1",
   "metadata": {},
   "outputs": [],
   "source": [
    "df.loc[df['ges_2']==1, 'target'].hist()"
   ]
  },
  {
   "cell_type": "code",
   "execution_count": null,
   "id": "20177cd3",
   "metadata": {
    "scrolled": true
   },
   "outputs": [],
   "source": [
    "for c in ['ges_1', 'ges_2', 'ges_3', 'ges_4']:\n",
    "    print(df[c].value_counts())\n",
    "    df[c].hist()\n",
    "    "
   ]
  },
  {
   "cell_type": "code",
   "execution_count": null,
   "id": "500956e4",
   "metadata": {},
   "outputs": [],
   "source": []
  },
  {
   "cell_type": "markdown",
   "id": "3aa2f783",
   "metadata": {},
   "source": [
    "## Apply one-hot encoding where necessary"
   ]
  },
  {
   "cell_type": "code",
   "execution_count": null,
   "id": "26fa897c",
   "metadata": {},
   "outputs": [],
   "source": [
    "def one_hot(df, columns):\n",
    "    for c in columns:\n",
    "        if c not in df.columns:\n",
    "            print(f\"{c} not in columns\")\n",
    "            break\n",
    "        dummies = pd.get_dummies(df[c])\n",
    "        dummies.columns = [f\"{c}_{int(val)}\" for val in sorted(dummies.columns)]\n",
    "        dummies.columns[-1] = dummies.columns[-1] + '_nan'\n",
    "        # also if nan, set last dummy to 1 (= \"weiß nicht/ kA\")\n",
    "        if df[c].isna().sum() > 0:\n",
    "            dummies.loc[df[c].isna(), dummies.columns[-1]] = 1\n",
    "        df = df.drop(c, axis=1)\n",
    "        df = pd.concat([df, dummies], axis=1)\n",
    "    return df\n",
    "    \n",
    "for l in [constants.to_one_hot, constants.expect_change, constants.reduced_income, constants.age_kids, constants.not_always_applicable]:\n",
    "    df = one_hot(df, l)"
   ]
  },
  {
   "cell_type": "code",
   "execution_count": null,
   "id": "463cccf9",
   "metadata": {},
   "outputs": [],
   "source": [
    "#df.select_dtypes(include=['category'])"
   ]
  },
  {
   "cell_type": "code",
   "execution_count": null,
   "id": "c5a16593",
   "metadata": {
    "scrolled": false
   },
   "outputs": [],
   "source": [
    "import matplotlib.pyplot as plt\n",
    "for c in constants.ordinal_questions:\n",
    "    plt.figure()\n",
    "    df[c].hist()\n",
    "    plt.title(c)\n",
    "    print(df[c].describe())\n",
    "\n"
   ]
  },
  {
   "cell_type": "markdown",
   "id": "07830763",
   "metadata": {},
   "source": [
    "## Cast \"category\" variables to float"
   ]
  },
  {
   "cell_type": "code",
   "execution_count": null,
   "id": "upset-pleasure",
   "metadata": {},
   "outputs": [],
   "source": [
    "def convert_to_float(df, columns):\n",
    "    for c in columns:\n",
    "        df[c] = df[c].astype(float)\n",
    "    return df\n",
    "\n",
    "#df = convert_to_int(df, constants.to_float_variables)\n",
    "\n",
    "df = convert_to_float(df, df.select_dtypes(include=['category']).columns)"
   ]
  },
  {
   "cell_type": "markdown",
   "id": "5761c6a5",
   "metadata": {},
   "source": [
    "## Remove variables with very small variance"
   ]
  },
  {
   "cell_type": "code",
   "execution_count": null,
   "id": "43034b7e",
   "metadata": {
    "scrolled": true
   },
   "outputs": [],
   "source": [
    "def handle_low_std_variables(df, threshold=0.02):\n",
    "    low_var_found = [c for c in df.columns if df[c].std() < 0.01]\n",
    "    if len(low_var_found) == 0:\n",
    "        return df\n",
    "    #print(f\"The following variables have a std below {threshold}:\\n{low_var_found}\")\n",
    "    for c in low_var_found:\n",
    "        print(f\"Removing {c} with value counts: \\n{df[c].value_counts()}\")\n",
    "        df = df.drop(c, axis=1)\n",
    "    return df"
   ]
  },
  {
   "cell_type": "code",
   "execution_count": null,
   "id": "1b2ed40e",
   "metadata": {
    "scrolled": false
   },
   "outputs": [],
   "source": [
    "df = handle_low_std_variables(df)"
   ]
  },
  {
   "cell_type": "code",
   "execution_count": null,
   "id": "studied-scotland",
   "metadata": {
    "scrolled": true
   },
   "outputs": [],
   "source": [
    "# detect all non-int and non-float cols\n",
    "\"\"\"\n",
    "for col in df:\n",
    "    if df[col].dtype not in (\"float64\", \"int64\"):\n",
    "        print(col, df[col].dtype)\n",
    "        non_na = df[col][~df[col].isna()]\n",
    "        print(\"Len: \", len(non_na))\n",
    "        print(non_na.head(3))\n",
    "        if len(non_na.unique()) < 10:\n",
    "            print(\"unique distrs:\")\n",
    "            for val in non_na.unique():\n",
    "                print(val)\n",
    "                print((non_na == val).mean())\n",
    "        print()\n",
    "\"\"\""
   ]
  },
  {
   "cell_type": "markdown",
   "id": "039b30fb",
   "metadata": {},
   "source": [
    "### Make sure that the only remaining nans are within the interval questions (start with 'n')"
   ]
  },
  {
   "cell_type": "code",
   "execution_count": null,
   "id": "38333873",
   "metadata": {},
   "outputs": [],
   "source": [
    "for c in df.columns:\n",
    "    if len(set(df[c].dropna())) == 1:\n",
    "        df[c] = df[c].fillna(0)"
   ]
  },
  {
   "cell_type": "code",
   "execution_count": null,
   "id": "3a632022",
   "metadata": {
    "scrolled": false
   },
   "outputs": [],
   "source": [
    "has_nan = []\n",
    "counter = 0\n",
    "for c in df.columns:\n",
    "    if df[c].isna().sum() > 0:\n",
    "        print(c, df[c].isna().sum())\n",
    "        counter += 1\n",
    "        has_nan.append(c)\n",
    "        \n",
    "print(counter, \"variables with nans\")"
   ]
  },
  {
   "cell_type": "code",
   "execution_count": null,
   "id": "e954af46",
   "metadata": {},
   "outputs": [],
   "source": [
    "df['ges']"
   ]
  },
  {
   "cell_type": "code",
   "execution_count": null,
   "id": "e3d0144a",
   "metadata": {},
   "outputs": [],
   "source": [
    "for c in constants.interval_questions:\n",
    "    plt.figure()\n",
    "    df[c].hist()\n",
    "    plt.title(c)"
   ]
  },
  {
   "cell_type": "markdown",
   "id": "f03bc05f",
   "metadata": {},
   "source": [
    "## Investigate possible surrogate measures"
   ]
  },
  {
   "cell_type": "code",
   "execution_count": null,
   "id": "dd27fa4e",
   "metadata": {
    "scrolled": true
   },
   "outputs": [],
   "source": [
    "df[constants.family_positive]"
   ]
  },
  {
   "cell_type": "code",
   "execution_count": null,
   "id": "1379c015",
   "metadata": {
    "scrolled": true
   },
   "outputs": [],
   "source": [
    "# family member in household tested positive (f4a_1), but no contact to positively tested person (f1a_1)\n",
    "df.loc[(df['f4a_1'] == 1) & (df['f1a_1'] != 1), 'f4a_1']"
   ]
  },
  {
   "cell_type": "code",
   "execution_count": null,
   "id": "1d6bf268",
   "metadata": {
    "scrolled": true
   },
   "outputs": [],
   "source": [
    "# family member in household tested positive (f4a_1), and also contact to positively tested person (f1a_1)\n",
    "df.loc[(df['f4a_1'] == 1) & (df['f1a_1'] == 1), 'f4a_1']"
   ]
  },
  {
   "cell_type": "code",
   "execution_count": null,
   "id": "d9067a1b",
   "metadata": {
    "scrolled": true
   },
   "outputs": [],
   "source": [
    "df.loc[:, constants.compound_label_cols_incl_diagnosed].describe()"
   ]
  },
  {
   "cell_type": "code",
   "execution_count": null,
   "id": "8a6fc8c4",
   "metadata": {
    "scrolled": false
   },
   "outputs": [],
   "source": [
    "def create_compound_label(df, columns):\n",
    "    pos_class_idcs = df.index[df[columns].any(axis=1)].tolist()\n",
    "    df[\"target\"] = np.zeros(len(df))\n",
    "    df.loc[pos_class_idcs, \"target\"] = 1.0\n",
    "    print(f\"Number of cases with positive target {len(pos_class_idcs)}\")\n",
    "    return df\n"
   ]
  },
  {
   "cell_type": "code",
   "execution_count": null,
   "id": "f5e7b110",
   "metadata": {
    "scrolled": true
   },
   "outputs": [],
   "source": [
    "df = create_compound_label(df, constants.compound_label_cols_incl_diagnosed)\n"
   ]
  },
  {
   "cell_type": "code",
   "execution_count": null,
   "id": "6f4d2495",
   "metadata": {
    "scrolled": true
   },
   "outputs": [],
   "source": [
    "df = create_compound_label(df, constants.compound_label_cols_only_tested )\n"
   ]
  },
  {
   "cell_type": "code",
   "execution_count": 31,
   "id": "economic-illinois",
   "metadata": {},
   "outputs": [
    {
     "data": {
      "text/plain": [
       "559"
      ]
     },
     "execution_count": 31,
     "metadata": {},
     "output_type": "execute_result"
    }
   ],
   "source": [
    "df[\"f1a_1\"].sum() "
   ]
  },
  {
   "cell_type": "code",
   "execution_count": 32,
   "id": "fiscal-palmer",
   "metadata": {},
   "outputs": [
    {
     "data": {
      "text/plain": [
       "77"
      ]
     },
     "execution_count": 32,
     "metadata": {},
     "output_type": "execute_result"
    }
   ],
   "source": [
    "df[\"f1a_2\"].sum()"
   ]
  },
  {
   "cell_type": "code",
   "execution_count": 33,
   "id": "accompanied-assist",
   "metadata": {},
   "outputs": [
    {
     "data": {
      "text/plain": [
       "248"
      ]
     },
     "execution_count": 33,
     "metadata": {},
     "output_type": "execute_result"
    }
   ],
   "source": [
    "df[\"f1a_4\"].sum()"
   ]
  },
  {
   "cell_type": "code",
   "execution_count": 34,
   "id": "serious-impression",
   "metadata": {},
   "outputs": [
    {
     "data": {
      "text/plain": [
       "1286"
      ]
     },
     "execution_count": 34,
     "metadata": {},
     "output_type": "execute_result"
    }
   ],
   "source": [
    "(df[\"f1a_1\"] + df[\"f1a_2\"] + df[\"f1a_3\"] + df[\"f1a_4\"]).astype(bool).sum()"
   ]
  },
  {
   "cell_type": "code",
   "execution_count": 35,
   "id": "instrumental-brook",
   "metadata": {},
   "outputs": [
    {
     "data": {
      "text/plain": [
       "3520"
      ]
     },
     "execution_count": 35,
     "metadata": {},
     "output_type": "execute_result"
    }
   ],
   "source": [
    "(df[\"f1b_1\"] + df[\"f1b_2\"] + df[\"f1b_3\"] + df[\"f1b_4\"]).astype(bool).sum()"
   ]
  },
  {
   "cell_type": "code",
   "execution_count": 36,
   "id": "eleven-safety",
   "metadata": {},
   "outputs": [
    {
     "data": {
      "text/plain": [
       "1961"
      ]
     },
     "execution_count": 36,
     "metadata": {},
     "output_type": "execute_result"
    }
   ],
   "source": [
    "(df[\"f1a_1\"] + df[\"f1b_1\"]).astype(bool).sum()"
   ]
  },
  {
   "cell_type": "code",
   "execution_count": 37,
   "id": "consolidated-penetration",
   "metadata": {},
   "outputs": [
    {
     "ename": "KeyError",
     "evalue": "'f2a'",
     "output_type": "error",
     "traceback": [
      "\u001B[0;31m---------------------------------------------------------------------------\u001B[0m",
      "\u001B[0;31mKeyError\u001B[0m                                  Traceback (most recent call last)",
      "\u001B[0;32m~/anaconda3/envs/pharma_env/lib/python3.9/site-packages/pandas/core/indexes/base.py\u001B[0m in \u001B[0;36mget_loc\u001B[0;34m(self, key, method, tolerance)\u001B[0m\n\u001B[1;32m   3079\u001B[0m             \u001B[0;32mtry\u001B[0m\u001B[0;34m:\u001B[0m\u001B[0;34m\u001B[0m\u001B[0;34m\u001B[0m\u001B[0m\n\u001B[0;32m-> 3080\u001B[0;31m                 \u001B[0;32mreturn\u001B[0m \u001B[0mself\u001B[0m\u001B[0;34m.\u001B[0m\u001B[0m_engine\u001B[0m\u001B[0;34m.\u001B[0m\u001B[0mget_loc\u001B[0m\u001B[0;34m(\u001B[0m\u001B[0mcasted_key\u001B[0m\u001B[0;34m)\u001B[0m\u001B[0;34m\u001B[0m\u001B[0;34m\u001B[0m\u001B[0m\n\u001B[0m\u001B[1;32m   3081\u001B[0m             \u001B[0;32mexcept\u001B[0m \u001B[0mKeyError\u001B[0m \u001B[0;32mas\u001B[0m \u001B[0merr\u001B[0m\u001B[0;34m:\u001B[0m\u001B[0;34m\u001B[0m\u001B[0;34m\u001B[0m\u001B[0m\n",
      "\u001B[0;32mpandas/_libs/index.pyx\u001B[0m in \u001B[0;36mpandas._libs.index.IndexEngine.get_loc\u001B[0;34m()\u001B[0m\n",
      "\u001B[0;32mpandas/_libs/index.pyx\u001B[0m in \u001B[0;36mpandas._libs.index.IndexEngine.get_loc\u001B[0;34m()\u001B[0m\n",
      "\u001B[0;32mpandas/_libs/hashtable_class_helper.pxi\u001B[0m in \u001B[0;36mpandas._libs.hashtable.PyObjectHashTable.get_item\u001B[0;34m()\u001B[0m\n",
      "\u001B[0;32mpandas/_libs/hashtable_class_helper.pxi\u001B[0m in \u001B[0;36mpandas._libs.hashtable.PyObjectHashTable.get_item\u001B[0;34m()\u001B[0m\n",
      "\u001B[0;31mKeyError\u001B[0m: 'f2a'",
      "\nThe above exception was the direct cause of the following exception:\n",
      "\u001B[0;31mKeyError\u001B[0m                                  Traceback (most recent call last)",
      "\u001B[0;32m<ipython-input-37-7dac47ba263e>\u001B[0m in \u001B[0;36m<module>\u001B[0;34m\u001B[0m\n\u001B[0;32m----> 1\u001B[0;31m \u001B[0;34m(\u001B[0m\u001B[0;34m(\u001B[0m\u001B[0mdf\u001B[0m\u001B[0;34m[\u001B[0m\u001B[0;34m\"f2a\"\u001B[0m\u001B[0;34m]\u001B[0m \u001B[0;34m==\u001B[0m \u001B[0;36m1\u001B[0m\u001B[0;34m)\u001B[0m\u001B[0;34m.\u001B[0m\u001B[0mastype\u001B[0m\u001B[0;34m(\u001B[0m\u001B[0mint\u001B[0m\u001B[0;34m)\u001B[0m \u001B[0;34m+\u001B[0m \u001B[0;34m(\u001B[0m\u001B[0mdf\u001B[0m\u001B[0;34m[\u001B[0m\u001B[0;34m\"f2b\"\u001B[0m\u001B[0;34m]\u001B[0m \u001B[0;34m==\u001B[0m \u001B[0;36m1\u001B[0m\u001B[0;34m)\u001B[0m\u001B[0;34m.\u001B[0m\u001B[0mastype\u001B[0m\u001B[0;34m(\u001B[0m\u001B[0mint\u001B[0m\u001B[0;34m)\u001B[0m \u001B[0;34m+\u001B[0m \u001B[0mdf\u001B[0m\u001B[0;34m[\u001B[0m\u001B[0;34m\"f1a_1\"\u001B[0m\u001B[0;34m]\u001B[0m \u001B[0;34m+\u001B[0m \u001B[0mdf\u001B[0m\u001B[0;34m[\u001B[0m\u001B[0;34m\"f1b_1\"\u001B[0m\u001B[0;34m]\u001B[0m\u001B[0;34m)\u001B[0m\u001B[0;34m.\u001B[0m\u001B[0mastype\u001B[0m\u001B[0;34m(\u001B[0m\u001B[0mbool\u001B[0m\u001B[0;34m)\u001B[0m\u001B[0;34m.\u001B[0m\u001B[0msum\u001B[0m\u001B[0;34m(\u001B[0m\u001B[0;34m)\u001B[0m\u001B[0;34m\u001B[0m\u001B[0;34m\u001B[0m\u001B[0m\n\u001B[0m",
      "\u001B[0;32m~/anaconda3/envs/pharma_env/lib/python3.9/site-packages/pandas/core/frame.py\u001B[0m in \u001B[0;36m__getitem__\u001B[0;34m(self, key)\u001B[0m\n\u001B[1;32m   3022\u001B[0m             \u001B[0;32mif\u001B[0m \u001B[0mself\u001B[0m\u001B[0;34m.\u001B[0m\u001B[0mcolumns\u001B[0m\u001B[0;34m.\u001B[0m\u001B[0mnlevels\u001B[0m \u001B[0;34m>\u001B[0m \u001B[0;36m1\u001B[0m\u001B[0;34m:\u001B[0m\u001B[0;34m\u001B[0m\u001B[0;34m\u001B[0m\u001B[0m\n\u001B[1;32m   3023\u001B[0m                 \u001B[0;32mreturn\u001B[0m \u001B[0mself\u001B[0m\u001B[0;34m.\u001B[0m\u001B[0m_getitem_multilevel\u001B[0m\u001B[0;34m(\u001B[0m\u001B[0mkey\u001B[0m\u001B[0;34m)\u001B[0m\u001B[0;34m\u001B[0m\u001B[0;34m\u001B[0m\u001B[0m\n\u001B[0;32m-> 3024\u001B[0;31m             \u001B[0mindexer\u001B[0m \u001B[0;34m=\u001B[0m \u001B[0mself\u001B[0m\u001B[0;34m.\u001B[0m\u001B[0mcolumns\u001B[0m\u001B[0;34m.\u001B[0m\u001B[0mget_loc\u001B[0m\u001B[0;34m(\u001B[0m\u001B[0mkey\u001B[0m\u001B[0;34m)\u001B[0m\u001B[0;34m\u001B[0m\u001B[0;34m\u001B[0m\u001B[0m\n\u001B[0m\u001B[1;32m   3025\u001B[0m             \u001B[0;32mif\u001B[0m \u001B[0mis_integer\u001B[0m\u001B[0;34m(\u001B[0m\u001B[0mindexer\u001B[0m\u001B[0;34m)\u001B[0m\u001B[0;34m:\u001B[0m\u001B[0;34m\u001B[0m\u001B[0;34m\u001B[0m\u001B[0m\n\u001B[1;32m   3026\u001B[0m                 \u001B[0mindexer\u001B[0m \u001B[0;34m=\u001B[0m \u001B[0;34m[\u001B[0m\u001B[0mindexer\u001B[0m\u001B[0;34m]\u001B[0m\u001B[0;34m\u001B[0m\u001B[0;34m\u001B[0m\u001B[0m\n",
      "\u001B[0;32m~/anaconda3/envs/pharma_env/lib/python3.9/site-packages/pandas/core/indexes/base.py\u001B[0m in \u001B[0;36mget_loc\u001B[0;34m(self, key, method, tolerance)\u001B[0m\n\u001B[1;32m   3080\u001B[0m                 \u001B[0;32mreturn\u001B[0m \u001B[0mself\u001B[0m\u001B[0;34m.\u001B[0m\u001B[0m_engine\u001B[0m\u001B[0;34m.\u001B[0m\u001B[0mget_loc\u001B[0m\u001B[0;34m(\u001B[0m\u001B[0mcasted_key\u001B[0m\u001B[0;34m)\u001B[0m\u001B[0;34m\u001B[0m\u001B[0;34m\u001B[0m\u001B[0m\n\u001B[1;32m   3081\u001B[0m             \u001B[0;32mexcept\u001B[0m \u001B[0mKeyError\u001B[0m \u001B[0;32mas\u001B[0m \u001B[0merr\u001B[0m\u001B[0;34m:\u001B[0m\u001B[0;34m\u001B[0m\u001B[0;34m\u001B[0m\u001B[0m\n\u001B[0;32m-> 3082\u001B[0;31m                 \u001B[0;32mraise\u001B[0m \u001B[0mKeyError\u001B[0m\u001B[0;34m(\u001B[0m\u001B[0mkey\u001B[0m\u001B[0;34m)\u001B[0m \u001B[0;32mfrom\u001B[0m \u001B[0merr\u001B[0m\u001B[0;34m\u001B[0m\u001B[0;34m\u001B[0m\u001B[0m\n\u001B[0m\u001B[1;32m   3083\u001B[0m \u001B[0;34m\u001B[0m\u001B[0m\n\u001B[1;32m   3084\u001B[0m         \u001B[0;32mif\u001B[0m \u001B[0mtolerance\u001B[0m \u001B[0;32mis\u001B[0m \u001B[0;32mnot\u001B[0m \u001B[0;32mNone\u001B[0m\u001B[0;34m:\u001B[0m\u001B[0;34m\u001B[0m\u001B[0;34m\u001B[0m\u001B[0m\n",
      "\u001B[0;31mKeyError\u001B[0m: 'f2a'"
     ]
    }
   ],
   "source": [
    "((df[\"f2a\"] == 1).astype(int) + (df[\"f2b\"] == 1).astype(int) + df[\"f1a_1\"] + df[\"f1b_1\"]).astype(bool).sum()"
   ]
  },
  {
   "cell_type": "code",
   "execution_count": null,
   "id": "thrown-messenger",
   "metadata": {},
   "outputs": [],
   "source": [
    "df.describe()\n",
    "    "
   ]
  },
  {
   "cell_type": "code",
   "execution_count": null,
   "id": "surgical-blake",
   "metadata": {},
   "outputs": [],
   "source": [
    "len(df) - (28080 + 1906)"
   ]
  },
  {
   "cell_type": "code",
   "execution_count": null,
   "id": "transsexual-organizer",
   "metadata": {},
   "outputs": [],
   "source": [
    "df"
   ]
  },
  {
   "cell_type": "code",
   "execution_count": null,
   "id": "revised-words",
   "metadata": {},
   "outputs": [],
   "source": [
    "len(df)"
   ]
  },
  {
   "cell_type": "code",
   "execution_count": null,
   "id": "general-peeing",
   "metadata": {},
   "outputs": [],
   "source": [
    "pred_df = df.copy()"
   ]
  },
  {
   "cell_type": "code",
   "execution_count": null,
   "id": "ranking-limit",
   "metadata": {},
   "outputs": [],
   "source": [
    "pred_df[\"target\"] = ((df[\"f2a\"] == 1).astype(int) + (df[\"f2b\"] == 1).astype(int) + df[\"f1a_1\"] + df[\"f1b_1\"]).astype(bool)\n",
    "drop_cols = [col for col in pred_df if \"f1a\" in col or \"f2a\" in col or \"f2b\" in col or \"f1b\" in col]\n",
    "pred_df = pred_df.drop(columns=drop_cols)"
   ]
  },
  {
   "cell_type": "code",
   "execution_count": null,
   "id": "scheduled-brick",
   "metadata": {},
   "outputs": [],
   "source": [
    "pred_df = pred_df.fillna(pred_df.median())"
   ]
  },
  {
   "cell_type": "code",
   "execution_count": null,
   "id": "fundamental-patent",
   "metadata": {},
   "outputs": [],
   "source": [
    "from sklearn.ensemble import RandomForestClassifier\n",
    "clf = RandomForestClassifier()"
   ]
  },
  {
   "cell_type": "code",
   "execution_count": null,
   "id": "positive-chambers",
   "metadata": {
    "tags": []
   },
   "outputs": [],
   "source": [
    "from sklearn.model_selection import train_test_split\n",
    "x = pred_df.drop(columns=[\"target\", \"sernr\"])\n",
    "labels = x.columns\n",
    "y = pred_df[\"target\"]\n",
    "x_train, x_test, y_train, y_test = train_test_split(x, y, test_size=0.25, stratify=y)"
   ]
  },
  {
   "cell_type": "code",
   "execution_count": null,
   "id": "protecting-fighter",
   "metadata": {},
   "outputs": [],
   "source": [
    "clf.fit(x_train, y_train)"
   ]
  },
  {
   "cell_type": "code",
   "execution_count": null,
   "id": "bottom-rabbit",
   "metadata": {},
   "outputs": [],
   "source": [
    "preds_test = clf.predict(x_test)"
   ]
  },
  {
   "cell_type": "code",
   "execution_count": null,
   "id": "acceptable-meeting",
   "metadata": {},
   "outputs": [],
   "source": [
    "(preds_test == y_test).mean()"
   ]
  },
  {
   "cell_type": "code",
   "execution_count": null,
   "id": "norwegian-johnson",
   "metadata": {},
   "outputs": [],
   "source": [
    "1 - y_test.mean()"
   ]
  },
  {
   "cell_type": "code",
   "execution_count": null,
   "id": "considerable-equality",
   "metadata": {},
   "outputs": [],
   "source": [
    "df_imps = pd.DataFrame({\"imp\": clf.feature_importances_, \"feature\": labels})"
   ]
  },
  {
   "cell_type": "code",
   "execution_count": null,
   "id": "french-cedar",
   "metadata": {},
   "outputs": [],
   "source": [
    "df_imps.sort_values(\"imp\")"
   ]
  },
  {
   "cell_type": "code",
   "execution_count": null,
   "id": "improving-stomach",
   "metadata": {},
   "outputs": [],
   "source": [
    "col_name = \"f1a_5\"\n",
    "col = df[col]\n",
    "print(col.iloc[0])\n",
    "print(col.head())\n",
    "print(col.tail())\n",
    "print()\n",
    "print(col.describe())\n",
    "print()\n",
    "if len(col.unique()) < 10:\n",
    "    print(\"unique distrs:\")\n",
    "    for val in col.unique():\n",
    "        print(val)\n",
    "        print((col == val).mean())"
   ]
  },
  {
   "cell_type": "code",
   "execution_count": null,
   "id": "spatial-professional",
   "metadata": {},
   "outputs": [],
   "source": []
  }
 ],
 "metadata": {
  "kernelspec": {
   "display_name": "Python [conda env:pharma_env]",
   "language": "python",
   "name": "conda-env-pharma_env-py"
  },
  "language_info": {
   "codemirror_mode": {
    "name": "ipython",
    "version": 3
   },
   "file_extension": ".py",
   "mimetype": "text/x-python",
   "name": "python",
   "nbconvert_exporter": "python",
   "pygments_lexer": "ipython3",
   "version": "3.9.4"
  }
 },
 "nbformat": 4,
 "nbformat_minor": 5
}