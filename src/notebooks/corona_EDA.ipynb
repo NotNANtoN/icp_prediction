{
 "cells": [
  {
   "cell_type": "code",
   "execution_count": 113,
   "id": "second-backing",
   "metadata": {
    "pycharm": {
     "is_executing": true
    }
   },
   "outputs": [],
   "source": [
    "import os\n",
    "import sys\n",
    "\n",
    "import numpy as np\n",
    "import pandas as pd\n",
    "import seaborn as sns\n",
    "import matplotlib.pyplot as plt"
   ]
  },
  {
   "cell_type": "code",
   "execution_count": 114,
   "id": "detected-examination",
   "metadata": {},
   "outputs": [
    {
     "name": "stdout",
     "output_type": "stream",
     "text": [
      "Requirement already satisfied: pyreadstat in /home/angelie/anaconda3/envs/pharma_env/lib/python3.9/site-packages (1.1.2)\n",
      "Requirement already satisfied: pandas>0.24.0 in /home/angelie/anaconda3/envs/pharma_env/lib/python3.9/site-packages (from pyreadstat) (1.2.4)\n",
      "Requirement already satisfied: python-dateutil>=2.7.3 in /home/angelie/anaconda3/envs/pharma_env/lib/python3.9/site-packages (from pandas>0.24.0->pyreadstat) (2.8.1)\n",
      "Requirement already satisfied: pytz>=2017.3 in /home/angelie/anaconda3/envs/pharma_env/lib/python3.9/site-packages (from pandas>0.24.0->pyreadstat) (2021.1)\n",
      "Requirement already satisfied: numpy>=1.16.5 in /home/angelie/anaconda3/envs/pharma_env/lib/python3.9/site-packages (from pandas>0.24.0->pyreadstat) (1.20.1)\n",
      "Requirement already satisfied: six>=1.5 in /home/angelie/anaconda3/envs/pharma_env/lib/python3.9/site-packages (from python-dateutil>=2.7.3->pandas>0.24.0->pyreadstat) (1.15.0)\n"
     ]
    }
   ],
   "source": [
    "!python3 -m pip install pyreadstat"
   ]
  },
  {
   "cell_type": "code",
   "execution_count": 115,
   "id": "a9466163",
   "metadata": {},
   "outputs": [
    {
     "name": "stdout",
     "output_type": "stream",
     "text": [
      "Requirement already satisfied: xlrd in /home/angelie/anaconda3/envs/pharma_env/lib/python3.9/site-packages (2.0.1)\r\n"
     ]
    }
   ],
   "source": [
    "!python3 -m pip install xlrd"
   ]
  },
  {
   "cell_type": "code",
   "execution_count": 116,
   "id": "legendary-indianapolis",
   "metadata": {},
   "outputs": [
    {
     "data": {
      "text/html": [
       "<div>\n",
       "<style scoped>\n",
       "    .dataframe tbody tr th:only-of-type {\n",
       "        vertical-align: middle;\n",
       "    }\n",
       "\n",
       "    .dataframe tbody tr th {\n",
       "        vertical-align: top;\n",
       "    }\n",
       "\n",
       "    .dataframe thead th {\n",
       "        text-align: right;\n",
       "    }\n",
       "</style>\n",
       "<table border=\"1\" class=\"dataframe\">\n",
       "  <thead>\n",
       "    <tr style=\"text-align: right;\">\n",
       "      <th></th>\n",
       "      <th>Name</th>\n",
       "      <th>Value</th>\n",
       "      <th>Text</th>\n",
       "    </tr>\n",
       "  </thead>\n",
       "  <tbody>\n",
       "    <tr>\n",
       "      <th>0</th>\n",
       "      <td>f1a_1</td>\n",
       "      <td>0</td>\n",
       "      <td>no  Ja, jemand mit positivem Test</td>\n",
       "    </tr>\n",
       "    <tr>\n",
       "      <th>1</th>\n",
       "      <td>f1a_1</td>\n",
       "      <td>1</td>\n",
       "      <td>Ja, jemand mit positivem Test</td>\n",
       "    </tr>\n",
       "    <tr>\n",
       "      <th>2</th>\n",
       "      <td>f1a_2</td>\n",
       "      <td>0</td>\n",
       "      <td>no  Ja, jemand mit ärztlicher Diagnose, aber o...</td>\n",
       "    </tr>\n",
       "    <tr>\n",
       "      <th>3</th>\n",
       "      <td>f1a_2</td>\n",
       "      <td>1</td>\n",
       "      <td>Ja, jemand mit ärztlicher Diagnose, aber ohne ...</td>\n",
       "    </tr>\n",
       "    <tr>\n",
       "      <th>4</th>\n",
       "      <td>f1a_3</td>\n",
       "      <td>0</td>\n",
       "      <td>no  Ja, jemand mit möglichen Symptomen, aber n...</td>\n",
       "    </tr>\n",
       "    <tr>\n",
       "      <th>...</th>\n",
       "      <td>...</td>\n",
       "      <td>...</td>\n",
       "      <td>...</td>\n",
       "    </tr>\n",
       "    <tr>\n",
       "      <th>1209</th>\n",
       "      <td>bl</td>\n",
       "      <td>12</td>\n",
       "      <td>Brandenburg</td>\n",
       "    </tr>\n",
       "    <tr>\n",
       "      <th>1210</th>\n",
       "      <td>bl</td>\n",
       "      <td>13</td>\n",
       "      <td>Mecklenburg-Vorpommern</td>\n",
       "    </tr>\n",
       "    <tr>\n",
       "      <th>1211</th>\n",
       "      <td>bl</td>\n",
       "      <td>14</td>\n",
       "      <td>Sachsen</td>\n",
       "    </tr>\n",
       "    <tr>\n",
       "      <th>1212</th>\n",
       "      <td>bl</td>\n",
       "      <td>15</td>\n",
       "      <td>Sachsen-Anhalt</td>\n",
       "    </tr>\n",
       "    <tr>\n",
       "      <th>1213</th>\n",
       "      <td>bl</td>\n",
       "      <td>16</td>\n",
       "      <td>Thüringen</td>\n",
       "    </tr>\n",
       "  </tbody>\n",
       "</table>\n",
       "<p>1214 rows × 3 columns</p>\n",
       "</div>"
      ],
      "text/plain": [
       "       Name Value                                               Text\n",
       "0     f1a_1     0                  no  Ja, jemand mit positivem Test\n",
       "1     f1a_1     1                      Ja, jemand mit positivem Test\n",
       "2     f1a_2     0  no  Ja, jemand mit ärztlicher Diagnose, aber o...\n",
       "3     f1a_2     1  Ja, jemand mit ärztlicher Diagnose, aber ohne ...\n",
       "4     f1a_3     0  no  Ja, jemand mit möglichen Symptomen, aber n...\n",
       "...     ...   ...                                                ...\n",
       "1209     bl    12                                        Brandenburg\n",
       "1210     bl    13                             Mecklenburg-Vorpommern\n",
       "1211     bl    14                                            Sachsen\n",
       "1212     bl    15                                     Sachsen-Anhalt\n",
       "1213     bl    16                                          Thüringen\n",
       "\n",
       "[1214 rows x 3 columns]"
      ]
     },
     "execution_count": 116,
     "metadata": {},
     "output_type": "execute_result"
    }
   ],
   "source": [
    "text_to_val_df = pd.read_excel(\"../../data/Variablenwerte.xls\", names=[\"Name\", \"Value\", \"Text\"], header=1)\n",
    "# Fill all names\n",
    "for i in range(len(text_to_val_df)):\n",
    "    if pd.isna(text_to_val_df.loc[i, \"Name\"]):\n",
    "        text_to_val_df.loc[i, \"Name\"] = text_to_val_df.loc[i - 1, \"Name\"]\n",
    "# make values ints\n",
    "for i in range(len(text_to_val_df)):\n",
    "    val = text_to_val_df.loc[i, \"Value\"]\n",
    "    if val == \",00\":\n",
    "        val = 0\n",
    "    elif val == \"1,00\":\n",
    "        val = 1\n",
    "    else:\n",
    "        val = str(val).split(\",\")[0].replace(\",\", \"\")\n",
    "        if val == \"\":\n",
    "            print(i)\n",
    "            val = -1\n",
    "        else:\n",
    "            val = int(val)\n",
    "    text_to_val_df.loc[i, \"Value\"] = val\n",
    "text_to_val_df"
   ]
  },
  {
   "cell_type": "code",
   "execution_count": 117,
   "id": "motivated-pharmaceutical",
   "metadata": {
    "scrolled": true
   },
   "outputs": [
    {
     "data": {
      "text/html": [
       "<div>\n",
       "<style scoped>\n",
       "    .dataframe tbody tr th:only-of-type {\n",
       "        vertical-align: middle;\n",
       "    }\n",
       "\n",
       "    .dataframe tbody tr th {\n",
       "        vertical-align: top;\n",
       "    }\n",
       "\n",
       "    .dataframe thead th {\n",
       "        text-align: right;\n",
       "    }\n",
       "</style>\n",
       "<table border=\"1\" class=\"dataframe\">\n",
       "  <thead>\n",
       "    <tr style=\"text-align: right;\">\n",
       "      <th></th>\n",
       "      <th>sernr</th>\n",
       "      <th>f1a_1</th>\n",
       "      <th>f1a_2</th>\n",
       "      <th>f1a_3</th>\n",
       "      <th>f1a_4</th>\n",
       "      <th>f1a_5</th>\n",
       "      <th>f1a_6</th>\n",
       "      <th>f1b_1</th>\n",
       "      <th>f1b_2</th>\n",
       "      <th>f1b_3</th>\n",
       "      <th>...</th>\n",
       "      <th>f145</th>\n",
       "      <th>f146</th>\n",
       "      <th>altq</th>\n",
       "      <th>altqx</th>\n",
       "      <th>ges</th>\n",
       "      <th>plz</th>\n",
       "      <th>bl</th>\n",
       "      <th>regbez</th>\n",
       "      <th>lkrs</th>\n",
       "      <th>weight</th>\n",
       "    </tr>\n",
       "  </thead>\n",
       "  <tbody>\n",
       "    <tr>\n",
       "      <th>0</th>\n",
       "      <td>1.0</td>\n",
       "      <td>0</td>\n",
       "      <td>0</td>\n",
       "      <td>0</td>\n",
       "      <td>0</td>\n",
       "      <td>1</td>\n",
       "      <td>0</td>\n",
       "      <td>0</td>\n",
       "      <td>0</td>\n",
       "      <td>0</td>\n",
       "      <td>...</td>\n",
       "      <td>NaN</td>\n",
       "      <td>2</td>\n",
       "      <td>67.0</td>\n",
       "      <td>5</td>\n",
       "      <td>2</td>\n",
       "      <td>972.0</td>\n",
       "      <td>9</td>\n",
       "      <td>6.0</td>\n",
       "      <td>77.0</td>\n",
       "      <td>0.947</td>\n",
       "    </tr>\n",
       "    <tr>\n",
       "      <th>1</th>\n",
       "      <td>2.0</td>\n",
       "      <td>0</td>\n",
       "      <td>0</td>\n",
       "      <td>0</td>\n",
       "      <td>0</td>\n",
       "      <td>1</td>\n",
       "      <td>0</td>\n",
       "      <td>0</td>\n",
       "      <td>0</td>\n",
       "      <td>0</td>\n",
       "      <td>...</td>\n",
       "      <td>NaN</td>\n",
       "      <td>2</td>\n",
       "      <td>54.0</td>\n",
       "      <td>4</td>\n",
       "      <td>2</td>\n",
       "      <td>844.0</td>\n",
       "      <td>9</td>\n",
       "      <td>1.0</td>\n",
       "      <td>77.0</td>\n",
       "      <td>0.880</td>\n",
       "    </tr>\n",
       "    <tr>\n",
       "      <th>2</th>\n",
       "      <td>3.0</td>\n",
       "      <td>0</td>\n",
       "      <td>0</td>\n",
       "      <td>0</td>\n",
       "      <td>0</td>\n",
       "      <td>1</td>\n",
       "      <td>0</td>\n",
       "      <td>0</td>\n",
       "      <td>0</td>\n",
       "      <td>0</td>\n",
       "      <td>...</td>\n",
       "      <td>NaN</td>\n",
       "      <td>2</td>\n",
       "      <td>67.0</td>\n",
       "      <td>5</td>\n",
       "      <td>2</td>\n",
       "      <td>985.0</td>\n",
       "      <td>16</td>\n",
       "      <td>0.0</td>\n",
       "      <td>66.0</td>\n",
       "      <td>1.051</td>\n",
       "    </tr>\n",
       "    <tr>\n",
       "      <th>3</th>\n",
       "      <td>4.0</td>\n",
       "      <td>0</td>\n",
       "      <td>0</td>\n",
       "      <td>0</td>\n",
       "      <td>0</td>\n",
       "      <td>1</td>\n",
       "      <td>0</td>\n",
       "      <td>0</td>\n",
       "      <td>0</td>\n",
       "      <td>0</td>\n",
       "      <td>...</td>\n",
       "      <td>NaN</td>\n",
       "      <td>2</td>\n",
       "      <td>26.0</td>\n",
       "      <td>2</td>\n",
       "      <td>1</td>\n",
       "      <td>453.0</td>\n",
       "      <td>5</td>\n",
       "      <td>1.0</td>\n",
       "      <td>13.0</td>\n",
       "      <td>2.233</td>\n",
       "    </tr>\n",
       "    <tr>\n",
       "      <th>4</th>\n",
       "      <td>6.0</td>\n",
       "      <td>0</td>\n",
       "      <td>0</td>\n",
       "      <td>0</td>\n",
       "      <td>0</td>\n",
       "      <td>1</td>\n",
       "      <td>0</td>\n",
       "      <td>0</td>\n",
       "      <td>0</td>\n",
       "      <td>0</td>\n",
       "      <td>...</td>\n",
       "      <td>NaN</td>\n",
       "      <td>2</td>\n",
       "      <td>50.0</td>\n",
       "      <td>4</td>\n",
       "      <td>1</td>\n",
       "      <td>703.0</td>\n",
       "      <td>8</td>\n",
       "      <td>1.0</td>\n",
       "      <td>11.0</td>\n",
       "      <td>0.923</td>\n",
       "    </tr>\n",
       "    <tr>\n",
       "      <th>...</th>\n",
       "      <td>...</td>\n",
       "      <td>...</td>\n",
       "      <td>...</td>\n",
       "      <td>...</td>\n",
       "      <td>...</td>\n",
       "      <td>...</td>\n",
       "      <td>...</td>\n",
       "      <td>...</td>\n",
       "      <td>...</td>\n",
       "      <td>...</td>\n",
       "      <td>...</td>\n",
       "      <td>...</td>\n",
       "      <td>...</td>\n",
       "      <td>...</td>\n",
       "      <td>...</td>\n",
       "      <td>...</td>\n",
       "      <td>...</td>\n",
       "      <td>...</td>\n",
       "      <td>...</td>\n",
       "      <td>...</td>\n",
       "      <td>...</td>\n",
       "    </tr>\n",
       "    <tr>\n",
       "      <th>30063</th>\n",
       "      <td>31676.0</td>\n",
       "      <td>0</td>\n",
       "      <td>0</td>\n",
       "      <td>0</td>\n",
       "      <td>0</td>\n",
       "      <td>1</td>\n",
       "      <td>0</td>\n",
       "      <td>0</td>\n",
       "      <td>0</td>\n",
       "      <td>0</td>\n",
       "      <td>...</td>\n",
       "      <td>NaN</td>\n",
       "      <td>1</td>\n",
       "      <td>53.0</td>\n",
       "      <td>4</td>\n",
       "      <td>1</td>\n",
       "      <td>168.0</td>\n",
       "      <td>12</td>\n",
       "      <td>0.0</td>\n",
       "      <td>68.0</td>\n",
       "      <td>0.853</td>\n",
       "    </tr>\n",
       "    <tr>\n",
       "      <th>30064</th>\n",
       "      <td>31677.0</td>\n",
       "      <td>0</td>\n",
       "      <td>0</td>\n",
       "      <td>1</td>\n",
       "      <td>0</td>\n",
       "      <td>0</td>\n",
       "      <td>0</td>\n",
       "      <td>0</td>\n",
       "      <td>0</td>\n",
       "      <td>1</td>\n",
       "      <td>...</td>\n",
       "      <td>NaN</td>\n",
       "      <td>2</td>\n",
       "      <td>31.0</td>\n",
       "      <td>2</td>\n",
       "      <td>1</td>\n",
       "      <td>732.0</td>\n",
       "      <td>8</td>\n",
       "      <td>1.0</td>\n",
       "      <td>16.0</td>\n",
       "      <td>1.015</td>\n",
       "    </tr>\n",
       "    <tr>\n",
       "      <th>30065</th>\n",
       "      <td>31678.0</td>\n",
       "      <td>0</td>\n",
       "      <td>0</td>\n",
       "      <td>0</td>\n",
       "      <td>0</td>\n",
       "      <td>0</td>\n",
       "      <td>1</td>\n",
       "      <td>0</td>\n",
       "      <td>0</td>\n",
       "      <td>0</td>\n",
       "      <td>...</td>\n",
       "      <td>NaN</td>\n",
       "      <td>2</td>\n",
       "      <td>44.0</td>\n",
       "      <td>3</td>\n",
       "      <td>2</td>\n",
       "      <td>42.0</td>\n",
       "      <td>14</td>\n",
       "      <td>7.0</td>\n",
       "      <td>13.0</td>\n",
       "      <td>0.787</td>\n",
       "    </tr>\n",
       "    <tr>\n",
       "      <th>30066</th>\n",
       "      <td>31679.0</td>\n",
       "      <td>0</td>\n",
       "      <td>0</td>\n",
       "      <td>0</td>\n",
       "      <td>0</td>\n",
       "      <td>1</td>\n",
       "      <td>0</td>\n",
       "      <td>0</td>\n",
       "      <td>0</td>\n",
       "      <td>0</td>\n",
       "      <td>...</td>\n",
       "      <td>NaN</td>\n",
       "      <td>2</td>\n",
       "      <td>41.0</td>\n",
       "      <td>3</td>\n",
       "      <td>1</td>\n",
       "      <td>11.0</td>\n",
       "      <td>14</td>\n",
       "      <td>6.0</td>\n",
       "      <td>12.0</td>\n",
       "      <td>0.870</td>\n",
       "    </tr>\n",
       "    <tr>\n",
       "      <th>30067</th>\n",
       "      <td>31680.0</td>\n",
       "      <td>0</td>\n",
       "      <td>0</td>\n",
       "      <td>0</td>\n",
       "      <td>0</td>\n",
       "      <td>1</td>\n",
       "      <td>0</td>\n",
       "      <td>0</td>\n",
       "      <td>0</td>\n",
       "      <td>0</td>\n",
       "      <td>...</td>\n",
       "      <td>1</td>\n",
       "      <td>1</td>\n",
       "      <td>74.0</td>\n",
       "      <td>6</td>\n",
       "      <td>2</td>\n",
       "      <td>452.0</td>\n",
       "      <td>5</td>\n",
       "      <td>1.0</td>\n",
       "      <td>13.0</td>\n",
       "      <td>0.986</td>\n",
       "    </tr>\n",
       "  </tbody>\n",
       "</table>\n",
       "<p>30068 rows × 282 columns</p>\n",
       "</div>"
      ],
      "text/plain": [
       "         sernr  f1a_1  f1a_2  f1a_3  f1a_4  f1a_5  f1a_6  f1b_1  f1b_2  f1b_3  \\\n",
       "0          1.0      0      0      0      0      1      0      0      0      0   \n",
       "1          2.0      0      0      0      0      1      0      0      0      0   \n",
       "2          3.0      0      0      0      0      1      0      0      0      0   \n",
       "3          4.0      0      0      0      0      1      0      0      0      0   \n",
       "4          6.0      0      0      0      0      1      0      0      0      0   \n",
       "...        ...    ...    ...    ...    ...    ...    ...    ...    ...    ...   \n",
       "30063  31676.0      0      0      0      0      1      0      0      0      0   \n",
       "30064  31677.0      0      0      1      0      0      0      0      0      1   \n",
       "30065  31678.0      0      0      0      0      0      1      0      0      0   \n",
       "30066  31679.0      0      0      0      0      1      0      0      0      0   \n",
       "30067  31680.0      0      0      0      0      1      0      0      0      0   \n",
       "\n",
       "       ...  f145  f146  altq  altqx  ges    plz  bl  regbez  lkrs  weight  \n",
       "0      ...   NaN     2  67.0      5    2  972.0   9     6.0  77.0   0.947  \n",
       "1      ...   NaN     2  54.0      4    2  844.0   9     1.0  77.0   0.880  \n",
       "2      ...   NaN     2  67.0      5    2  985.0  16     0.0  66.0   1.051  \n",
       "3      ...   NaN     2  26.0      2    1  453.0   5     1.0  13.0   2.233  \n",
       "4      ...   NaN     2  50.0      4    1  703.0   8     1.0  11.0   0.923  \n",
       "...    ...   ...   ...   ...    ...  ...    ...  ..     ...   ...     ...  \n",
       "30063  ...   NaN     1  53.0      4    1  168.0  12     0.0  68.0   0.853  \n",
       "30064  ...   NaN     2  31.0      2    1  732.0   8     1.0  16.0   1.015  \n",
       "30065  ...   NaN     2  44.0      3    2   42.0  14     7.0  13.0   0.787  \n",
       "30066  ...   NaN     2  41.0      3    1   11.0  14     6.0  12.0   0.870  \n",
       "30067  ...     1     1  74.0      6    2  452.0   5     1.0  13.0   0.986  \n",
       "\n",
       "[30068 rows x 282 columns]"
      ]
     },
     "execution_count": 117,
     "metadata": {},
     "output_type": "execute_result"
    }
   ],
   "source": [
    "df = pd.read_spss(\"../../data/f20.0251z_290620.sav\")\n",
    "# replace strings by values using Variablenwerte.xls\n",
    "replace_dict = {name: {row[\"Text\"]: row[\"Value\"] for _, row in text_to_val_df[text_to_val_df[\"Name\"] == name].iterrows()} for name in text_to_val_df[\"Name\"].unique()}\n",
    "df = df.replace(replace_dict)\n",
    "# replace empty rows by NaN\n",
    "df = df.replace({\"\": np.nan, \" \": np.nan})\n",
    "# remove \"offen\" fields\n",
    "df = df[[col for col in df if \"offen\" not in col]]\n",
    "df"
   ]
  },
  {
   "cell_type": "code",
   "execution_count": 118,
   "id": "baa0fbe6",
   "metadata": {},
   "outputs": [],
   "source": [
    "import constants"
   ]
  },
  {
   "cell_type": "code",
   "execution_count": 119,
   "id": "82e6c4d7",
   "metadata": {},
   "outputs": [
    {
     "data": {
      "text/plain": [
       "30068"
      ]
     },
     "execution_count": 119,
     "metadata": {},
     "output_type": "execute_result"
    }
   ],
   "source": [
    "sum(df['f145'] == 1) + df['f145'].isna().sum()"
   ]
  },
  {
   "cell_type": "code",
   "execution_count": 122,
   "id": "93cd32e7",
   "metadata": {},
   "outputs": [
    {
     "data": {
      "text/plain": [
       "0         7.0\n",
       "1         8.0\n",
       "2         6.0\n",
       "3         6.0\n",
       "4         7.0\n",
       "         ... \n",
       "30063     7.0\n",
       "30064     9.0\n",
       "30065    10.0\n",
       "30066     6.0\n",
       "30067     6.0\n",
       "Name: f68, Length: 30068, dtype: float64"
      ]
     },
     "execution_count": 122,
     "metadata": {},
     "output_type": "execute_result"
    }
   ],
   "source": [
    "df['f68']"
   ]
  },
  {
   "cell_type": "code",
   "execution_count": 120,
   "id": "d792a9c7",
   "metadata": {},
   "outputs": [],
   "source": [
    "def dontknow_to_mean(df, columns):\n",
    "    for c in columns:\n",
    "        print(c, sum(df[c] == max(df[c])))\n",
    "        df[c] = df[c].replace({max(df[c]) : df[c].mean()})\n",
    "        print()\n",
    "    return df"
   ]
  },
  {
   "cell_type": "code",
   "execution_count": 127,
   "id": "53156eb4",
   "metadata": {},
   "outputs": [],
   "source": [
    "def dontknow_to_lowest(df, columns):\n",
    "    for c in columns:\n",
    "        print(c, sum(df[c] == max(df[c])))\n",
    "        df[c] = df[c].replace({max(df[c]) : min(df[c])})\n",
    "        print()\n",
    "    return df"
   ]
  },
  {
   "cell_type": "code",
   "execution_count": 121,
   "id": "704d17a0",
   "metadata": {},
   "outputs": [
    {
     "name": "stdout",
     "output_type": "stream",
     "text": [
      "f5 28\n",
      "\n",
      "f6 67\n",
      "\n",
      "f7 13\n",
      "\n",
      "f9 49\n",
      "\n",
      "f10 60\n",
      "\n",
      "f11 43\n",
      "\n",
      "f12 52\n",
      "\n",
      "f13 258\n",
      "\n",
      "f14 0\n",
      "\n",
      "f15 195\n",
      "\n",
      "f16 0\n",
      "\n",
      "f18 0\n",
      "\n",
      "f19 39\n",
      "\n",
      "f20 19\n",
      "\n",
      "f21 46\n",
      "\n",
      "f22 205\n",
      "\n",
      "f23 37\n",
      "\n",
      "f24 117\n",
      "\n",
      "f25 114\n",
      "\n",
      "f26 82\n",
      "\n",
      "f27 50\n",
      "\n",
      "f28 201\n",
      "\n",
      "f29 64\n",
      "\n",
      "f30 126\n",
      "\n",
      "f31 143\n",
      "\n",
      "f32 109\n",
      "\n",
      "f37 259\n",
      "\n",
      "f63 0\n",
      "\n",
      "f64 0\n",
      "\n",
      "f68 2822\n",
      "\n",
      "f72 0\n",
      "\n",
      "f89 290\n",
      "\n",
      "f95 942\n",
      "\n",
      "f96 185\n",
      "\n",
      "f98 133\n",
      "\n",
      "f99 220\n",
      "\n",
      "f100 304\n",
      "\n",
      "f102 147\n",
      "\n",
      "f103 558\n",
      "\n",
      "f104 325\n",
      "\n",
      "f105 213\n",
      "\n",
      "f106 444\n",
      "\n",
      "f107 223\n",
      "\n",
      "f108 340\n",
      "\n",
      "f109 240\n",
      "\n",
      "f110 77\n",
      "\n",
      "f111 80\n",
      "\n",
      "f112 70\n",
      "\n",
      "f113 98\n",
      "\n",
      "f114 87\n",
      "\n",
      "f115 87\n",
      "\n",
      "f116 90\n",
      "\n",
      "f117 82\n",
      "\n",
      "f118 161\n",
      "\n",
      "f119 294\n",
      "\n",
      "f120 156\n",
      "\n",
      "f121 510\n",
      "\n",
      "f122 247\n",
      "\n",
      "f123 203\n",
      "\n",
      "f124 340\n",
      "\n",
      "f125 203\n",
      "\n",
      "f126 269\n",
      "\n",
      "f127 218\n",
      "\n",
      "f128 70\n",
      "\n",
      "f129 73\n",
      "\n",
      "f130 74\n",
      "\n",
      "f131 94\n",
      "\n",
      "f132 81\n",
      "\n",
      "f133 76\n",
      "\n",
      "f134 82\n",
      "\n",
      "f146 68\n",
      "\n"
     ]
    }
   ],
   "source": [
    "df = dontknow_to_mean(df, constants.ordinal_questions)"
   ]
  },
  {
   "cell_type": "code",
   "execution_count": null,
   "id": "1e913c5c",
   "metadata": {},
   "outputs": [],
   "source": [
    "def one_hot(df):\n",
    "    \n",
    "    "
   ]
  },
  {
   "cell_type": "code",
   "execution_count": 128,
   "id": "3c4bb8ec",
   "metadata": {
    "scrolled": true
   },
   "outputs": [
    {
     "name": "stdout",
     "output_type": "stream",
     "text": [
      "f135a 552\n",
      "\n",
      "f135b 120\n",
      "\n",
      "f135c 498\n",
      "\n",
      "f135d 335\n",
      "\n",
      "f135e 112\n",
      "\n",
      "f135f 243\n",
      "\n",
      "f135g 247\n",
      "\n",
      "f135h 281\n",
      "\n",
      "f135i 230\n",
      "\n",
      "f135j 155\n",
      "\n",
      "f135k 260\n",
      "\n",
      "f135l 309\n",
      "\n",
      "f135m 226\n",
      "\n",
      "f135n 203\n",
      "\n",
      "f135o 161\n",
      "\n",
      "f135p 108\n",
      "\n",
      "f135q 281\n",
      "\n",
      "f135r 67\n",
      "\n"
     ]
    }
   ],
   "source": [
    "df = dontknow_to_lowest(df, constants.preconditions_when)"
   ]
  },
  {
   "cell_type": "code",
   "execution_count": 129,
   "id": "6ff69f83",
   "metadata": {},
   "outputs": [
    {
     "data": {
      "image/png": "[encoded data removed]",
      "text/plain": [
       "<Figure size 432x288 with 1 Axes>"
      ]
     },
     "metadata": {
      "needs_background": "light"
     },
     "output_type": "display_data"
    }
   ],
   "source": [
    "for c in constants.preconditions_when:\n",
    "    df[c].hist()"
   ]
  },
  {
   "cell_type": "code",
   "execution_count": 20,
   "id": "studied-scotland",
   "metadata": {},
   "outputs": [
    {
     "name": "stdout",
     "output_type": "stream",
     "text": [
      "nf33a category\n",
      "Len:  30068\n",
      "0    1.0\n",
      "1    3.0\n",
      "2    2.0\n",
      "Name: nf33a, dtype: category\n",
      "Categories (27, float64): [0.0, 1.0, 2.0, 3.0, ..., 32.0, 34.0, 36.0, 99.0]\n",
      "\n",
      "nf33b category\n",
      "Len:  30068\n",
      "0    2.0\n",
      "1    0.0\n",
      "2    4.0\n",
      "Name: nf33b, dtype: category\n",
      "Categories (10, float64): [0.0, 1.0, 2.0, 3.0, ..., 6.0, 7.0, 8.0, 99.0]\n",
      "\n",
      "nf34a category\n",
      "Len:  30068\n",
      "0     2.0\n",
      "1     1.0\n",
      "2    99.0\n",
      "Name: nf34a, dtype: category\n",
      "Categories (27, float64): [0.0, 1.0, 2.0, 3.0, ..., 30.0, 32.0, 36.0, 99.0]\n",
      "\n",
      "nf34b category\n",
      "Len:  30068\n",
      "0     0.0\n",
      "1     0.0\n",
      "2    99.0\n",
      "Name: nf34b, dtype: category\n",
      "Categories (10, float64): [0.0, 1.0, 2.0, 3.0, ..., 6.0, 7.0, 8.0, 99.0]\n",
      "\n",
      "nf35a category\n",
      "Len:  30068\n",
      "0     4.0\n",
      "1    12.0\n",
      "2     5.0\n",
      "Name: nf35a, dtype: category\n",
      "Categories (31, float64): [0.0, 1.0, 2.0, 3.0, ..., 31.0, 32.0, 36.0, 99.0]\n",
      "\n",
      "nf35b category\n",
      "Len:  30068\n",
      "0    0.0\n",
      "1    0.0\n",
      "2    0.0\n",
      "Name: nf35b, dtype: category\n",
      "Categories (10, float64): [0.0, 1.0, 2.0, 3.0, ..., 6.0, 7.0, 8.0, 99.0]\n",
      "\n",
      "nf36a category\n",
      "Len:  30068\n",
      "0     4.0\n",
      "1    12.0\n",
      "2    12.0\n",
      "Name: nf36a, dtype: category\n",
      "Categories (33, float64): [0.0, 1.0, 2.0, 3.0, ..., 32.0, 33.0, 36.0, 99.0]\n",
      "\n",
      "nf36b category\n",
      "Len:  30068\n",
      "0    0.0\n",
      "1    0.0\n",
      "2    0.0\n",
      "Name: nf36b, dtype: category\n",
      "Categories (10, float64): [0.0, 1.0, 2.0, 3.0, ..., 6.0, 7.0, 8.0, 99.0]\n",
      "\n",
      "f41 category\n",
      "Len:  86\n",
      "107    1\n",
      "271    1\n",
      "401    1\n",
      "Name: f41, dtype: category\n",
      "Categories (1, int64): [1]\n",
      "unique distrs:\n",
      "1\n",
      "1.0\n",
      "\n",
      "nf42 category\n",
      "Len:  2137\n",
      "5     0.0\n",
      "31    1.0\n",
      "32    1.0\n",
      "Name: nf42, dtype: category\n",
      "Categories (53, float64): [0.0, 1.0, 2.0, 3.0, ..., 700.0, 900.0, 2000.0, 99999.0]\n",
      "\n",
      "f49 category\n",
      "Len:  699\n",
      "76     1\n",
      "183    1\n",
      "246    1\n",
      "Name: f49, dtype: category\n",
      "Categories (1, int64): [1]\n",
      "unique distrs:\n",
      "1\n",
      "1.0\n",
      "\n",
      "nf76 category\n",
      "Len:  30068\n",
      "0    2.0\n",
      "1    3.0\n",
      "2    2.0\n",
      "Name: nf76, dtype: category\n",
      "Categories (15, float64): [1.0, 2.0, 3.0, 4.0, ..., 13.0, 14.0, 20.0, 99.0]\n",
      "\n",
      "nf77 category\n",
      "Len:  22613\n",
      "0    0.0\n",
      "1    1.0\n",
      "2    0.0\n",
      "Name: nf77, dtype: category\n",
      "Categories (9, float64): [0.0, 1.0, 2.0, 3.0, ..., 5.0, 6.0, 9.0, 99.0]\n",
      "unique distrs:\n",
      "0.0\n",
      "0.6776190686773095\n",
      "1.0\n",
      "0.14885243001813117\n",
      "2.0\n",
      "0.13279971697696016\n",
      "3.0\n",
      "0.02931941803387432\n",
      "4.0\n",
      "0.003980011497810993\n",
      "99.0\n",
      "0.006677574846327334\n",
      "6.0\n",
      "0.00017688939990271083\n",
      "5.0\n",
      "0.0005306681997081325\n",
      "9.0\n",
      "4.422234997567771e-05\n",
      "\n",
      "nf82 category\n",
      "Len:  30068\n",
      "0    10.0\n",
      "1     1.0\n",
      "2    50.0\n",
      "Name: nf82, dtype: category\n",
      "Categories (126, float64): [0.0, 1.0, 2.0, 3.0, ..., 980.0, 999.0, 1000.0, 9999.0]\n",
      "\n",
      "nf83 category\n",
      "Len:  30068\n",
      "0     3.0\n",
      "1     0.0\n",
      "2    10.0\n",
      "Name: nf83, dtype: category\n",
      "Categories (100, float64): [0.0, 1.0, 2.0, 3.0, ..., 888.0, 900.0, 1000.0, 9999.0]\n",
      "\n",
      "nf84 category\n",
      "Len:  30068\n",
      "0    20.0\n",
      "1     1.0\n",
      "2    40.0\n",
      "Name: nf84, dtype: category\n",
      "Categories (165, float64): [0.0, 1.0, 2.0, 3.0, ..., 995.0, 999.0, 1000.0, 9999.0]\n",
      "\n",
      "nf88 category\n",
      "Len:  30068\n",
      "0    120.0\n",
      "1    200.0\n",
      "2    190.0\n",
      "Name: nf88, dtype: category\n",
      "Categories (272, float64): [5.0, 9.0, 10.0, 11.0, ..., 930.0, 965.0, 1000.0, 9999.0]\n",
      "\n",
      "nf92 category\n",
      "Len:  30068\n",
      "0    0.0\n",
      "1    0.0\n",
      "2    0.0\n",
      "Name: nf92, dtype: category\n",
      "Categories (221, float64): [0.0, 10.0, 11.0, 12.0, ..., 460000.0, 475000.0, 500000.0, 999999.0]\n",
      "\n",
      "nf94 category\n",
      "Len:  30068\n",
      "0    999999.0\n",
      "1       400.0\n",
      "2      1000.0\n",
      "Name: nf94, dtype: category\n",
      "Categories (130, float64): [0.0, 1.0, 2.0, 3.0, ..., 60000.0, 80000.0, 100000.0, 999999.0]\n",
      "\n",
      "nt1 category\n",
      "Len:  30068\n",
      "0    168.0\n",
      "1    164.0\n",
      "2    157.0\n",
      "Name: nt1, dtype: category\n",
      "Categories (75, float64): [106.0, 107.0, 110.0, 117.0, ..., 207.0, 208.0, 209.0, 999.0]\n",
      "\n",
      "nt2 category\n",
      "Len:  30068\n",
      "0    65.0\n",
      "1    72.0\n",
      "2    75.0\n",
      "Name: nt2, dtype: category\n",
      "Categories (150, float64): [37.0, 38.0, 40.0, 41.0, ..., 220.0, 227.0, 285.0, 999.0]\n",
      "\n",
      "f145 category\n",
      "Len:  2072\n",
      "51     1\n",
      "59     1\n",
      "107    1\n",
      "Name: f145, dtype: category\n",
      "Categories (1, int64): [1]\n",
      "unique distrs:\n",
      "1\n",
      "1.0\n",
      "\n",
      "altq category\n",
      "Len:  30068\n",
      "0    67.0\n",
      "1    54.0\n",
      "2    67.0\n",
      "Name: altq, dtype: category\n",
      "Categories (78, float64): [18.0, 19.0, 20.0, 21.0, ..., 92.0, 94.0, 95.0, 0.0]\n",
      "\n"
     ]
    },
    {
     "name": "stderr",
     "output_type": "stream",
     "text": [
      "/home/angelie/anaconda3/envs/pharma_env/lib/python3.9/site-packages/pandas/io/formats/format.py:1405: FutureWarning: Index.ravel returning ndarray is deprecated; in a future version this will return a view on self.\n",
      "  for val, m in zip(values.ravel(), mask.ravel())\n",
      "/home/angelie/anaconda3/envs/pharma_env/lib/python3.9/site-packages/pandas/io/formats/format.py:1405: FutureWarning: Index.ravel returning ndarray is deprecated; in a future version this will return a view on self.\n",
      "  for val, m in zip(values.ravel(), mask.ravel())\n",
      "/home/angelie/anaconda3/envs/pharma_env/lib/python3.9/site-packages/pandas/io/formats/format.py:1405: FutureWarning: Index.ravel returning ndarray is deprecated; in a future version this will return a view on self.\n",
      "  for val, m in zip(values.ravel(), mask.ravel())\n",
      "/home/angelie/anaconda3/envs/pharma_env/lib/python3.9/site-packages/pandas/io/formats/format.py:1405: FutureWarning: Index.ravel returning ndarray is deprecated; in a future version this will return a view on self.\n",
      "  for val, m in zip(values.ravel(), mask.ravel())\n",
      "/home/angelie/anaconda3/envs/pharma_env/lib/python3.9/site-packages/pandas/io/formats/format.py:1405: FutureWarning: Index.ravel returning ndarray is deprecated; in a future version this will return a view on self.\n",
      "  for val, m in zip(values.ravel(), mask.ravel())\n",
      "/home/angelie/anaconda3/envs/pharma_env/lib/python3.9/site-packages/pandas/io/formats/format.py:1405: FutureWarning: Index.ravel returning ndarray is deprecated; in a future version this will return a view on self.\n",
      "  for val, m in zip(values.ravel(), mask.ravel())\n",
      "/home/angelie/anaconda3/envs/pharma_env/lib/python3.9/site-packages/pandas/io/formats/format.py:1405: FutureWarning: Index.ravel returning ndarray is deprecated; in a future version this will return a view on self.\n",
      "  for val, m in zip(values.ravel(), mask.ravel())\n",
      "/home/angelie/anaconda3/envs/pharma_env/lib/python3.9/site-packages/pandas/io/formats/format.py:1405: FutureWarning: Index.ravel returning ndarray is deprecated; in a future version this will return a view on self.\n",
      "  for val, m in zip(values.ravel(), mask.ravel())\n",
      "/home/angelie/anaconda3/envs/pharma_env/lib/python3.9/site-packages/pandas/io/formats/format.py:1405: FutureWarning: Index.ravel returning ndarray is deprecated; in a future version this will return a view on self.\n",
      "  for val, m in zip(values.ravel(), mask.ravel())\n",
      "/home/angelie/anaconda3/envs/pharma_env/lib/python3.9/site-packages/pandas/io/formats/format.py:1405: FutureWarning: Index.ravel returning ndarray is deprecated; in a future version this will return a view on self.\n",
      "  for val, m in zip(values.ravel(), mask.ravel())\n",
      "/home/angelie/anaconda3/envs/pharma_env/lib/python3.9/site-packages/pandas/io/formats/format.py:1405: FutureWarning: Index.ravel returning ndarray is deprecated; in a future version this will return a view on self.\n",
      "  for val, m in zip(values.ravel(), mask.ravel())\n",
      "/home/angelie/anaconda3/envs/pharma_env/lib/python3.9/site-packages/pandas/io/formats/format.py:1405: FutureWarning: Index.ravel returning ndarray is deprecated; in a future version this will return a view on self.\n",
      "  for val, m in zip(values.ravel(), mask.ravel())\n",
      "/home/angelie/anaconda3/envs/pharma_env/lib/python3.9/site-packages/pandas/io/formats/format.py:1405: FutureWarning: Index.ravel returning ndarray is deprecated; in a future version this will return a view on self.\n",
      "  for val, m in zip(values.ravel(), mask.ravel())\n",
      "/home/angelie/anaconda3/envs/pharma_env/lib/python3.9/site-packages/pandas/io/formats/format.py:1405: FutureWarning: Index.ravel returning ndarray is deprecated; in a future version this will return a view on self.\n",
      "  for val, m in zip(values.ravel(), mask.ravel())\n",
      "/home/angelie/anaconda3/envs/pharma_env/lib/python3.9/site-packages/pandas/io/formats/format.py:1405: FutureWarning: Index.ravel returning ndarray is deprecated; in a future version this will return a view on self.\n",
      "  for val, m in zip(values.ravel(), mask.ravel())\n",
      "/home/angelie/anaconda3/envs/pharma_env/lib/python3.9/site-packages/pandas/io/formats/format.py:1405: FutureWarning: Index.ravel returning ndarray is deprecated; in a future version this will return a view on self.\n",
      "  for val, m in zip(values.ravel(), mask.ravel())\n",
      "/home/angelie/anaconda3/envs/pharma_env/lib/python3.9/site-packages/pandas/io/formats/format.py:1405: FutureWarning: Index.ravel returning ndarray is deprecated; in a future version this will return a view on self.\n",
      "  for val, m in zip(values.ravel(), mask.ravel())\n",
      "/home/angelie/anaconda3/envs/pharma_env/lib/python3.9/site-packages/pandas/io/formats/format.py:1405: FutureWarning: Index.ravel returning ndarray is deprecated; in a future version this will return a view on self.\n",
      "  for val, m in zip(values.ravel(), mask.ravel())\n",
      "/home/angelie/anaconda3/envs/pharma_env/lib/python3.9/site-packages/pandas/io/formats/format.py:1405: FutureWarning: Index.ravel returning ndarray is deprecated; in a future version this will return a view on self.\n",
      "  for val, m in zip(values.ravel(), mask.ravel())\n",
      "/home/angelie/anaconda3/envs/pharma_env/lib/python3.9/site-packages/pandas/io/formats/format.py:1405: FutureWarning: Index.ravel returning ndarray is deprecated; in a future version this will return a view on self.\n",
      "  for val, m in zip(values.ravel(), mask.ravel())\n",
      "/home/angelie/anaconda3/envs/pharma_env/lib/python3.9/site-packages/pandas/io/formats/format.py:1405: FutureWarning: Index.ravel returning ndarray is deprecated; in a future version this will return a view on self.\n",
      "  for val, m in zip(values.ravel(), mask.ravel())\n",
      "/home/angelie/anaconda3/envs/pharma_env/lib/python3.9/site-packages/pandas/io/formats/format.py:1405: FutureWarning: Index.ravel returning ndarray is deprecated; in a future version this will return a view on self.\n",
      "  for val, m in zip(values.ravel(), mask.ravel())\n",
      "/home/angelie/anaconda3/envs/pharma_env/lib/python3.9/site-packages/pandas/io/formats/format.py:1405: FutureWarning: Index.ravel returning ndarray is deprecated; in a future version this will return a view on self.\n",
      "  for val, m in zip(values.ravel(), mask.ravel())\n",
      "/home/angelie/anaconda3/envs/pharma_env/lib/python3.9/site-packages/pandas/io/formats/format.py:1405: FutureWarning: Index.ravel returning ndarray is deprecated; in a future version this will return a view on self.\n",
      "  for val, m in zip(values.ravel(), mask.ravel())\n",
      "/home/angelie/anaconda3/envs/pharma_env/lib/python3.9/site-packages/pandas/io/formats/format.py:1405: FutureWarning: Index.ravel returning ndarray is deprecated; in a future version this will return a view on self.\n",
      "  for val, m in zip(values.ravel(), mask.ravel())\n",
      "/home/angelie/anaconda3/envs/pharma_env/lib/python3.9/site-packages/pandas/io/formats/format.py:1405: FutureWarning: Index.ravel returning ndarray is deprecated; in a future version this will return a view on self.\n",
      "  for val, m in zip(values.ravel(), mask.ravel())\n",
      "/home/angelie/anaconda3/envs/pharma_env/lib/python3.9/site-packages/pandas/io/formats/format.py:1405: FutureWarning: Index.ravel returning ndarray is deprecated; in a future version this will return a view on self.\n",
      "  for val, m in zip(values.ravel(), mask.ravel())\n",
      "/home/angelie/anaconda3/envs/pharma_env/lib/python3.9/site-packages/pandas/io/formats/format.py:1405: FutureWarning: Index.ravel returning ndarray is deprecated; in a future version this will return a view on self.\n",
      "  for val, m in zip(values.ravel(), mask.ravel())\n",
      "/home/angelie/anaconda3/envs/pharma_env/lib/python3.9/site-packages/pandas/io/formats/format.py:1405: FutureWarning: Index.ravel returning ndarray is deprecated; in a future version this will return a view on self.\n",
      "  for val, m in zip(values.ravel(), mask.ravel())\n",
      "/home/angelie/anaconda3/envs/pharma_env/lib/python3.9/site-packages/pandas/io/formats/format.py:1405: FutureWarning: Index.ravel returning ndarray is deprecated; in a future version this will return a view on self.\n",
      "  for val, m in zip(values.ravel(), mask.ravel())\n",
      "/home/angelie/anaconda3/envs/pharma_env/lib/python3.9/site-packages/pandas/io/formats/format.py:1405: FutureWarning: Index.ravel returning ndarray is deprecated; in a future version this will return a view on self.\n",
      "  for val, m in zip(values.ravel(), mask.ravel())\n",
      "/home/angelie/anaconda3/envs/pharma_env/lib/python3.9/site-packages/pandas/io/formats/format.py:1405: FutureWarning: Index.ravel returning ndarray is deprecated; in a future version this will return a view on self.\n",
      "  for val, m in zip(values.ravel(), mask.ravel())\n",
      "/home/angelie/anaconda3/envs/pharma_env/lib/python3.9/site-packages/pandas/io/formats/format.py:1405: FutureWarning: Index.ravel returning ndarray is deprecated; in a future version this will return a view on self.\n",
      "  for val, m in zip(values.ravel(), mask.ravel())\n",
      "/home/angelie/anaconda3/envs/pharma_env/lib/python3.9/site-packages/pandas/io/formats/format.py:1405: FutureWarning: Index.ravel returning ndarray is deprecated; in a future version this will return a view on self.\n",
      "  for val, m in zip(values.ravel(), mask.ravel())\n",
      "/home/angelie/anaconda3/envs/pharma_env/lib/python3.9/site-packages/pandas/io/formats/format.py:1405: FutureWarning: Index.ravel returning ndarray is deprecated; in a future version this will return a view on self.\n",
      "  for val, m in zip(values.ravel(), mask.ravel())\n",
      "/home/angelie/anaconda3/envs/pharma_env/lib/python3.9/site-packages/pandas/io/formats/format.py:1405: FutureWarning: Index.ravel returning ndarray is deprecated; in a future version this will return a view on self.\n",
      "  for val, m in zip(values.ravel(), mask.ravel())\n",
      "/home/angelie/anaconda3/envs/pharma_env/lib/python3.9/site-packages/pandas/io/formats/format.py:1405: FutureWarning: Index.ravel returning ndarray is deprecated; in a future version this will return a view on self.\n",
      "  for val, m in zip(values.ravel(), mask.ravel())\n",
      "/home/angelie/anaconda3/envs/pharma_env/lib/python3.9/site-packages/pandas/io/formats/format.py:1405: FutureWarning: Index.ravel returning ndarray is deprecated; in a future version this will return a view on self.\n",
      "  for val, m in zip(values.ravel(), mask.ravel())\n",
      "/home/angelie/anaconda3/envs/pharma_env/lib/python3.9/site-packages/pandas/io/formats/format.py:1405: FutureWarning: Index.ravel returning ndarray is deprecated; in a future version this will return a view on self.\n",
      "  for val, m in zip(values.ravel(), mask.ravel())\n",
      "/home/angelie/anaconda3/envs/pharma_env/lib/python3.9/site-packages/pandas/io/formats/format.py:1405: FutureWarning: Index.ravel returning ndarray is deprecated; in a future version this will return a view on self.\n",
      "  for val, m in zip(values.ravel(), mask.ravel())\n"
     ]
    }
   ],
   "source": [
    "# detect all non-int and non-float cols\n",
    "for col in df:\n",
    "    if df[col].dtype not in (\"float64\", \"int64\"):\n",
    "        print(col, df[col].dtype)\n",
    "        non_na = df[col][~df[col].isna()]\n",
    "        print(\"Len: \", len(non_na))\n",
    "        print(non_na.head(3))\n",
    "        if len(non_na.unique()) < 10:\n",
    "            print(\"unique distrs:\")\n",
    "            for val in non_na.unique():\n",
    "                print(val)\n",
    "                print((non_na == val).mean())\n",
    "        print()"
   ]
  },
  {
   "cell_type": "code",
   "execution_count": 21,
   "id": "upset-pleasure",
   "metadata": {},
   "outputs": [],
   "source": [
    "# convert rows to ints\n",
    "int_names = [\"nf33a\", \"nf33b\", \"nf34a\", \"nf34b\", \"nf35a\", \"nf35b\", \"nf36a\", \"nf36b\"]\n",
    "for name in int_names:\n",
    "    df[name] = df[name].astype(float)\n",
    "# some have missings that cannot be converted to int\n",
    "float_names = [\"f41\", \"nf42\", \"f49\", \"nf76\", \"nf77\", \"nf82\", \"nf83\", \"nf84\", \"nf88\", \"nf92\", \"nf94\", \"nt1\", \"nt2\", \"f145\", \"altq\"]\n",
    "for name in float_names:\n",
    "    df[name] = df[name].astype(float)\n",
    "    #non_na_mask = ~df[name].isna()\n",
    "    #df.loc[non_na_mask, name] = df.loc[non_na_mask, name].astype(float)"
   ]
  },
  {
   "cell_type": "code",
   "execution_count": 27,
   "id": "pleased-research",
   "metadata": {},
   "outputs": [
    {
     "data": {
      "text/plain": [
       "Index(['nf33a', 'nf33b', 'nf34a', 'nf34b', 'nf35a', 'nf35b', 'nf36a', 'nf36b'], dtype='object')"
      ]
     },
     "execution_count": 27,
     "metadata": {},
     "output_type": "execute_result"
    }
   ],
   "source": [
    "df.loc[:, \"nf33a\":\"nf36b\"].columns"
   ]
  },
  {
   "cell_type": "code",
   "execution_count": null,
   "id": "economic-illinois",
   "metadata": {},
   "outputs": [],
   "source": [
    "df[\"f1a_1\"].sum() "
   ]
  },
  {
   "cell_type": "code",
   "execution_count": 9,
   "id": "fiscal-palmer",
   "metadata": {},
   "outputs": [
    {
     "data": {
      "text/plain": [
       "77"
      ]
     },
     "execution_count": 9,
     "metadata": {},
     "output_type": "execute_result"
    }
   ],
   "source": [
    "df[\"f1a_2\"].sum()"
   ]
  },
  {
   "cell_type": "code",
   "execution_count": 38,
   "id": "compliant-windsor",
   "metadata": {},
   "outputs": [
    {
     "data": {
      "text/plain": [
       "0        3\n",
       "1        3\n",
       "2        3\n",
       "3        5\n",
       "4        8\n",
       "        ..\n",
       "30063    3\n",
       "30064    8\n",
       "30065    5\n",
       "30066    3\n",
       "30067    3\n",
       "Name: expe, Length: 30068, dtype: int64"
      ]
     },
     "execution_count": 38,
     "metadata": {},
     "output_type": "execute_result"
    }
   ],
   "source": [
    "df[\"expe\"]"
   ]
  },
  {
   "cell_type": "code",
   "execution_count": 11,
   "id": "accompanied-assist",
   "metadata": {},
   "outputs": [
    {
     "data": {
      "text/plain": [
       "248"
      ]
     },
     "execution_count": 11,
     "metadata": {},
     "output_type": "execute_result"
    }
   ],
   "source": [
    "df[\"f1a_4\"].sum()"
   ]
  },
  {
   "cell_type": "code",
   "execution_count": 12,
   "id": "serious-impression",
   "metadata": {},
   "outputs": [
    {
     "data": {
      "text/plain": [
       "1286"
      ]
     },
     "execution_count": 12,
     "metadata": {},
     "output_type": "execute_result"
    }
   ],
   "source": [
    "(df[\"f1a_1\"] + df[\"f1a_2\"] + df[\"f1a_3\"] + df[\"f1a_4\"]).astype(bool).sum()"
   ]
  },
  {
   "cell_type": "code",
   "execution_count": 14,
   "id": "instrumental-brook",
   "metadata": {},
   "outputs": [
    {
     "data": {
      "text/plain": [
       "3520"
      ]
     },
     "execution_count": 14,
     "metadata": {},
     "output_type": "execute_result"
    }
   ],
   "source": [
    "(df[\"f1b_1\"] + df[\"f1b_2\"] + df[\"f1b_3\"] + df[\"f1b_4\"]).astype(bool).sum()"
   ]
  },
  {
   "cell_type": "code",
   "execution_count": 15,
   "id": "eleven-safety",
   "metadata": {},
   "outputs": [
    {
     "data": {
      "text/plain": [
       "1961"
      ]
     },
     "execution_count": 15,
     "metadata": {},
     "output_type": "execute_result"
    }
   ],
   "source": [
    "(df[\"f1a_1\"] + df[\"f1b_1\"]).astype(bool).sum()"
   ]
  },
  {
   "cell_type": "code",
   "execution_count": 28,
   "id": "political-might",
   "metadata": {},
   "outputs": [
    {
     "data": {
      "text/plain": [
       "17"
      ]
     },
     "execution_count": 28,
     "metadata": {},
     "output_type": "execute_result"
    }
   ],
   "source": [
    "(df[\"f2a\"] == 2).sum()"
   ]
  },
  {
   "cell_type": "code",
   "execution_count": 29,
   "id": "diagnostic-cookbook",
   "metadata": {},
   "outputs": [
    {
     "data": {
      "text/plain": [
       "82"
      ]
     },
     "execution_count": 29,
     "metadata": {},
     "output_type": "execute_result"
    }
   ],
   "source": [
    "(df[\"f2b\"] == 2).sum()"
   ]
  },
  {
   "cell_type": "code",
   "execution_count": 34,
   "id": "consolidated-penetration",
   "metadata": {},
   "outputs": [
    {
     "data": {
      "text/plain": [
       "1988"
      ]
     },
     "execution_count": 34,
     "metadata": {},
     "output_type": "execute_result"
    }
   ],
   "source": [
    "((df[\"f2a\"] == 1).astype(int) + (df[\"f2b\"] == 1).astype(int) + df[\"f1a_1\"] + df[\"f1b_1\"]).astype(bool).sum()"
   ]
  },
  {
   "cell_type": "code",
   "execution_count": null,
   "id": "thrown-messenger",
   "metadata": {},
   "outputs": [],
   "source": []
  },
  {
   "cell_type": "code",
   "execution_count": 187,
   "id": "surgical-blake",
   "metadata": {},
   "outputs": [
    {
     "data": {
      "text/plain": [
       "82"
      ]
     },
     "execution_count": 187,
     "metadata": {},
     "output_type": "execute_result"
    }
   ],
   "source": [
    "len(df) - (28080 + 1906)"
   ]
  },
  {
   "cell_type": "code",
   "execution_count": 186,
   "id": "transsexual-organizer",
   "metadata": {},
   "outputs": [
    {
     "data": {
      "text/plain": [
       "29986"
      ]
     },
     "execution_count": 186,
     "metadata": {},
     "output_type": "execute_result"
    }
   ],
   "source": [
    "df"
   ]
  },
  {
   "cell_type": "code",
   "execution_count": 188,
   "id": "revised-words",
   "metadata": {},
   "outputs": [
    {
     "data": {
      "text/plain": [
       "30068"
      ]
     },
     "execution_count": 188,
     "metadata": {},
     "output_type": "execute_result"
    }
   ],
   "source": [
    "len(df)"
   ]
  },
  {
   "cell_type": "code",
   "execution_count": 35,
   "id": "general-peeing",
   "metadata": {},
   "outputs": [],
   "source": [
    "pred_df = df.copy()"
   ]
  },
  {
   "cell_type": "code",
   "execution_count": 37,
   "id": "ranking-limit",
   "metadata": {},
   "outputs": [],
   "source": [
    "pred_df[\"target\"] = ((df[\"f2a\"] == 1).astype(int) + (df[\"f2b\"] == 1).astype(int) + df[\"f1a_1\"] + df[\"f1b_1\"]).astype(bool)\n",
    "drop_cols = [col for col in pred_df if \"f1a\" in col or \"f2a\" in col or \"f2b\" in col or \"f1b\" in col]\n",
    "pred_df = pred_df.drop(columns=drop_cols)"
   ]
  },
  {
   "cell_type": "code",
   "execution_count": 42,
   "id": "scheduled-brick",
   "metadata": {},
   "outputs": [],
   "source": [
    "pred_df = pred_df.fillna(pred_df.median())"
   ]
  },
  {
   "cell_type": "code",
   "execution_count": 43,
   "id": "fundamental-patent",
   "metadata": {},
   "outputs": [],
   "source": [
    "from sklearn.ensemble import RandomForestClassifier\n",
    "clf = RandomForestClassifier()"
   ]
  },
  {
   "cell_type": "code",
   "execution_count": 68,
   "id": "positive-chambers",
   "metadata": {
    "tags": []
   },
   "outputs": [],
   "source": [
    "from sklearn.model_selection import train_test_split\n",
    "x = pred_df.drop(columns=[\"target\", \"sernr\"])\n",
    "labels = x.columns\n",
    "y = pred_df[\"target\"]\n",
    "x_train, x_test, y_train, y_test = train_test_split(x, y, test_size=0.25, stratify=y)"
   ]
  },
  {
   "cell_type": "code",
   "execution_count": 69,
   "id": "protecting-fighter",
   "metadata": {},
   "outputs": [
    {
     "data": {
      "text/plain": [
       "RandomForestClassifier()"
      ]
     },
     "execution_count": 69,
     "metadata": {},
     "output_type": "execute_result"
    }
   ],
   "source": [
    "clf.fit(x_train, y_train)"
   ]
  },
  {
   "cell_type": "code",
   "execution_count": 70,
   "id": "bottom-rabbit",
   "metadata": {},
   "outputs": [],
   "source": [
    "preds_test = clf.predict(x_test)"
   ]
  },
  {
   "cell_type": "code",
   "execution_count": 71,
   "id": "acceptable-meeting",
   "metadata": {},
   "outputs": [
    {
     "data": {
      "text/plain": [
       "0.9352135160303312"
      ]
     },
     "execution_count": 71,
     "metadata": {},
     "output_type": "execute_result"
    }
   ],
   "source": [
    "(preds_test == y_test).mean()"
   ]
  },
  {
   "cell_type": "code",
   "execution_count": 72,
   "id": "norwegian-johnson",
   "metadata": {},
   "outputs": [
    {
     "data": {
      "text/plain": [
       "0.9338831980843422"
      ]
     },
     "execution_count": 72,
     "metadata": {},
     "output_type": "execute_result"
    }
   ],
   "source": [
    "1 - y_test.mean()"
   ]
  },
  {
   "cell_type": "code",
   "execution_count": 75,
   "id": "considerable-equality",
   "metadata": {},
   "outputs": [],
   "source": [
    "df_imps = pd.DataFrame({\"imp\": clf.feature_importances_, \"feature\": labels})"
   ]
  },
  {
   "cell_type": "code",
   "execution_count": 76,
   "id": "french-cedar",
   "metadata": {},
   "outputs": [
    {
     "data": {
      "text/html": [
       "<div>\n",
       "<style scoped>\n",
       "    .dataframe tbody tr th:only-of-type {\n",
       "        vertical-align: middle;\n",
       "    }\n",
       "\n",
       "    .dataframe tbody tr th {\n",
       "        vertical-align: top;\n",
       "    }\n",
       "\n",
       "    .dataframe thead th {\n",
       "        text-align: right;\n",
       "    }\n",
       "</style>\n",
       "<table border=\"1\" class=\"dataframe\">\n",
       "  <thead>\n",
       "    <tr style=\"text-align: right;\">\n",
       "      <th></th>\n",
       "      <th>imp</th>\n",
       "      <th>feature</th>\n",
       "    </tr>\n",
       "  </thead>\n",
       "  <tbody>\n",
       "    <tr>\n",
       "      <th>111</th>\n",
       "      <td>0.000000</td>\n",
       "      <td>f49</td>\n",
       "    </tr>\n",
       "    <tr>\n",
       "      <th>156</th>\n",
       "      <td>0.000000</td>\n",
       "      <td>f78_6</td>\n",
       "    </tr>\n",
       "    <tr>\n",
       "      <th>99</th>\n",
       "      <td>0.000000</td>\n",
       "      <td>f44_8</td>\n",
       "    </tr>\n",
       "    <tr>\n",
       "      <th>160</th>\n",
       "      <td>0.000000</td>\n",
       "      <td>f79_4</td>\n",
       "    </tr>\n",
       "    <tr>\n",
       "      <th>161</th>\n",
       "      <td>0.000000</td>\n",
       "      <td>f79_5</td>\n",
       "    </tr>\n",
       "    <tr>\n",
       "      <th>...</th>\n",
       "      <td>...</td>\n",
       "      <td>...</td>\n",
       "    </tr>\n",
       "    <tr>\n",
       "      <th>259</th>\n",
       "      <td>0.017204</td>\n",
       "      <td>altq</td>\n",
       "    </tr>\n",
       "    <tr>\n",
       "      <th>181</th>\n",
       "      <td>0.017527</td>\n",
       "      <td>nf88</td>\n",
       "    </tr>\n",
       "    <tr>\n",
       "      <th>222</th>\n",
       "      <td>0.017955</td>\n",
       "      <td>nt1</td>\n",
       "    </tr>\n",
       "    <tr>\n",
       "      <th>223</th>\n",
       "      <td>0.018318</td>\n",
       "      <td>nt2</td>\n",
       "    </tr>\n",
       "    <tr>\n",
       "      <th>262</th>\n",
       "      <td>0.021932</td>\n",
       "      <td>plz</td>\n",
       "    </tr>\n",
       "  </tbody>\n",
       "</table>\n",
       "<p>267 rows × 2 columns</p>\n",
       "</div>"
      ],
      "text/plain": [
       "          imp feature\n",
       "111  0.000000     f49\n",
       "156  0.000000   f78_6\n",
       "99   0.000000   f44_8\n",
       "160  0.000000   f79_4\n",
       "161  0.000000   f79_5\n",
       "..        ...     ...\n",
       "259  0.017204    altq\n",
       "181  0.017527    nf88\n",
       "222  0.017955     nt1\n",
       "223  0.018318     nt2\n",
       "262  0.021932     plz\n",
       "\n",
       "[267 rows x 2 columns]"
      ]
     },
     "execution_count": 76,
     "metadata": {},
     "output_type": "execute_result"
    }
   ],
   "source": [
    "df_imps.sort_values(\"imp\")"
   ]
  },
  {
   "cell_type": "code",
   "execution_count": 136,
   "id": "improving-stomach",
   "metadata": {},
   "outputs": [
    {
     "name": "stdout",
     "output_type": "stream",
     "text": [
      "0.947\n",
      "0    0.947\n",
      "1    0.880\n",
      "2    1.051\n",
      "3    2.233\n",
      "4    0.923\n",
      "Name: weight, dtype: float64\n",
      "30063    0.853\n",
      "30064    1.015\n",
      "30065    0.787\n",
      "30066    0.870\n",
      "30067    0.986\n",
      "Name: weight, dtype: float64\n",
      "\n",
      "count    30068.000000\n",
      "mean         0.999990\n",
      "std          0.318168\n",
      "min          0.701000\n",
      "25%          0.864000\n",
      "50%          0.917000\n",
      "75%          0.958000\n",
      "max          2.241000\n",
      "Name: weight, dtype: float64\n",
      "\n"
     ]
    }
   ],
   "source": [
    "col_name = \"f1a_5\"\n",
    "col = df[col]\n",
    "print(col.iloc[0])\n",
    "print(col.head())\n",
    "print(col.tail())\n",
    "print()\n",
    "print(col.describe())\n",
    "print()\n",
    "if len(col.unique()) < 10:\n",
    "    print(\"unique distrs:\")\n",
    "    for val in col.unique():\n",
    "        print(val)\n",
    "        print((col == val).mean())"
   ]
  },
  {
   "cell_type": "code",
   "execution_count": null,
   "id": "spatial-professional",
   "metadata": {},
   "outputs": [],
   "source": []
  }
 ],
 "metadata": {
  "kernelspec": {
   "display_name": "Python [conda env:pharma_env]",
   "language": "python",
   "name": "conda-env-pharma_env-py"
  },
  "language_info": {
   "codemirror_mode": {
    "name": "ipython",
    "version": 3
   },
   "file_extension": ".py",
   "mimetype": "text/x-python",
   "name": "python",
   "nbconvert_exporter": "python",
   "pygments_lexer": "ipython3",
   "version": "3.9.4"
  }
 },
 "nbformat": 4,
 "nbformat_minor": 5
}
