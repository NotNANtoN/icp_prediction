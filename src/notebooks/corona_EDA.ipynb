{
 "cells": [
  {
   "cell_type": "code",
   "execution_count": null,
   "id": "second-backing",
   "metadata": {
    "pycharm": {
     "is_executing": true
    }
   },
   "outputs": [],
   "source": [
    "import os\n",
    "import sys\n",
    "\n",
    "import numpy as np\n",
    "import pandas as pd\n",
    "import seaborn as sns\n",
    "import matplotlib.pyplot as plt"
   ]
  },
  {
   "cell_type": "code",
   "execution_count": null,
   "id": "detected-examination",
   "metadata": {},
   "outputs": [],
   "source": [
    "!python3 -m pip install pyreadstat"
   ]
  },
  {
   "cell_type": "code",
   "execution_count": null,
   "id": "1cab53b4",
   "metadata": {},
   "outputs": [],
   "source": [
    "!python3 -m pip install xlrd"
   ]
  },
  {
   "cell_type": "code",
   "execution_count": null,
   "id": "legendary-indianapolis",
   "metadata": {
    "scrolled": false
   },
   "outputs": [],
   "source": [
    "text_to_val_df = pd.read_excel(\"../../data/Variablenwerte.xls\", names=[\"Name\", \"Value\", \"Text\"], header=1)\n",
    "# Fill all names\n",
    "for i in range(len(text_to_val_df)):\n",
    "    if pd.isna(text_to_val_df.loc[i, \"Name\"]):\n",
    "        text_to_val_df.loc[i, \"Name\"] = text_to_val_df.loc[i - 1, \"Name\"]\n",
    "# make values ints\n",
    "for i in range(len(text_to_val_df)):\n",
    "    val = text_to_val_df.loc[i, \"Value\"]\n",
    "    if val == \",00\":\n",
    "        val = 0\n",
    "    elif val == \"1,00\":\n",
    "        val = 1\n",
    "    else:\n",
    "        val = str(val).split(\",\")[0].replace(\",\", \"\")\n",
    "        if val == \"\":\n",
    "            print(i)\n",
    "            val = -1\n",
    "        else:\n",
    "            val = int(val)\n",
    "    text_to_val_df.loc[i, \"Value\"] = val\n",
    "text_to_val_df"
   ]
  },
  {
   "cell_type": "code",
   "execution_count": null,
   "id": "motivated-pharmaceutical",
   "metadata": {
    "scrolled": false
   },
   "outputs": [],
   "source": [
    "df = pd.read_spss(\"../../data/f20.0251z_290620.sav\")\n",
    "# replace strings by values using Variablenwerte.xls\n",
    "replace_dict = {name: {row[\"Text\"]: row[\"Value\"] for _, row in text_to_val_df[text_to_val_df[\"Name\"] == name].iterrows()} for name in text_to_val_df[\"Name\"].unique()}\n",
    "df = df.replace(replace_dict)\n",
    "# replace empty rows by NaN\n",
    "df = df.replace({\"\": np.nan, \" \": np.nan})\n",
    "# remove \"offen\" fields\n",
    "df = df[[col for col in df if \"offen\" not in col]]\n",
    "df"
   ]
  },
  {
   "cell_type": "markdown",
   "id": "d7cd8209",
   "metadata": {},
   "source": [
    "# Preprocessing functions"
   ]
  },
  {
   "cell_type": "code",
   "execution_count": null,
   "id": "5f96890c",
   "metadata": {},
   "outputs": [],
   "source": [
    "sys.path.insert(0, '..') \n",
    "\n",
    "import constants"
   ]
  },
  {
   "cell_type": "markdown",
   "id": "c2227830",
   "metadata": {},
   "source": [
    "## Replace \"don't know\""
   ]
  },
  {
   "cell_type": "code",
   "execution_count": null,
   "id": "9372b1d5",
   "metadata": {},
   "outputs": [],
   "source": [
    "def dontknow_to_mean(df, columns):\n",
    "    for c in columns:\n",
    "        print(c, sum(df[c] == max(df[c])))\n",
    "        df[c] = df[c].replace({max(df[c]) : round(df[c].mean())})\n",
    "        print()\n",
    "    return df"
   ]
  },
  {
   "cell_type": "code",
   "execution_count": null,
   "id": "2dd37a82",
   "metadata": {},
   "outputs": [],
   "source": [
    "def dontknow_to_lowest(df, columns):\n",
    "    for c in columns:\n",
    "        print(c, sum(df[c] == max(df[c])))\n",
    "        df[c] = df[c].replace({max(df[c]) : min(df[c])})\n",
    "        print()\n",
    "    return df"
   ]
  },
  {
   "cell_type": "code",
   "execution_count": null,
   "id": "99f3841e",
   "metadata": {},
   "outputs": [],
   "source": [
    "df = dontknow_to_mean(df, constants.ordinal_questions)"
   ]
  },
  {
   "cell_type": "code",
   "execution_count": null,
   "id": "24818732",
   "metadata": {
    "scrolled": true
   },
   "outputs": [],
   "source": [
    "df = dontknow_to_lowest(df, constants.preconditions_when)"
   ]
  },
  {
   "cell_type": "code",
   "execution_count": null,
   "id": "2db45a47",
   "metadata": {
    "scrolled": false
   },
   "outputs": [],
   "source": [
    "for c in constants.preconditions_when:\n",
    "    df[c].hist()"
   ]
  },
  {
   "cell_type": "markdown",
   "id": "b23a8517",
   "metadata": {},
   "source": [
    "## Replace numeric placeholders in interval-scale questions (99, 999, etc.)"
   ]
  },
  {
   "cell_type": "code",
   "execution_count": null,
   "id": "1629dba2",
   "metadata": {
    "scrolled": true
   },
   "outputs": [],
   "source": [
    "def replace_nan_placeholder(df, text_to_val_df, columns):\n",
    "    # replace 99, 999 etc. by np.nan\n",
    "    for c in columns:\n",
    "        nan_placeholder = text_to_val_df.loc[text_to_val_df['Name'] == c, 'Value'].to_list()[0]\n",
    "        if c in df.columns:\n",
    "            df[c] = df[c].replace(nan_placeholder, np.nan)\n",
    "    return df\n",
    "\n",
    "df = replace_nan_placeholder(df, text_to_val_df, constants.interval_questions)"
   ]
  },
  {
   "cell_type": "markdown",
   "id": "b72a60ab",
   "metadata": {},
   "source": [
    "## Apply one-hot encoding where necessary"
   ]
  },
  {
   "cell_type": "code",
   "execution_count": null,
   "id": "26fa897c",
   "metadata": {},
   "outputs": [],
   "source": [
    "def one_hot(df, columns):\n",
    "    for c in columns:\n",
    "        if c not in df.columns:\n",
    "            print(f\"{c} not in columns\")\n",
    "            break\n",
    "        dummies = pd.get_dummies(df[c])\n",
    "        dummies.columns = [f\"{c}_{int(val)}\" for val in sorted(dummies.columns)]\n",
    "        # also if nan, set last dummy to 1 (= \"weiß nicht/ kA\")\n",
    "        if df[c].isna().sum() > 0:\n",
    "            dummies.loc[df[c].isna(), dummies.columns[-1]] = 1\n",
    "        df = df.drop(c, axis=1)\n",
    "        df = pd.concat([df, dummies], axis=1)\n",
    "    return df\n",
    "    \n",
    "for l in [constants.to_one_hot, constants.expect_change, constants.reduced_income, constants.age_kids, constants.not_always_applicable]:\n",
    "    df = one_hot(df, l)"
   ]
  },
  {
   "cell_type": "code",
   "execution_count": null,
   "id": "463cccf9",
   "metadata": {},
   "outputs": [],
   "source": [
    "#df.select_dtypes(include=['category'])"
   ]
  },
  {
   "cell_type": "code",
   "execution_count": null,
   "id": "c5a16593",
   "metadata": {
    "scrolled": false
   },
   "outputs": [],
   "source": [
    "import matplotlib.pyplot as plt\n",
    "for c in constants.ordinal_questions:\n",
    "    plt.figure()\n",
    "    df[c].hist()\n",
    "    plt.title(c)\n",
    "    print(df[c].describe())\n",
    "\n"
   ]
  },
  {
   "cell_type": "markdown",
   "id": "2c5a4e9e",
   "metadata": {},
   "source": [
    "## Cast \"category\" variables to float"
   ]
  },
  {
   "cell_type": "code",
   "execution_count": null,
   "id": "upset-pleasure",
   "metadata": {},
   "outputs": [],
   "source": [
    "def convert_to_float(df, columns):\n",
    "    for c in columns:\n",
    "        df[c] = df[c].astype(float)\n",
    "    return df\n",
    "\n",
    "#df = convert_to_int(df, constants.to_float_variables)\n",
    "\n",
    "df = convert_to_float(df, df.select_dtypes(include=['category']).columns)"
   ]
  },
  {
   "cell_type": "markdown",
   "id": "112219cf",
   "metadata": {},
   "source": [
    "## Remove variables with very small variance"
   ]
  },
  {
   "cell_type": "code",
   "execution_count": null,
   "id": "43034b7e",
   "metadata": {
    "scrolled": true
   },
   "outputs": [],
   "source": [
    "def handle_low_std_variables(df, threshold=0.02):\n",
    "    low_var_found = [c for c in df.columns if df[c].std() < 0.01]\n",
    "    if len(low_var_found) == 0:\n",
    "        return df\n",
    "    #print(f\"The following variables have a std below {threshold}:\\n{low_var_found}\")\n",
    "    for c in low_var_found:\n",
    "        if len(set(df[c].dropna())) == 1:\n",
    "            df[c] = df[c].fillna(0)\n",
    "        else:\n",
    "            print(f\"Removing {c} with value counts: \\n{df[c].value_counts()}\")\n",
    "            df = df.drop(c, axis=1)\n",
    "    return df"
   ]
  },
  {
   "cell_type": "code",
   "execution_count": null,
   "id": "1b2ed40e",
   "metadata": {
    "scrolled": false
   },
   "outputs": [],
   "source": [
    "#df = handle_low_std_variables(df)"
   ]
  },
  {
   "cell_type": "code",
   "execution_count": null,
   "id": "studied-scotland",
   "metadata": {
    "scrolled": true
   },
   "outputs": [],
   "source": [
    "# detect all non-int and non-float cols\n",
    "\"\"\"\n",
    "for col in df:\n",
    "    if df[col].dtype not in (\"float64\", \"int64\"):\n",
    "        print(col, df[col].dtype)\n",
    "        non_na = df[col][~df[col].isna()]\n",
    "        print(\"Len: \", len(non_na))\n",
    "        print(non_na.head(3))\n",
    "        if len(non_na.unique()) < 10:\n",
    "            print(\"unique distrs:\")\n",
    "            for val in non_na.unique():\n",
    "                print(val)\n",
    "                print((non_na == val).mean())\n",
    "        print()\n",
    "\"\"\""
   ]
  },
  {
   "cell_type": "markdown",
   "id": "75de7be5",
   "metadata": {},
   "source": [
    "### Make sure that the only remaining nans are within the interval questions (start with 'n')"
   ]
  },
  {
   "cell_type": "code",
   "execution_count": null,
   "id": "3a632022",
   "metadata": {
    "scrolled": true
   },
   "outputs": [],
   "source": [
    "has_nan = []\n",
    "counter = 0\n",
    "for c in df.columns:\n",
    "    if df[c].isna().sum() > 0:\n",
    "        print(c, df[c].isna().sum())\n",
    "        counter += 1\n",
    "        has_nan.append(c)\n",
    "        \n",
    "print(counter, \"variables with nans\")"
   ]
  },
  {
   "cell_type": "code",
   "execution_count": null,
   "id": "bea8dfdb",
   "metadata": {},
   "outputs": [],
   "source": [
    "for c in constants.interval_questions:\n",
    "    plt.figure()\n",
    "    df[c].hist()\n",
    "    plt.title(c)"
   ]
  },
  {
   "cell_type": "markdown",
   "id": "0ba8b791",
   "metadata": {},
   "source": [
    "## Investigate possible surrogate measures"
   ]
  },
  {
   "cell_type": "code",
   "execution_count": null,
   "id": "86398e58",
   "metadata": {
    "scrolled": true
   },
   "outputs": [],
   "source": [
    "df[constants.family_positive]"
   ]
  },
  {
   "cell_type": "code",
   "execution_count": null,
   "id": "8998d5dd",
   "metadata": {
    "scrolled": true
   },
   "outputs": [],
   "source": [
    "# family member in household tested positive (f4a_1), but no contact to positively tested person (f1a_1)\n",
    "df.loc[(df['f4a_1'] == 1) & (df['f1a_1'] != 1), 'f4a_1']"
   ]
  },
  {
   "cell_type": "code",
   "execution_count": null,
   "id": "c7f0bb9b",
   "metadata": {
    "scrolled": true
   },
   "outputs": [],
   "source": [
    "# family member in household tested positive (f4a_1), and also contact to positively tested person (f1a_1)\n",
    "df.loc[(df['f4a_1'] == 1) & (df['f1a_1'] == 1), 'f4a_1']"
   ]
  },
  {
   "cell_type": "code",
   "execution_count": null,
   "id": "7f4df497",
   "metadata": {
    "scrolled": true
   },
   "outputs": [],
   "source": [
    "df.loc[:, constants.compound_label_cols_incl_diagnosed].describe()"
   ]
  },
  {
   "cell_type": "code",
   "execution_count": null,
   "id": "ee121f3d",
   "metadata": {
    "scrolled": false
   },
   "outputs": [],
   "source": [
    "def create_compound_label(df, columns):\n",
    "    pos_class_idcs = df.index[df[columns].any(axis=1)].tolist()\n",
    "    df[\"target\"] = np.zeros(len(df))\n",
    "    df.loc[pos_class_idcs, \"target\"] = 1.0\n",
    "    print(f\"Number of cases with positive target {len(pos_class_idcs)}\")\n",
    "    return df\n"
   ]
  },
  {
   "cell_type": "code",
   "execution_count": null,
   "id": "e0244d43",
   "metadata": {
    "scrolled": true
   },
   "outputs": [],
   "source": [
    "df = create_compound_label(df, constants.compound_label_cols_incl_diagnosed)\n"
   ]
  },
  {
   "cell_type": "code",
   "execution_count": null,
   "id": "3923edc4",
   "metadata": {
    "scrolled": true
   },
   "outputs": [],
   "source": [
    "df = create_compound_label(df, constants.compound_label_cols_only_tested )\n"
   ]
  },
  {
   "cell_type": "code",
   "execution_count": null,
   "id": "economic-illinois",
   "metadata": {},
   "outputs": [],
   "source": [
    "df[\"f1a_1\"].sum() "
   ]
  },
  {
   "cell_type": "code",
   "execution_count": null,
   "id": "fiscal-palmer",
   "metadata": {},
   "outputs": [],
   "source": [
    "df[\"f1a_2\"].sum()"
   ]
  },
  {
   "cell_type": "code",
   "execution_count": null,
   "id": "accompanied-assist",
   "metadata": {},
   "outputs": [],
   "source": [
    "df[\"f1a_4\"].sum()"
   ]
  },
  {
   "cell_type": "code",
   "execution_count": null,
   "id": "serious-impression",
   "metadata": {},
   "outputs": [],
   "source": [
    "(df[\"f1a_1\"] + df[\"f1a_2\"] + df[\"f1a_3\"] + df[\"f1a_4\"]).astype(bool).sum()"
   ]
  },
  {
   "cell_type": "code",
   "execution_count": null,
   "id": "instrumental-brook",
   "metadata": {},
   "outputs": [],
   "source": [
    "(df[\"f1b_1\"] + df[\"f1b_2\"] + df[\"f1b_3\"] + df[\"f1b_4\"]).astype(bool).sum()"
   ]
  },
  {
   "cell_type": "code",
   "execution_count": null,
   "id": "eleven-safety",
   "metadata": {},
   "outputs": [],
   "source": [
    "(df[\"f1a_1\"] + df[\"f1b_1\"]).astype(bool).sum()"
   ]
  },
  {
   "cell_type": "code",
   "execution_count": null,
   "id": "consolidated-penetration",
   "metadata": {},
   "outputs": [],
   "source": [
    "((df[\"f2a\"] == 1).astype(int) + (df[\"f2b\"] == 1).astype(int) + df[\"f1a_1\"] + df[\"f1b_1\"]).astype(bool).sum()"
   ]
  },
  {
   "cell_type": "code",
   "execution_count": null,
   "id": "thrown-messenger",
   "metadata": {},
   "outputs": [],
   "source": [
    "df.describe()\n",
    "    "
   ]
  },
  {
   "cell_type": "code",
   "execution_count": null,
   "id": "surgical-blake",
   "metadata": {},
   "outputs": [],
   "source": [
    "len(df) - (28080 + 1906)"
   ]
  },
  {
   "cell_type": "code",
   "execution_count": null,
   "id": "transsexual-organizer",
   "metadata": {},
   "outputs": [],
   "source": [
    "df"
   ]
  },
  {
   "cell_type": "code",
   "execution_count": null,
   "id": "revised-words",
   "metadata": {},
   "outputs": [],
   "source": [
    "len(df)"
   ]
  },
  {
   "cell_type": "code",
   "execution_count": null,
   "id": "general-peeing",
   "metadata": {},
   "outputs": [],
   "source": [
    "pred_df = df.copy()"
   ]
  },
  {
   "cell_type": "code",
   "execution_count": null,
   "id": "ranking-limit",
   "metadata": {},
   "outputs": [],
   "source": [
    "pred_df[\"target\"] = ((df[\"f2a\"] == 1).astype(int) + (df[\"f2b\"] == 1).astype(int) + df[\"f1a_1\"] + df[\"f1b_1\"]).astype(bool)\n",
    "drop_cols = [col for col in pred_df if \"f1a\" in col or \"f2a\" in col or \"f2b\" in col or \"f1b\" in col]\n",
    "pred_df = pred_df.drop(columns=drop_cols)"
   ]
  },
  {
   "cell_type": "code",
   "execution_count": null,
   "id": "scheduled-brick",
   "metadata": {},
   "outputs": [],
   "source": [
    "pred_df = pred_df.fillna(pred_df.median())"
   ]
  },
  {
   "cell_type": "code",
   "execution_count": null,
   "id": "fundamental-patent",
   "metadata": {},
   "outputs": [],
   "source": [
    "from sklearn.ensemble import RandomForestClassifier\n",
    "clf = RandomForestClassifier()"
   ]
  },
  {
   "cell_type": "code",
   "execution_count": null,
   "id": "positive-chambers",
   "metadata": {
    "tags": []
   },
   "outputs": [],
   "source": [
    "from sklearn.model_selection import train_test_split\n",
    "x = pred_df.drop(columns=[\"target\", \"sernr\"])\n",
    "labels = x.columns\n",
    "y = pred_df[\"target\"]\n",
    "x_train, x_test, y_train, y_test = train_test_split(x, y, test_size=0.25, stratify=y)"
   ]
  },
  {
   "cell_type": "code",
   "execution_count": null,
   "id": "protecting-fighter",
   "metadata": {},
   "outputs": [],
   "source": [
    "clf.fit(x_train, y_train)"
   ]
  },
  {
   "cell_type": "code",
   "execution_count": null,
   "id": "bottom-rabbit",
   "metadata": {},
   "outputs": [],
   "source": [
    "preds_test = clf.predict(x_test)"
   ]
  },
  {
   "cell_type": "code",
   "execution_count": null,
   "id": "acceptable-meeting",
   "metadata": {},
   "outputs": [],
   "source": [
    "(preds_test == y_test).mean()"
   ]
  },
  {
   "cell_type": "code",
   "execution_count": null,
   "id": "norwegian-johnson",
   "metadata": {},
   "outputs": [],
   "source": [
    "1 - y_test.mean()"
   ]
  },
  {
   "cell_type": "code",
   "execution_count": null,
   "id": "considerable-equality",
   "metadata": {},
   "outputs": [],
   "source": [
    "df_imps = pd.DataFrame({\"imp\": clf.feature_importances_, \"feature\": labels})"
   ]
  },
  {
   "cell_type": "code",
   "execution_count": null,
   "id": "french-cedar",
   "metadata": {},
   "outputs": [],
   "source": [
    "df_imps.sort_values(\"imp\")"
   ]
  },
  {
   "cell_type": "code",
   "execution_count": null,
   "id": "improving-stomach",
   "metadata": {},
   "outputs": [],
   "source": [
    "col_name = \"f1a_5\"\n",
    "col = df[col]\n",
    "print(col.iloc[0])\n",
    "print(col.head())\n",
    "print(col.tail())\n",
    "print()\n",
    "print(col.describe())\n",
    "print()\n",
    "if len(col.unique()) < 10:\n",
    "    print(\"unique distrs:\")\n",
    "    for val in col.unique():\n",
    "        print(val)\n",
    "        print((col == val).mean())"
   ]
  },
  {
   "cell_type": "code",
   "execution_count": null,
   "id": "spatial-professional",
   "metadata": {},
   "outputs": [],
   "source": []
  }
 ],
 "metadata": {
  "kernelspec": {
   "display_name": "Python [conda env:pharma_env]",
   "language": "python",
   "name": "conda-env-pharma_env-py"
  },
  "language_info": {
   "codemirror_mode": {
    "name": "ipython",
    "version": 3
   },
   "file_extension": ".py",
   "mimetype": "text/x-python",
   "name": "python",
   "nbconvert_exporter": "python",
   "pygments_lexer": "ipython3",
   "version": "3.9.4"
  }
 },
 "nbformat": 4,
 "nbformat_minor": 5
}
